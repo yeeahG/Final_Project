{
 "cells": [
  {
   "cell_type": "code",
   "execution_count": null,
   "id": "c6464753",
   "metadata": {},
   "outputs": [],
   "source": [
    "from selenium import webdriver\n",
    "from selenium.webdriver.chrome.service import Service\n",
    "from selenium.webdriver.common.by import By\n",
    "from bs4 import BeautifulSoup as BS\n",
    "import re\n",
    "import requests\n",
    "from urllib import request\n",
    "import pandas as pd"
   ]
  },
  {
   "cell_type": "code",
   "execution_count": null,
   "id": "acc97147",
   "metadata": {},
   "outputs": [],
   "source": [
    "from selenium import webdriver\n",
    "from selenium.webdriver.common.keys import Keys\n",
    "from selenium.webdriver.support.ui import WebDriverWait\n",
    "from selenium.webdriver.support import expected_conditions as EC\n",
    "from selenium.common.exceptions import TimeoutException\n",
    "from selenium.common.exceptions import NoSuchElementException\n",
    "from selenium.webdriver.common.by import By\n",
    "from selenium.webdriver.support.ui import Select\n",
    "import time"
   ]
  },
  {
   "cell_type": "code",
   "execution_count": null,
   "id": "e4e6753d",
   "metadata": {},
   "outputs": [],
   "source": [
    "chromedriver = 'D:/20220103_lab/14.python/data/chrome/chromedriver'\n",
    "driver = webdriver.Chrome(chromedriver) \n",
    "\n",
    "# 포스팅 작성 당시 크롬 버젼 : 92"
   ]
  },
  {
   "cell_type": "code",
   "execution_count": null,
   "id": "74b36e98",
   "metadata": {},
   "outputs": [],
   "source": [
    "df = pd.DataFrame"
   ]
  },
  {
   "cell_type": "code",
   "execution_count": null,
   "id": "47821c6a",
   "metadata": {},
   "outputs": [],
   "source": [
    "# 네이버 지도 검색창에 [~동 @@식당]으로 검색해 정확도를 높여야 합니다. 검색어를 미리 설정해줍시다.\n",
    "\n",
    "df['naver_keyword'] = df['dong'] + \"%20\" + df['name']  # \"%20\"는 띄어쓰기를 의미합니다.\n",
    "df['naver_map_url'] = ''"
   ]
  },
  {
   "cell_type": "code",
   "execution_count": null,
   "id": "e660e457",
   "metadata": {},
   "outputs": [],
   "source": [
    "# 본격적으로 가게 상세페이지의 URL을 가져옵시다\n",
    "\n",
    "for i, keyword in enumerate(df['naver_keyword'].tolist()):\n",
    "    print(\"이번에 찾을 키워드 :\", i, f\"/ {df.shape[0] -1} 행\", keyword)\n",
    "    try:\n",
    "        naver_map_search_url = f\"https://m.map.naver.com/search2/search.naver?query={keyword}&sm=hty&style=v5\"\n",
    "        \n",
    "        driver.get(naver_map_search_url)\n",
    "        time.sleep(3.5)\n",
    "        df.iloc[i,-1] = driver.find_element_by_css_selector(\"#ct > div.search_listview._content._ctList > ul > li:nth-child(1) > div.item_info > a.a_item.a_item_distance._linkSiteview\").get_attribute('data-cid')\n",
    "        # 네이버 지도 시스템은 data-cid에 url 파라미터를 저장해두고 있었습니다.\n",
    "        # data-cid 번호를 뽑아두었다가 기본 url 템플릿에 넣어 최종적인 url을 완성하면 됩니다.\n",
    "        \n",
    "        #만약 검색 결과가 없다면?\n",
    "    except Exception as e1:\n",
    "        if \"li:nth-child(1)\" in str(e1):  # -> \"child(1)이 없던데요?\"\n",
    "            try:\n",
    "                df.iloc[i,-1] = driver.find_element_by_css_selector(\"#ct > div.search_listview._content._ctList > ul > li:nth-child(1) > div.item_info > a.a_item.a_item_distance._linkSiteview\").get_attribute('data-cid')\n",
    "                time.sleep(1)\n",
    "            except Exception as e2:\n",
    "                print(e2)\n",
    "                df.iloc[i,-1] = np.nan\n",
    "                time.sleep(1)\n",
    "        else:\n",
    "            pass\n",
    "\n",
    "\n",
    "driver.quit()"
   ]
  },
  {
   "cell_type": "code",
   "execution_count": null,
   "id": "4b8d8899",
   "metadata": {},
   "outputs": [],
   "source": [
    "# 이때 수집한 것은 완전한 URL이 아니라 URL에 들어갈 ID (data-cid 라는 코드명으로 저장된) 이므로, 온전한 URL로 만들어줍니다\n",
    "\n",
    "df['naver_map_url'] = \"https://m.place.naver.com/restaurant/\" + df['naver_map_url']"
   ]
  },
  {
   "cell_type": "code",
   "execution_count": null,
   "id": "04f8b499",
   "metadata": {},
   "outputs": [],
   "source": [
    "# URL이 수집되지 않은 데이터는 제거합니다.\n",
    "df = df.loc[~df['naver_map_url'].isnull()]"
   ]
  },
  {
   "cell_type": "code",
   "execution_count": null,
   "id": "41843e97",
   "metadata": {},
   "outputs": [],
   "source": [
    "# 크롤링 에러가 떠서 'null'을 넣어 둔 데이터는 활용 의미가 없으므로 행 삭제를 해줘도 됩니다\n",
    "df = df.loc[~(df['naver_store_type'].str.contains('null'))]\n",
    "\n",
    "\n",
    "# 별점 평균, 수 같은 데이터 역시 스트링 타입으로 크롤링이 되었으므로 numeric으로 바꿔줍니다.\n",
    "df[['naver_star_point', 'naver_star_point_qty', 'naver_blog_review_qty']] = df[['naver_star_point', 'naver_star_point_qty', 'naver_blog_review_qty']].apply(pd.to_numeric)\n",
    "Python\n"
   ]
  },
  {
   "cell_type": "code",
   "execution_count": null,
   "id": "8805e6ac",
   "metadata": {},
   "outputs": [],
   "source": []
  },
  {
   "cell_type": "code",
   "execution_count": null,
   "id": "38a4286e",
   "metadata": {},
   "outputs": [],
   "source": []
  },
  {
   "cell_type": "code",
   "execution_count": null,
   "id": "41bc3db6",
   "metadata": {},
   "outputs": [],
   "source": [
    "from selenium import webdriver\n",
    "import time\n",
    "\n",
    "# 크롬창(웹드라이버) 열기\n",
    "driver = webdriver.Chrome(\"D:/20220103_lab/14.python/data/chrome/chromedriver\")"
   ]
  },
  {
   "cell_type": "code",
   "execution_count": null,
   "id": "a5dab0b9",
   "metadata": {},
   "outputs": [],
   "source": [
    "# 구글 지도 접속하기\n",
    "driver.get(\"https://www.google.com/maps/\")"
   ]
  },
  {
   "cell_type": "code",
   "execution_count": null,
   "id": "952b7d32",
   "metadata": {},
   "outputs": [],
   "source": [
    "# 검색창에 \"카페\" 입력하기\n",
    "searchbox = driver.find_element_by_css_selector(\"input#searchboxinput\")\n",
    "searchbox.send_keys(\"동물병원\")"
   ]
  },
  {
   "cell_type": "code",
   "execution_count": null,
   "id": "3a76aa82",
   "metadata": {},
   "outputs": [],
   "source": [
    "# 검색버튼 누르기\n",
    "searchbutton = driver.find_element_by_css_selector(\"button#searchbox-searchbutton\")\n",
    "searchbutton.click()"
   ]
  },
  {
   "cell_type": "code",
   "execution_count": 53,
   "id": "98a0b150",
   "metadata": {
    "scrolled": false
   },
   "outputs": [
    {
     "name": "stderr",
     "output_type": "stream",
     "text": [
      "C:\\Users\\82103\\AppData\\Local\\Temp/ipykernel_20284/2762349343.py:6: DeprecationWarning: find_elements_by_css_selector is deprecated. Please use find_elements(by=By.CSS_SELECTOR, value=css_selector) instead\n",
      "  stores = driver.find_elements_by_css_selector(\"div.section-result-content\")\n",
      "C:\\Users\\82103\\AppData\\Local\\Temp/ipykernel_20284/2762349343.py:28: DeprecationWarning: find_element_by_css_selector is deprecated. Please use find_element(by=By.CSS_SELECTOR, value=css_selector) instead\n",
      "  nextpage = driver.find_element_by_css_selector(\"button#ppdPk-Ej1Yeb-LgbsSe-tJiF1e\")\n"
     ]
    },
    {
     "name": "stdout",
     "output_type": "stream",
     "text": [
      "데이터 수집 완료.\n"
     ]
    }
   ],
   "source": [
    "# 여러 페이지(999)에서 반복하기\n",
    "for i in range(999):\n",
    "    time.sleep(3)\n",
    "\n",
    "    # 컨테이너(가게) 데이터 수집 // div.section-result-content\n",
    "    stores = driver.find_elements_by_css_selector(\"div.section-result-content\")\n",
    "    \n",
    "\n",
    "    for s in stores:\n",
    "        # 가게 이름 데이터 수집 // h3.section-result-title\n",
    "        title = s.find_element_by_css_selector(\"h3.section-result-title\").text\n",
    "\n",
    "        # 평점 데이터 수집 // span.cards-rating-score\n",
    "        # 평점이 없는 경우 에러 처리\n",
    "        try:\n",
    "            score = s.find_element_by_css_selector(\"span.cards-rating-score\").text\n",
    "        except:\n",
    "            score = \"평점없음\"\n",
    "\n",
    "            # 가게 주소 데이터 수집 // span.section-result-location\n",
    "\n",
    "            addr = s.find_element_by_css_selector(\"span.section-result-location\").text\n",
    "\n",
    "            print(title, \"/\", score, \"/\", addr)\n",
    "            \n",
    "    # 다음페이지 버튼 클릭 하기\n",
    "    # 다음페이지가 없는 경우(데이터 수집 완료) 에러 처리\n",
    "    try:\n",
    "        nextpage = driver.find_element_by_css_selector(\"button#ppdPk-Ej1Yeb-LgbsSe-tJiF1e\")\n",
    "        nextpage.click()\n",
    "    except:\n",
    "        print(\"데이터 수집 완료.\")\n",
    "        break"
   ]
  },
  {
   "cell_type": "code",
   "execution_count": 54,
   "id": "7ccd3c27",
   "metadata": {},
   "outputs": [
    {
     "data": {
      "text/plain": [
       "[]"
      ]
     },
     "execution_count": 54,
     "metadata": {},
     "output_type": "execute_result"
    }
   ],
   "source": [
    "stores"
   ]
  },
  {
   "cell_type": "code",
   "execution_count": null,
   "id": "50d8ce34",
   "metadata": {},
   "outputs": [],
   "source": []
  },
  {
   "cell_type": "code",
   "execution_count": null,
   "id": "d94df403",
   "metadata": {},
   "outputs": [],
   "source": [
    "# 크롬창 닫기\n",
    "driver.close()\n",
    "# 출처: https://datalabbit.tistory.com/45 [간토끼 DataMining Lab:티스토리]"
   ]
  },
  {
   "cell_type": "code",
   "execution_count": null,
   "id": "9bcf8529",
   "metadata": {},
   "outputs": [],
   "source": []
  },
  {
   "cell_type": "code",
   "execution_count": null,
   "id": "bf80dd72",
   "metadata": {},
   "outputs": [],
   "source": []
  },
  {
   "cell_type": "code",
   "execution_count": 18,
   "id": "2c418df3",
   "metadata": {},
   "outputs": [],
   "source": [
    "from selenium import webdriver\n",
    "import time\n",
    "from selenium.webdriver.common.by import By"
   ]
  },
  {
   "cell_type": "code",
   "execution_count": 19,
   "id": "c0d9ff20",
   "metadata": {
    "scrolled": true
   },
   "outputs": [
    {
     "name": "stderr",
     "output_type": "stream",
     "text": [
      "C:\\Users\\82103\\AppData\\Local\\Temp/ipykernel_20284/3310334687.py:1: DeprecationWarning: executable_path has been deprecated, please pass in a Service object\n",
      "  driver = webdriver.Chrome(\"D:/20220103_lab/14.python/data/chrome/chromedriver\")\n"
     ]
    }
   ],
   "source": [
    "driver = webdriver.Chrome(\"D:/20220103_lab/14.python/data/chrome/chromedriver\")"
   ]
  },
  {
   "cell_type": "code",
   "execution_count": 20,
   "id": "6dd35387",
   "metadata": {},
   "outputs": [],
   "source": [
    "driver.get(\"https://www.google.com/maps/\")"
   ]
  },
  {
   "cell_type": "code",
   "execution_count": 21,
   "id": "efcaa065",
   "metadata": {},
   "outputs": [
    {
     "name": "stderr",
     "output_type": "stream",
     "text": [
      "C:\\Users\\82103\\AppData\\Local\\Temp/ipykernel_20284/2243747384.py:1: DeprecationWarning: find_element_by_css_selector is deprecated. Please use find_element(by=By.CSS_SELECTOR, value=css_selector) instead\n",
      "  searchbox = driver.find_element_by_css_selector(\"input#searchboxinput\")\n"
     ]
    }
   ],
   "source": [
    "searchbox = driver.find_element_by_css_selector(\"input#searchboxinput\")\n",
    "searchbox.send_keys(\"동물병원\")"
   ]
  },
  {
   "cell_type": "code",
   "execution_count": 22,
   "id": "0043673c",
   "metadata": {},
   "outputs": [
    {
     "name": "stderr",
     "output_type": "stream",
     "text": [
      "C:\\Users\\82103\\AppData\\Local\\Temp/ipykernel_20284/1190549724.py:1: DeprecationWarning: find_element_by_css_selector is deprecated. Please use find_element(by=By.CSS_SELECTOR, value=css_selector) instead\n",
      "  searchbutton = driver.find_element_by_css_selector(\"button#searchbox-searchbutton\")\n"
     ]
    }
   ],
   "source": [
    "searchbutton = driver.find_element_by_css_selector(\"button#searchbox-searchbutton\")\n",
    "searchbutton.click()"
   ]
  },
  {
   "cell_type": "code",
   "execution_count": 126,
   "id": "d872834d",
   "metadata": {},
   "outputs": [
    {
     "name": "stdout",
     "output_type": "stream",
     "text": [
      "데이터 수집 완료.\n"
     ]
    },
    {
     "name": "stderr",
     "output_type": "stream",
     "text": [
      "C:\\Users\\82103\\AppData\\Local\\Temp/ipykernel_20284/1891611790.py:3: DeprecationWarning: find_elements_by_css_selector is deprecated. Please use find_elements(by=By.CSS_SELECTOR, value=css_selector) instead\n",
      "  stores = driver.find_elements_by_css_selector(\"QA0Szd\")\n"
     ]
    }
   ],
   "source": [
    "for i in range(999):\n",
    "    time.sleep(3)\n",
    "    stores = driver.find_elements_by_css_selector(\"QA0Szd\")\n",
    "    for s in stores:\n",
    "        print(s)\n",
    "        title = s.find_element_by_css_selector(\"h3.section-result-title\").text\n",
    "        try:\n",
    "            score = s.find_element_by_css_selector(\"span.cards-rating-score\").text\n",
    "        except:\n",
    "            score = \"평점없음\"\n",
    "            \n",
    "            addr = s.find_element_by_css_selector(\"span.section-result-location\").text\n",
    "            \n",
    "            print(title, \"/\", score, \"/\", addr)\n",
    "            \n",
    "    try:\n",
    "        nextpage = driver.find_element_by_css_selebctor(\"button#ppdPk-Ej1Yeb-LgbsSe-tJiF1e\")\n",
    "        nextpage.click()\n",
    "    except:\n",
    "        print(\"데이터 수집 완료.\")\n",
    "        break"
   ]
  },
  {
   "cell_type": "code",
   "execution_count": 65,
   "id": "50f09c57",
   "metadata": {},
   "outputs": [
    {
     "ename": "NameError",
     "evalue": "name 's' is not defined",
     "output_type": "error",
     "traceback": [
      "\u001b[1;31m---------------------------------------------------------------------------\u001b[0m",
      "\u001b[1;31mNameError\u001b[0m                                 Traceback (most recent call last)",
      "\u001b[1;32m~\\AppData\\Local\\Temp/ipykernel_20284/1028141915.py\u001b[0m in \u001b[0;36m<module>\u001b[1;34m\u001b[0m\n\u001b[1;32m----> 1\u001b[1;33m \u001b[0ms\u001b[0m\u001b[1;33m\u001b[0m\u001b[1;33m\u001b[0m\u001b[0m\n\u001b[0m",
      "\u001b[1;31mNameError\u001b[0m: name 's' is not defined"
     ]
    }
   ],
   "source": [
    "s"
   ]
  },
  {
   "cell_type": "code",
   "execution_count": 63,
   "id": "c9f23413",
   "metadata": {},
   "outputs": [
    {
     "ename": "NameError",
     "evalue": "name 'title' is not defined",
     "output_type": "error",
     "traceback": [
      "\u001b[1;31m---------------------------------------------------------------------------\u001b[0m",
      "\u001b[1;31mNameError\u001b[0m                                 Traceback (most recent call last)",
      "\u001b[1;32m~\\AppData\\Local\\Temp/ipykernel_20284/1319944078.py\u001b[0m in \u001b[0;36m<module>\u001b[1;34m\u001b[0m\n\u001b[1;32m----> 1\u001b[1;33m \u001b[0mtitle\u001b[0m\u001b[1;33m\u001b[0m\u001b[1;33m\u001b[0m\u001b[0m\n\u001b[0m",
      "\u001b[1;31mNameError\u001b[0m: name 'title' is not defined"
     ]
    }
   ],
   "source": [
    "title"
   ]
  },
  {
   "cell_type": "code",
   "execution_count": null,
   "id": "7ae2a9a4",
   "metadata": {},
   "outputs": [],
   "source": []
  },
  {
   "cell_type": "code",
   "execution_count": null,
   "id": "0ece78ef",
   "metadata": {},
   "outputs": [],
   "source": [
    "driver.close()"
   ]
  },
  {
   "cell_type": "code",
   "execution_count": null,
   "id": "9e4dfe43",
   "metadata": {},
   "outputs": [],
   "source": [
    "\n",
    "\n",
    "\n",
    "\n",
    "\n",
    "\n",
    "\n",
    "\n",
    "\n",
    "\n"
   ]
  },
  {
   "cell_type": "code",
   "execution_count": 33,
   "id": "2b49489b",
   "metadata": {},
   "outputs": [],
   "source": [
    "from selenium import webdriver\n",
    "import time\n",
    "from selenium.webdriver.common.by import By"
   ]
  },
  {
   "cell_type": "code",
   "execution_count": 34,
   "id": "2ec9eec9",
   "metadata": {
    "scrolled": true
   },
   "outputs": [
    {
     "name": "stderr",
     "output_type": "stream",
     "text": [
      "C:\\Users\\82103\\AppData\\Local\\Temp/ipykernel_20284/3310334687.py:1: DeprecationWarning: executable_path has been deprecated, please pass in a Service object\n",
      "  driver = webdriver.Chrome(\"D:/20220103_lab/14.python/data/chrome/chromedriver\")\n"
     ]
    }
   ],
   "source": [
    "driver = webdriver.Chrome(\"D:/20220103_lab/14.python/data/chrome/chromedriver\")"
   ]
  },
  {
   "cell_type": "code",
   "execution_count": 35,
   "id": "6148bb8f",
   "metadata": {},
   "outputs": [],
   "source": [
    "driver.get(\"https://www.google.com/maps/\")"
   ]
  },
  {
   "cell_type": "code",
   "execution_count": 36,
   "id": "d62dcee9",
   "metadata": {},
   "outputs": [],
   "source": [
    "search_input_tag = driver.find_element(By.ID, 'searchboxinput')\n",
    "search_input_tag.send_keys('동물병원')\n",
    "time.sleep(1)"
   ]
  },
  {
   "cell_type": "code",
   "execution_count": 37,
   "id": "a58ca120",
   "metadata": {},
   "outputs": [],
   "source": [
    "search_button_tag = driver.find_element(By.ID, 'searchbox-searchbutton')\n",
    "search_button_tag.click()\n",
    "time.sleep(5)"
   ]
  },
  {
   "cell_type": "code",
   "execution_count": 66,
   "id": "d4afd7f0",
   "metadata": {},
   "outputs": [],
   "source": [
    "target = driver.find_element(By.XPATH, '/html/body/div[3]/div[9]/div[9]/div[1]/div[1]/div[1]/div[2]')"
   ]
  },
  {
   "cell_type": "code",
   "execution_count": 39,
   "id": "b89fceff",
   "metadata": {
    "scrolled": false
   },
   "outputs": [
    {
     "data": {
      "text/plain": [
       "'평점\\n영업시간\\n모든 필터\\n아마존동물병원\\n4.6(25)\\n동물병원 · 임학동 67-7\\n영업 중 ⋅ 오후 8:00에 영업 종료 · 032-555-7502 ext. 3\\n경로\\n계양동물메디컬센터\\n4.3(50)\\n동물병원 · 계산동 942-24번지\\n영업 중 ⋅ 오후 8:00에 영업 종료 · 032-555-9975\\n경로\\n해림동물병원\\n4.8(100)\\n동물병원 · 작전동 864-39\\n영업 중 ⋅ 오후 8:00에 영업 종료 · 032-546-0079\\n경로\\n한솔동물병원\\n4.3(13)\\n동물병원 · 계산2동 918-2\\n지금 영업 중 · 032-553-4652\\n웹사이트\\n경로\\n아프리카 동물의료센터 [구 아프리카동물병원]\\n4.4(89)\\n동물병원 · 장제로340번길 5 3층\\n영업 중 ⋅ 오후 10:00에 영업 종료 · 032-508-7582\\n웹사이트\\n경로\\n이지동물병원\\n4.5(8)\\n동물 병원 · 병방동 422\\n영업 중 ⋅ 오후 8:00에 영업 종료 · 032-549-0077\\n경로\\n신통방통동물병원\\n4.9(10)\\n동물 병원 · 작전동 863\\n영업 중 ⋅ 오후 8:00에 영업 종료 · 032-552-3369\\n경로\\n다오동물병원\\n4.7(6)\\n동물병원 · 계산동 1062\\n032-548-0275\\n경로\\n작전24동물병원\\n4.4(7)\\n동물병원 · 작전동 925-1\\n경로\\n재영동물병원\\n3.8(4)\\n동물병원 · 계산1동\\n지금 영업 중 · 032-542-4647\\n경로\\n검색결과 1 - 20 표시 중\\n지도 이동 시 결과 업데이트\\n로그인\\n레이어\\n지도 데이터 ©2022 TMap Mobility대한민국약관개인정보처리방침\\n의견 보내기\\n500m'"
      ]
     },
     "execution_count": 39,
     "metadata": {},
     "output_type": "execute_result"
    }
   ],
   "source": [
    "target.text"
   ]
  },
  {
   "cell_type": "code",
   "execution_count": 170,
   "id": "668f9439",
   "metadata": {},
   "outputs": [],
   "source": [
    "driver.execute_script(\"window.scrollTo(0, 10000)\") "
   ]
  },
  {
   "cell_type": "code",
   "execution_count": 171,
   "id": "b3ce7f45",
   "metadata": {},
   "outputs": [],
   "source": [
    "driver.execute_script(\"window.scrollTo(0, 1000)\") "
   ]
  },
  {
   "cell_type": "code",
   "execution_count": 43,
   "id": "ca0704c6",
   "metadata": {},
   "outputs": [],
   "source": [
    "last_height = driver.execute_script(\"return document.body.scrollHeight\")"
   ]
  },
  {
   "cell_type": "code",
   "execution_count": 44,
   "id": "518c0963",
   "metadata": {},
   "outputs": [
    {
     "data": {
      "text/plain": [
       "887"
      ]
     },
     "execution_count": 44,
     "metadata": {},
     "output_type": "execute_result"
    }
   ],
   "source": [
    "last_height"
   ]
  },
  {
   "cell_type": "code",
   "execution_count": 45,
   "id": "c0293443",
   "metadata": {},
   "outputs": [],
   "source": [
    "SCROLL_PAUSE_SEC = 1\n",
    "while True:\n",
    "    # 끝까지 스크롤 다운\n",
    "    driver.execute_script(\"window.scrollTo(0, document.body.scrollHeight);\")\n",
    "\n",
    "    # 1초 대기\n",
    "    time.sleep(SCROLL_PAUSE_SEC)\n",
    "\n",
    "    # 스크롤 다운 후 스크롤 높이 다시 가져옴\n",
    "    new_height = driver.execute_script(\"return document.body.scrollHeight\")\n",
    "    if new_height == last_height:\n",
    "        break\n",
    "    last_height = new_height"
   ]
  },
  {
   "cell_type": "code",
   "execution_count": 50,
   "id": "e8f3f478",
   "metadata": {},
   "outputs": [],
   "source": [
    "# ActionChains 를 사용하기 위해서.\n",
    "from selenium.webdriver import ActionChains\n",
    "\n",
    "# id가 something 인 element 를 찾음\n",
    "some_tag = driver.find_element(By.ID, 'pane')\n",
    "\n",
    "# somthing element 까지 스크롤\n",
    "action = ActionChains(driver)\n",
    "action.move_to_element(some_tag).perform()\n"
   ]
  },
  {
   "cell_type": "code",
   "execution_count": null,
   "id": "6b621aa1",
   "metadata": {},
   "outputs": [],
   "source": []
  },
  {
   "cell_type": "code",
   "execution_count": null,
   "id": "d13575cc",
   "metadata": {},
   "outputs": [],
   "source": []
  },
  {
   "cell_type": "code",
   "execution_count": null,
   "id": "d5f2de45",
   "metadata": {},
   "outputs": [],
   "source": []
  },
  {
   "cell_type": "code",
   "execution_count": 8,
   "id": "fae44587",
   "metadata": {},
   "outputs": [
    {
     "ename": "JavascriptException",
     "evalue": "Message: javascript error: Cannot read properties of null (reading 'scrollTo')\n  (Session info: chrome=102.0.5005.62)\nStacktrace:\nBacktrace:\n\tOrdinal0 [0x00B7B8F3+2406643]\n\tOrdinal0 [0x00B0AF31+1945393]\n\tOrdinal0 [0x009FC748+837448]\n\tOrdinal0 [0x009FF154+848212]\n\tOrdinal0 [0x009FF012+847890]\n\tOrdinal0 [0x009FF98A+850314]\n\tOrdinal0 [0x00A550C9+1200329]\n\tOrdinal0 [0x00A4427C+1131132]\n\tOrdinal0 [0x00A54682+1197698]\n\tOrdinal0 [0x00A44096+1130646]\n\tOrdinal0 [0x00A1E636+976438]\n\tOrdinal0 [0x00A1F546+980294]\n\tGetHandleVerifier [0x00DE9612+2498066]\n\tGetHandleVerifier [0x00DDC920+2445600]\n\tGetHandleVerifier [0x00C14F2A+579370]\n\tGetHandleVerifier [0x00C13D36+574774]\n\tOrdinal0 [0x00B11C0B+1973259]\n\tOrdinal0 [0x00B16688+1992328]\n\tOrdinal0 [0x00B16775+1992565]\n\tOrdinal0 [0x00B1F8D1+2029777]\n\tBaseThreadInitThunk [0x7619FA29+25]\n\tRtlGetAppContainerNamedObjectPath [0x77977A7E+286]\n\tRtlGetAppContainerNamedObjectPath [0x77977A4E+238]\n",
     "output_type": "error",
     "traceback": [
      "\u001b[1;31m---------------------------------------------------------------------------\u001b[0m",
      "\u001b[1;31mJavascriptException\u001b[0m                       Traceback (most recent call last)",
      "\u001b[1;32m~\\AppData\\Local\\Temp/ipykernel_20284/3439740856.py\u001b[0m in \u001b[0;36m<module>\u001b[1;34m\u001b[0m\n\u001b[0;32m      1\u001b[0m \u001b[1;32mfor\u001b[0m \u001b[0mi\u001b[0m \u001b[1;32min\u001b[0m \u001b[0mrange\u001b[0m\u001b[1;33m(\u001b[0m\u001b[1;36m0\u001b[0m\u001b[1;33m,\u001b[0m\u001b[1;36m10\u001b[0m\u001b[1;33m)\u001b[0m\u001b[1;33m:\u001b[0m\u001b[1;33m\u001b[0m\u001b[1;33m\u001b[0m\u001b[0m\n\u001b[1;32m----> 2\u001b[1;33m     \u001b[0mdriver\u001b[0m\u001b[1;33m.\u001b[0m\u001b[0mexecute_script\u001b[0m\u001b[1;33m(\u001b[0m\u001b[1;34m'test=document.querySelector(\"#pane > div > div.Yr7JMd-pane-content.cYB2Ge-oHo7ed > div > div > div.siAUzd-neVct.section-scrollbox.cYB2Ge-oHo7ed.cYB2Ge-ti6hGc.siAUzd-neVct-Q3DXx-BvBYQ > div.siAUzd-neVct.section-scrollbox.cYB2Ge-oHo7ed.cYB2Ge-ti6hGc.siAUzd-neVct-Q3DXx-BvBYQ\"); test.scrollTo(0, 10000000000000000000);'\u001b[0m\u001b[1;33m)\u001b[0m\u001b[1;33m\u001b[0m\u001b[1;33m\u001b[0m\u001b[0m\n\u001b[0m\u001b[0;32m      3\u001b[0m     \u001b[0mtime\u001b[0m\u001b[1;33m.\u001b[0m\u001b[0msleep\u001b[0m\u001b[1;33m(\u001b[0m\u001b[1;36m1\u001b[0m\u001b[1;33m)\u001b[0m\u001b[1;33m\u001b[0m\u001b[1;33m\u001b[0m\u001b[0m\n",
      "\u001b[1;32mD:\\anaconda\\lib\\site-packages\\selenium\\webdriver\\remote\\webdriver.py\u001b[0m in \u001b[0;36mexecute_script\u001b[1;34m(self, script, *args)\u001b[0m\n\u001b[0;32m    877\u001b[0m         \u001b[0mcommand\u001b[0m \u001b[1;33m=\u001b[0m \u001b[0mCommand\u001b[0m\u001b[1;33m.\u001b[0m\u001b[0mW3C_EXECUTE_SCRIPT\u001b[0m\u001b[1;33m\u001b[0m\u001b[1;33m\u001b[0m\u001b[0m\n\u001b[0;32m    878\u001b[0m \u001b[1;33m\u001b[0m\u001b[0m\n\u001b[1;32m--> 879\u001b[1;33m         return self.execute(command, {\n\u001b[0m\u001b[0;32m    880\u001b[0m             \u001b[1;34m'script'\u001b[0m\u001b[1;33m:\u001b[0m \u001b[0mscript\u001b[0m\u001b[1;33m,\u001b[0m\u001b[1;33m\u001b[0m\u001b[1;33m\u001b[0m\u001b[0m\n\u001b[0;32m    881\u001b[0m             'args': converted_args})['value']\n",
      "\u001b[1;32mD:\\anaconda\\lib\\site-packages\\selenium\\webdriver\\remote\\webdriver.py\u001b[0m in \u001b[0;36mexecute\u001b[1;34m(self, driver_command, params)\u001b[0m\n\u001b[0;32m    423\u001b[0m         \u001b[0mresponse\u001b[0m \u001b[1;33m=\u001b[0m \u001b[0mself\u001b[0m\u001b[1;33m.\u001b[0m\u001b[0mcommand_executor\u001b[0m\u001b[1;33m.\u001b[0m\u001b[0mexecute\u001b[0m\u001b[1;33m(\u001b[0m\u001b[0mdriver_command\u001b[0m\u001b[1;33m,\u001b[0m \u001b[0mparams\u001b[0m\u001b[1;33m)\u001b[0m\u001b[1;33m\u001b[0m\u001b[1;33m\u001b[0m\u001b[0m\n\u001b[0;32m    424\u001b[0m         \u001b[1;32mif\u001b[0m \u001b[0mresponse\u001b[0m\u001b[1;33m:\u001b[0m\u001b[1;33m\u001b[0m\u001b[1;33m\u001b[0m\u001b[0m\n\u001b[1;32m--> 425\u001b[1;33m             \u001b[0mself\u001b[0m\u001b[1;33m.\u001b[0m\u001b[0merror_handler\u001b[0m\u001b[1;33m.\u001b[0m\u001b[0mcheck_response\u001b[0m\u001b[1;33m(\u001b[0m\u001b[0mresponse\u001b[0m\u001b[1;33m)\u001b[0m\u001b[1;33m\u001b[0m\u001b[1;33m\u001b[0m\u001b[0m\n\u001b[0m\u001b[0;32m    426\u001b[0m             response['value'] = self._unwrap_value(\n\u001b[0;32m    427\u001b[0m                 response.get('value', None))\n",
      "\u001b[1;32mD:\\anaconda\\lib\\site-packages\\selenium\\webdriver\\remote\\errorhandler.py\u001b[0m in \u001b[0;36mcheck_response\u001b[1;34m(self, response)\u001b[0m\n\u001b[0;32m    245\u001b[0m                 \u001b[0malert_text\u001b[0m \u001b[1;33m=\u001b[0m \u001b[0mvalue\u001b[0m\u001b[1;33m[\u001b[0m\u001b[1;34m'alert'\u001b[0m\u001b[1;33m]\u001b[0m\u001b[1;33m.\u001b[0m\u001b[0mget\u001b[0m\u001b[1;33m(\u001b[0m\u001b[1;34m'text'\u001b[0m\u001b[1;33m)\u001b[0m\u001b[1;33m\u001b[0m\u001b[1;33m\u001b[0m\u001b[0m\n\u001b[0;32m    246\u001b[0m             \u001b[1;32mraise\u001b[0m \u001b[0mexception_class\u001b[0m\u001b[1;33m(\u001b[0m\u001b[0mmessage\u001b[0m\u001b[1;33m,\u001b[0m \u001b[0mscreen\u001b[0m\u001b[1;33m,\u001b[0m \u001b[0mstacktrace\u001b[0m\u001b[1;33m,\u001b[0m \u001b[0malert_text\u001b[0m\u001b[1;33m)\u001b[0m  \u001b[1;31m# type: ignore[call-arg]  # mypy is not smart enough here\u001b[0m\u001b[1;33m\u001b[0m\u001b[1;33m\u001b[0m\u001b[0m\n\u001b[1;32m--> 247\u001b[1;33m         \u001b[1;32mraise\u001b[0m \u001b[0mexception_class\u001b[0m\u001b[1;33m(\u001b[0m\u001b[0mmessage\u001b[0m\u001b[1;33m,\u001b[0m \u001b[0mscreen\u001b[0m\u001b[1;33m,\u001b[0m \u001b[0mstacktrace\u001b[0m\u001b[1;33m)\u001b[0m\u001b[1;33m\u001b[0m\u001b[1;33m\u001b[0m\u001b[0m\n\u001b[0m\u001b[0;32m    248\u001b[0m \u001b[1;33m\u001b[0m\u001b[0m\n\u001b[0;32m    249\u001b[0m     \u001b[1;32mdef\u001b[0m \u001b[0m_value_or_default\u001b[0m\u001b[1;33m(\u001b[0m\u001b[0mself\u001b[0m\u001b[1;33m,\u001b[0m \u001b[0mobj\u001b[0m\u001b[1;33m:\u001b[0m \u001b[0mMapping\u001b[0m\u001b[1;33m[\u001b[0m\u001b[0m_KT\u001b[0m\u001b[1;33m,\u001b[0m \u001b[0m_VT\u001b[0m\u001b[1;33m]\u001b[0m\u001b[1;33m,\u001b[0m \u001b[0mkey\u001b[0m\u001b[1;33m:\u001b[0m \u001b[0m_KT\u001b[0m\u001b[1;33m,\u001b[0m \u001b[0mdefault\u001b[0m\u001b[1;33m:\u001b[0m \u001b[0m_VT\u001b[0m\u001b[1;33m)\u001b[0m \u001b[1;33m->\u001b[0m \u001b[0m_VT\u001b[0m\u001b[1;33m:\u001b[0m\u001b[1;33m\u001b[0m\u001b[1;33m\u001b[0m\u001b[0m\n",
      "\u001b[1;31mJavascriptException\u001b[0m: Message: javascript error: Cannot read properties of null (reading 'scrollTo')\n  (Session info: chrome=102.0.5005.62)\nStacktrace:\nBacktrace:\n\tOrdinal0 [0x00B7B8F3+2406643]\n\tOrdinal0 [0x00B0AF31+1945393]\n\tOrdinal0 [0x009FC748+837448]\n\tOrdinal0 [0x009FF154+848212]\n\tOrdinal0 [0x009FF012+847890]\n\tOrdinal0 [0x009FF98A+850314]\n\tOrdinal0 [0x00A550C9+1200329]\n\tOrdinal0 [0x00A4427C+1131132]\n\tOrdinal0 [0x00A54682+1197698]\n\tOrdinal0 [0x00A44096+1130646]\n\tOrdinal0 [0x00A1E636+976438]\n\tOrdinal0 [0x00A1F546+980294]\n\tGetHandleVerifier [0x00DE9612+2498066]\n\tGetHandleVerifier [0x00DDC920+2445600]\n\tGetHandleVerifier [0x00C14F2A+579370]\n\tGetHandleVerifier [0x00C13D36+574774]\n\tOrdinal0 [0x00B11C0B+1973259]\n\tOrdinal0 [0x00B16688+1992328]\n\tOrdinal0 [0x00B16775+1992565]\n\tOrdinal0 [0x00B1F8D1+2029777]\n\tBaseThreadInitThunk [0x7619FA29+25]\n\tRtlGetAppContainerNamedObjectPath [0x77977A7E+286]\n\tRtlGetAppContainerNamedObjectPath [0x77977A4E+238]\n"
     ]
    }
   ],
   "source": [
    "for i in range(0,10):\n",
    "    driver.execute_script('test=document.querySelector(\"#pane > div > div.Yr7JMd-pane-content.cYB2Ge-oHo7ed > div > div > div.siAUzd-neVct.section-scrollbox.cYB2Ge-oHo7ed.cYB2Ge-ti6hGc.siAUzd-neVct-Q3DXx-BvBYQ > div.siAUzd-neVct.section-scrollbox.cYB2Ge-oHo7ed.cYB2Ge-ti6hGc.siAUzd-neVct-Q3DXx-BvBYQ\"); test.scrollTo(0, 10000000000000000000);')\n",
    "    time.sleep(1)"
   ]
  },
  {
   "cell_type": "code",
   "execution_count": null,
   "id": "784c9de9",
   "metadata": {},
   "outputs": [],
   "source": [
    "for divtag in target.find_elements(By.XPATH, './div'):\n",
    "    if divtag.text != \"\":\n",
    "        print(\"--------------------------\")\n",
    "        atag = divtag.find_element(By.XPATH, './div/a[1]')\n",
    "        subdiv = divtag.find_element(By.XPATH, \"./div/div[2]\")\n",
    "        name = subdiv.find_element(By.XPATH, \"./div[2]/div[1]/div[1]/div[1]/div[1]/div[1]\")\n",
    "        star = subdiv.find_element(By.XPATH, \"./div[2]/div[1]/div[1]/div[1]/div[1]/div[3]\")\n",
    "        addr = subdiv.find_element(By.XPATH, \"./div[2]/div[1]/div[1]/div[1]/div[1]/div[4]/div[1]\")\n",
    "\n",
    "        print(name.text)\n",
    "        print(addr.text)\n",
    "        print(atag.get_attribute('href').split('!')[5][2:])\n",
    "        print(atag.get_attribute('href').split('!')[6].split('?')[0][2:])\n",
    "        print(star.text)\n",
    "# [출처] 파이썬 크롤링 셀레니움 (구글지도 맛집 정보, 오늘의집 크롤링 등)|작성자 홍인\n",
    "# https://blog.naver.com/hongin90/222661902505"
   ]
  },
  {
   "cell_type": "code",
   "execution_count": null,
   "id": "f499df02",
   "metadata": {},
   "outputs": [],
   "source": []
  },
  {
   "cell_type": "code",
   "execution_count": null,
   "id": "04c4f631",
   "metadata": {},
   "outputs": [],
   "source": []
  },
  {
   "cell_type": "code",
   "execution_count": null,
   "id": "703282c2",
   "metadata": {},
   "outputs": [],
   "source": []
  },
  {
   "cell_type": "code",
   "execution_count": null,
   "id": "946e441d",
   "metadata": {},
   "outputs": [],
   "source": []
  },
  {
   "cell_type": "code",
   "execution_count": 144,
   "id": "7a2df9b2",
   "metadata": {},
   "outputs": [],
   "source": [
    "from selenium.webdriver.common.keys import Keys\n",
    "from selenium import webdriver\n",
    "import time\n",
    "from selenium.webdriver.common.by import By"
   ]
  },
  {
   "cell_type": "code",
   "execution_count": 2,
   "id": "cb39f118",
   "metadata": {},
   "outputs": [
    {
     "name": "stderr",
     "output_type": "stream",
     "text": [
      "C:\\Users\\82103\\AppData\\Local\\Temp/ipykernel_20184/3310334687.py:1: DeprecationWarning: executable_path has been deprecated, please pass in a Service object\n",
      "  driver = webdriver.Chrome(\"D:/20220103_lab/14.python/data/chrome/chromedriver\")\n"
     ]
    }
   ],
   "source": [
    "driver = webdriver.Chrome(\"D:/20220103_lab/14.python/data/chrome/chromedriver\")"
   ]
  },
  {
   "cell_type": "code",
   "execution_count": 4,
   "id": "30b43ccf",
   "metadata": {},
   "outputs": [],
   "source": [
    "driver.get(\"https://map.kakao.com/\")"
   ]
  },
  {
   "cell_type": "code",
   "execution_count": 5,
   "id": "82e1708e",
   "metadata": {},
   "outputs": [],
   "source": [
    "search_input_tag = driver.find_element(By.ID, 'search.keyword.query')\n",
    "search_input_tag.send_keys('동물병원')\n",
    "time.sleep(1)"
   ]
  },
  {
   "cell_type": "code",
   "execution_count": 6,
   "id": "d9968e50",
   "metadata": {},
   "outputs": [],
   "source": [
    "search_button_tag = driver.find_element(By.ID, 'search.keyword.submit')\n",
    "search_button_tag.click()\n",
    "time.sleep(5)"
   ]
  },
  {
   "cell_type": "code",
   "execution_count": 8,
   "id": "4b08d338",
   "metadata": {},
   "outputs": [],
   "source": [
    "place_more = driver.find_element(By.ID, 'info.search.place.more')\n",
    "place_more.click()\n",
    "time.sleep(5)"
   ]
  },
  {
   "cell_type": "code",
   "execution_count": 40,
   "id": "341e9131",
   "metadata": {},
   "outputs": [
    {
     "name": "stdout",
     "output_type": "stream",
     "text": [
      "0\n",
      "1\n",
      "2\n",
      "3\n",
      "4\n"
     ]
    }
   ],
   "source": [
    "for i in range(999):\n",
    "    nextpage = driver.find_element(By.ID, \"info.search.page.no{}\".format((i+1)%5))\n",
    "    nextpage.click()\n",
    "    print(i)\n",
    "    if i == 4 :\n",
    "        nextpage = driver.find_element(By.ID, \"info.search.page.next\").click()\n",
    "        time.sleep(1)\n",
    "        i = 1"
   ]
  },
  {
   "cell_type": "code",
   "execution_count": null,
   "id": "e3ecd2c6",
   "metadata": {},
   "outputs": [],
   "source": []
  },
  {
   "cell_type": "code",
   "execution_count": null,
   "id": "aea95c59",
   "metadata": {},
   "outputs": [],
   "source": []
  },
  {
   "cell_type": "code",
   "execution_count": null,
   "id": "0ba9a9a8",
   "metadata": {},
   "outputs": [],
   "source": []
  },
  {
   "cell_type": "code",
   "execution_count": null,
   "id": "f0d4ada6",
   "metadata": {},
   "outputs": [],
   "source": []
  },
  {
   "cell_type": "code",
   "execution_count": 223,
   "id": "15376b43",
   "metadata": {},
   "outputs": [],
   "source": [
    "from selenium.webdriver.common.keys import Keys\n",
    "from selenium import webdriver\n",
    "import time\n",
    "from selenium.webdriver.common.by import By"
   ]
  },
  {
   "cell_type": "code",
   "execution_count": 202,
   "id": "7e2a4ecf",
   "metadata": {},
   "outputs": [],
   "source": [
    "search_input_tag = driver.find_element(By.CLASS_NAME, 'mL3xi')\n",
    "search_input_tag.send_keys('동물병원')\n",
    "time.sleep(3)\n"
   ]
  },
  {
   "cell_type": "code",
   "execution_count": 253,
   "id": "0fe13fd7",
   "metadata": {},
   "outputs": [
    {
     "name": "stderr",
     "output_type": "stream",
     "text": [
      "C:\\Users\\82103\\AppData\\Local\\Temp/ipykernel_20284/451005478.py:1: DeprecationWarning: executable_path has been deprecated, please pass in a Service object\n",
      "  driver = webdriver.Chrome(\"D:/20220103_lab/14.python/data/chrome/chromedriver\")\n"
     ]
    }
   ],
   "source": [
    "driver = webdriver.Chrome(\"D:/20220103_lab/14.python/data/chrome/chromedriver\")\n",
    "driver.get(\"https://www.google.com/maps/\")\n",
    "time.sleep(3)"
   ]
  },
  {
   "cell_type": "code",
   "execution_count": 254,
   "id": "831cba74",
   "metadata": {},
   "outputs": [],
   "source": [
    "search_input_tag = driver.find_element(By.ID, 'searchboxinput')\n",
    "search_input_tag.send_keys('동물병원')\n",
    "time.sleep(3)"
   ]
  },
  {
   "cell_type": "code",
   "execution_count": 256,
   "id": "2f157b8b",
   "metadata": {},
   "outputs": [
    {
     "ename": "ElementClickInterceptedException",
     "evalue": "Message: element click intercepted: Element <button aria-label=\"검색\" id=\"searchbox-searchbutton\" jstcache=\"13\" jsaction=\"omnibox.search;mouseover:omnibox.showTooltip;mouseout:omnibox.hideTooltip;focus:omnibox.showTooltip;blur:omnibox.hideTooltip\" class=\"mL3xi\" jsan=\"7.mL3xi,0.aria-label,0.id,22.jsaction\"></button> is not clickable at point (319, 32). Other element would receive the click: <canvas width=\"1920\" height=\"924\" id=\"\" class=\"MyME0d widget-scene-canvas\" style=\"width: 1920px; height: 924px;\"></canvas>\n  (Session info: chrome=102.0.5005.62)\nStacktrace:\nBacktrace:\n\tOrdinal0 [0x00B7B8F3+2406643]\n\tOrdinal0 [0x00B0AF31+1945393]\n\tOrdinal0 [0x009FC748+837448]\n\tOrdinal0 [0x00A2FA1B+1047067]\n\tOrdinal0 [0x00A2D9F8+1038840]\n\tOrdinal0 [0x00A2B6DB+1029851]\n\tOrdinal0 [0x00A2A439+1025081]\n\tOrdinal0 [0x00A20083+983171]\n\tOrdinal0 [0x00A4427C+1131132]\n\tOrdinal0 [0x00A1FA64+981604]\n\tOrdinal0 [0x00A44494+1131668]\n\tOrdinal0 [0x00A54682+1197698]\n\tOrdinal0 [0x00A44096+1130646]\n\tOrdinal0 [0x00A1E636+976438]\n\tOrdinal0 [0x00A1F546+980294]\n\tGetHandleVerifier [0x00DE9612+2498066]\n\tGetHandleVerifier [0x00DDC920+2445600]\n\tGetHandleVerifier [0x00C14F2A+579370]\n\tGetHandleVerifier [0x00C13D36+574774]\n\tOrdinal0 [0x00B11C0B+1973259]\n\tOrdinal0 [0x00B16688+1992328]\n\tOrdinal0 [0x00B16775+1992565]\n\tOrdinal0 [0x00B1F8D1+2029777]\n\tBaseThreadInitThunk [0x7619FA29+25]\n\tRtlGetAppContainerNamedObjectPath [0x77977A7E+286]\n\tRtlGetAppContainerNamedObjectPath [0x77977A4E+238]\n",
     "output_type": "error",
     "traceback": [
      "\u001b[1;31m---------------------------------------------------------------------------\u001b[0m",
      "\u001b[1;31mElementClickInterceptedException\u001b[0m          Traceback (most recent call last)",
      "\u001b[1;32m~\\AppData\\Local\\Temp/ipykernel_20284/2067339614.py\u001b[0m in \u001b[0;36m<module>\u001b[1;34m\u001b[0m\n\u001b[0;32m      1\u001b[0m \u001b[0msearch_button_tag\u001b[0m \u001b[1;33m=\u001b[0m \u001b[0mdriver\u001b[0m\u001b[1;33m.\u001b[0m\u001b[0mfind_element\u001b[0m\u001b[1;33m(\u001b[0m\u001b[0mBy\u001b[0m\u001b[1;33m.\u001b[0m\u001b[0mID\u001b[0m\u001b[1;33m,\u001b[0m \u001b[1;34m'searchbox-searchbutton'\u001b[0m\u001b[1;33m)\u001b[0m\u001b[1;33m\u001b[0m\u001b[1;33m\u001b[0m\u001b[0m\n\u001b[1;32m----> 2\u001b[1;33m \u001b[0msearch_button_tag\u001b[0m\u001b[1;33m.\u001b[0m\u001b[0mclick\u001b[0m\u001b[1;33m(\u001b[0m\u001b[1;33m)\u001b[0m\u001b[1;33m\u001b[0m\u001b[1;33m\u001b[0m\u001b[0m\n\u001b[0m\u001b[0;32m      3\u001b[0m \u001b[0mtime\u001b[0m\u001b[1;33m.\u001b[0m\u001b[0msleep\u001b[0m\u001b[1;33m(\u001b[0m\u001b[1;36m5\u001b[0m\u001b[1;33m)\u001b[0m\u001b[1;33m\u001b[0m\u001b[1;33m\u001b[0m\u001b[0m\n",
      "\u001b[1;32mD:\\anaconda\\lib\\site-packages\\selenium\\webdriver\\remote\\webelement.py\u001b[0m in \u001b[0;36mclick\u001b[1;34m(self)\u001b[0m\n\u001b[0;32m     79\u001b[0m     \u001b[1;32mdef\u001b[0m \u001b[0mclick\u001b[0m\u001b[1;33m(\u001b[0m\u001b[0mself\u001b[0m\u001b[1;33m)\u001b[0m \u001b[1;33m->\u001b[0m \u001b[1;32mNone\u001b[0m\u001b[1;33m:\u001b[0m\u001b[1;33m\u001b[0m\u001b[1;33m\u001b[0m\u001b[0m\n\u001b[0;32m     80\u001b[0m         \u001b[1;34m\"\"\"Clicks the element.\"\"\"\u001b[0m\u001b[1;33m\u001b[0m\u001b[1;33m\u001b[0m\u001b[0m\n\u001b[1;32m---> 81\u001b[1;33m         \u001b[0mself\u001b[0m\u001b[1;33m.\u001b[0m\u001b[0m_execute\u001b[0m\u001b[1;33m(\u001b[0m\u001b[0mCommand\u001b[0m\u001b[1;33m.\u001b[0m\u001b[0mCLICK_ELEMENT\u001b[0m\u001b[1;33m)\u001b[0m\u001b[1;33m\u001b[0m\u001b[1;33m\u001b[0m\u001b[0m\n\u001b[0m\u001b[0;32m     82\u001b[0m \u001b[1;33m\u001b[0m\u001b[0m\n\u001b[0;32m     83\u001b[0m     \u001b[1;32mdef\u001b[0m \u001b[0msubmit\u001b[0m\u001b[1;33m(\u001b[0m\u001b[0mself\u001b[0m\u001b[1;33m)\u001b[0m\u001b[1;33m:\u001b[0m\u001b[1;33m\u001b[0m\u001b[1;33m\u001b[0m\u001b[0m\n",
      "\u001b[1;32mD:\\anaconda\\lib\\site-packages\\selenium\\webdriver\\remote\\webelement.py\u001b[0m in \u001b[0;36m_execute\u001b[1;34m(self, command, params)\u001b[0m\n\u001b[0;32m    708\u001b[0m             \u001b[0mparams\u001b[0m \u001b[1;33m=\u001b[0m \u001b[1;33m{\u001b[0m\u001b[1;33m}\u001b[0m\u001b[1;33m\u001b[0m\u001b[1;33m\u001b[0m\u001b[0m\n\u001b[0;32m    709\u001b[0m         \u001b[0mparams\u001b[0m\u001b[1;33m[\u001b[0m\u001b[1;34m'id'\u001b[0m\u001b[1;33m]\u001b[0m \u001b[1;33m=\u001b[0m \u001b[0mself\u001b[0m\u001b[1;33m.\u001b[0m\u001b[0m_id\u001b[0m\u001b[1;33m\u001b[0m\u001b[1;33m\u001b[0m\u001b[0m\n\u001b[1;32m--> 710\u001b[1;33m         \u001b[1;32mreturn\u001b[0m \u001b[0mself\u001b[0m\u001b[1;33m.\u001b[0m\u001b[0m_parent\u001b[0m\u001b[1;33m.\u001b[0m\u001b[0mexecute\u001b[0m\u001b[1;33m(\u001b[0m\u001b[0mcommand\u001b[0m\u001b[1;33m,\u001b[0m \u001b[0mparams\u001b[0m\u001b[1;33m)\u001b[0m\u001b[1;33m\u001b[0m\u001b[1;33m\u001b[0m\u001b[0m\n\u001b[0m\u001b[0;32m    711\u001b[0m \u001b[1;33m\u001b[0m\u001b[0m\n\u001b[0;32m    712\u001b[0m     \u001b[1;32mdef\u001b[0m \u001b[0mfind_element\u001b[0m\u001b[1;33m(\u001b[0m\u001b[0mself\u001b[0m\u001b[1;33m,\u001b[0m \u001b[0mby\u001b[0m\u001b[1;33m=\u001b[0m\u001b[0mBy\u001b[0m\u001b[1;33m.\u001b[0m\u001b[0mID\u001b[0m\u001b[1;33m,\u001b[0m \u001b[0mvalue\u001b[0m\u001b[1;33m=\u001b[0m\u001b[1;32mNone\u001b[0m\u001b[1;33m)\u001b[0m\u001b[1;33m:\u001b[0m\u001b[1;33m\u001b[0m\u001b[1;33m\u001b[0m\u001b[0m\n",
      "\u001b[1;32mD:\\anaconda\\lib\\site-packages\\selenium\\webdriver\\remote\\webdriver.py\u001b[0m in \u001b[0;36mexecute\u001b[1;34m(self, driver_command, params)\u001b[0m\n\u001b[0;32m    423\u001b[0m         \u001b[0mresponse\u001b[0m \u001b[1;33m=\u001b[0m \u001b[0mself\u001b[0m\u001b[1;33m.\u001b[0m\u001b[0mcommand_executor\u001b[0m\u001b[1;33m.\u001b[0m\u001b[0mexecute\u001b[0m\u001b[1;33m(\u001b[0m\u001b[0mdriver_command\u001b[0m\u001b[1;33m,\u001b[0m \u001b[0mparams\u001b[0m\u001b[1;33m)\u001b[0m\u001b[1;33m\u001b[0m\u001b[1;33m\u001b[0m\u001b[0m\n\u001b[0;32m    424\u001b[0m         \u001b[1;32mif\u001b[0m \u001b[0mresponse\u001b[0m\u001b[1;33m:\u001b[0m\u001b[1;33m\u001b[0m\u001b[1;33m\u001b[0m\u001b[0m\n\u001b[1;32m--> 425\u001b[1;33m             \u001b[0mself\u001b[0m\u001b[1;33m.\u001b[0m\u001b[0merror_handler\u001b[0m\u001b[1;33m.\u001b[0m\u001b[0mcheck_response\u001b[0m\u001b[1;33m(\u001b[0m\u001b[0mresponse\u001b[0m\u001b[1;33m)\u001b[0m\u001b[1;33m\u001b[0m\u001b[1;33m\u001b[0m\u001b[0m\n\u001b[0m\u001b[0;32m    426\u001b[0m             response['value'] = self._unwrap_value(\n\u001b[0;32m    427\u001b[0m                 response.get('value', None))\n",
      "\u001b[1;32mD:\\anaconda\\lib\\site-packages\\selenium\\webdriver\\remote\\errorhandler.py\u001b[0m in \u001b[0;36mcheck_response\u001b[1;34m(self, response)\u001b[0m\n\u001b[0;32m    245\u001b[0m                 \u001b[0malert_text\u001b[0m \u001b[1;33m=\u001b[0m \u001b[0mvalue\u001b[0m\u001b[1;33m[\u001b[0m\u001b[1;34m'alert'\u001b[0m\u001b[1;33m]\u001b[0m\u001b[1;33m.\u001b[0m\u001b[0mget\u001b[0m\u001b[1;33m(\u001b[0m\u001b[1;34m'text'\u001b[0m\u001b[1;33m)\u001b[0m\u001b[1;33m\u001b[0m\u001b[1;33m\u001b[0m\u001b[0m\n\u001b[0;32m    246\u001b[0m             \u001b[1;32mraise\u001b[0m \u001b[0mexception_class\u001b[0m\u001b[1;33m(\u001b[0m\u001b[0mmessage\u001b[0m\u001b[1;33m,\u001b[0m \u001b[0mscreen\u001b[0m\u001b[1;33m,\u001b[0m \u001b[0mstacktrace\u001b[0m\u001b[1;33m,\u001b[0m \u001b[0malert_text\u001b[0m\u001b[1;33m)\u001b[0m  \u001b[1;31m# type: ignore[call-arg]  # mypy is not smart enough here\u001b[0m\u001b[1;33m\u001b[0m\u001b[1;33m\u001b[0m\u001b[0m\n\u001b[1;32m--> 247\u001b[1;33m         \u001b[1;32mraise\u001b[0m \u001b[0mexception_class\u001b[0m\u001b[1;33m(\u001b[0m\u001b[0mmessage\u001b[0m\u001b[1;33m,\u001b[0m \u001b[0mscreen\u001b[0m\u001b[1;33m,\u001b[0m \u001b[0mstacktrace\u001b[0m\u001b[1;33m)\u001b[0m\u001b[1;33m\u001b[0m\u001b[1;33m\u001b[0m\u001b[0m\n\u001b[0m\u001b[0;32m    248\u001b[0m \u001b[1;33m\u001b[0m\u001b[0m\n\u001b[0;32m    249\u001b[0m     \u001b[1;32mdef\u001b[0m \u001b[0m_value_or_default\u001b[0m\u001b[1;33m(\u001b[0m\u001b[0mself\u001b[0m\u001b[1;33m,\u001b[0m \u001b[0mobj\u001b[0m\u001b[1;33m:\u001b[0m \u001b[0mMapping\u001b[0m\u001b[1;33m[\u001b[0m\u001b[0m_KT\u001b[0m\u001b[1;33m,\u001b[0m \u001b[0m_VT\u001b[0m\u001b[1;33m]\u001b[0m\u001b[1;33m,\u001b[0m \u001b[0mkey\u001b[0m\u001b[1;33m:\u001b[0m \u001b[0m_KT\u001b[0m\u001b[1;33m,\u001b[0m \u001b[0mdefault\u001b[0m\u001b[1;33m:\u001b[0m \u001b[0m_VT\u001b[0m\u001b[1;33m)\u001b[0m \u001b[1;33m->\u001b[0m \u001b[0m_VT\u001b[0m\u001b[1;33m:\u001b[0m\u001b[1;33m\u001b[0m\u001b[1;33m\u001b[0m\u001b[0m\n",
      "\u001b[1;31mElementClickInterceptedException\u001b[0m: Message: element click intercepted: Element <button aria-label=\"검색\" id=\"searchbox-searchbutton\" jstcache=\"13\" jsaction=\"omnibox.search;mouseover:omnibox.showTooltip;mouseout:omnibox.hideTooltip;focus:omnibox.showTooltip;blur:omnibox.hideTooltip\" class=\"mL3xi\" jsan=\"7.mL3xi,0.aria-label,0.id,22.jsaction\"></button> is not clickable at point (319, 32). Other element would receive the click: <canvas width=\"1920\" height=\"924\" id=\"\" class=\"MyME0d widget-scene-canvas\" style=\"width: 1920px; height: 924px;\"></canvas>\n  (Session info: chrome=102.0.5005.62)\nStacktrace:\nBacktrace:\n\tOrdinal0 [0x00B7B8F3+2406643]\n\tOrdinal0 [0x00B0AF31+1945393]\n\tOrdinal0 [0x009FC748+837448]\n\tOrdinal0 [0x00A2FA1B+1047067]\n\tOrdinal0 [0x00A2D9F8+1038840]\n\tOrdinal0 [0x00A2B6DB+1029851]\n\tOrdinal0 [0x00A2A439+1025081]\n\tOrdinal0 [0x00A20083+983171]\n\tOrdinal0 [0x00A4427C+1131132]\n\tOrdinal0 [0x00A1FA64+981604]\n\tOrdinal0 [0x00A44494+1131668]\n\tOrdinal0 [0x00A54682+1197698]\n\tOrdinal0 [0x00A44096+1130646]\n\tOrdinal0 [0x00A1E636+976438]\n\tOrdinal0 [0x00A1F546+980294]\n\tGetHandleVerifier [0x00DE9612+2498066]\n\tGetHandleVerifier [0x00DDC920+2445600]\n\tGetHandleVerifier [0x00C14F2A+579370]\n\tGetHandleVerifier [0x00C13D36+574774]\n\tOrdinal0 [0x00B11C0B+1973259]\n\tOrdinal0 [0x00B16688+1992328]\n\tOrdinal0 [0x00B16775+1992565]\n\tOrdinal0 [0x00B1F8D1+2029777]\n\tBaseThreadInitThunk [0x7619FA29+25]\n\tRtlGetAppContainerNamedObjectPath [0x77977A7E+286]\n\tRtlGetAppContainerNamedObjectPath [0x77977A4E+238]\n"
     ]
    }
   ],
   "source": [
    "search_button_tag = driver.find_element(By.ID, 'searchbox-searchbutton')\n",
    "search_button_tag.click()\n",
    "time.sleep(5)"
   ]
  },
  {
   "cell_type": "code",
   "execution_count": 229,
   "id": "b9e21283",
   "metadata": {},
   "outputs": [
    {
     "name": "stderr",
     "output_type": "stream",
     "text": [
      "C:\\Users\\82103\\AppData\\Local\\Temp/ipykernel_20284/696269896.py:1: DeprecationWarning: executable_path has been deprecated, please pass in a Service object\n",
      "  driver = webdriver.Chrome(\"D:/20220103_lab/14.python/data/chrome/chromedriver\")\n"
     ]
    },
    {
     "ename": "KeyboardInterrupt",
     "evalue": "",
     "output_type": "error",
     "traceback": [
      "\u001b[1;31m---------------------------------------------------------------------------\u001b[0m",
      "\u001b[1;31mKeyboardInterrupt\u001b[0m                         Traceback (most recent call last)",
      "\u001b[1;32m~\\AppData\\Local\\Temp/ipykernel_20284/696269896.py\u001b[0m in \u001b[0;36m<module>\u001b[1;34m\u001b[0m\n\u001b[0;32m      7\u001b[0m \u001b[0msearch_button_tag\u001b[0m \u001b[1;33m=\u001b[0m \u001b[0mdriver\u001b[0m\u001b[1;33m.\u001b[0m\u001b[0mfind_element\u001b[0m\u001b[1;33m(\u001b[0m\u001b[0mBy\u001b[0m\u001b[1;33m.\u001b[0m\u001b[0mID\u001b[0m\u001b[1;33m,\u001b[0m \u001b[1;34m'searchbox-searchbutton'\u001b[0m\u001b[1;33m)\u001b[0m\u001b[1;33m\u001b[0m\u001b[1;33m\u001b[0m\u001b[0m\n\u001b[0;32m      8\u001b[0m \u001b[0msearch_button_tag\u001b[0m\u001b[1;33m.\u001b[0m\u001b[0mclick\u001b[0m\u001b[1;33m(\u001b[0m\u001b[1;33m)\u001b[0m\u001b[1;33m\u001b[0m\u001b[1;33m\u001b[0m\u001b[0m\n\u001b[1;32m----> 9\u001b[1;33m \u001b[0mtime\u001b[0m\u001b[1;33m.\u001b[0m\u001b[0msleep\u001b[0m\u001b[1;33m(\u001b[0m\u001b[1;36m5\u001b[0m\u001b[1;33m)\u001b[0m\u001b[1;33m\u001b[0m\u001b[1;33m\u001b[0m\u001b[0m\n\u001b[0m",
      "\u001b[1;31mKeyboardInterrupt\u001b[0m: "
     ]
    }
   ],
   "source": [
    "driver = webdriver.Chrome(\"D:/20220103_lab/14.python/data/chrome/chromedriver\")\n",
    "driver.get(\"https://www.google.com/maps/\")\n",
    "time.sleep(3)\n",
    "search_input_tag = driver.find_element(By.ID, 'searchboxinput')\n",
    "search_input_tag.send_keys('동물병원')\n",
    "time.sleep(3)\n",
    "search_button_tag = driver.find_element(By.ID, 'searchbox-searchbutton')\n",
    "search_button_tag.click()\n",
    "time.sleep(5)"
   ]
  },
  {
   "cell_type": "code",
   "execution_count": 259,
   "id": "bc2ae089",
   "metadata": {},
   "outputs": [],
   "source": [
    "driver.execute_script(\"document.body.style.zoom='100%'\")\n",
    "\n",
    "#elem.send_keys(Keys.ENTER)"
   ]
  },
  {
   "cell_type": "code",
   "execution_count": 257,
   "id": "74361d1e",
   "metadata": {},
   "outputs": [],
   "source": [
    "target = driver.find_element(By.XPATH, '/html/body/div[3]/div[9]/div[9]/div[1]/div[1]/div[1]/div[2]/div[1]/div[1]/div[1]/div[1]/div[2]')"
   ]
  },
  {
   "cell_type": "code",
   "execution_count": 258,
   "id": "79ab750b",
   "metadata": {},
   "outputs": [
    {
     "data": {
      "text/plain": [
       "'아마존동물병원\\n4.6(25)\\n동물병원 · 임학동 67-7\\n곧 영업 종료: 오후 8:00 ⋅ 수 오전 10:00에 영업 시작 · 032-555-7502 ext. 3\\n경로\\n계양동물메디컬센터\\n4.3(50)\\n동물병원 · 계산동 942-24번지\\n곧 영업 종료: 오후 8:00 ⋅ 수 오전 9:30에 영업 시작 · 032-555-9975\\n경로\\n해림동물병원\\n4.8(100)\\n동물병원 · 작전동 864-39\\n곧 영업 종료: 오후 8:00 ⋅ 수 오전 10:00에 영업 시작 · 032-546-0079\\n경로\\n한솔동물병원\\n4.3(13)\\n동물병원 · 계산2동 918-2\\n032-553-4652\\n웹사이트\\n경로\\n아프리카 동물의료센터 [구 아프리카동물병원]\\n4.4(89)\\n동물병원 · 장제로340번길 5 3층\\n영업 중 ⋅ 오후 10:00에 영업 종료 · 032-508-7582\\n웹사이트\\n경로\\n부평종합동물병원\\n4.5(101)\\n동물병원 · 부평동 부평대로 154\\n곧 영업 종료: 오후 8:00 ⋅ 수 오전 9:30에 영업 시작 · 032-511-6836\\n경로\\n보비동물병원\\n4.6(48)\\n포근한동물병원\\n4.9(31)\\n동물병원 · 중동 1168\\n24시간 영업 · 032-231-0075\\n경로\\n펫사랑동물병원\\n4.4(48)\\n동물병원 · 산곡동 194-6\\n032-521-0003\\n웹사이트\\n경로\\n24시나음동물병원\\n4.6(45)\\n동물 병원 · 중동\\n032-323-7581\\n경로\\n부천 TLC 동물의료센터\\n4.9(35)\\n동물병원 · 중동 길주로 281 TLC 동물의료센터 1층\\n24시간 영업 · 032-323-2475\\n웹사이트\\n경로\\n동행동물병원\\n4.7(52)\\n동물병원 · 양도로 19번길 15\\n곧 영업 종료: 오후 8:00 ⋅ 수 오전 9:30에 영업 시작 · 031-986-9816\\n경로\\n다오동물병원\\n4.7(6)\\n동물병원 · 계산동 1062\\n032-548-0275\\n경로\\n신통방통동물병원\\n4.9(10)\\n동물 병원 · 작전동 863\\n곧 영업 종료: 오후 8:00 ⋅ 수 오전 10:00에 영업 시작 · 032-552-3369\\n경로'"
      ]
     },
     "execution_count": 258,
     "metadata": {},
     "output_type": "execute_result"
    }
   ],
   "source": [
    "target.text"
   ]
  },
  {
   "cell_type": "code",
   "execution_count": 162,
   "id": "c3dd4c42",
   "metadata": {},
   "outputs": [],
   "source": [
    "panee = driver.find_element(By.XPATH, '/html/body/div[3]/div[9]/div[8]')"
   ]
  },
  {
   "cell_type": "markdown",
   "id": "919865ec",
   "metadata": {},
   "source": [
    "class = \"m6QErb DxyBCb kA9KIf dS8AEf ecceSd\""
   ]
  },
  {
   "cell_type": "code",
   "execution_count": 193,
   "id": "606ed315",
   "metadata": {},
   "outputs": [
    {
     "name": "stderr",
     "output_type": "stream",
     "text": [
      "C:\\Users\\82103\\AppData\\Local\\Temp/ipykernel_20284/1298259985.py:1: DeprecationWarning: find_element_by_css_selector is deprecated. Please use find_element(by=By.CSS_SELECTOR, value=css_selector) instead\n",
      "  asdasdf = driver.find_element_by_css_selector(\"div.rHNip.cRLbXd\")\n"
     ]
    }
   ],
   "source": [
    "asdasdf = driver.find_element_by_css_selector(\"div.rHNip.cRLbXd\")"
   ]
  },
  {
   "cell_type": "code",
   "execution_count": 191,
   "id": "42fa55a6",
   "metadata": {
    "scrolled": true
   },
   "outputs": [
    {
     "ename": "ElementNotInteractableException",
     "evalue": "Message: element not interactable\n  (Session info: chrome=102.0.5005.62)\nStacktrace:\nBacktrace:\n\tOrdinal0 [0x00B7B8F3+2406643]\n\tOrdinal0 [0x00B0AF31+1945393]\n\tOrdinal0 [0x009FC610+837136]\n\tOrdinal0 [0x00A2A2D3+1024723]\n\tOrdinal0 [0x00A20083+983171]\n\tOrdinal0 [0x00A4427C+1131132]\n\tOrdinal0 [0x00A1FA64+981604]\n\tOrdinal0 [0x00A44494+1131668]\n\tOrdinal0 [0x00A54682+1197698]\n\tOrdinal0 [0x00A44096+1130646]\n\tOrdinal0 [0x00A1E636+976438]\n\tOrdinal0 [0x00A1F546+980294]\n\tGetHandleVerifier [0x00DE9612+2498066]\n\tGetHandleVerifier [0x00DDC920+2445600]\n\tGetHandleVerifier [0x00C14F2A+579370]\n\tGetHandleVerifier [0x00C13D36+574774]\n\tOrdinal0 [0x00B11C0B+1973259]\n\tOrdinal0 [0x00B16688+1992328]\n\tOrdinal0 [0x00B16775+1992565]\n\tOrdinal0 [0x00B1F8D1+2029777]\n\tBaseThreadInitThunk [0x7619FA29+25]\n\tRtlGetAppContainerNamedObjectPath [0x77977A7E+286]\n\tRtlGetAppContainerNamedObjectPath [0x77977A4E+238]\n",
     "output_type": "error",
     "traceback": [
      "\u001b[1;31m---------------------------------------------------------------------------\u001b[0m",
      "\u001b[1;31mElementNotInteractableException\u001b[0m           Traceback (most recent call last)",
      "\u001b[1;32m~\\AppData\\Local\\Temp/ipykernel_20284/335356702.py\u001b[0m in \u001b[0;36m<module>\u001b[1;34m\u001b[0m\n\u001b[1;32m----> 1\u001b[1;33m \u001b[0masdasdf\u001b[0m\u001b[1;33m.\u001b[0m\u001b[0mclick\u001b[0m\u001b[1;33m(\u001b[0m\u001b[1;33m)\u001b[0m\u001b[1;33m\u001b[0m\u001b[1;33m\u001b[0m\u001b[0m\n\u001b[0m",
      "\u001b[1;32mD:\\anaconda\\lib\\site-packages\\selenium\\webdriver\\remote\\webelement.py\u001b[0m in \u001b[0;36mclick\u001b[1;34m(self)\u001b[0m\n\u001b[0;32m     79\u001b[0m     \u001b[1;32mdef\u001b[0m \u001b[0mclick\u001b[0m\u001b[1;33m(\u001b[0m\u001b[0mself\u001b[0m\u001b[1;33m)\u001b[0m \u001b[1;33m->\u001b[0m \u001b[1;32mNone\u001b[0m\u001b[1;33m:\u001b[0m\u001b[1;33m\u001b[0m\u001b[1;33m\u001b[0m\u001b[0m\n\u001b[0;32m     80\u001b[0m         \u001b[1;34m\"\"\"Clicks the element.\"\"\"\u001b[0m\u001b[1;33m\u001b[0m\u001b[1;33m\u001b[0m\u001b[0m\n\u001b[1;32m---> 81\u001b[1;33m         \u001b[0mself\u001b[0m\u001b[1;33m.\u001b[0m\u001b[0m_execute\u001b[0m\u001b[1;33m(\u001b[0m\u001b[0mCommand\u001b[0m\u001b[1;33m.\u001b[0m\u001b[0mCLICK_ELEMENT\u001b[0m\u001b[1;33m)\u001b[0m\u001b[1;33m\u001b[0m\u001b[1;33m\u001b[0m\u001b[0m\n\u001b[0m\u001b[0;32m     82\u001b[0m \u001b[1;33m\u001b[0m\u001b[0m\n\u001b[0;32m     83\u001b[0m     \u001b[1;32mdef\u001b[0m \u001b[0msubmit\u001b[0m\u001b[1;33m(\u001b[0m\u001b[0mself\u001b[0m\u001b[1;33m)\u001b[0m\u001b[1;33m:\u001b[0m\u001b[1;33m\u001b[0m\u001b[1;33m\u001b[0m\u001b[0m\n",
      "\u001b[1;32mD:\\anaconda\\lib\\site-packages\\selenium\\webdriver\\remote\\webelement.py\u001b[0m in \u001b[0;36m_execute\u001b[1;34m(self, command, params)\u001b[0m\n\u001b[0;32m    708\u001b[0m             \u001b[0mparams\u001b[0m \u001b[1;33m=\u001b[0m \u001b[1;33m{\u001b[0m\u001b[1;33m}\u001b[0m\u001b[1;33m\u001b[0m\u001b[1;33m\u001b[0m\u001b[0m\n\u001b[0;32m    709\u001b[0m         \u001b[0mparams\u001b[0m\u001b[1;33m[\u001b[0m\u001b[1;34m'id'\u001b[0m\u001b[1;33m]\u001b[0m \u001b[1;33m=\u001b[0m \u001b[0mself\u001b[0m\u001b[1;33m.\u001b[0m\u001b[0m_id\u001b[0m\u001b[1;33m\u001b[0m\u001b[1;33m\u001b[0m\u001b[0m\n\u001b[1;32m--> 710\u001b[1;33m         \u001b[1;32mreturn\u001b[0m \u001b[0mself\u001b[0m\u001b[1;33m.\u001b[0m\u001b[0m_parent\u001b[0m\u001b[1;33m.\u001b[0m\u001b[0mexecute\u001b[0m\u001b[1;33m(\u001b[0m\u001b[0mcommand\u001b[0m\u001b[1;33m,\u001b[0m \u001b[0mparams\u001b[0m\u001b[1;33m)\u001b[0m\u001b[1;33m\u001b[0m\u001b[1;33m\u001b[0m\u001b[0m\n\u001b[0m\u001b[0;32m    711\u001b[0m \u001b[1;33m\u001b[0m\u001b[0m\n\u001b[0;32m    712\u001b[0m     \u001b[1;32mdef\u001b[0m \u001b[0mfind_element\u001b[0m\u001b[1;33m(\u001b[0m\u001b[0mself\u001b[0m\u001b[1;33m,\u001b[0m \u001b[0mby\u001b[0m\u001b[1;33m=\u001b[0m\u001b[0mBy\u001b[0m\u001b[1;33m.\u001b[0m\u001b[0mID\u001b[0m\u001b[1;33m,\u001b[0m \u001b[0mvalue\u001b[0m\u001b[1;33m=\u001b[0m\u001b[1;32mNone\u001b[0m\u001b[1;33m)\u001b[0m\u001b[1;33m:\u001b[0m\u001b[1;33m\u001b[0m\u001b[1;33m\u001b[0m\u001b[0m\n",
      "\u001b[1;32mD:\\anaconda\\lib\\site-packages\\selenium\\webdriver\\remote\\webdriver.py\u001b[0m in \u001b[0;36mexecute\u001b[1;34m(self, driver_command, params)\u001b[0m\n\u001b[0;32m    423\u001b[0m         \u001b[0mresponse\u001b[0m \u001b[1;33m=\u001b[0m \u001b[0mself\u001b[0m\u001b[1;33m.\u001b[0m\u001b[0mcommand_executor\u001b[0m\u001b[1;33m.\u001b[0m\u001b[0mexecute\u001b[0m\u001b[1;33m(\u001b[0m\u001b[0mdriver_command\u001b[0m\u001b[1;33m,\u001b[0m \u001b[0mparams\u001b[0m\u001b[1;33m)\u001b[0m\u001b[1;33m\u001b[0m\u001b[1;33m\u001b[0m\u001b[0m\n\u001b[0;32m    424\u001b[0m         \u001b[1;32mif\u001b[0m \u001b[0mresponse\u001b[0m\u001b[1;33m:\u001b[0m\u001b[1;33m\u001b[0m\u001b[1;33m\u001b[0m\u001b[0m\n\u001b[1;32m--> 425\u001b[1;33m             \u001b[0mself\u001b[0m\u001b[1;33m.\u001b[0m\u001b[0merror_handler\u001b[0m\u001b[1;33m.\u001b[0m\u001b[0mcheck_response\u001b[0m\u001b[1;33m(\u001b[0m\u001b[0mresponse\u001b[0m\u001b[1;33m)\u001b[0m\u001b[1;33m\u001b[0m\u001b[1;33m\u001b[0m\u001b[0m\n\u001b[0m\u001b[0;32m    426\u001b[0m             response['value'] = self._unwrap_value(\n\u001b[0;32m    427\u001b[0m                 response.get('value', None))\n",
      "\u001b[1;32mD:\\anaconda\\lib\\site-packages\\selenium\\webdriver\\remote\\errorhandler.py\u001b[0m in \u001b[0;36mcheck_response\u001b[1;34m(self, response)\u001b[0m\n\u001b[0;32m    245\u001b[0m                 \u001b[0malert_text\u001b[0m \u001b[1;33m=\u001b[0m \u001b[0mvalue\u001b[0m\u001b[1;33m[\u001b[0m\u001b[1;34m'alert'\u001b[0m\u001b[1;33m]\u001b[0m\u001b[1;33m.\u001b[0m\u001b[0mget\u001b[0m\u001b[1;33m(\u001b[0m\u001b[1;34m'text'\u001b[0m\u001b[1;33m)\u001b[0m\u001b[1;33m\u001b[0m\u001b[1;33m\u001b[0m\u001b[0m\n\u001b[0;32m    246\u001b[0m             \u001b[1;32mraise\u001b[0m \u001b[0mexception_class\u001b[0m\u001b[1;33m(\u001b[0m\u001b[0mmessage\u001b[0m\u001b[1;33m,\u001b[0m \u001b[0mscreen\u001b[0m\u001b[1;33m,\u001b[0m \u001b[0mstacktrace\u001b[0m\u001b[1;33m,\u001b[0m \u001b[0malert_text\u001b[0m\u001b[1;33m)\u001b[0m  \u001b[1;31m# type: ignore[call-arg]  # mypy is not smart enough here\u001b[0m\u001b[1;33m\u001b[0m\u001b[1;33m\u001b[0m\u001b[0m\n\u001b[1;32m--> 247\u001b[1;33m         \u001b[1;32mraise\u001b[0m \u001b[0mexception_class\u001b[0m\u001b[1;33m(\u001b[0m\u001b[0mmessage\u001b[0m\u001b[1;33m,\u001b[0m \u001b[0mscreen\u001b[0m\u001b[1;33m,\u001b[0m \u001b[0mstacktrace\u001b[0m\u001b[1;33m)\u001b[0m\u001b[1;33m\u001b[0m\u001b[1;33m\u001b[0m\u001b[0m\n\u001b[0m\u001b[0;32m    248\u001b[0m \u001b[1;33m\u001b[0m\u001b[0m\n\u001b[0;32m    249\u001b[0m     \u001b[1;32mdef\u001b[0m \u001b[0m_value_or_default\u001b[0m\u001b[1;33m(\u001b[0m\u001b[0mself\u001b[0m\u001b[1;33m,\u001b[0m \u001b[0mobj\u001b[0m\u001b[1;33m:\u001b[0m \u001b[0mMapping\u001b[0m\u001b[1;33m[\u001b[0m\u001b[0m_KT\u001b[0m\u001b[1;33m,\u001b[0m \u001b[0m_VT\u001b[0m\u001b[1;33m]\u001b[0m\u001b[1;33m,\u001b[0m \u001b[0mkey\u001b[0m\u001b[1;33m:\u001b[0m \u001b[0m_KT\u001b[0m\u001b[1;33m,\u001b[0m \u001b[0mdefault\u001b[0m\u001b[1;33m:\u001b[0m \u001b[0m_VT\u001b[0m\u001b[1;33m)\u001b[0m \u001b[1;33m->\u001b[0m \u001b[0m_VT\u001b[0m\u001b[1;33m:\u001b[0m\u001b[1;33m\u001b[0m\u001b[1;33m\u001b[0m\u001b[0m\n",
      "\u001b[1;31mElementNotInteractableException\u001b[0m: Message: element not interactable\n  (Session info: chrome=102.0.5005.62)\nStacktrace:\nBacktrace:\n\tOrdinal0 [0x00B7B8F3+2406643]\n\tOrdinal0 [0x00B0AF31+1945393]\n\tOrdinal0 [0x009FC610+837136]\n\tOrdinal0 [0x00A2A2D3+1024723]\n\tOrdinal0 [0x00A20083+983171]\n\tOrdinal0 [0x00A4427C+1131132]\n\tOrdinal0 [0x00A1FA64+981604]\n\tOrdinal0 [0x00A44494+1131668]\n\tOrdinal0 [0x00A54682+1197698]\n\tOrdinal0 [0x00A44096+1130646]\n\tOrdinal0 [0x00A1E636+976438]\n\tOrdinal0 [0x00A1F546+980294]\n\tGetHandleVerifier [0x00DE9612+2498066]\n\tGetHandleVerifier [0x00DDC920+2445600]\n\tGetHandleVerifier [0x00C14F2A+579370]\n\tGetHandleVerifier [0x00C13D36+574774]\n\tOrdinal0 [0x00B11C0B+1973259]\n\tOrdinal0 [0x00B16688+1992328]\n\tOrdinal0 [0x00B16775+1992565]\n\tOrdinal0 [0x00B1F8D1+2029777]\n\tBaseThreadInitThunk [0x7619FA29+25]\n\tRtlGetAppContainerNamedObjectPath [0x77977A7E+286]\n\tRtlGetAppContainerNamedObjectPath [0x77977A4E+238]\n"
     ]
    }
   ],
   "source": [
    "asdasdf.click()"
   ]
  },
  {
   "cell_type": "code",
   "execution_count": 194,
   "id": "29e0a04d",
   "metadata": {
    "scrolled": true
   },
   "outputs": [
    {
     "ename": "ElementNotInteractableException",
     "evalue": "Message: element not interactable\n  (Session info: chrome=102.0.5005.62)\nStacktrace:\nBacktrace:\n\tOrdinal0 [0x00B7B8F3+2406643]\n\tOrdinal0 [0x00B0AF31+1945393]\n\tOrdinal0 [0x009FC610+837136]\n\tOrdinal0 [0x00A249C3+1001923]\n\tOrdinal0 [0x00A240A5+999589]\n\tOrdinal0 [0x00A4427C+1131132]\n\tOrdinal0 [0x00A1FA64+981604]\n\tOrdinal0 [0x00A44494+1131668]\n\tOrdinal0 [0x00A54682+1197698]\n\tOrdinal0 [0x00A44096+1130646]\n\tOrdinal0 [0x00A1E636+976438]\n\tOrdinal0 [0x00A1F546+980294]\n\tGetHandleVerifier [0x00DE9612+2498066]\n\tGetHandleVerifier [0x00DDC920+2445600]\n\tGetHandleVerifier [0x00C14F2A+579370]\n\tGetHandleVerifier [0x00C13D36+574774]\n\tOrdinal0 [0x00B11C0B+1973259]\n\tOrdinal0 [0x00B16688+1992328]\n\tOrdinal0 [0x00B16775+1992565]\n\tOrdinal0 [0x00B1F8D1+2029777]\n\tBaseThreadInitThunk [0x7619FA29+25]\n\tRtlGetAppContainerNamedObjectPath [0x77977A7E+286]\n\tRtlGetAppContainerNamedObjectPath [0x77977A4E+238]\n",
     "output_type": "error",
     "traceback": [
      "\u001b[1;31m---------------------------------------------------------------------------\u001b[0m",
      "\u001b[1;31mElementNotInteractableException\u001b[0m           Traceback (most recent call last)",
      "\u001b[1;32m~\\AppData\\Local\\Temp/ipykernel_20284/2716729077.py\u001b[0m in \u001b[0;36m<module>\u001b[1;34m\u001b[0m\n\u001b[1;32m----> 1\u001b[1;33m \u001b[0masdasdf\u001b[0m\u001b[1;33m.\u001b[0m\u001b[0msend_keys\u001b[0m\u001b[1;33m(\u001b[0m\u001b[0mKeys\u001b[0m\u001b[1;33m.\u001b[0m\u001b[0mEND\u001b[0m\u001b[1;33m)\u001b[0m\u001b[1;33m\u001b[0m\u001b[1;33m\u001b[0m\u001b[0m\n\u001b[0m",
      "\u001b[1;32mD:\\anaconda\\lib\\site-packages\\selenium\\webdriver\\remote\\webelement.py\u001b[0m in \u001b[0;36msend_keys\u001b[1;34m(self, *value)\u001b[0m\n\u001b[0;32m    538\u001b[0m                 \u001b[0mvalue\u001b[0m \u001b[1;33m=\u001b[0m \u001b[1;34m'\\n'\u001b[0m\u001b[1;33m.\u001b[0m\u001b[0mjoin\u001b[0m\u001b[1;33m(\u001b[0m\u001b[0mremote_files\u001b[0m\u001b[1;33m)\u001b[0m\u001b[1;33m\u001b[0m\u001b[1;33m\u001b[0m\u001b[0m\n\u001b[0;32m    539\u001b[0m \u001b[1;33m\u001b[0m\u001b[0m\n\u001b[1;32m--> 540\u001b[1;33m         self._execute(Command.SEND_KEYS_TO_ELEMENT,\n\u001b[0m\u001b[0;32m    541\u001b[0m                       {'text': \"\".join(keys_to_typing(value)),\n\u001b[0;32m    542\u001b[0m                        'value': keys_to_typing(value)})\n",
      "\u001b[1;32mD:\\anaconda\\lib\\site-packages\\selenium\\webdriver\\remote\\webelement.py\u001b[0m in \u001b[0;36m_execute\u001b[1;34m(self, command, params)\u001b[0m\n\u001b[0;32m    708\u001b[0m             \u001b[0mparams\u001b[0m \u001b[1;33m=\u001b[0m \u001b[1;33m{\u001b[0m\u001b[1;33m}\u001b[0m\u001b[1;33m\u001b[0m\u001b[1;33m\u001b[0m\u001b[0m\n\u001b[0;32m    709\u001b[0m         \u001b[0mparams\u001b[0m\u001b[1;33m[\u001b[0m\u001b[1;34m'id'\u001b[0m\u001b[1;33m]\u001b[0m \u001b[1;33m=\u001b[0m \u001b[0mself\u001b[0m\u001b[1;33m.\u001b[0m\u001b[0m_id\u001b[0m\u001b[1;33m\u001b[0m\u001b[1;33m\u001b[0m\u001b[0m\n\u001b[1;32m--> 710\u001b[1;33m         \u001b[1;32mreturn\u001b[0m \u001b[0mself\u001b[0m\u001b[1;33m.\u001b[0m\u001b[0m_parent\u001b[0m\u001b[1;33m.\u001b[0m\u001b[0mexecute\u001b[0m\u001b[1;33m(\u001b[0m\u001b[0mcommand\u001b[0m\u001b[1;33m,\u001b[0m \u001b[0mparams\u001b[0m\u001b[1;33m)\u001b[0m\u001b[1;33m\u001b[0m\u001b[1;33m\u001b[0m\u001b[0m\n\u001b[0m\u001b[0;32m    711\u001b[0m \u001b[1;33m\u001b[0m\u001b[0m\n\u001b[0;32m    712\u001b[0m     \u001b[1;32mdef\u001b[0m \u001b[0mfind_element\u001b[0m\u001b[1;33m(\u001b[0m\u001b[0mself\u001b[0m\u001b[1;33m,\u001b[0m \u001b[0mby\u001b[0m\u001b[1;33m=\u001b[0m\u001b[0mBy\u001b[0m\u001b[1;33m.\u001b[0m\u001b[0mID\u001b[0m\u001b[1;33m,\u001b[0m \u001b[0mvalue\u001b[0m\u001b[1;33m=\u001b[0m\u001b[1;32mNone\u001b[0m\u001b[1;33m)\u001b[0m\u001b[1;33m:\u001b[0m\u001b[1;33m\u001b[0m\u001b[1;33m\u001b[0m\u001b[0m\n",
      "\u001b[1;32mD:\\anaconda\\lib\\site-packages\\selenium\\webdriver\\remote\\webdriver.py\u001b[0m in \u001b[0;36mexecute\u001b[1;34m(self, driver_command, params)\u001b[0m\n\u001b[0;32m    423\u001b[0m         \u001b[0mresponse\u001b[0m \u001b[1;33m=\u001b[0m \u001b[0mself\u001b[0m\u001b[1;33m.\u001b[0m\u001b[0mcommand_executor\u001b[0m\u001b[1;33m.\u001b[0m\u001b[0mexecute\u001b[0m\u001b[1;33m(\u001b[0m\u001b[0mdriver_command\u001b[0m\u001b[1;33m,\u001b[0m \u001b[0mparams\u001b[0m\u001b[1;33m)\u001b[0m\u001b[1;33m\u001b[0m\u001b[1;33m\u001b[0m\u001b[0m\n\u001b[0;32m    424\u001b[0m         \u001b[1;32mif\u001b[0m \u001b[0mresponse\u001b[0m\u001b[1;33m:\u001b[0m\u001b[1;33m\u001b[0m\u001b[1;33m\u001b[0m\u001b[0m\n\u001b[1;32m--> 425\u001b[1;33m             \u001b[0mself\u001b[0m\u001b[1;33m.\u001b[0m\u001b[0merror_handler\u001b[0m\u001b[1;33m.\u001b[0m\u001b[0mcheck_response\u001b[0m\u001b[1;33m(\u001b[0m\u001b[0mresponse\u001b[0m\u001b[1;33m)\u001b[0m\u001b[1;33m\u001b[0m\u001b[1;33m\u001b[0m\u001b[0m\n\u001b[0m\u001b[0;32m    426\u001b[0m             response['value'] = self._unwrap_value(\n\u001b[0;32m    427\u001b[0m                 response.get('value', None))\n",
      "\u001b[1;32mD:\\anaconda\\lib\\site-packages\\selenium\\webdriver\\remote\\errorhandler.py\u001b[0m in \u001b[0;36mcheck_response\u001b[1;34m(self, response)\u001b[0m\n\u001b[0;32m    245\u001b[0m                 \u001b[0malert_text\u001b[0m \u001b[1;33m=\u001b[0m \u001b[0mvalue\u001b[0m\u001b[1;33m[\u001b[0m\u001b[1;34m'alert'\u001b[0m\u001b[1;33m]\u001b[0m\u001b[1;33m.\u001b[0m\u001b[0mget\u001b[0m\u001b[1;33m(\u001b[0m\u001b[1;34m'text'\u001b[0m\u001b[1;33m)\u001b[0m\u001b[1;33m\u001b[0m\u001b[1;33m\u001b[0m\u001b[0m\n\u001b[0;32m    246\u001b[0m             \u001b[1;32mraise\u001b[0m \u001b[0mexception_class\u001b[0m\u001b[1;33m(\u001b[0m\u001b[0mmessage\u001b[0m\u001b[1;33m,\u001b[0m \u001b[0mscreen\u001b[0m\u001b[1;33m,\u001b[0m \u001b[0mstacktrace\u001b[0m\u001b[1;33m,\u001b[0m \u001b[0malert_text\u001b[0m\u001b[1;33m)\u001b[0m  \u001b[1;31m# type: ignore[call-arg]  # mypy is not smart enough here\u001b[0m\u001b[1;33m\u001b[0m\u001b[1;33m\u001b[0m\u001b[0m\n\u001b[1;32m--> 247\u001b[1;33m         \u001b[1;32mraise\u001b[0m \u001b[0mexception_class\u001b[0m\u001b[1;33m(\u001b[0m\u001b[0mmessage\u001b[0m\u001b[1;33m,\u001b[0m \u001b[0mscreen\u001b[0m\u001b[1;33m,\u001b[0m \u001b[0mstacktrace\u001b[0m\u001b[1;33m)\u001b[0m\u001b[1;33m\u001b[0m\u001b[1;33m\u001b[0m\u001b[0m\n\u001b[0m\u001b[0;32m    248\u001b[0m \u001b[1;33m\u001b[0m\u001b[0m\n\u001b[0;32m    249\u001b[0m     \u001b[1;32mdef\u001b[0m \u001b[0m_value_or_default\u001b[0m\u001b[1;33m(\u001b[0m\u001b[0mself\u001b[0m\u001b[1;33m,\u001b[0m \u001b[0mobj\u001b[0m\u001b[1;33m:\u001b[0m \u001b[0mMapping\u001b[0m\u001b[1;33m[\u001b[0m\u001b[0m_KT\u001b[0m\u001b[1;33m,\u001b[0m \u001b[0m_VT\u001b[0m\u001b[1;33m]\u001b[0m\u001b[1;33m,\u001b[0m \u001b[0mkey\u001b[0m\u001b[1;33m:\u001b[0m \u001b[0m_KT\u001b[0m\u001b[1;33m,\u001b[0m \u001b[0mdefault\u001b[0m\u001b[1;33m:\u001b[0m \u001b[0m_VT\u001b[0m\u001b[1;33m)\u001b[0m \u001b[1;33m->\u001b[0m \u001b[0m_VT\u001b[0m\u001b[1;33m:\u001b[0m\u001b[1;33m\u001b[0m\u001b[1;33m\u001b[0m\u001b[0m\n",
      "\u001b[1;31mElementNotInteractableException\u001b[0m: Message: element not interactable\n  (Session info: chrome=102.0.5005.62)\nStacktrace:\nBacktrace:\n\tOrdinal0 [0x00B7B8F3+2406643]\n\tOrdinal0 [0x00B0AF31+1945393]\n\tOrdinal0 [0x009FC610+837136]\n\tOrdinal0 [0x00A249C3+1001923]\n\tOrdinal0 [0x00A240A5+999589]\n\tOrdinal0 [0x00A4427C+1131132]\n\tOrdinal0 [0x00A1FA64+981604]\n\tOrdinal0 [0x00A44494+1131668]\n\tOrdinal0 [0x00A54682+1197698]\n\tOrdinal0 [0x00A44096+1130646]\n\tOrdinal0 [0x00A1E636+976438]\n\tOrdinal0 [0x00A1F546+980294]\n\tGetHandleVerifier [0x00DE9612+2498066]\n\tGetHandleVerifier [0x00DDC920+2445600]\n\tGetHandleVerifier [0x00C14F2A+579370]\n\tGetHandleVerifier [0x00C13D36+574774]\n\tOrdinal0 [0x00B11C0B+1973259]\n\tOrdinal0 [0x00B16688+1992328]\n\tOrdinal0 [0x00B16775+1992565]\n\tOrdinal0 [0x00B1F8D1+2029777]\n\tBaseThreadInitThunk [0x7619FA29+25]\n\tRtlGetAppContainerNamedObjectPath [0x77977A7E+286]\n\tRtlGetAppContainerNamedObjectPath [0x77977A4E+238]\n"
     ]
    }
   ],
   "source": [
    "asdasdf.send_keys(Keys.END)"
   ]
  },
  {
   "cell_type": "code",
   "execution_count": 203,
   "id": "51ef782f",
   "metadata": {
    "scrolled": true
   },
   "outputs": [
    {
     "name": "stderr",
     "output_type": "stream",
     "text": [
      "C:\\Users\\82103\\AppData\\Local\\Temp/ipykernel_20284/3682334982.py:1: DeprecationWarning: find_element_by_class_name is deprecated. Please use find_element(by=By.CLASS_NAME, value=name) instead\n",
      "  akjsvebjkseagvf2 = driver.find_element_by_class_name(\"rHNip cRLbXd\")\n"
     ]
    },
    {
     "ename": "NoSuchElementException",
     "evalue": "Message: no such element: Unable to locate element: {\"method\":\"css selector\",\"selector\":\".rHNip cRLbXd\"}\n  (Session info: chrome=102.0.5005.62)\nStacktrace:\nBacktrace:\n\tOrdinal0 [0x00B7B8F3+2406643]\n\tOrdinal0 [0x00B0AF31+1945393]\n\tOrdinal0 [0x009FC748+837448]\n\tOrdinal0 [0x00A292E0+1020640]\n\tOrdinal0 [0x00A2957B+1021307]\n\tOrdinal0 [0x00A56372+1205106]\n\tOrdinal0 [0x00A442C4+1131204]\n\tOrdinal0 [0x00A54682+1197698]\n\tOrdinal0 [0x00A44096+1130646]\n\tOrdinal0 [0x00A1E636+976438]\n\tOrdinal0 [0x00A1F546+980294]\n\tGetHandleVerifier [0x00DE9612+2498066]\n\tGetHandleVerifier [0x00DDC920+2445600]\n\tGetHandleVerifier [0x00C14F2A+579370]\n\tGetHandleVerifier [0x00C13D36+574774]\n\tOrdinal0 [0x00B11C0B+1973259]\n\tOrdinal0 [0x00B16688+1992328]\n\tOrdinal0 [0x00B16775+1992565]\n\tOrdinal0 [0x00B1F8D1+2029777]\n\tBaseThreadInitThunk [0x7619FA29+25]\n\tRtlGetAppContainerNamedObjectPath [0x77977A7E+286]\n\tRtlGetAppContainerNamedObjectPath [0x77977A4E+238]\n",
     "output_type": "error",
     "traceback": [
      "\u001b[1;31m---------------------------------------------------------------------------\u001b[0m",
      "\u001b[1;31mNoSuchElementException\u001b[0m                    Traceback (most recent call last)",
      "\u001b[1;32m~\\AppData\\Local\\Temp/ipykernel_20284/3682334982.py\u001b[0m in \u001b[0;36m<module>\u001b[1;34m\u001b[0m\n\u001b[1;32m----> 1\u001b[1;33m \u001b[0makjsvebjkseagvf2\u001b[0m \u001b[1;33m=\u001b[0m \u001b[0mdriver\u001b[0m\u001b[1;33m.\u001b[0m\u001b[0mfind_element_by_class_name\u001b[0m\u001b[1;33m(\u001b[0m\u001b[1;34m\"rHNip cRLbXd\"\u001b[0m\u001b[1;33m)\u001b[0m\u001b[1;33m\u001b[0m\u001b[1;33m\u001b[0m\u001b[0m\n\u001b[0m",
      "\u001b[1;32mD:\\anaconda\\lib\\site-packages\\selenium\\webdriver\\remote\\webdriver.py\u001b[0m in \u001b[0;36mfind_element_by_class_name\u001b[1;34m(self, name)\u001b[0m\n\u001b[0;32m    759\u001b[0m             \u001b[0mstacklevel\u001b[0m\u001b[1;33m=\u001b[0m\u001b[1;36m2\u001b[0m\u001b[1;33m,\u001b[0m\u001b[1;33m\u001b[0m\u001b[1;33m\u001b[0m\u001b[0m\n\u001b[0;32m    760\u001b[0m         )\n\u001b[1;32m--> 761\u001b[1;33m         \u001b[1;32mreturn\u001b[0m \u001b[0mself\u001b[0m\u001b[1;33m.\u001b[0m\u001b[0mfind_element\u001b[0m\u001b[1;33m(\u001b[0m\u001b[0mby\u001b[0m\u001b[1;33m=\u001b[0m\u001b[0mBy\u001b[0m\u001b[1;33m.\u001b[0m\u001b[0mCLASS_NAME\u001b[0m\u001b[1;33m,\u001b[0m \u001b[0mvalue\u001b[0m\u001b[1;33m=\u001b[0m\u001b[0mname\u001b[0m\u001b[1;33m)\u001b[0m\u001b[1;33m\u001b[0m\u001b[1;33m\u001b[0m\u001b[0m\n\u001b[0m\u001b[0;32m    762\u001b[0m \u001b[1;33m\u001b[0m\u001b[0m\n\u001b[0;32m    763\u001b[0m     \u001b[1;32mdef\u001b[0m \u001b[0mfind_elements_by_class_name\u001b[0m\u001b[1;33m(\u001b[0m\u001b[0mself\u001b[0m\u001b[1;33m,\u001b[0m \u001b[0mname\u001b[0m\u001b[1;33m)\u001b[0m \u001b[1;33m->\u001b[0m \u001b[0mList\u001b[0m\u001b[1;33m[\u001b[0m\u001b[0mWebElement\u001b[0m\u001b[1;33m]\u001b[0m\u001b[1;33m:\u001b[0m\u001b[1;33m\u001b[0m\u001b[1;33m\u001b[0m\u001b[0m\n",
      "\u001b[1;32mD:\\anaconda\\lib\\site-packages\\selenium\\webdriver\\remote\\webdriver.py\u001b[0m in \u001b[0;36mfind_element\u001b[1;34m(self, by, value)\u001b[0m\n\u001b[0;32m   1246\u001b[0m             \u001b[0mvalue\u001b[0m \u001b[1;33m=\u001b[0m \u001b[1;34m'[name=\"%s\"]'\u001b[0m \u001b[1;33m%\u001b[0m \u001b[0mvalue\u001b[0m\u001b[1;33m\u001b[0m\u001b[1;33m\u001b[0m\u001b[0m\n\u001b[0;32m   1247\u001b[0m \u001b[1;33m\u001b[0m\u001b[0m\n\u001b[1;32m-> 1248\u001b[1;33m         return self.execute(Command.FIND_ELEMENT, {\n\u001b[0m\u001b[0;32m   1249\u001b[0m             \u001b[1;34m'using'\u001b[0m\u001b[1;33m:\u001b[0m \u001b[0mby\u001b[0m\u001b[1;33m,\u001b[0m\u001b[1;33m\u001b[0m\u001b[1;33m\u001b[0m\u001b[0m\n\u001b[0;32m   1250\u001b[0m             'value': value})['value']\n",
      "\u001b[1;32mD:\\anaconda\\lib\\site-packages\\selenium\\webdriver\\remote\\webdriver.py\u001b[0m in \u001b[0;36mexecute\u001b[1;34m(self, driver_command, params)\u001b[0m\n\u001b[0;32m    423\u001b[0m         \u001b[0mresponse\u001b[0m \u001b[1;33m=\u001b[0m \u001b[0mself\u001b[0m\u001b[1;33m.\u001b[0m\u001b[0mcommand_executor\u001b[0m\u001b[1;33m.\u001b[0m\u001b[0mexecute\u001b[0m\u001b[1;33m(\u001b[0m\u001b[0mdriver_command\u001b[0m\u001b[1;33m,\u001b[0m \u001b[0mparams\u001b[0m\u001b[1;33m)\u001b[0m\u001b[1;33m\u001b[0m\u001b[1;33m\u001b[0m\u001b[0m\n\u001b[0;32m    424\u001b[0m         \u001b[1;32mif\u001b[0m \u001b[0mresponse\u001b[0m\u001b[1;33m:\u001b[0m\u001b[1;33m\u001b[0m\u001b[1;33m\u001b[0m\u001b[0m\n\u001b[1;32m--> 425\u001b[1;33m             \u001b[0mself\u001b[0m\u001b[1;33m.\u001b[0m\u001b[0merror_handler\u001b[0m\u001b[1;33m.\u001b[0m\u001b[0mcheck_response\u001b[0m\u001b[1;33m(\u001b[0m\u001b[0mresponse\u001b[0m\u001b[1;33m)\u001b[0m\u001b[1;33m\u001b[0m\u001b[1;33m\u001b[0m\u001b[0m\n\u001b[0m\u001b[0;32m    426\u001b[0m             response['value'] = self._unwrap_value(\n\u001b[0;32m    427\u001b[0m                 response.get('value', None))\n",
      "\u001b[1;32mD:\\anaconda\\lib\\site-packages\\selenium\\webdriver\\remote\\errorhandler.py\u001b[0m in \u001b[0;36mcheck_response\u001b[1;34m(self, response)\u001b[0m\n\u001b[0;32m    245\u001b[0m                 \u001b[0malert_text\u001b[0m \u001b[1;33m=\u001b[0m \u001b[0mvalue\u001b[0m\u001b[1;33m[\u001b[0m\u001b[1;34m'alert'\u001b[0m\u001b[1;33m]\u001b[0m\u001b[1;33m.\u001b[0m\u001b[0mget\u001b[0m\u001b[1;33m(\u001b[0m\u001b[1;34m'text'\u001b[0m\u001b[1;33m)\u001b[0m\u001b[1;33m\u001b[0m\u001b[1;33m\u001b[0m\u001b[0m\n\u001b[0;32m    246\u001b[0m             \u001b[1;32mraise\u001b[0m \u001b[0mexception_class\u001b[0m\u001b[1;33m(\u001b[0m\u001b[0mmessage\u001b[0m\u001b[1;33m,\u001b[0m \u001b[0mscreen\u001b[0m\u001b[1;33m,\u001b[0m \u001b[0mstacktrace\u001b[0m\u001b[1;33m,\u001b[0m \u001b[0malert_text\u001b[0m\u001b[1;33m)\u001b[0m  \u001b[1;31m# type: ignore[call-arg]  # mypy is not smart enough here\u001b[0m\u001b[1;33m\u001b[0m\u001b[1;33m\u001b[0m\u001b[0m\n\u001b[1;32m--> 247\u001b[1;33m         \u001b[1;32mraise\u001b[0m \u001b[0mexception_class\u001b[0m\u001b[1;33m(\u001b[0m\u001b[0mmessage\u001b[0m\u001b[1;33m,\u001b[0m \u001b[0mscreen\u001b[0m\u001b[1;33m,\u001b[0m \u001b[0mstacktrace\u001b[0m\u001b[1;33m)\u001b[0m\u001b[1;33m\u001b[0m\u001b[1;33m\u001b[0m\u001b[0m\n\u001b[0m\u001b[0;32m    248\u001b[0m \u001b[1;33m\u001b[0m\u001b[0m\n\u001b[0;32m    249\u001b[0m     \u001b[1;32mdef\u001b[0m \u001b[0m_value_or_default\u001b[0m\u001b[1;33m(\u001b[0m\u001b[0mself\u001b[0m\u001b[1;33m,\u001b[0m \u001b[0mobj\u001b[0m\u001b[1;33m:\u001b[0m \u001b[0mMapping\u001b[0m\u001b[1;33m[\u001b[0m\u001b[0m_KT\u001b[0m\u001b[1;33m,\u001b[0m \u001b[0m_VT\u001b[0m\u001b[1;33m]\u001b[0m\u001b[1;33m,\u001b[0m \u001b[0mkey\u001b[0m\u001b[1;33m:\u001b[0m \u001b[0m_KT\u001b[0m\u001b[1;33m,\u001b[0m \u001b[0mdefault\u001b[0m\u001b[1;33m:\u001b[0m \u001b[0m_VT\u001b[0m\u001b[1;33m)\u001b[0m \u001b[1;33m->\u001b[0m \u001b[0m_VT\u001b[0m\u001b[1;33m:\u001b[0m\u001b[1;33m\u001b[0m\u001b[1;33m\u001b[0m\u001b[0m\n",
      "\u001b[1;31mNoSuchElementException\u001b[0m: Message: no such element: Unable to locate element: {\"method\":\"css selector\",\"selector\":\".rHNip cRLbXd\"}\n  (Session info: chrome=102.0.5005.62)\nStacktrace:\nBacktrace:\n\tOrdinal0 [0x00B7B8F3+2406643]\n\tOrdinal0 [0x00B0AF31+1945393]\n\tOrdinal0 [0x009FC748+837448]\n\tOrdinal0 [0x00A292E0+1020640]\n\tOrdinal0 [0x00A2957B+1021307]\n\tOrdinal0 [0x00A56372+1205106]\n\tOrdinal0 [0x00A442C4+1131204]\n\tOrdinal0 [0x00A54682+1197698]\n\tOrdinal0 [0x00A44096+1130646]\n\tOrdinal0 [0x00A1E636+976438]\n\tOrdinal0 [0x00A1F546+980294]\n\tGetHandleVerifier [0x00DE9612+2498066]\n\tGetHandleVerifier [0x00DDC920+2445600]\n\tGetHandleVerifier [0x00C14F2A+579370]\n\tGetHandleVerifier [0x00C13D36+574774]\n\tOrdinal0 [0x00B11C0B+1973259]\n\tOrdinal0 [0x00B16688+1992328]\n\tOrdinal0 [0x00B16775+1992565]\n\tOrdinal0 [0x00B1F8D1+2029777]\n\tBaseThreadInitThunk [0x7619FA29+25]\n\tRtlGetAppContainerNamedObjectPath [0x77977A7E+286]\n\tRtlGetAppContainerNamedObjectPath [0x77977A4E+238]\n"
     ]
    }
   ],
   "source": [
    "akjsvebjkseagvf2 = driver.find_element_by_class_name(\"rHNip cRLbXd\")\n"
   ]
  },
  {
   "cell_type": "code",
   "execution_count": 217,
   "id": "b2db9889",
   "metadata": {},
   "outputs": [],
   "source": []
  },
  {
   "cell_type": "code",
   "execution_count": 208,
   "id": "f799024e",
   "metadata": {
    "scrolled": true
   },
   "outputs": [
    {
     "name": "stderr",
     "output_type": "stream",
     "text": [
      "C:\\Users\\82103\\AppData\\Local\\Temp/ipykernel_20284/3934446620.py:1: DeprecationWarning: find_element_by_css_selector is deprecated. Please use find_element(by=By.CSS_SELECTOR, value=css_selector) instead\n",
      "  akjsvebjkseagvf2 = driver.find_element_by_css_selector(\"div.drGLxe\")\n"
     ]
    }
   ],
   "source": [
    "akjsvebjkseagvf2 = driver.find_element_by_css_selector(\"div.drGLxe\")"
   ]
  },
  {
   "cell_type": "code",
   "execution_count": 212,
   "id": "7e4b2585",
   "metadata": {
    "scrolled": true
   },
   "outputs": [
    {
     "ename": "ElementNotInteractableException",
     "evalue": "Message: element not interactable\n  (Session info: chrome=102.0.5005.62)\nStacktrace:\nBacktrace:\n\tOrdinal0 [0x00B7B8F3+2406643]\n\tOrdinal0 [0x00B0AF31+1945393]\n\tOrdinal0 [0x009FC610+837136]\n\tOrdinal0 [0x00A249C3+1001923]\n\tOrdinal0 [0x00A240A5+999589]\n\tOrdinal0 [0x00A4427C+1131132]\n\tOrdinal0 [0x00A1FA64+981604]\n\tOrdinal0 [0x00A44494+1131668]\n\tOrdinal0 [0x00A54682+1197698]\n\tOrdinal0 [0x00A44096+1130646]\n\tOrdinal0 [0x00A1E636+976438]\n\tOrdinal0 [0x00A1F546+980294]\n\tGetHandleVerifier [0x00DE9612+2498066]\n\tGetHandleVerifier [0x00DDC920+2445600]\n\tGetHandleVerifier [0x00C14F2A+579370]\n\tGetHandleVerifier [0x00C13D36+574774]\n\tOrdinal0 [0x00B11C0B+1973259]\n\tOrdinal0 [0x00B16688+1992328]\n\tOrdinal0 [0x00B16775+1992565]\n\tOrdinal0 [0x00B1F8D1+2029777]\n\tBaseThreadInitThunk [0x7619FA29+25]\n\tRtlGetAppContainerNamedObjectPath [0x77977A7E+286]\n\tRtlGetAppContainerNamedObjectPath [0x77977A4E+238]\n",
     "output_type": "error",
     "traceback": [
      "\u001b[1;31m---------------------------------------------------------------------------\u001b[0m",
      "\u001b[1;31mElementNotInteractableException\u001b[0m           Traceback (most recent call last)",
      "\u001b[1;32m~\\AppData\\Local\\Temp/ipykernel_20284/3561868365.py\u001b[0m in \u001b[0;36m<module>\u001b[1;34m\u001b[0m\n\u001b[1;32m----> 1\u001b[1;33m \u001b[0makjsvebjkseagvf2\u001b[0m\u001b[1;33m.\u001b[0m\u001b[0msend_keys\u001b[0m\u001b[1;33m(\u001b[0m\u001b[0mKeys\u001b[0m\u001b[1;33m.\u001b[0m\u001b[0mENTER\u001b[0m\u001b[1;33m)\u001b[0m\u001b[1;33m\u001b[0m\u001b[1;33m\u001b[0m\u001b[0m\n\u001b[0m",
      "\u001b[1;32mD:\\anaconda\\lib\\site-packages\\selenium\\webdriver\\remote\\webelement.py\u001b[0m in \u001b[0;36msend_keys\u001b[1;34m(self, *value)\u001b[0m\n\u001b[0;32m    538\u001b[0m                 \u001b[0mvalue\u001b[0m \u001b[1;33m=\u001b[0m \u001b[1;34m'\\n'\u001b[0m\u001b[1;33m.\u001b[0m\u001b[0mjoin\u001b[0m\u001b[1;33m(\u001b[0m\u001b[0mremote_files\u001b[0m\u001b[1;33m)\u001b[0m\u001b[1;33m\u001b[0m\u001b[1;33m\u001b[0m\u001b[0m\n\u001b[0;32m    539\u001b[0m \u001b[1;33m\u001b[0m\u001b[0m\n\u001b[1;32m--> 540\u001b[1;33m         self._execute(Command.SEND_KEYS_TO_ELEMENT,\n\u001b[0m\u001b[0;32m    541\u001b[0m                       {'text': \"\".join(keys_to_typing(value)),\n\u001b[0;32m    542\u001b[0m                        'value': keys_to_typing(value)})\n",
      "\u001b[1;32mD:\\anaconda\\lib\\site-packages\\selenium\\webdriver\\remote\\webelement.py\u001b[0m in \u001b[0;36m_execute\u001b[1;34m(self, command, params)\u001b[0m\n\u001b[0;32m    708\u001b[0m             \u001b[0mparams\u001b[0m \u001b[1;33m=\u001b[0m \u001b[1;33m{\u001b[0m\u001b[1;33m}\u001b[0m\u001b[1;33m\u001b[0m\u001b[1;33m\u001b[0m\u001b[0m\n\u001b[0;32m    709\u001b[0m         \u001b[0mparams\u001b[0m\u001b[1;33m[\u001b[0m\u001b[1;34m'id'\u001b[0m\u001b[1;33m]\u001b[0m \u001b[1;33m=\u001b[0m \u001b[0mself\u001b[0m\u001b[1;33m.\u001b[0m\u001b[0m_id\u001b[0m\u001b[1;33m\u001b[0m\u001b[1;33m\u001b[0m\u001b[0m\n\u001b[1;32m--> 710\u001b[1;33m         \u001b[1;32mreturn\u001b[0m \u001b[0mself\u001b[0m\u001b[1;33m.\u001b[0m\u001b[0m_parent\u001b[0m\u001b[1;33m.\u001b[0m\u001b[0mexecute\u001b[0m\u001b[1;33m(\u001b[0m\u001b[0mcommand\u001b[0m\u001b[1;33m,\u001b[0m \u001b[0mparams\u001b[0m\u001b[1;33m)\u001b[0m\u001b[1;33m\u001b[0m\u001b[1;33m\u001b[0m\u001b[0m\n\u001b[0m\u001b[0;32m    711\u001b[0m \u001b[1;33m\u001b[0m\u001b[0m\n\u001b[0;32m    712\u001b[0m     \u001b[1;32mdef\u001b[0m \u001b[0mfind_element\u001b[0m\u001b[1;33m(\u001b[0m\u001b[0mself\u001b[0m\u001b[1;33m,\u001b[0m \u001b[0mby\u001b[0m\u001b[1;33m=\u001b[0m\u001b[0mBy\u001b[0m\u001b[1;33m.\u001b[0m\u001b[0mID\u001b[0m\u001b[1;33m,\u001b[0m \u001b[0mvalue\u001b[0m\u001b[1;33m=\u001b[0m\u001b[1;32mNone\u001b[0m\u001b[1;33m)\u001b[0m\u001b[1;33m:\u001b[0m\u001b[1;33m\u001b[0m\u001b[1;33m\u001b[0m\u001b[0m\n",
      "\u001b[1;32mD:\\anaconda\\lib\\site-packages\\selenium\\webdriver\\remote\\webdriver.py\u001b[0m in \u001b[0;36mexecute\u001b[1;34m(self, driver_command, params)\u001b[0m\n\u001b[0;32m    423\u001b[0m         \u001b[0mresponse\u001b[0m \u001b[1;33m=\u001b[0m \u001b[0mself\u001b[0m\u001b[1;33m.\u001b[0m\u001b[0mcommand_executor\u001b[0m\u001b[1;33m.\u001b[0m\u001b[0mexecute\u001b[0m\u001b[1;33m(\u001b[0m\u001b[0mdriver_command\u001b[0m\u001b[1;33m,\u001b[0m \u001b[0mparams\u001b[0m\u001b[1;33m)\u001b[0m\u001b[1;33m\u001b[0m\u001b[1;33m\u001b[0m\u001b[0m\n\u001b[0;32m    424\u001b[0m         \u001b[1;32mif\u001b[0m \u001b[0mresponse\u001b[0m\u001b[1;33m:\u001b[0m\u001b[1;33m\u001b[0m\u001b[1;33m\u001b[0m\u001b[0m\n\u001b[1;32m--> 425\u001b[1;33m             \u001b[0mself\u001b[0m\u001b[1;33m.\u001b[0m\u001b[0merror_handler\u001b[0m\u001b[1;33m.\u001b[0m\u001b[0mcheck_response\u001b[0m\u001b[1;33m(\u001b[0m\u001b[0mresponse\u001b[0m\u001b[1;33m)\u001b[0m\u001b[1;33m\u001b[0m\u001b[1;33m\u001b[0m\u001b[0m\n\u001b[0m\u001b[0;32m    426\u001b[0m             response['value'] = self._unwrap_value(\n\u001b[0;32m    427\u001b[0m                 response.get('value', None))\n",
      "\u001b[1;32mD:\\anaconda\\lib\\site-packages\\selenium\\webdriver\\remote\\errorhandler.py\u001b[0m in \u001b[0;36mcheck_response\u001b[1;34m(self, response)\u001b[0m\n\u001b[0;32m    245\u001b[0m                 \u001b[0malert_text\u001b[0m \u001b[1;33m=\u001b[0m \u001b[0mvalue\u001b[0m\u001b[1;33m[\u001b[0m\u001b[1;34m'alert'\u001b[0m\u001b[1;33m]\u001b[0m\u001b[1;33m.\u001b[0m\u001b[0mget\u001b[0m\u001b[1;33m(\u001b[0m\u001b[1;34m'text'\u001b[0m\u001b[1;33m)\u001b[0m\u001b[1;33m\u001b[0m\u001b[1;33m\u001b[0m\u001b[0m\n\u001b[0;32m    246\u001b[0m             \u001b[1;32mraise\u001b[0m \u001b[0mexception_class\u001b[0m\u001b[1;33m(\u001b[0m\u001b[0mmessage\u001b[0m\u001b[1;33m,\u001b[0m \u001b[0mscreen\u001b[0m\u001b[1;33m,\u001b[0m \u001b[0mstacktrace\u001b[0m\u001b[1;33m,\u001b[0m \u001b[0malert_text\u001b[0m\u001b[1;33m)\u001b[0m  \u001b[1;31m# type: ignore[call-arg]  # mypy is not smart enough here\u001b[0m\u001b[1;33m\u001b[0m\u001b[1;33m\u001b[0m\u001b[0m\n\u001b[1;32m--> 247\u001b[1;33m         \u001b[1;32mraise\u001b[0m \u001b[0mexception_class\u001b[0m\u001b[1;33m(\u001b[0m\u001b[0mmessage\u001b[0m\u001b[1;33m,\u001b[0m \u001b[0mscreen\u001b[0m\u001b[1;33m,\u001b[0m \u001b[0mstacktrace\u001b[0m\u001b[1;33m)\u001b[0m\u001b[1;33m\u001b[0m\u001b[1;33m\u001b[0m\u001b[0m\n\u001b[0m\u001b[0;32m    248\u001b[0m \u001b[1;33m\u001b[0m\u001b[0m\n\u001b[0;32m    249\u001b[0m     \u001b[1;32mdef\u001b[0m \u001b[0m_value_or_default\u001b[0m\u001b[1;33m(\u001b[0m\u001b[0mself\u001b[0m\u001b[1;33m,\u001b[0m \u001b[0mobj\u001b[0m\u001b[1;33m:\u001b[0m \u001b[0mMapping\u001b[0m\u001b[1;33m[\u001b[0m\u001b[0m_KT\u001b[0m\u001b[1;33m,\u001b[0m \u001b[0m_VT\u001b[0m\u001b[1;33m]\u001b[0m\u001b[1;33m,\u001b[0m \u001b[0mkey\u001b[0m\u001b[1;33m:\u001b[0m \u001b[0m_KT\u001b[0m\u001b[1;33m,\u001b[0m \u001b[0mdefault\u001b[0m\u001b[1;33m:\u001b[0m \u001b[0m_VT\u001b[0m\u001b[1;33m)\u001b[0m \u001b[1;33m->\u001b[0m \u001b[0m_VT\u001b[0m\u001b[1;33m:\u001b[0m\u001b[1;33m\u001b[0m\u001b[1;33m\u001b[0m\u001b[0m\n",
      "\u001b[1;31mElementNotInteractableException\u001b[0m: Message: element not interactable\n  (Session info: chrome=102.0.5005.62)\nStacktrace:\nBacktrace:\n\tOrdinal0 [0x00B7B8F3+2406643]\n\tOrdinal0 [0x00B0AF31+1945393]\n\tOrdinal0 [0x009FC610+837136]\n\tOrdinal0 [0x00A249C3+1001923]\n\tOrdinal0 [0x00A240A5+999589]\n\tOrdinal0 [0x00A4427C+1131132]\n\tOrdinal0 [0x00A1FA64+981604]\n\tOrdinal0 [0x00A44494+1131668]\n\tOrdinal0 [0x00A54682+1197698]\n\tOrdinal0 [0x00A44096+1130646]\n\tOrdinal0 [0x00A1E636+976438]\n\tOrdinal0 [0x00A1F546+980294]\n\tGetHandleVerifier [0x00DE9612+2498066]\n\tGetHandleVerifier [0x00DDC920+2445600]\n\tGetHandleVerifier [0x00C14F2A+579370]\n\tGetHandleVerifier [0x00C13D36+574774]\n\tOrdinal0 [0x00B11C0B+1973259]\n\tOrdinal0 [0x00B16688+1992328]\n\tOrdinal0 [0x00B16775+1992565]\n\tOrdinal0 [0x00B1F8D1+2029777]\n\tBaseThreadInitThunk [0x7619FA29+25]\n\tRtlGetAppContainerNamedObjectPath [0x77977A7E+286]\n\tRtlGetAppContainerNamedObjectPath [0x77977A4E+238]\n"
     ]
    }
   ],
   "source": [
    "akjsvebjkseagvf2.send_keys(Keys.ENTER)"
   ]
  },
  {
   "cell_type": "code",
   "execution_count": 205,
   "id": "1494e94b",
   "metadata": {},
   "outputs": [
    {
     "ename": "NoSuchElementException",
     "evalue": "Message: no such element: Unable to locate element: {\"method\":\"css selector\",\"selector\":\".tXNTee LCTIRd L6Bbsd VbYL9\"}\n  (Session info: chrome=102.0.5005.62)\nStacktrace:\nBacktrace:\n\tOrdinal0 [0x00B7B8F3+2406643]\n\tOrdinal0 [0x00B0AF31+1945393]\n\tOrdinal0 [0x009FC748+837448]\n\tOrdinal0 [0x00A292E0+1020640]\n\tOrdinal0 [0x00A2957B+1021307]\n\tOrdinal0 [0x00A56372+1205106]\n\tOrdinal0 [0x00A442C4+1131204]\n\tOrdinal0 [0x00A54682+1197698]\n\tOrdinal0 [0x00A44096+1130646]\n\tOrdinal0 [0x00A1E636+976438]\n\tOrdinal0 [0x00A1F546+980294]\n\tGetHandleVerifier [0x00DE9612+2498066]\n\tGetHandleVerifier [0x00DDC920+2445600]\n\tGetHandleVerifier [0x00C14F2A+579370]\n\tGetHandleVerifier [0x00C13D36+574774]\n\tOrdinal0 [0x00B11C0B+1973259]\n\tOrdinal0 [0x00B16688+1992328]\n\tOrdinal0 [0x00B16775+1992565]\n\tOrdinal0 [0x00B1F8D1+2029777]\n\tBaseThreadInitThunk [0x7619FA29+25]\n\tRtlGetAppContainerNamedObjectPath [0x77977A7E+286]\n\tRtlGetAppContainerNamedObjectPath [0x77977A4E+238]\n",
     "output_type": "error",
     "traceback": [
      "\u001b[1;31m---------------------------------------------------------------------------\u001b[0m",
      "\u001b[1;31mNoSuchElementException\u001b[0m                    Traceback (most recent call last)",
      "\u001b[1;32m~\\AppData\\Local\\Temp/ipykernel_20284/1535920819.py\u001b[0m in \u001b[0;36m<module>\u001b[1;34m\u001b[0m\n\u001b[1;32m----> 1\u001b[1;33m \u001b[0makjsvebjkseagvf\u001b[0m \u001b[1;33m=\u001b[0m \u001b[0mdriver\u001b[0m\u001b[1;33m.\u001b[0m\u001b[0mfind_element\u001b[0m\u001b[1;33m(\u001b[0m\u001b[0mBy\u001b[0m\u001b[1;33m.\u001b[0m\u001b[0mCLASS_NAME\u001b[0m\u001b[1;33m,\u001b[0m \u001b[1;34m\"tXNTee LCTIRd L6Bbsd VbYL9\"\u001b[0m\u001b[1;33m)\u001b[0m\u001b[1;33m\u001b[0m\u001b[1;33m\u001b[0m\u001b[0m\n\u001b[0m",
      "\u001b[1;32mD:\\anaconda\\lib\\site-packages\\selenium\\webdriver\\remote\\webdriver.py\u001b[0m in \u001b[0;36mfind_element\u001b[1;34m(self, by, value)\u001b[0m\n\u001b[0;32m   1246\u001b[0m             \u001b[0mvalue\u001b[0m \u001b[1;33m=\u001b[0m \u001b[1;34m'[name=\"%s\"]'\u001b[0m \u001b[1;33m%\u001b[0m \u001b[0mvalue\u001b[0m\u001b[1;33m\u001b[0m\u001b[1;33m\u001b[0m\u001b[0m\n\u001b[0;32m   1247\u001b[0m \u001b[1;33m\u001b[0m\u001b[0m\n\u001b[1;32m-> 1248\u001b[1;33m         return self.execute(Command.FIND_ELEMENT, {\n\u001b[0m\u001b[0;32m   1249\u001b[0m             \u001b[1;34m'using'\u001b[0m\u001b[1;33m:\u001b[0m \u001b[0mby\u001b[0m\u001b[1;33m,\u001b[0m\u001b[1;33m\u001b[0m\u001b[1;33m\u001b[0m\u001b[0m\n\u001b[0;32m   1250\u001b[0m             'value': value})['value']\n",
      "\u001b[1;32mD:\\anaconda\\lib\\site-packages\\selenium\\webdriver\\remote\\webdriver.py\u001b[0m in \u001b[0;36mexecute\u001b[1;34m(self, driver_command, params)\u001b[0m\n\u001b[0;32m    423\u001b[0m         \u001b[0mresponse\u001b[0m \u001b[1;33m=\u001b[0m \u001b[0mself\u001b[0m\u001b[1;33m.\u001b[0m\u001b[0mcommand_executor\u001b[0m\u001b[1;33m.\u001b[0m\u001b[0mexecute\u001b[0m\u001b[1;33m(\u001b[0m\u001b[0mdriver_command\u001b[0m\u001b[1;33m,\u001b[0m \u001b[0mparams\u001b[0m\u001b[1;33m)\u001b[0m\u001b[1;33m\u001b[0m\u001b[1;33m\u001b[0m\u001b[0m\n\u001b[0;32m    424\u001b[0m         \u001b[1;32mif\u001b[0m \u001b[0mresponse\u001b[0m\u001b[1;33m:\u001b[0m\u001b[1;33m\u001b[0m\u001b[1;33m\u001b[0m\u001b[0m\n\u001b[1;32m--> 425\u001b[1;33m             \u001b[0mself\u001b[0m\u001b[1;33m.\u001b[0m\u001b[0merror_handler\u001b[0m\u001b[1;33m.\u001b[0m\u001b[0mcheck_response\u001b[0m\u001b[1;33m(\u001b[0m\u001b[0mresponse\u001b[0m\u001b[1;33m)\u001b[0m\u001b[1;33m\u001b[0m\u001b[1;33m\u001b[0m\u001b[0m\n\u001b[0m\u001b[0;32m    426\u001b[0m             response['value'] = self._unwrap_value(\n\u001b[0;32m    427\u001b[0m                 response.get('value', None))\n",
      "\u001b[1;32mD:\\anaconda\\lib\\site-packages\\selenium\\webdriver\\remote\\errorhandler.py\u001b[0m in \u001b[0;36mcheck_response\u001b[1;34m(self, response)\u001b[0m\n\u001b[0;32m    245\u001b[0m                 \u001b[0malert_text\u001b[0m \u001b[1;33m=\u001b[0m \u001b[0mvalue\u001b[0m\u001b[1;33m[\u001b[0m\u001b[1;34m'alert'\u001b[0m\u001b[1;33m]\u001b[0m\u001b[1;33m.\u001b[0m\u001b[0mget\u001b[0m\u001b[1;33m(\u001b[0m\u001b[1;34m'text'\u001b[0m\u001b[1;33m)\u001b[0m\u001b[1;33m\u001b[0m\u001b[1;33m\u001b[0m\u001b[0m\n\u001b[0;32m    246\u001b[0m             \u001b[1;32mraise\u001b[0m \u001b[0mexception_class\u001b[0m\u001b[1;33m(\u001b[0m\u001b[0mmessage\u001b[0m\u001b[1;33m,\u001b[0m \u001b[0mscreen\u001b[0m\u001b[1;33m,\u001b[0m \u001b[0mstacktrace\u001b[0m\u001b[1;33m,\u001b[0m \u001b[0malert_text\u001b[0m\u001b[1;33m)\u001b[0m  \u001b[1;31m# type: ignore[call-arg]  # mypy is not smart enough here\u001b[0m\u001b[1;33m\u001b[0m\u001b[1;33m\u001b[0m\u001b[0m\n\u001b[1;32m--> 247\u001b[1;33m         \u001b[1;32mraise\u001b[0m \u001b[0mexception_class\u001b[0m\u001b[1;33m(\u001b[0m\u001b[0mmessage\u001b[0m\u001b[1;33m,\u001b[0m \u001b[0mscreen\u001b[0m\u001b[1;33m,\u001b[0m \u001b[0mstacktrace\u001b[0m\u001b[1;33m)\u001b[0m\u001b[1;33m\u001b[0m\u001b[1;33m\u001b[0m\u001b[0m\n\u001b[0m\u001b[0;32m    248\u001b[0m \u001b[1;33m\u001b[0m\u001b[0m\n\u001b[0;32m    249\u001b[0m     \u001b[1;32mdef\u001b[0m \u001b[0m_value_or_default\u001b[0m\u001b[1;33m(\u001b[0m\u001b[0mself\u001b[0m\u001b[1;33m,\u001b[0m \u001b[0mobj\u001b[0m\u001b[1;33m:\u001b[0m \u001b[0mMapping\u001b[0m\u001b[1;33m[\u001b[0m\u001b[0m_KT\u001b[0m\u001b[1;33m,\u001b[0m \u001b[0m_VT\u001b[0m\u001b[1;33m]\u001b[0m\u001b[1;33m,\u001b[0m \u001b[0mkey\u001b[0m\u001b[1;33m:\u001b[0m \u001b[0m_KT\u001b[0m\u001b[1;33m,\u001b[0m \u001b[0mdefault\u001b[0m\u001b[1;33m:\u001b[0m \u001b[0m_VT\u001b[0m\u001b[1;33m)\u001b[0m \u001b[1;33m->\u001b[0m \u001b[0m_VT\u001b[0m\u001b[1;33m:\u001b[0m\u001b[1;33m\u001b[0m\u001b[1;33m\u001b[0m\u001b[0m\n",
      "\u001b[1;31mNoSuchElementException\u001b[0m: Message: no such element: Unable to locate element: {\"method\":\"css selector\",\"selector\":\".tXNTee LCTIRd L6Bbsd VbYL9\"}\n  (Session info: chrome=102.0.5005.62)\nStacktrace:\nBacktrace:\n\tOrdinal0 [0x00B7B8F3+2406643]\n\tOrdinal0 [0x00B0AF31+1945393]\n\tOrdinal0 [0x009FC748+837448]\n\tOrdinal0 [0x00A292E0+1020640]\n\tOrdinal0 [0x00A2957B+1021307]\n\tOrdinal0 [0x00A56372+1205106]\n\tOrdinal0 [0x00A442C4+1131204]\n\tOrdinal0 [0x00A54682+1197698]\n\tOrdinal0 [0x00A44096+1130646]\n\tOrdinal0 [0x00A1E636+976438]\n\tOrdinal0 [0x00A1F546+980294]\n\tGetHandleVerifier [0x00DE9612+2498066]\n\tGetHandleVerifier [0x00DDC920+2445600]\n\tGetHandleVerifier [0x00C14F2A+579370]\n\tGetHandleVerifier [0x00C13D36+574774]\n\tOrdinal0 [0x00B11C0B+1973259]\n\tOrdinal0 [0x00B16688+1992328]\n\tOrdinal0 [0x00B16775+1992565]\n\tOrdinal0 [0x00B1F8D1+2029777]\n\tBaseThreadInitThunk [0x7619FA29+25]\n\tRtlGetAppContainerNamedObjectPath [0x77977A7E+286]\n\tRtlGetAppContainerNamedObjectPath [0x77977A4E+238]\n"
     ]
    }
   ],
   "source": [
    "akjsvebjkseagvf = driver.find_element(By.CLASS_NAME, \"tXNTee LCTIRd L6Bbsd VbYL9\")"
   ]
  },
  {
   "cell_type": "code",
   "execution_count": 195,
   "id": "9a19025f",
   "metadata": {},
   "outputs": [
    {
     "name": "stderr",
     "output_type": "stream",
     "text": [
      "C:\\Users\\82103\\AppData\\Local\\Temp/ipykernel_20284/2244094299.py:1: DeprecationWarning: find_element_by_css_selector is deprecated. Please use find_element(by=By.CSS_SELECTOR, value=css_selector) instead\n",
      "  jksdfkhsbdf = driver.find_element_by_css_selector(\"div.drGLxe\")\n"
     ]
    }
   ],
   "source": [
    "jksdfkhsbdf = driver.find_element_by_css_selector(\"div.drGLxe\")"
   ]
  },
  {
   "cell_type": "code",
   "execution_count": 196,
   "id": "32d4a267",
   "metadata": {},
   "outputs": [
    {
     "ename": "ElementNotInteractableException",
     "evalue": "Message: element not interactable\n  (Session info: chrome=102.0.5005.62)\nStacktrace:\nBacktrace:\n\tOrdinal0 [0x00B7B8F3+2406643]\n\tOrdinal0 [0x00B0AF31+1945393]\n\tOrdinal0 [0x009FC610+837136]\n\tOrdinal0 [0x00A2A2D3+1024723]\n\tOrdinal0 [0x00A20083+983171]\n\tOrdinal0 [0x00A4427C+1131132]\n\tOrdinal0 [0x00A1FA64+981604]\n\tOrdinal0 [0x00A44494+1131668]\n\tOrdinal0 [0x00A54682+1197698]\n\tOrdinal0 [0x00A44096+1130646]\n\tOrdinal0 [0x00A1E636+976438]\n\tOrdinal0 [0x00A1F546+980294]\n\tGetHandleVerifier [0x00DE9612+2498066]\n\tGetHandleVerifier [0x00DDC920+2445600]\n\tGetHandleVerifier [0x00C14F2A+579370]\n\tGetHandleVerifier [0x00C13D36+574774]\n\tOrdinal0 [0x00B11C0B+1973259]\n\tOrdinal0 [0x00B16688+1992328]\n\tOrdinal0 [0x00B16775+1992565]\n\tOrdinal0 [0x00B1F8D1+2029777]\n\tBaseThreadInitThunk [0x7619FA29+25]\n\tRtlGetAppContainerNamedObjectPath [0x77977A7E+286]\n\tRtlGetAppContainerNamedObjectPath [0x77977A4E+238]\n",
     "output_type": "error",
     "traceback": [
      "\u001b[1;31m---------------------------------------------------------------------------\u001b[0m",
      "\u001b[1;31mElementNotInteractableException\u001b[0m           Traceback (most recent call last)",
      "\u001b[1;32m~\\AppData\\Local\\Temp/ipykernel_20284/319555219.py\u001b[0m in \u001b[0;36m<module>\u001b[1;34m\u001b[0m\n\u001b[1;32m----> 1\u001b[1;33m \u001b[0mjksdfkhsbdf\u001b[0m\u001b[1;33m.\u001b[0m\u001b[0mclick\u001b[0m\u001b[1;33m(\u001b[0m\u001b[1;33m)\u001b[0m\u001b[1;33m\u001b[0m\u001b[1;33m\u001b[0m\u001b[0m\n\u001b[0m",
      "\u001b[1;32mD:\\anaconda\\lib\\site-packages\\selenium\\webdriver\\remote\\webelement.py\u001b[0m in \u001b[0;36mclick\u001b[1;34m(self)\u001b[0m\n\u001b[0;32m     79\u001b[0m     \u001b[1;32mdef\u001b[0m \u001b[0mclick\u001b[0m\u001b[1;33m(\u001b[0m\u001b[0mself\u001b[0m\u001b[1;33m)\u001b[0m \u001b[1;33m->\u001b[0m \u001b[1;32mNone\u001b[0m\u001b[1;33m:\u001b[0m\u001b[1;33m\u001b[0m\u001b[1;33m\u001b[0m\u001b[0m\n\u001b[0;32m     80\u001b[0m         \u001b[1;34m\"\"\"Clicks the element.\"\"\"\u001b[0m\u001b[1;33m\u001b[0m\u001b[1;33m\u001b[0m\u001b[0m\n\u001b[1;32m---> 81\u001b[1;33m         \u001b[0mself\u001b[0m\u001b[1;33m.\u001b[0m\u001b[0m_execute\u001b[0m\u001b[1;33m(\u001b[0m\u001b[0mCommand\u001b[0m\u001b[1;33m.\u001b[0m\u001b[0mCLICK_ELEMENT\u001b[0m\u001b[1;33m)\u001b[0m\u001b[1;33m\u001b[0m\u001b[1;33m\u001b[0m\u001b[0m\n\u001b[0m\u001b[0;32m     82\u001b[0m \u001b[1;33m\u001b[0m\u001b[0m\n\u001b[0;32m     83\u001b[0m     \u001b[1;32mdef\u001b[0m \u001b[0msubmit\u001b[0m\u001b[1;33m(\u001b[0m\u001b[0mself\u001b[0m\u001b[1;33m)\u001b[0m\u001b[1;33m:\u001b[0m\u001b[1;33m\u001b[0m\u001b[1;33m\u001b[0m\u001b[0m\n",
      "\u001b[1;32mD:\\anaconda\\lib\\site-packages\\selenium\\webdriver\\remote\\webelement.py\u001b[0m in \u001b[0;36m_execute\u001b[1;34m(self, command, params)\u001b[0m\n\u001b[0;32m    708\u001b[0m             \u001b[0mparams\u001b[0m \u001b[1;33m=\u001b[0m \u001b[1;33m{\u001b[0m\u001b[1;33m}\u001b[0m\u001b[1;33m\u001b[0m\u001b[1;33m\u001b[0m\u001b[0m\n\u001b[0;32m    709\u001b[0m         \u001b[0mparams\u001b[0m\u001b[1;33m[\u001b[0m\u001b[1;34m'id'\u001b[0m\u001b[1;33m]\u001b[0m \u001b[1;33m=\u001b[0m \u001b[0mself\u001b[0m\u001b[1;33m.\u001b[0m\u001b[0m_id\u001b[0m\u001b[1;33m\u001b[0m\u001b[1;33m\u001b[0m\u001b[0m\n\u001b[1;32m--> 710\u001b[1;33m         \u001b[1;32mreturn\u001b[0m \u001b[0mself\u001b[0m\u001b[1;33m.\u001b[0m\u001b[0m_parent\u001b[0m\u001b[1;33m.\u001b[0m\u001b[0mexecute\u001b[0m\u001b[1;33m(\u001b[0m\u001b[0mcommand\u001b[0m\u001b[1;33m,\u001b[0m \u001b[0mparams\u001b[0m\u001b[1;33m)\u001b[0m\u001b[1;33m\u001b[0m\u001b[1;33m\u001b[0m\u001b[0m\n\u001b[0m\u001b[0;32m    711\u001b[0m \u001b[1;33m\u001b[0m\u001b[0m\n\u001b[0;32m    712\u001b[0m     \u001b[1;32mdef\u001b[0m \u001b[0mfind_element\u001b[0m\u001b[1;33m(\u001b[0m\u001b[0mself\u001b[0m\u001b[1;33m,\u001b[0m \u001b[0mby\u001b[0m\u001b[1;33m=\u001b[0m\u001b[0mBy\u001b[0m\u001b[1;33m.\u001b[0m\u001b[0mID\u001b[0m\u001b[1;33m,\u001b[0m \u001b[0mvalue\u001b[0m\u001b[1;33m=\u001b[0m\u001b[1;32mNone\u001b[0m\u001b[1;33m)\u001b[0m\u001b[1;33m:\u001b[0m\u001b[1;33m\u001b[0m\u001b[1;33m\u001b[0m\u001b[0m\n",
      "\u001b[1;32mD:\\anaconda\\lib\\site-packages\\selenium\\webdriver\\remote\\webdriver.py\u001b[0m in \u001b[0;36mexecute\u001b[1;34m(self, driver_command, params)\u001b[0m\n\u001b[0;32m    423\u001b[0m         \u001b[0mresponse\u001b[0m \u001b[1;33m=\u001b[0m \u001b[0mself\u001b[0m\u001b[1;33m.\u001b[0m\u001b[0mcommand_executor\u001b[0m\u001b[1;33m.\u001b[0m\u001b[0mexecute\u001b[0m\u001b[1;33m(\u001b[0m\u001b[0mdriver_command\u001b[0m\u001b[1;33m,\u001b[0m \u001b[0mparams\u001b[0m\u001b[1;33m)\u001b[0m\u001b[1;33m\u001b[0m\u001b[1;33m\u001b[0m\u001b[0m\n\u001b[0;32m    424\u001b[0m         \u001b[1;32mif\u001b[0m \u001b[0mresponse\u001b[0m\u001b[1;33m:\u001b[0m\u001b[1;33m\u001b[0m\u001b[1;33m\u001b[0m\u001b[0m\n\u001b[1;32m--> 425\u001b[1;33m             \u001b[0mself\u001b[0m\u001b[1;33m.\u001b[0m\u001b[0merror_handler\u001b[0m\u001b[1;33m.\u001b[0m\u001b[0mcheck_response\u001b[0m\u001b[1;33m(\u001b[0m\u001b[0mresponse\u001b[0m\u001b[1;33m)\u001b[0m\u001b[1;33m\u001b[0m\u001b[1;33m\u001b[0m\u001b[0m\n\u001b[0m\u001b[0;32m    426\u001b[0m             response['value'] = self._unwrap_value(\n\u001b[0;32m    427\u001b[0m                 response.get('value', None))\n",
      "\u001b[1;32mD:\\anaconda\\lib\\site-packages\\selenium\\webdriver\\remote\\errorhandler.py\u001b[0m in \u001b[0;36mcheck_response\u001b[1;34m(self, response)\u001b[0m\n\u001b[0;32m    245\u001b[0m                 \u001b[0malert_text\u001b[0m \u001b[1;33m=\u001b[0m \u001b[0mvalue\u001b[0m\u001b[1;33m[\u001b[0m\u001b[1;34m'alert'\u001b[0m\u001b[1;33m]\u001b[0m\u001b[1;33m.\u001b[0m\u001b[0mget\u001b[0m\u001b[1;33m(\u001b[0m\u001b[1;34m'text'\u001b[0m\u001b[1;33m)\u001b[0m\u001b[1;33m\u001b[0m\u001b[1;33m\u001b[0m\u001b[0m\n\u001b[0;32m    246\u001b[0m             \u001b[1;32mraise\u001b[0m \u001b[0mexception_class\u001b[0m\u001b[1;33m(\u001b[0m\u001b[0mmessage\u001b[0m\u001b[1;33m,\u001b[0m \u001b[0mscreen\u001b[0m\u001b[1;33m,\u001b[0m \u001b[0mstacktrace\u001b[0m\u001b[1;33m,\u001b[0m \u001b[0malert_text\u001b[0m\u001b[1;33m)\u001b[0m  \u001b[1;31m# type: ignore[call-arg]  # mypy is not smart enough here\u001b[0m\u001b[1;33m\u001b[0m\u001b[1;33m\u001b[0m\u001b[0m\n\u001b[1;32m--> 247\u001b[1;33m         \u001b[1;32mraise\u001b[0m \u001b[0mexception_class\u001b[0m\u001b[1;33m(\u001b[0m\u001b[0mmessage\u001b[0m\u001b[1;33m,\u001b[0m \u001b[0mscreen\u001b[0m\u001b[1;33m,\u001b[0m \u001b[0mstacktrace\u001b[0m\u001b[1;33m)\u001b[0m\u001b[1;33m\u001b[0m\u001b[1;33m\u001b[0m\u001b[0m\n\u001b[0m\u001b[0;32m    248\u001b[0m \u001b[1;33m\u001b[0m\u001b[0m\n\u001b[0;32m    249\u001b[0m     \u001b[1;32mdef\u001b[0m \u001b[0m_value_or_default\u001b[0m\u001b[1;33m(\u001b[0m\u001b[0mself\u001b[0m\u001b[1;33m,\u001b[0m \u001b[0mobj\u001b[0m\u001b[1;33m:\u001b[0m \u001b[0mMapping\u001b[0m\u001b[1;33m[\u001b[0m\u001b[0m_KT\u001b[0m\u001b[1;33m,\u001b[0m \u001b[0m_VT\u001b[0m\u001b[1;33m]\u001b[0m\u001b[1;33m,\u001b[0m \u001b[0mkey\u001b[0m\u001b[1;33m:\u001b[0m \u001b[0m_KT\u001b[0m\u001b[1;33m,\u001b[0m \u001b[0mdefault\u001b[0m\u001b[1;33m:\u001b[0m \u001b[0m_VT\u001b[0m\u001b[1;33m)\u001b[0m \u001b[1;33m->\u001b[0m \u001b[0m_VT\u001b[0m\u001b[1;33m:\u001b[0m\u001b[1;33m\u001b[0m\u001b[1;33m\u001b[0m\u001b[0m\n",
      "\u001b[1;31mElementNotInteractableException\u001b[0m: Message: element not interactable\n  (Session info: chrome=102.0.5005.62)\nStacktrace:\nBacktrace:\n\tOrdinal0 [0x00B7B8F3+2406643]\n\tOrdinal0 [0x00B0AF31+1945393]\n\tOrdinal0 [0x009FC610+837136]\n\tOrdinal0 [0x00A2A2D3+1024723]\n\tOrdinal0 [0x00A20083+983171]\n\tOrdinal0 [0x00A4427C+1131132]\n\tOrdinal0 [0x00A1FA64+981604]\n\tOrdinal0 [0x00A44494+1131668]\n\tOrdinal0 [0x00A54682+1197698]\n\tOrdinal0 [0x00A44096+1130646]\n\tOrdinal0 [0x00A1E636+976438]\n\tOrdinal0 [0x00A1F546+980294]\n\tGetHandleVerifier [0x00DE9612+2498066]\n\tGetHandleVerifier [0x00DDC920+2445600]\n\tGetHandleVerifier [0x00C14F2A+579370]\n\tGetHandleVerifier [0x00C13D36+574774]\n\tOrdinal0 [0x00B11C0B+1973259]\n\tOrdinal0 [0x00B16688+1992328]\n\tOrdinal0 [0x00B16775+1992565]\n\tOrdinal0 [0x00B1F8D1+2029777]\n\tBaseThreadInitThunk [0x7619FA29+25]\n\tRtlGetAppContainerNamedObjectPath [0x77977A7E+286]\n\tRtlGetAppContainerNamedObjectPath [0x77977A4E+238]\n"
     ]
    }
   ],
   "source": [
    "jksdfkhsbdf.click()"
   ]
  },
  {
   "cell_type": "code",
   "execution_count": null,
   "id": "f76cdbcb",
   "metadata": {},
   "outputs": [],
   "source": []
  },
  {
   "cell_type": "code",
   "execution_count": null,
   "id": "4151775b",
   "metadata": {},
   "outputs": [],
   "source": []
  },
  {
   "cell_type": "code",
   "execution_count": null,
   "id": "6e08b43e",
   "metadata": {},
   "outputs": [],
   "source": []
  },
  {
   "cell_type": "code",
   "execution_count": 153,
   "id": "750b6867",
   "metadata": {},
   "outputs": [
    {
     "data": {
      "text/plain": [
       "'평점\\n영업시간\\n모든 필터\\n아마존동물병원\\n4.6(25)\\n동물병원 · 임학동 67-7\\n영업 중 ⋅ 오후 8:00에 영업 종료 · 032-555-7502 ext. 3\\n경로\\n계양동물메디컬센터\\n4.3(50)\\n동물병원 · 계산동 942-24번지\\n영업 중 ⋅ 오후 8:00에 영업 종료 · 032-555-9975\\n경로\\n해림동물병원\\n4.8(100)\\n동물병원 · 작전동 864-39\\n영업 중 ⋅ 오후 8:00에 영업 종료 · 032-546-0079\\n경로\\n한솔동물병원\\n4.3(13)\\n동물병원 · 계산2동 918-2\\n032-553-4652\\n웹사이트\\n경로\\n아프리카 동물의료센터 [구 아프리카동물병원]\\n4.4(89)\\n동물병원 · 장제로340번길 5 3층\\n영업 중 ⋅ 오후 10:00에 영업 종료 · 032-508-7582\\n웹사이트\\n경로\\n이지동물병원\\n4.5(8)\\n동물 병원 · 병방동 422\\n영업 중 ⋅ 오후 8:00에 영업 종료 · 032-549-0077\\n경로\\n신통방통동물병원\\n4.9(10)\\n동물 병원 · 작전동 863\\n영업 중 ⋅ 오후 8:00에 영업 종료 · 032-552-3369\\n경로\\n다오동물병원\\n4.7(6)\\n동물병원 · 계산동 1062\\n032-548-0275\\n경로\\n작전24동물병원\\n4.4(7)\\n동물병원 · 작전동 925-1\\n경로\\n재영동물병원\\n3.8(4)\\n동물병원 · 계산1동\\n032-542-4647\\n경로\\n검색결과 1 - 20 표시 중\\n지도 이동 시 결과 업데이트'"
      ]
     },
     "execution_count": 153,
     "metadata": {},
     "output_type": "execute_result"
    }
   ],
   "source": [
    "target.text"
   ]
  },
  {
   "cell_type": "code",
   "execution_count": 187,
   "id": "f821a500",
   "metadata": {},
   "outputs": [],
   "source": [
    "target.send_keys(Keys.END)"
   ]
  },
  {
   "cell_type": "code",
   "execution_count": 155,
   "id": "46e3c357",
   "metadata": {},
   "outputs": [],
   "source": [
    "driver.execute_script(\"window.scrollTo(0, 10000)\") "
   ]
  },
  {
   "cell_type": "code",
   "execution_count": 159,
   "id": "0a7d6684",
   "metadata": {},
   "outputs": [],
   "source": [
    "driver.execute_script('arguments[0].scrollIntoView(true);', target)"
   ]
  },
  {
   "cell_type": "code",
   "execution_count": 169,
   "id": "575dcb00",
   "metadata": {},
   "outputs": [],
   "source": [
    "actions = ActionChains(driver) \\\n",
    "    .move_to_element(panee) \\\n",
    "    .click() \\\n",
    "    .send_keys(Keys.END)\n",
    "\n",
    "actions.perform() "
   ]
  },
  {
   "cell_type": "code",
   "execution_count": null,
   "id": "80c84ba5",
   "metadata": {},
   "outputs": [],
   "source": [
    "for i in range(0,10):\n",
    "    driver.execute_script('test=document.querySelector(\"#pane > div > div.Yr7JMd-pane-content.cYB2Ge-oHo7ed > div > div > div.siAUzd-neVct.section-scrollbox.cYB2Ge-oHo7ed.cYB2Ge-ti6hGc.siAUzd-neVct-Q3DXx-BvBYQ > div.siAUzd-neVct.section-scrollbox.cYB2Ge-oHo7ed.cYB2Ge-ti6hGc.siAUzd-neVct-Q3DXx-BvBYQ\"); test.scrollTo(0, 10000000000000000000);')\n",
    "    time.sleep(1)"
   ]
  },
  {
   "cell_type": "markdown",
   "id": "fee82a53",
   "metadata": {},
   "source": [
    "divtag -> class -> \"m6QErb DxyBCb kA9KIf dS8AEf ecceSd QjC7t\"\n",
    "\n",
    "subdiv -> jstcache=\"184\" 들 모아놓음\n",
    "\n",
    "name -> class=\"NrDZNb\"\n",
    "\n",
    "star -> jstcache=\"83\""
   ]
  },
  {
   "cell_type": "code",
   "execution_count": null,
   "id": "a08f1c01",
   "metadata": {},
   "outputs": [],
   "source": [
    "lname = []\n",
    "lstar = []\n",
    "laddr = []"
   ]
  },
  {
   "cell_type": "code",
   "execution_count": 260,
   "id": "5ac553ce",
   "metadata": {},
   "outputs": [
    {
     "name": "stdout",
     "output_type": "stream",
     "text": [
      "--------------------------\n",
      "지중해동물병원\n",
      "4.8(34)\n",
      "중동 1058-2번지 107호 중동프라자 부천시 경기도 KR\n",
      "--------------------------\n",
      "웰케어동물메디컬센터\n",
      "4.1(34)\n",
      "풍무동 592-10\n",
      "--------------------------\n",
      "청라호수동물병원\n",
      "4.2(51)\n",
      "푸른로7번길 7-2\n",
      "--------------------------\n",
      "청라루비동물병원\n",
      "4.3(34)\n",
      "청라동 루비로134번길 6-4\n",
      "--------------------------\n",
      "하얀기린동물병원\n",
      "5.0(32)\n",
      "연희동 796-7번지 청라골드클래스커낼웨이 상가동 103호 서구 인천광역시 KR\n",
      "--------------------------\n",
      "가정동물병원\n",
      "4.0(43)\n",
      "가정1동 517-32\n",
      "--------------------------\n",
      "작전24동물병원\n",
      "4.4(7)\n",
      "작전동 925-1\n",
      "--------------------------\n",
      "동수동물병원\n",
      "4.7(18)\n",
      "부평1동 182-10\n",
      "--------------------------\n",
      "중동동물병원\n",
      "4.6(21)\n",
      "중동 749-17\n",
      "--------------------------\n",
      "비엔동물전문의료센터\n",
      "4.5(95)\n",
      "경인로 475\n",
      "--------------------------\n",
      "위더스동물병원\n",
      "4.4(13)\n",
      "상3동 534-9\n",
      "--------------------------\n",
      "삼성동물병원\n",
      "4.1(26)\n",
      "석남2동 579-3\n",
      "--------------------------\n",
      "주주종합동물병원\n",
      "4.8(9)\n",
      "부개1동 301-38\n",
      "--------------------------\n",
      "세명동물병원\n",
      "4.7(10)\n",
      "화곡1동 353-58\n",
      "--------------------------\n",
      "파스텔동물병원\n",
      "4.7(20)\n",
      "화곡1동 1070-1\n",
      "--------------------------\n",
      "부평모모동물병원\n",
      "4.9(10)\n",
      "경원대로 1278 1층\n",
      "--------------------------\n",
      "온유동물병원\n",
      "4.0(19)\n",
      "중동 1087\n",
      "--------------------------\n",
      "하노바동물병원\n",
      "4.6(11)\n",
      "중동 707-1\n",
      "--------------------------\n",
      "청라종합동물병원\n",
      "5.0(13)\n",
      "119(118 KR 인천광역시 서구 청라커낼로 252 롯데캐슬단지내상가 C동\n",
      "--------------------------\n",
      "도그앤캣동물병원\n",
      "4.3(8)\n",
      "부평동 341-160 KR 인천광역시 부평구 경원대로 1355\n",
      "--------------------------\n"
     ]
    },
    {
     "ename": "NoSuchElementException",
     "evalue": "Message: no such element: Unable to locate element: {\"method\":\"xpath\",\"selector\":\"./div[43]/div[1]/a[1]\"}\n  (Session info: chrome=102.0.5005.62)\nStacktrace:\nBacktrace:\n\tOrdinal0 [0x00B7B8F3+2406643]\n\tOrdinal0 [0x00B0AF31+1945393]\n\tOrdinal0 [0x009FC748+837448]\n\tOrdinal0 [0x00A292E0+1020640]\n\tOrdinal0 [0x00A2957B+1021307]\n\tOrdinal0 [0x00A1FAE1+981729]\n\tOrdinal0 [0x00A442C4+1131204]\n\tOrdinal0 [0x00A1FA64+981604]\n\tOrdinal0 [0x00A44494+1131668]\n\tOrdinal0 [0x00A54682+1197698]\n\tOrdinal0 [0x00A44096+1130646]\n\tOrdinal0 [0x00A1E636+976438]\n\tOrdinal0 [0x00A1F546+980294]\n\tGetHandleVerifier [0x00DE9612+2498066]\n\tGetHandleVerifier [0x00DDC920+2445600]\n\tGetHandleVerifier [0x00C14F2A+579370]\n\tGetHandleVerifier [0x00C13D36+574774]\n\tOrdinal0 [0x00B11C0B+1973259]\n\tOrdinal0 [0x00B16688+1992328]\n\tOrdinal0 [0x00B16775+1992565]\n\tOrdinal0 [0x00B1F8D1+2029777]\n\tBaseThreadInitThunk [0x7619FA29+25]\n\tRtlGetAppContainerNamedObjectPath [0x77977A7E+286]\n\tRtlGetAppContainerNamedObjectPath [0x77977A4E+238]\n",
     "output_type": "error",
     "traceback": [
      "\u001b[1;31m---------------------------------------------------------------------------\u001b[0m",
      "\u001b[1;31mNoSuchElementException\u001b[0m                    Traceback (most recent call last)",
      "\u001b[1;32m~\\AppData\\Local\\Temp/ipykernel_20284/3551107367.py\u001b[0m in \u001b[0;36m<module>\u001b[1;34m\u001b[0m\n\u001b[0;32m      3\u001b[0m         \u001b[1;32mfor\u001b[0m \u001b[0mi\u001b[0m \u001b[1;32min\u001b[0m \u001b[0mlista\u001b[0m\u001b[1;33m:\u001b[0m\u001b[1;33m\u001b[0m\u001b[1;33m\u001b[0m\u001b[0m\n\u001b[0;32m      4\u001b[0m             \u001b[0mprint\u001b[0m\u001b[1;33m(\u001b[0m\u001b[1;34m\"--------------------------\"\u001b[0m\u001b[1;33m)\u001b[0m\u001b[1;33m\u001b[0m\u001b[1;33m\u001b[0m\u001b[0m\n\u001b[1;32m----> 5\u001b[1;33m             \u001b[0matag\u001b[0m \u001b[1;33m=\u001b[0m \u001b[0mdivtag\u001b[0m\u001b[1;33m.\u001b[0m\u001b[0mfind_element\u001b[0m\u001b[1;33m(\u001b[0m\u001b[0mBy\u001b[0m\u001b[1;33m.\u001b[0m\u001b[0mXPATH\u001b[0m\u001b[1;33m,\u001b[0m \u001b[1;34m'./div[{}]/div[1]/a[1]'\u001b[0m\u001b[1;33m.\u001b[0m\u001b[0mformat\u001b[0m\u001b[1;33m(\u001b[0m\u001b[0mi\u001b[0m\u001b[1;33m)\u001b[0m\u001b[1;33m)\u001b[0m\u001b[1;33m\u001b[0m\u001b[1;33m\u001b[0m\u001b[0m\n\u001b[0m\u001b[0;32m      6\u001b[0m             \u001b[0msubdiv\u001b[0m \u001b[1;33m=\u001b[0m \u001b[0mdivtag\u001b[0m\u001b[1;33m.\u001b[0m\u001b[0mfind_element\u001b[0m\u001b[1;33m(\u001b[0m\u001b[0mBy\u001b[0m\u001b[1;33m.\u001b[0m\u001b[0mXPATH\u001b[0m\u001b[1;33m,\u001b[0m \u001b[1;34m\"./div[{}]\"\u001b[0m\u001b[1;33m.\u001b[0m\u001b[0mformat\u001b[0m\u001b[1;33m(\u001b[0m\u001b[0mi\u001b[0m\u001b[1;33m)\u001b[0m\u001b[1;33m)\u001b[0m\u001b[1;33m\u001b[0m\u001b[1;33m\u001b[0m\u001b[0m\n\u001b[0;32m      7\u001b[0m             \u001b[0mname\u001b[0m \u001b[1;33m=\u001b[0m \u001b[0msubdiv\u001b[0m\u001b[1;33m.\u001b[0m\u001b[0mfind_element\u001b[0m\u001b[1;33m(\u001b[0m\u001b[0mBy\u001b[0m\u001b[1;33m.\u001b[0m\u001b[0mXPATH\u001b[0m\u001b[1;33m,\u001b[0m \u001b[1;34m\"./div[1]/div[2]/div[2]/div[1]/div[1]/div[1]/div[1]/div[1]\"\u001b[0m\u001b[1;33m)\u001b[0m\u001b[1;33m\u001b[0m\u001b[1;33m\u001b[0m\u001b[0m\n",
      "\u001b[1;32mD:\\anaconda\\lib\\site-packages\\selenium\\webdriver\\remote\\webelement.py\u001b[0m in \u001b[0;36mfind_element\u001b[1;34m(self, by, value)\u001b[0m\n\u001b[0;32m    733\u001b[0m             \u001b[0mvalue\u001b[0m \u001b[1;33m=\u001b[0m \u001b[1;34m'[name=\"%s\"]'\u001b[0m \u001b[1;33m%\u001b[0m \u001b[0mvalue\u001b[0m\u001b[1;33m\u001b[0m\u001b[1;33m\u001b[0m\u001b[0m\n\u001b[0;32m    734\u001b[0m \u001b[1;33m\u001b[0m\u001b[0m\n\u001b[1;32m--> 735\u001b[1;33m         return self._execute(Command.FIND_CHILD_ELEMENT,\n\u001b[0m\u001b[0;32m    736\u001b[0m                              {\"using\": by, \"value\": value})['value']\n\u001b[0;32m    737\u001b[0m \u001b[1;33m\u001b[0m\u001b[0m\n",
      "\u001b[1;32mD:\\anaconda\\lib\\site-packages\\selenium\\webdriver\\remote\\webelement.py\u001b[0m in \u001b[0;36m_execute\u001b[1;34m(self, command, params)\u001b[0m\n\u001b[0;32m    708\u001b[0m             \u001b[0mparams\u001b[0m \u001b[1;33m=\u001b[0m \u001b[1;33m{\u001b[0m\u001b[1;33m}\u001b[0m\u001b[1;33m\u001b[0m\u001b[1;33m\u001b[0m\u001b[0m\n\u001b[0;32m    709\u001b[0m         \u001b[0mparams\u001b[0m\u001b[1;33m[\u001b[0m\u001b[1;34m'id'\u001b[0m\u001b[1;33m]\u001b[0m \u001b[1;33m=\u001b[0m \u001b[0mself\u001b[0m\u001b[1;33m.\u001b[0m\u001b[0m_id\u001b[0m\u001b[1;33m\u001b[0m\u001b[1;33m\u001b[0m\u001b[0m\n\u001b[1;32m--> 710\u001b[1;33m         \u001b[1;32mreturn\u001b[0m \u001b[0mself\u001b[0m\u001b[1;33m.\u001b[0m\u001b[0m_parent\u001b[0m\u001b[1;33m.\u001b[0m\u001b[0mexecute\u001b[0m\u001b[1;33m(\u001b[0m\u001b[0mcommand\u001b[0m\u001b[1;33m,\u001b[0m \u001b[0mparams\u001b[0m\u001b[1;33m)\u001b[0m\u001b[1;33m\u001b[0m\u001b[1;33m\u001b[0m\u001b[0m\n\u001b[0m\u001b[0;32m    711\u001b[0m \u001b[1;33m\u001b[0m\u001b[0m\n\u001b[0;32m    712\u001b[0m     \u001b[1;32mdef\u001b[0m \u001b[0mfind_element\u001b[0m\u001b[1;33m(\u001b[0m\u001b[0mself\u001b[0m\u001b[1;33m,\u001b[0m \u001b[0mby\u001b[0m\u001b[1;33m=\u001b[0m\u001b[0mBy\u001b[0m\u001b[1;33m.\u001b[0m\u001b[0mID\u001b[0m\u001b[1;33m,\u001b[0m \u001b[0mvalue\u001b[0m\u001b[1;33m=\u001b[0m\u001b[1;32mNone\u001b[0m\u001b[1;33m)\u001b[0m\u001b[1;33m:\u001b[0m\u001b[1;33m\u001b[0m\u001b[1;33m\u001b[0m\u001b[0m\n",
      "\u001b[1;32mD:\\anaconda\\lib\\site-packages\\selenium\\webdriver\\remote\\webdriver.py\u001b[0m in \u001b[0;36mexecute\u001b[1;34m(self, driver_command, params)\u001b[0m\n\u001b[0;32m    423\u001b[0m         \u001b[0mresponse\u001b[0m \u001b[1;33m=\u001b[0m \u001b[0mself\u001b[0m\u001b[1;33m.\u001b[0m\u001b[0mcommand_executor\u001b[0m\u001b[1;33m.\u001b[0m\u001b[0mexecute\u001b[0m\u001b[1;33m(\u001b[0m\u001b[0mdriver_command\u001b[0m\u001b[1;33m,\u001b[0m \u001b[0mparams\u001b[0m\u001b[1;33m)\u001b[0m\u001b[1;33m\u001b[0m\u001b[1;33m\u001b[0m\u001b[0m\n\u001b[0;32m    424\u001b[0m         \u001b[1;32mif\u001b[0m \u001b[0mresponse\u001b[0m\u001b[1;33m:\u001b[0m\u001b[1;33m\u001b[0m\u001b[1;33m\u001b[0m\u001b[0m\n\u001b[1;32m--> 425\u001b[1;33m             \u001b[0mself\u001b[0m\u001b[1;33m.\u001b[0m\u001b[0merror_handler\u001b[0m\u001b[1;33m.\u001b[0m\u001b[0mcheck_response\u001b[0m\u001b[1;33m(\u001b[0m\u001b[0mresponse\u001b[0m\u001b[1;33m)\u001b[0m\u001b[1;33m\u001b[0m\u001b[1;33m\u001b[0m\u001b[0m\n\u001b[0m\u001b[0;32m    426\u001b[0m             response['value'] = self._unwrap_value(\n\u001b[0;32m    427\u001b[0m                 response.get('value', None))\n",
      "\u001b[1;32mD:\\anaconda\\lib\\site-packages\\selenium\\webdriver\\remote\\errorhandler.py\u001b[0m in \u001b[0;36mcheck_response\u001b[1;34m(self, response)\u001b[0m\n\u001b[0;32m    245\u001b[0m                 \u001b[0malert_text\u001b[0m \u001b[1;33m=\u001b[0m \u001b[0mvalue\u001b[0m\u001b[1;33m[\u001b[0m\u001b[1;34m'alert'\u001b[0m\u001b[1;33m]\u001b[0m\u001b[1;33m.\u001b[0m\u001b[0mget\u001b[0m\u001b[1;33m(\u001b[0m\u001b[1;34m'text'\u001b[0m\u001b[1;33m)\u001b[0m\u001b[1;33m\u001b[0m\u001b[1;33m\u001b[0m\u001b[0m\n\u001b[0;32m    246\u001b[0m             \u001b[1;32mraise\u001b[0m \u001b[0mexception_class\u001b[0m\u001b[1;33m(\u001b[0m\u001b[0mmessage\u001b[0m\u001b[1;33m,\u001b[0m \u001b[0mscreen\u001b[0m\u001b[1;33m,\u001b[0m \u001b[0mstacktrace\u001b[0m\u001b[1;33m,\u001b[0m \u001b[0malert_text\u001b[0m\u001b[1;33m)\u001b[0m  \u001b[1;31m# type: ignore[call-arg]  # mypy is not smart enough here\u001b[0m\u001b[1;33m\u001b[0m\u001b[1;33m\u001b[0m\u001b[0m\n\u001b[1;32m--> 247\u001b[1;33m         \u001b[1;32mraise\u001b[0m \u001b[0mexception_class\u001b[0m\u001b[1;33m(\u001b[0m\u001b[0mmessage\u001b[0m\u001b[1;33m,\u001b[0m \u001b[0mscreen\u001b[0m\u001b[1;33m,\u001b[0m \u001b[0mstacktrace\u001b[0m\u001b[1;33m)\u001b[0m\u001b[1;33m\u001b[0m\u001b[1;33m\u001b[0m\u001b[0m\n\u001b[0m\u001b[0;32m    248\u001b[0m \u001b[1;33m\u001b[0m\u001b[0m\n\u001b[0;32m    249\u001b[0m     \u001b[1;32mdef\u001b[0m \u001b[0m_value_or_default\u001b[0m\u001b[1;33m(\u001b[0m\u001b[0mself\u001b[0m\u001b[1;33m,\u001b[0m \u001b[0mobj\u001b[0m\u001b[1;33m:\u001b[0m \u001b[0mMapping\u001b[0m\u001b[1;33m[\u001b[0m\u001b[0m_KT\u001b[0m\u001b[1;33m,\u001b[0m \u001b[0m_VT\u001b[0m\u001b[1;33m]\u001b[0m\u001b[1;33m,\u001b[0m \u001b[0mkey\u001b[0m\u001b[1;33m:\u001b[0m \u001b[0m_KT\u001b[0m\u001b[1;33m,\u001b[0m \u001b[0mdefault\u001b[0m\u001b[1;33m:\u001b[0m \u001b[0m_VT\u001b[0m\u001b[1;33m)\u001b[0m \u001b[1;33m->\u001b[0m \u001b[0m_VT\u001b[0m\u001b[1;33m:\u001b[0m\u001b[1;33m\u001b[0m\u001b[1;33m\u001b[0m\u001b[0m\n",
      "\u001b[1;31mNoSuchElementException\u001b[0m: Message: no such element: Unable to locate element: {\"method\":\"xpath\",\"selector\":\"./div[43]/div[1]/a[1]\"}\n  (Session info: chrome=102.0.5005.62)\nStacktrace:\nBacktrace:\n\tOrdinal0 [0x00B7B8F3+2406643]\n\tOrdinal0 [0x00B0AF31+1945393]\n\tOrdinal0 [0x009FC748+837448]\n\tOrdinal0 [0x00A292E0+1020640]\n\tOrdinal0 [0x00A2957B+1021307]\n\tOrdinal0 [0x00A1FAE1+981729]\n\tOrdinal0 [0x00A442C4+1131204]\n\tOrdinal0 [0x00A1FA64+981604]\n\tOrdinal0 [0x00A44494+1131668]\n\tOrdinal0 [0x00A54682+1197698]\n\tOrdinal0 [0x00A44096+1130646]\n\tOrdinal0 [0x00A1E636+976438]\n\tOrdinal0 [0x00A1F546+980294]\n\tGetHandleVerifier [0x00DE9612+2498066]\n\tGetHandleVerifier [0x00DDC920+2445600]\n\tGetHandleVerifier [0x00C14F2A+579370]\n\tGetHandleVerifier [0x00C13D36+574774]\n\tOrdinal0 [0x00B11C0B+1973259]\n\tOrdinal0 [0x00B16688+1992328]\n\tOrdinal0 [0x00B16775+1992565]\n\tOrdinal0 [0x00B1F8D1+2029777]\n\tBaseThreadInitThunk [0x7619FA29+25]\n\tRtlGetAppContainerNamedObjectPath [0x77977A7E+286]\n\tRtlGetAppContainerNamedObjectPath [0x77977A4E+238]\n"
     ]
    }
   ],
   "source": [
    "for divtag in target.find_elements(By.XPATH, './div[1]'):\n",
    "    if divtag.text != \"\":\n",
    "        for i in lista:\n",
    "            print(\"--------------------------\")\n",
    "            atag = divtag.find_element(By.XPATH, './div[{}]/div[1]/a[1]'.format(i))\n",
    "            subdiv = divtag.find_element(By.XPATH, \"./div[{}]\".format(i))\n",
    "            name = subdiv.find_element(By.XPATH, \"./div[1]/div[2]/div[2]/div[1]/div[1]/div[1]/div[1]/div[1]\")\n",
    "            star = subdiv.find_element(By.XPATH, \"./div[1]/div[2]/div[2]/div[1]/div[1]/div[1]/div[1]/div[3]\")\n",
    "            addr = subdiv.find_element(By.XPATH, \"./div[1]/div[2]/div[2]/div[1]/div[1]/div[1]/div[1]/div[4]/div[1]/span[2]\")\n",
    "\n",
    "            print(name.text)\n",
    "            print(star.text)\n",
    "            print(addr.text.replace(\"· \",\"\"))\n",
    "            \n",
    "#            print(atag.get_attribute('href').split('!')[5][2:])\n",
    "#            print(atag.get_attribute('href').split('!')[6].split('?')[0][2:])\n",
    "            \n",
    "            lname.append(name.text)\n",
    "            lstar.append(star.text)\n",
    "            laddr.append(addr.text.replace(\"· \",\"\"))\n",
    "            \n",
    "# [출처] 파이썬 크롤링 셀레니움 (구글지도 맛집 정보, 오늘의집 크롤링 등)|작성자 홍인\n",
    "# https://blog.naver.com/hongin90/222661902505"
   ]
  },
  {
   "cell_type": "code",
   "execution_count": 84,
   "id": "6b2e5aac",
   "metadata": {},
   "outputs": [
    {
     "data": {
      "text/plain": [
       "[<selenium.webdriver.remote.webelement.WebElement (session=\"8144a835305002e05f47710ddfab6e45\", element=\"a2eeba5a-9774-4e01-bdeb-cf1cb487556f\")>,\n",
       " <selenium.webdriver.remote.webelement.WebElement (session=\"8144a835305002e05f47710ddfab6e45\", element=\"891b35ab-812c-4838-83fa-f1b8ba297136\")>,\n",
       " <selenium.webdriver.remote.webelement.WebElement (session=\"8144a835305002e05f47710ddfab6e45\", element=\"0b12d376-226d-4d47-aff4-c1a125669bd0\")>,\n",
       " <selenium.webdriver.remote.webelement.WebElement (session=\"8144a835305002e05f47710ddfab6e45\", element=\"d7f340fe-3cbe-446f-b911-e1f7da9385fc\")>]"
      ]
     },
     "execution_count": 84,
     "metadata": {},
     "output_type": "execute_result"
    }
   ],
   "source": [
    "target.find_elements(By.XPATH, './div')"
   ]
  },
  {
   "cell_type": "code",
   "execution_count": 99,
   "id": "4cdd2c43",
   "metadata": {},
   "outputs": [],
   "source": [
    "lista = []\n",
    "for x in list(range(50)):\n",
    "    if x % 2 :\n",
    "        lista.append(x)"
   ]
  },
  {
   "cell_type": "code",
   "execution_count": 102,
   "id": "2515db06",
   "metadata": {
    "scrolled": true
   },
   "outputs": [
    {
     "data": {
      "text/plain": [
       "[3,\n",
       " 5,\n",
       " 7,\n",
       " 9,\n",
       " 11,\n",
       " 13,\n",
       " 15,\n",
       " 17,\n",
       " 19,\n",
       " 21,\n",
       " 23,\n",
       " 25,\n",
       " 27,\n",
       " 29,\n",
       " 31,\n",
       " 33,\n",
       " 35,\n",
       " 37,\n",
       " 39,\n",
       " 41,\n",
       " 43,\n",
       " 45,\n",
       " 47,\n",
       " 49]"
      ]
     },
     "execution_count": 102,
     "metadata": {},
     "output_type": "execute_result"
    }
   ],
   "source": [
    "lista"
   ]
  },
  {
   "cell_type": "code",
   "execution_count": 261,
   "id": "da6196ca",
   "metadata": {},
   "outputs": [
    {
     "data": {
      "text/plain": [
       "['아마존동물병원',\n",
       " '계양동물메디컬센터',\n",
       " '한솔동물병원',\n",
       " '해림동물병원',\n",
       " '이지동물병원',\n",
       " '신통방통동물병원',\n",
       " '다오동물병원',\n",
       " '재영동물병원',\n",
       " '신영재동물병원',\n",
       " '작전24동물병원',\n",
       " '아프리카 동물의료센터 [구 아프리카동물병원]',\n",
       " '부평종합동물병원',\n",
       " '보비동물병원',\n",
       " '펫가든동물병원',\n",
       " '부평종합동물의료센터',\n",
       " '세림동물병원',\n",
       " '닥터팬더동물병원',\n",
       " '포근한동물병원',\n",
       " '부천준동물병원',\n",
       " '펫사랑동물병원',\n",
       " '지중해동물병원',\n",
       " '웰케어동물메디컬센터',\n",
       " '청라호수동물병원',\n",
       " '청라루비동물병원',\n",
       " '하얀기린동물병원',\n",
       " '가정동물병원',\n",
       " '작전24동물병원',\n",
       " '동수동물병원',\n",
       " '중동동물병원',\n",
       " '비엔동물전문의료센터',\n",
       " '위더스동물병원',\n",
       " '삼성동물병원',\n",
       " '주주종합동물병원',\n",
       " '세명동물병원',\n",
       " '파스텔동물병원',\n",
       " '부평모모동물병원',\n",
       " '온유동물병원',\n",
       " '하노바동물병원',\n",
       " '청라종합동물병원',\n",
       " '도그앤캣동물병원']"
      ]
     },
     "execution_count": 261,
     "metadata": {},
     "output_type": "execute_result"
    }
   ],
   "source": [
    "lname"
   ]
  },
  {
   "cell_type": "code",
   "execution_count": 262,
   "id": "7d48a030",
   "metadata": {
    "scrolled": true
   },
   "outputs": [
    {
     "data": {
      "text/plain": [
       "['4.6(25)',\n",
       " '4.3(50)',\n",
       " '4.3(13)',\n",
       " '4.8(100)',\n",
       " '4.5(8)',\n",
       " '4.9(10)',\n",
       " '4.7(6)',\n",
       " '3.8(4)',\n",
       " '4.0(2)',\n",
       " '4.4(7)',\n",
       " '4.4(89)',\n",
       " '4.5(101)',\n",
       " '4.6(48)',\n",
       " '5.0(1)',\n",
       " '4.4(48)',\n",
       " '5.0(23)',\n",
       " '리뷰 없음',\n",
       " '4.9(31)',\n",
       " '4.8(27)',\n",
       " '4.4(48)',\n",
       " '4.8(34)',\n",
       " '4.1(34)',\n",
       " '4.2(51)',\n",
       " '4.3(34)',\n",
       " '5.0(32)',\n",
       " '4.0(43)',\n",
       " '4.4(7)',\n",
       " '4.7(18)',\n",
       " '4.6(21)',\n",
       " '4.5(95)',\n",
       " '4.4(13)',\n",
       " '4.1(26)',\n",
       " '4.8(9)',\n",
       " '4.7(10)',\n",
       " '4.7(20)',\n",
       " '4.9(10)',\n",
       " '4.0(19)',\n",
       " '4.6(11)',\n",
       " '5.0(13)',\n",
       " '4.3(8)']"
      ]
     },
     "execution_count": 262,
     "metadata": {},
     "output_type": "execute_result"
    }
   ],
   "source": [
    "lstar"
   ]
  },
  {
   "cell_type": "code",
   "execution_count": 121,
   "id": "ece21039",
   "metadata": {},
   "outputs": [
    {
     "data": {
      "text/plain": [
       "['임학동 67-7',\n",
       " '계산동 942-24번지',\n",
       " '계산2동 918-2',\n",
       " '작전동 864-39',\n",
       " '병방동 422',\n",
       " '작전동 863',\n",
       " '계산동 1062',\n",
       " '계산1동',\n",
       " '병방동 426',\n",
       " '작전동 925-1']"
      ]
     },
     "execution_count": 121,
     "metadata": {},
     "output_type": "execute_result"
    }
   ],
   "source": [
    "laddr"
   ]
  },
  {
   "cell_type": "code",
   "execution_count": null,
   "id": "d729ff1f",
   "metadata": {},
   "outputs": [],
   "source": []
  }
 ],
 "metadata": {
  "kernelspec": {
   "display_name": "Python 3 (ipykernel)",
   "language": "python",
   "name": "python3"
  },
  "language_info": {
   "codemirror_mode": {
    "name": "ipython",
    "version": 3
   },
   "file_extension": ".py",
   "mimetype": "text/x-python",
   "name": "python",
   "nbconvert_exporter": "python",
   "pygments_lexer": "ipython3",
   "version": "3.9.7"
  }
 },
 "nbformat": 4,
 "nbformat_minor": 5
}

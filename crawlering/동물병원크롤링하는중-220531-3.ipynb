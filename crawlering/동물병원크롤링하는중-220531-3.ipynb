{
 "cells": [
  {
   "cell_type": "code",
   "execution_count": null,
   "id": "c6464753",
   "metadata": {},
   "outputs": [],
   "source": [
    "from selenium import webdriver\n",
    "from selenium.webdriver.chrome.service import Service\n",
    "from selenium.webdriver.common.by import By\n",
    "from bs4 import BeautifulSoup as BS\n",
    "import re\n",
    "import requests\n",
    "from urllib import request\n",
    "import pandas as pd"
   ]
  },
  {
   "cell_type": "code",
   "execution_count": null,
   "id": "acc97147",
   "metadata": {},
   "outputs": [],
   "source": [
    "from selenium import webdriver\n",
    "from selenium.webdriver.common.keys import Keys\n",
    "from selenium.webdriver.support.ui import WebDriverWait\n",
    "from selenium.webdriver.support import expected_conditions as EC\n",
    "from selenium.common.exceptions import TimeoutException\n",
    "from selenium.common.exceptions import NoSuchElementException\n",
    "from selenium.webdriver.common.by import By\n",
    "from selenium.webdriver.support.ui import Select\n",
    "import time"
   ]
  },
  {
   "cell_type": "code",
   "execution_count": null,
   "id": "e4e6753d",
   "metadata": {},
   "outputs": [],
   "source": [
    "chromedriver = 'D:/20220103_lab/14.python/data/chrome/chromedriver'\n",
    "driver = webdriver.Chrome(chromedriver) \n",
    "\n",
    "# 포스팅 작성 당시 크롬 버젼 : 92"
   ]
  },
  {
   "cell_type": "code",
   "execution_count": null,
   "id": "74b36e98",
   "metadata": {},
   "outputs": [],
   "source": [
    "df = pd.DataFrame"
   ]
  },
  {
   "cell_type": "code",
   "execution_count": null,
   "id": "47821c6a",
   "metadata": {},
   "outputs": [],
   "source": [
    "# 네이버 지도 검색창에 [~동 @@식당]으로 검색해 정확도를 높여야 합니다. 검색어를 미리 설정해줍시다.\n",
    "\n",
    "df['naver_keyword'] = df['dong'] + \"%20\" + df['name']  # \"%20\"는 띄어쓰기를 의미합니다.\n",
    "df['naver_map_url'] = ''"
   ]
  },
  {
   "cell_type": "code",
   "execution_count": null,
   "id": "e660e457",
   "metadata": {},
   "outputs": [],
   "source": [
    "# 본격적으로 가게 상세페이지의 URL을 가져옵시다\n",
    "\n",
    "for i, keyword in enumerate(df['naver_keyword'].tolist()):\n",
    "    print(\"이번에 찾을 키워드 :\", i, f\"/ {df.shape[0] -1} 행\", keyword)\n",
    "    try:\n",
    "        naver_map_search_url = f\"https://m.map.naver.com/search2/search.naver?query={keyword}&sm=hty&style=v5\"\n",
    "        \n",
    "        driver.get(naver_map_search_url)\n",
    "        time.sleep(3.5)\n",
    "        df.iloc[i,-1] = driver.find_element_by_css_selector(\"#ct > div.search_listview._content._ctList > ul > li:nth-child(1) > div.item_info > a.a_item.a_item_distance._linkSiteview\").get_attribute('data-cid')\n",
    "        # 네이버 지도 시스템은 data-cid에 url 파라미터를 저장해두고 있었습니다.\n",
    "        # data-cid 번호를 뽑아두었다가 기본 url 템플릿에 넣어 최종적인 url을 완성하면 됩니다.\n",
    "        \n",
    "        #만약 검색 결과가 없다면?\n",
    "    except Exception as e1:\n",
    "        if \"li:nth-child(1)\" in str(e1):  # -> \"child(1)이 없던데요?\"\n",
    "            try:\n",
    "                df.iloc[i,-1] = driver.find_element_by_css_selector(\"#ct > div.search_listview._content._ctList > ul > li:nth-child(1) > div.item_info > a.a_item.a_item_distance._linkSiteview\").get_attribute('data-cid')\n",
    "                time.sleep(1)\n",
    "            except Exception as e2:\n",
    "                print(e2)\n",
    "                df.iloc[i,-1] = np.nan\n",
    "                time.sleep(1)\n",
    "        else:\n",
    "            pass\n",
    "\n",
    "\n",
    "driver.quit()"
   ]
  },
  {
   "cell_type": "code",
   "execution_count": null,
   "id": "4b8d8899",
   "metadata": {},
   "outputs": [],
   "source": [
    "# 이때 수집한 것은 완전한 URL이 아니라 URL에 들어갈 ID (data-cid 라는 코드명으로 저장된) 이므로, 온전한 URL로 만들어줍니다\n",
    "\n",
    "df['naver_map_url'] = \"https://m.place.naver.com/restaurant/\" + df['naver_map_url']"
   ]
  },
  {
   "cell_type": "code",
   "execution_count": null,
   "id": "04f8b499",
   "metadata": {},
   "outputs": [],
   "source": [
    "# URL이 수집되지 않은 데이터는 제거합니다.\n",
    "df = df.loc[~df['naver_map_url'].isnull()]"
   ]
  },
  {
   "cell_type": "code",
   "execution_count": null,
   "id": "41843e97",
   "metadata": {},
   "outputs": [],
   "source": [
    "# 크롤링 에러가 떠서 'null'을 넣어 둔 데이터는 활용 의미가 없으므로 행 삭제를 해줘도 됩니다\n",
    "df = df.loc[~(df['naver_store_type'].str.contains('null'))]\n",
    "\n",
    "\n",
    "# 별점 평균, 수 같은 데이터 역시 스트링 타입으로 크롤링이 되었으므로 numeric으로 바꿔줍니다.\n",
    "df[['naver_star_point', 'naver_star_point_qty', 'naver_blog_review_qty']] = df[['naver_star_point', 'naver_star_point_qty', 'naver_blog_review_qty']].apply(pd.to_numeric)\n",
    "Python\n"
   ]
  },
  {
   "cell_type": "code",
   "execution_count": null,
   "id": "8805e6ac",
   "metadata": {},
   "outputs": [],
   "source": []
  },
  {
   "cell_type": "code",
   "execution_count": null,
   "id": "38a4286e",
   "metadata": {},
   "outputs": [],
   "source": []
  },
  {
   "cell_type": "code",
   "execution_count": null,
   "id": "41bc3db6",
   "metadata": {},
   "outputs": [],
   "source": [
    "from selenium import webdriver\n",
    "import time\n",
    "\n",
    "# 크롬창(웹드라이버) 열기\n",
    "driver = webdriver.Chrome(\"D:/20220103_lab/14.python/data/chrome/chromedriver\")"
   ]
  },
  {
   "cell_type": "code",
   "execution_count": null,
   "id": "a5dab0b9",
   "metadata": {},
   "outputs": [],
   "source": [
    "# 구글 지도 접속하기\n",
    "driver.get(\"https://www.google.com/maps/\")"
   ]
  },
  {
   "cell_type": "code",
   "execution_count": null,
   "id": "952b7d32",
   "metadata": {},
   "outputs": [],
   "source": [
    "# 검색창에 \"카페\" 입력하기\n",
    "searchbox = driver.find_element_by_css_selector(\"input#searchboxinput\")\n",
    "searchbox.send_keys(\"동물병원\")"
   ]
  },
  {
   "cell_type": "code",
   "execution_count": null,
   "id": "3a76aa82",
   "metadata": {},
   "outputs": [],
   "source": [
    "# 검색버튼 누르기\n",
    "searchbutton = driver.find_element_by_css_selector(\"button#searchbox-searchbutton\")\n",
    "searchbutton.click()"
   ]
  },
  {
   "cell_type": "code",
   "execution_count": 53,
   "id": "98a0b150",
   "metadata": {
    "scrolled": false
   },
   "outputs": [
    {
     "name": "stderr",
     "output_type": "stream",
     "text": [
      "C:\\Users\\82103\\AppData\\Local\\Temp/ipykernel_20284/2762349343.py:6: DeprecationWarning: find_elements_by_css_selector is deprecated. Please use find_elements(by=By.CSS_SELECTOR, value=css_selector) instead\n",
      "  stores = driver.find_elements_by_css_selector(\"div.section-result-content\")\n",
      "C:\\Users\\82103\\AppData\\Local\\Temp/ipykernel_20284/2762349343.py:28: DeprecationWarning: find_element_by_css_selector is deprecated. Please use find_element(by=By.CSS_SELECTOR, value=css_selector) instead\n",
      "  nextpage = driver.find_element_by_css_selector(\"button#ppdPk-Ej1Yeb-LgbsSe-tJiF1e\")\n"
     ]
    },
    {
     "name": "stdout",
     "output_type": "stream",
     "text": [
      "데이터 수집 완료.\n"
     ]
    }
   ],
   "source": [
    "# 여러 페이지(999)에서 반복하기\n",
    "for i in range(999):\n",
    "    time.sleep(3)\n",
    "\n",
    "    # 컨테이너(가게) 데이터 수집 // div.section-result-content\n",
    "    stores = driver.find_elements_by_css_selector(\"div.section-result-content\")\n",
    "    \n",
    "\n",
    "    for s in stores:\n",
    "        # 가게 이름 데이터 수집 // h3.section-result-title\n",
    "        title = s.find_element_by_css_selector(\"h3.section-result-title\").text\n",
    "\n",
    "        # 평점 데이터 수집 // span.cards-rating-score\n",
    "        # 평점이 없는 경우 에러 처리\n",
    "        try:\n",
    "            score = s.find_element_by_css_selector(\"span.cards-rating-score\").text\n",
    "        except:\n",
    "            score = \"평점없음\"\n",
    "\n",
    "            # 가게 주소 데이터 수집 // span.section-result-location\n",
    "\n",
    "            addr = s.find_element_by_css_selector(\"span.section-result-location\").text\n",
    "\n",
    "            print(title, \"/\", score, \"/\", addr)\n",
    "            \n",
    "    # 다음페이지 버튼 클릭 하기\n",
    "    # 다음페이지가 없는 경우(데이터 수집 완료) 에러 처리\n",
    "    try:\n",
    "        nextpage = driver.find_element_by_css_selector(\"button#ppdPk-Ej1Yeb-LgbsSe-tJiF1e\")\n",
    "        nextpage.click()\n",
    "    except:\n",
    "        print(\"데이터 수집 완료.\")\n",
    "        break"
   ]
  },
  {
   "cell_type": "code",
   "execution_count": 54,
   "id": "cbac19ee",
   "metadata": {},
   "outputs": [
    {
     "data": {
      "text/plain": [
       "[]"
      ]
     },
     "execution_count": 54,
     "metadata": {},
     "output_type": "execute_result"
    }
   ],
   "source": [
    "stores"
   ]
  },
  {
   "cell_type": "code",
   "execution_count": null,
   "id": "67c7b7e2",
   "metadata": {},
   "outputs": [],
   "source": []
  },
  {
   "cell_type": "code",
   "execution_count": null,
   "id": "d94df403",
   "metadata": {},
   "outputs": [],
   "source": [
    "# 크롬창 닫기\n",
    "driver.close()\n",
    "# 출처: https://datalabbit.tistory.com/45 [간토끼 DataMining Lab:티스토리]"
   ]
  },
  {
   "cell_type": "code",
   "execution_count": null,
   "id": "9bcf8529",
   "metadata": {},
   "outputs": [],
   "source": []
  },
  {
   "cell_type": "code",
   "execution_count": null,
   "id": "bf80dd72",
   "metadata": {},
   "outputs": [],
   "source": []
  },
  {
   "cell_type": "code",
   "execution_count": 18,
   "id": "2c418df3",
   "metadata": {},
   "outputs": [],
   "source": [
    "from selenium import webdriver\n",
    "import time\n",
    "from selenium.webdriver.common.by import By"
   ]
  },
  {
   "cell_type": "code",
   "execution_count": 19,
   "id": "c0d9ff20",
   "metadata": {
    "scrolled": true
   },
   "outputs": [
    {
     "name": "stderr",
     "output_type": "stream",
     "text": [
      "C:\\Users\\82103\\AppData\\Local\\Temp/ipykernel_20284/3310334687.py:1: DeprecationWarning: executable_path has been deprecated, please pass in a Service object\n",
      "  driver = webdriver.Chrome(\"D:/20220103_lab/14.python/data/chrome/chromedriver\")\n"
     ]
    }
   ],
   "source": [
    "driver = webdriver.Chrome(\"D:/20220103_lab/14.python/data/chrome/chromedriver\")"
   ]
  },
  {
   "cell_type": "code",
   "execution_count": 20,
   "id": "6dd35387",
   "metadata": {},
   "outputs": [],
   "source": [
    "driver.get(\"https://www.google.com/maps/\")"
   ]
  },
  {
   "cell_type": "code",
   "execution_count": 21,
   "id": "efcaa065",
   "metadata": {},
   "outputs": [
    {
     "name": "stderr",
     "output_type": "stream",
     "text": [
      "C:\\Users\\82103\\AppData\\Local\\Temp/ipykernel_20284/2243747384.py:1: DeprecationWarning: find_element_by_css_selector is deprecated. Please use find_element(by=By.CSS_SELECTOR, value=css_selector) instead\n",
      "  searchbox = driver.find_element_by_css_selector(\"input#searchboxinput\")\n"
     ]
    }
   ],
   "source": [
    "searchbox = driver.find_element_by_css_selector(\"input#searchboxinput\")\n",
    "searchbox.send_keys(\"동물병원\")"
   ]
  },
  {
   "cell_type": "code",
   "execution_count": 22,
   "id": "0043673c",
   "metadata": {},
   "outputs": [
    {
     "name": "stderr",
     "output_type": "stream",
     "text": [
      "C:\\Users\\82103\\AppData\\Local\\Temp/ipykernel_20284/1190549724.py:1: DeprecationWarning: find_element_by_css_selector is deprecated. Please use find_element(by=By.CSS_SELECTOR, value=css_selector) instead\n",
      "  searchbutton = driver.find_element_by_css_selector(\"button#searchbox-searchbutton\")\n"
     ]
    }
   ],
   "source": [
    "searchbutton = driver.find_element_by_css_selector(\"button#searchbox-searchbutton\")\n",
    "searchbutton.click()"
   ]
  },
  {
   "cell_type": "code",
   "execution_count": 126,
   "id": "d872834d",
   "metadata": {},
   "outputs": [
    {
     "name": "stdout",
     "output_type": "stream",
     "text": [
      "데이터 수집 완료.\n"
     ]
    },
    {
     "name": "stderr",
     "output_type": "stream",
     "text": [
      "C:\\Users\\82103\\AppData\\Local\\Temp/ipykernel_20284/1891611790.py:3: DeprecationWarning: find_elements_by_css_selector is deprecated. Please use find_elements(by=By.CSS_SELECTOR, value=css_selector) instead\n",
      "  stores = driver.find_elements_by_css_selector(\"QA0Szd\")\n"
     ]
    }
   ],
   "source": [
    "for i in range(999):\n",
    "    time.sleep(3)\n",
    "    stores = driver.find_elements_by_css_selector(\"QA0Szd\")\n",
    "    for s in stores:\n",
    "        print(s)\n",
    "        title = s.find_element_by_css_selector(\"h3.section-result-title\").text\n",
    "        try:\n",
    "            score = s.find_element_by_css_selector(\"span.cards-rating-score\").text\n",
    "        except:\n",
    "            score = \"평점없음\"\n",
    "            \n",
    "            addr = s.find_element_by_css_selector(\"span.section-result-location\").text\n",
    "            \n",
    "            print(title, \"/\", score, \"/\", addr)\n",
    "            \n",
    "    try:\n",
    "        nextpage = driver.find_element_by_css_selebctor(\"button#ppdPk-Ej1Yeb-LgbsSe-tJiF1e\")\n",
    "        nextpage.click()\n",
    "    except:\n",
    "        print(\"데이터 수집 완료.\")\n",
    "        break"
   ]
  },
  {
   "cell_type": "code",
   "execution_count": 65,
   "id": "992808ce",
   "metadata": {},
   "outputs": [
    {
     "ename": "NameError",
     "evalue": "name 's' is not defined",
     "output_type": "error",
     "traceback": [
      "\u001b[1;31m---------------------------------------------------------------------------\u001b[0m",
      "\u001b[1;31mNameError\u001b[0m                                 Traceback (most recent call last)",
      "\u001b[1;32m~\\AppData\\Local\\Temp/ipykernel_20284/1028141915.py\u001b[0m in \u001b[0;36m<module>\u001b[1;34m\u001b[0m\n\u001b[1;32m----> 1\u001b[1;33m \u001b[0ms\u001b[0m\u001b[1;33m\u001b[0m\u001b[1;33m\u001b[0m\u001b[0m\n\u001b[0m",
      "\u001b[1;31mNameError\u001b[0m: name 's' is not defined"
     ]
    }
   ],
   "source": [
    "s"
   ]
  },
  {
   "cell_type": "code",
   "execution_count": 63,
   "id": "9b4ae779",
   "metadata": {},
   "outputs": [
    {
     "ename": "NameError",
     "evalue": "name 'title' is not defined",
     "output_type": "error",
     "traceback": [
      "\u001b[1;31m---------------------------------------------------------------------------\u001b[0m",
      "\u001b[1;31mNameError\u001b[0m                                 Traceback (most recent call last)",
      "\u001b[1;32m~\\AppData\\Local\\Temp/ipykernel_20284/1319944078.py\u001b[0m in \u001b[0;36m<module>\u001b[1;34m\u001b[0m\n\u001b[1;32m----> 1\u001b[1;33m \u001b[0mtitle\u001b[0m\u001b[1;33m\u001b[0m\u001b[1;33m\u001b[0m\u001b[0m\n\u001b[0m",
      "\u001b[1;31mNameError\u001b[0m: name 'title' is not defined"
     ]
    }
   ],
   "source": [
    "title"
   ]
  },
  {
   "cell_type": "code",
   "execution_count": null,
   "id": "4ef0aecc",
   "metadata": {},
   "outputs": [],
   "source": []
  },
  {
   "cell_type": "code",
   "execution_count": null,
   "id": "0ece78ef",
   "metadata": {},
   "outputs": [],
   "source": [
    "driver.close()"
   ]
  },
  {
   "cell_type": "code",
   "execution_count": null,
   "id": "9e4dfe43",
   "metadata": {},
   "outputs": [],
   "source": [
    "\n",
    "\n",
    "\n",
    "\n",
    "\n",
    "\n",
    "\n",
    "\n",
    "\n",
    "\n"
   ]
  },
  {
   "cell_type": "code",
   "execution_count": 33,
   "id": "2b49489b",
   "metadata": {},
   "outputs": [],
   "source": [
    "from selenium import webdriver\n",
    "import time\n",
    "from selenium.webdriver.common.by import By"
   ]
  },
  {
   "cell_type": "code",
   "execution_count": 34,
   "id": "2ec9eec9",
   "metadata": {
    "scrolled": true
   },
   "outputs": [
    {
     "name": "stderr",
     "output_type": "stream",
     "text": [
      "C:\\Users\\82103\\AppData\\Local\\Temp/ipykernel_20284/3310334687.py:1: DeprecationWarning: executable_path has been deprecated, please pass in a Service object\n",
      "  driver = webdriver.Chrome(\"D:/20220103_lab/14.python/data/chrome/chromedriver\")\n"
     ]
    }
   ],
   "source": [
    "driver = webdriver.Chrome(\"D:/20220103_lab/14.python/data/chrome/chromedriver\")"
   ]
  },
  {
   "cell_type": "code",
   "execution_count": 35,
   "id": "6148bb8f",
   "metadata": {},
   "outputs": [],
   "source": [
    "driver.get(\"https://www.google.com/maps/\")"
   ]
  },
  {
   "cell_type": "code",
   "execution_count": 36,
   "id": "d62dcee9",
   "metadata": {},
   "outputs": [],
   "source": [
    "search_input_tag = driver.find_element(By.ID, 'searchboxinput')\n",
    "search_input_tag.send_keys('동물병원')\n",
    "time.sleep(1)"
   ]
  },
  {
   "cell_type": "code",
   "execution_count": 37,
   "id": "a58ca120",
   "metadata": {},
   "outputs": [],
   "source": [
    "search_button_tag = driver.find_element(By.ID, 'searchbox-searchbutton')\n",
    "search_button_tag.click()\n",
    "time.sleep(5)"
   ]
  },
  {
   "cell_type": "code",
   "execution_count": 66,
   "id": "d4afd7f0",
   "metadata": {},
   "outputs": [],
   "source": [
    "target = driver.find_element(By.XPATH, '/html/body/div[3]/div[9]/div[9]/div[1]/div[1]/div[1]/div[2]')"
   ]
  },
  {
   "cell_type": "code",
   "execution_count": 39,
   "id": "b89fceff",
   "metadata": {
    "scrolled": false
   },
   "outputs": [
    {
     "data": {
      "text/plain": [
       "'평점\\n영업시간\\n모든 필터\\n아마존동물병원\\n4.6(25)\\n동물병원 · 임학동 67-7\\n영업 중 ⋅ 오후 8:00에 영업 종료 · 032-555-7502 ext. 3\\n경로\\n계양동물메디컬센터\\n4.3(50)\\n동물병원 · 계산동 942-24번지\\n영업 중 ⋅ 오후 8:00에 영업 종료 · 032-555-9975\\n경로\\n해림동물병원\\n4.8(100)\\n동물병원 · 작전동 864-39\\n영업 중 ⋅ 오후 8:00에 영업 종료 · 032-546-0079\\n경로\\n한솔동물병원\\n4.3(13)\\n동물병원 · 계산2동 918-2\\n지금 영업 중 · 032-553-4652\\n웹사이트\\n경로\\n아프리카 동물의료센터 [구 아프리카동물병원]\\n4.4(89)\\n동물병원 · 장제로340번길 5 3층\\n영업 중 ⋅ 오후 10:00에 영업 종료 · 032-508-7582\\n웹사이트\\n경로\\n이지동물병원\\n4.5(8)\\n동물 병원 · 병방동 422\\n영업 중 ⋅ 오후 8:00에 영업 종료 · 032-549-0077\\n경로\\n신통방통동물병원\\n4.9(10)\\n동물 병원 · 작전동 863\\n영업 중 ⋅ 오후 8:00에 영업 종료 · 032-552-3369\\n경로\\n다오동물병원\\n4.7(6)\\n동물병원 · 계산동 1062\\n032-548-0275\\n경로\\n작전24동물병원\\n4.4(7)\\n동물병원 · 작전동 925-1\\n경로\\n재영동물병원\\n3.8(4)\\n동물병원 · 계산1동\\n지금 영업 중 · 032-542-4647\\n경로\\n검색결과 1 - 20 표시 중\\n지도 이동 시 결과 업데이트\\n로그인\\n레이어\\n지도 데이터 ©2022 TMap Mobility대한민국약관개인정보처리방침\\n의견 보내기\\n500m'"
      ]
     },
     "execution_count": 39,
     "metadata": {},
     "output_type": "execute_result"
    }
   ],
   "source": [
    "target.text"
   ]
  },
  {
   "cell_type": "code",
   "execution_count": 170,
   "id": "deb99b43",
   "metadata": {},
   "outputs": [],
   "source": [
    "driver.execute_script(\"window.scrollTo(0, 10000)\") "
   ]
  },
  {
   "cell_type": "code",
   "execution_count": 171,
   "id": "d6c4aaa1",
   "metadata": {},
   "outputs": [],
   "source": [
    "driver.execute_script(\"window.scrollTo(0, 1000)\") "
   ]
  },
  {
   "cell_type": "code",
   "execution_count": 43,
   "id": "26b76b0d",
   "metadata": {},
   "outputs": [],
   "source": [
    "last_height = driver.execute_script(\"return document.body.scrollHeight\")"
   ]
  },
  {
   "cell_type": "code",
   "execution_count": 44,
   "id": "adc02126",
   "metadata": {},
   "outputs": [
    {
     "data": {
      "text/plain": [
       "887"
      ]
     },
     "execution_count": 44,
     "metadata": {},
     "output_type": "execute_result"
    }
   ],
   "source": [
    "last_height"
   ]
  },
  {
   "cell_type": "code",
   "execution_count": 45,
   "id": "c62ce231",
   "metadata": {},
   "outputs": [],
   "source": [
    "SCROLL_PAUSE_SEC = 1\n",
    "while True:\n",
    "    # 끝까지 스크롤 다운\n",
    "    driver.execute_script(\"window.scrollTo(0, document.body.scrollHeight);\")\n",
    "\n",
    "    # 1초 대기\n",
    "    time.sleep(SCROLL_PAUSE_SEC)\n",
    "\n",
    "    # 스크롤 다운 후 스크롤 높이 다시 가져옴\n",
    "    new_height = driver.execute_script(\"return document.body.scrollHeight\")\n",
    "    if new_height == last_height:\n",
    "        break\n",
    "    last_height = new_height"
   ]
  },
  {
   "cell_type": "code",
   "execution_count": 50,
   "id": "bf78c400",
   "metadata": {},
   "outputs": [],
   "source": [
    "# ActionChains 를 사용하기 위해서.\n",
    "from selenium.webdriver import ActionChains\n",
    "\n",
    "# id가 something 인 element 를 찾음\n",
    "some_tag = driver.find_element(By.ID, 'pane')\n",
    "\n",
    "# somthing element 까지 스크롤\n",
    "action = ActionChains(driver)\n",
    "action.move_to_element(some_tag).perform()\n"
   ]
  },
  {
   "cell_type": "code",
   "execution_count": null,
   "id": "3728c7b1",
   "metadata": {},
   "outputs": [],
   "source": []
  },
  {
   "cell_type": "code",
   "execution_count": null,
   "id": "fa104b9c",
   "metadata": {},
   "outputs": [],
   "source": []
  },
  {
   "cell_type": "code",
   "execution_count": null,
   "id": "0910117e",
   "metadata": {},
   "outputs": [],
   "source": []
  },
  {
   "cell_type": "code",
   "execution_count": 8,
   "id": "fae44587",
   "metadata": {},
   "outputs": [
    {
     "ename": "JavascriptException",
     "evalue": "Message: javascript error: Cannot read properties of null (reading 'scrollTo')\n  (Session info: chrome=102.0.5005.62)\nStacktrace:\nBacktrace:\n\tOrdinal0 [0x00B7B8F3+2406643]\n\tOrdinal0 [0x00B0AF31+1945393]\n\tOrdinal0 [0x009FC748+837448]\n\tOrdinal0 [0x009FF154+848212]\n\tOrdinal0 [0x009FF012+847890]\n\tOrdinal0 [0x009FF98A+850314]\n\tOrdinal0 [0x00A550C9+1200329]\n\tOrdinal0 [0x00A4427C+1131132]\n\tOrdinal0 [0x00A54682+1197698]\n\tOrdinal0 [0x00A44096+1130646]\n\tOrdinal0 [0x00A1E636+976438]\n\tOrdinal0 [0x00A1F546+980294]\n\tGetHandleVerifier [0x00DE9612+2498066]\n\tGetHandleVerifier [0x00DDC920+2445600]\n\tGetHandleVerifier [0x00C14F2A+579370]\n\tGetHandleVerifier [0x00C13D36+574774]\n\tOrdinal0 [0x00B11C0B+1973259]\n\tOrdinal0 [0x00B16688+1992328]\n\tOrdinal0 [0x00B16775+1992565]\n\tOrdinal0 [0x00B1F8D1+2029777]\n\tBaseThreadInitThunk [0x7619FA29+25]\n\tRtlGetAppContainerNamedObjectPath [0x77977A7E+286]\n\tRtlGetAppContainerNamedObjectPath [0x77977A4E+238]\n",
     "output_type": "error",
     "traceback": [
      "\u001b[1;31m---------------------------------------------------------------------------\u001b[0m",
      "\u001b[1;31mJavascriptException\u001b[0m                       Traceback (most recent call last)",
      "\u001b[1;32m~\\AppData\\Local\\Temp/ipykernel_20284/3439740856.py\u001b[0m in \u001b[0;36m<module>\u001b[1;34m\u001b[0m\n\u001b[0;32m      1\u001b[0m \u001b[1;32mfor\u001b[0m \u001b[0mi\u001b[0m \u001b[1;32min\u001b[0m \u001b[0mrange\u001b[0m\u001b[1;33m(\u001b[0m\u001b[1;36m0\u001b[0m\u001b[1;33m,\u001b[0m\u001b[1;36m10\u001b[0m\u001b[1;33m)\u001b[0m\u001b[1;33m:\u001b[0m\u001b[1;33m\u001b[0m\u001b[1;33m\u001b[0m\u001b[0m\n\u001b[1;32m----> 2\u001b[1;33m     \u001b[0mdriver\u001b[0m\u001b[1;33m.\u001b[0m\u001b[0mexecute_script\u001b[0m\u001b[1;33m(\u001b[0m\u001b[1;34m'test=document.querySelector(\"#pane > div > div.Yr7JMd-pane-content.cYB2Ge-oHo7ed > div > div > div.siAUzd-neVct.section-scrollbox.cYB2Ge-oHo7ed.cYB2Ge-ti6hGc.siAUzd-neVct-Q3DXx-BvBYQ > div.siAUzd-neVct.section-scrollbox.cYB2Ge-oHo7ed.cYB2Ge-ti6hGc.siAUzd-neVct-Q3DXx-BvBYQ\"); test.scrollTo(0, 10000000000000000000);'\u001b[0m\u001b[1;33m)\u001b[0m\u001b[1;33m\u001b[0m\u001b[1;33m\u001b[0m\u001b[0m\n\u001b[0m\u001b[0;32m      3\u001b[0m     \u001b[0mtime\u001b[0m\u001b[1;33m.\u001b[0m\u001b[0msleep\u001b[0m\u001b[1;33m(\u001b[0m\u001b[1;36m1\u001b[0m\u001b[1;33m)\u001b[0m\u001b[1;33m\u001b[0m\u001b[1;33m\u001b[0m\u001b[0m\n",
      "\u001b[1;32mD:\\anaconda\\lib\\site-packages\\selenium\\webdriver\\remote\\webdriver.py\u001b[0m in \u001b[0;36mexecute_script\u001b[1;34m(self, script, *args)\u001b[0m\n\u001b[0;32m    877\u001b[0m         \u001b[0mcommand\u001b[0m \u001b[1;33m=\u001b[0m \u001b[0mCommand\u001b[0m\u001b[1;33m.\u001b[0m\u001b[0mW3C_EXECUTE_SCRIPT\u001b[0m\u001b[1;33m\u001b[0m\u001b[1;33m\u001b[0m\u001b[0m\n\u001b[0;32m    878\u001b[0m \u001b[1;33m\u001b[0m\u001b[0m\n\u001b[1;32m--> 879\u001b[1;33m         return self.execute(command, {\n\u001b[0m\u001b[0;32m    880\u001b[0m             \u001b[1;34m'script'\u001b[0m\u001b[1;33m:\u001b[0m \u001b[0mscript\u001b[0m\u001b[1;33m,\u001b[0m\u001b[1;33m\u001b[0m\u001b[1;33m\u001b[0m\u001b[0m\n\u001b[0;32m    881\u001b[0m             'args': converted_args})['value']\n",
      "\u001b[1;32mD:\\anaconda\\lib\\site-packages\\selenium\\webdriver\\remote\\webdriver.py\u001b[0m in \u001b[0;36mexecute\u001b[1;34m(self, driver_command, params)\u001b[0m\n\u001b[0;32m    423\u001b[0m         \u001b[0mresponse\u001b[0m \u001b[1;33m=\u001b[0m \u001b[0mself\u001b[0m\u001b[1;33m.\u001b[0m\u001b[0mcommand_executor\u001b[0m\u001b[1;33m.\u001b[0m\u001b[0mexecute\u001b[0m\u001b[1;33m(\u001b[0m\u001b[0mdriver_command\u001b[0m\u001b[1;33m,\u001b[0m \u001b[0mparams\u001b[0m\u001b[1;33m)\u001b[0m\u001b[1;33m\u001b[0m\u001b[1;33m\u001b[0m\u001b[0m\n\u001b[0;32m    424\u001b[0m         \u001b[1;32mif\u001b[0m \u001b[0mresponse\u001b[0m\u001b[1;33m:\u001b[0m\u001b[1;33m\u001b[0m\u001b[1;33m\u001b[0m\u001b[0m\n\u001b[1;32m--> 425\u001b[1;33m             \u001b[0mself\u001b[0m\u001b[1;33m.\u001b[0m\u001b[0merror_handler\u001b[0m\u001b[1;33m.\u001b[0m\u001b[0mcheck_response\u001b[0m\u001b[1;33m(\u001b[0m\u001b[0mresponse\u001b[0m\u001b[1;33m)\u001b[0m\u001b[1;33m\u001b[0m\u001b[1;33m\u001b[0m\u001b[0m\n\u001b[0m\u001b[0;32m    426\u001b[0m             response['value'] = self._unwrap_value(\n\u001b[0;32m    427\u001b[0m                 response.get('value', None))\n",
      "\u001b[1;32mD:\\anaconda\\lib\\site-packages\\selenium\\webdriver\\remote\\errorhandler.py\u001b[0m in \u001b[0;36mcheck_response\u001b[1;34m(self, response)\u001b[0m\n\u001b[0;32m    245\u001b[0m                 \u001b[0malert_text\u001b[0m \u001b[1;33m=\u001b[0m \u001b[0mvalue\u001b[0m\u001b[1;33m[\u001b[0m\u001b[1;34m'alert'\u001b[0m\u001b[1;33m]\u001b[0m\u001b[1;33m.\u001b[0m\u001b[0mget\u001b[0m\u001b[1;33m(\u001b[0m\u001b[1;34m'text'\u001b[0m\u001b[1;33m)\u001b[0m\u001b[1;33m\u001b[0m\u001b[1;33m\u001b[0m\u001b[0m\n\u001b[0;32m    246\u001b[0m             \u001b[1;32mraise\u001b[0m \u001b[0mexception_class\u001b[0m\u001b[1;33m(\u001b[0m\u001b[0mmessage\u001b[0m\u001b[1;33m,\u001b[0m \u001b[0mscreen\u001b[0m\u001b[1;33m,\u001b[0m \u001b[0mstacktrace\u001b[0m\u001b[1;33m,\u001b[0m \u001b[0malert_text\u001b[0m\u001b[1;33m)\u001b[0m  \u001b[1;31m# type: ignore[call-arg]  # mypy is not smart enough here\u001b[0m\u001b[1;33m\u001b[0m\u001b[1;33m\u001b[0m\u001b[0m\n\u001b[1;32m--> 247\u001b[1;33m         \u001b[1;32mraise\u001b[0m \u001b[0mexception_class\u001b[0m\u001b[1;33m(\u001b[0m\u001b[0mmessage\u001b[0m\u001b[1;33m,\u001b[0m \u001b[0mscreen\u001b[0m\u001b[1;33m,\u001b[0m \u001b[0mstacktrace\u001b[0m\u001b[1;33m)\u001b[0m\u001b[1;33m\u001b[0m\u001b[1;33m\u001b[0m\u001b[0m\n\u001b[0m\u001b[0;32m    248\u001b[0m \u001b[1;33m\u001b[0m\u001b[0m\n\u001b[0;32m    249\u001b[0m     \u001b[1;32mdef\u001b[0m \u001b[0m_value_or_default\u001b[0m\u001b[1;33m(\u001b[0m\u001b[0mself\u001b[0m\u001b[1;33m,\u001b[0m \u001b[0mobj\u001b[0m\u001b[1;33m:\u001b[0m \u001b[0mMapping\u001b[0m\u001b[1;33m[\u001b[0m\u001b[0m_KT\u001b[0m\u001b[1;33m,\u001b[0m \u001b[0m_VT\u001b[0m\u001b[1;33m]\u001b[0m\u001b[1;33m,\u001b[0m \u001b[0mkey\u001b[0m\u001b[1;33m:\u001b[0m \u001b[0m_KT\u001b[0m\u001b[1;33m,\u001b[0m \u001b[0mdefault\u001b[0m\u001b[1;33m:\u001b[0m \u001b[0m_VT\u001b[0m\u001b[1;33m)\u001b[0m \u001b[1;33m->\u001b[0m \u001b[0m_VT\u001b[0m\u001b[1;33m:\u001b[0m\u001b[1;33m\u001b[0m\u001b[1;33m\u001b[0m\u001b[0m\n",
      "\u001b[1;31mJavascriptException\u001b[0m: Message: javascript error: Cannot read properties of null (reading 'scrollTo')\n  (Session info: chrome=102.0.5005.62)\nStacktrace:\nBacktrace:\n\tOrdinal0 [0x00B7B8F3+2406643]\n\tOrdinal0 [0x00B0AF31+1945393]\n\tOrdinal0 [0x009FC748+837448]\n\tOrdinal0 [0x009FF154+848212]\n\tOrdinal0 [0x009FF012+847890]\n\tOrdinal0 [0x009FF98A+850314]\n\tOrdinal0 [0x00A550C9+1200329]\n\tOrdinal0 [0x00A4427C+1131132]\n\tOrdinal0 [0x00A54682+1197698]\n\tOrdinal0 [0x00A44096+1130646]\n\tOrdinal0 [0x00A1E636+976438]\n\tOrdinal0 [0x00A1F546+980294]\n\tGetHandleVerifier [0x00DE9612+2498066]\n\tGetHandleVerifier [0x00DDC920+2445600]\n\tGetHandleVerifier [0x00C14F2A+579370]\n\tGetHandleVerifier [0x00C13D36+574774]\n\tOrdinal0 [0x00B11C0B+1973259]\n\tOrdinal0 [0x00B16688+1992328]\n\tOrdinal0 [0x00B16775+1992565]\n\tOrdinal0 [0x00B1F8D1+2029777]\n\tBaseThreadInitThunk [0x7619FA29+25]\n\tRtlGetAppContainerNamedObjectPath [0x77977A7E+286]\n\tRtlGetAppContainerNamedObjectPath [0x77977A4E+238]\n"
     ]
    }
   ],
   "source": [
    "for i in range(0,10):\n",
    "    driver.execute_script('test=document.querySelector(\"#pane > div > div.Yr7JMd-pane-content.cYB2Ge-oHo7ed > div > div > div.siAUzd-neVct.section-scrollbox.cYB2Ge-oHo7ed.cYB2Ge-ti6hGc.siAUzd-neVct-Q3DXx-BvBYQ > div.siAUzd-neVct.section-scrollbox.cYB2Ge-oHo7ed.cYB2Ge-ti6hGc.siAUzd-neVct-Q3DXx-BvBYQ\"); test.scrollTo(0, 10000000000000000000);')\n",
    "    time.sleep(1)"
   ]
  },
  {
   "cell_type": "code",
   "execution_count": null,
   "id": "784c9de9",
   "metadata": {},
   "outputs": [],
   "source": [
    "for divtag in target.find_elements(By.XPATH, './div'):\n",
    "    if divtag.text != \"\":\n",
    "        print(\"--------------------------\")\n",
    "        atag = divtag.find_element(By.XPATH, './div/a[1]')\n",
    "        subdiv = divtag.find_element(By.XPATH, \"./div/div[2]\")\n",
    "        name = subdiv.find_element(By.XPATH, \"./div[2]/div[1]/div[1]/div[1]/div[1]/div[1]\")\n",
    "        star = subdiv.find_element(By.XPATH, \"./div[2]/div[1]/div[1]/div[1]/div[1]/div[3]\")\n",
    "        addr = subdiv.find_element(By.XPATH, \"./div[2]/div[1]/div[1]/div[1]/div[1]/div[4]/div[1]\")\n",
    "\n",
    "        print(name.text)\n",
    "        print(addr.text)\n",
    "        print(atag.get_attribute('href').split('!')[5][2:])\n",
    "        print(atag.get_attribute('href').split('!')[6].split('?')[0][2:])\n",
    "        print(star.text)\n",
    "# [출처] 파이썬 크롤링 셀레니움 (구글지도 맛집 정보, 오늘의집 크롤링 등)|작성자 홍인\n",
    "# https://blog.naver.com/hongin90/222661902505"
   ]
  },
  {
   "cell_type": "code",
   "execution_count": null,
   "id": "f499df02",
   "metadata": {},
   "outputs": [],
   "source": []
  },
  {
   "cell_type": "code",
   "execution_count": null,
   "id": "04c4f631",
   "metadata": {},
   "outputs": [],
   "source": []
  },
  {
   "cell_type": "code",
   "execution_count": null,
   "id": "703282c2",
   "metadata": {},
   "outputs": [],
   "source": []
  },
  {
   "cell_type": "code",
   "execution_count": null,
   "id": "946e441d",
   "metadata": {},
   "outputs": [],
   "source": []
  },
  {
   "cell_type": "code",
   "execution_count": 144,
   "id": "7a2df9b2",
   "metadata": {},
   "outputs": [],
   "source": [
    "from selenium.webdriver.common.keys import Keys\n",
    "from selenium import webdriver\n",
    "import time\n",
    "from selenium.webdriver.common.by import By"
   ]
  },
  {
   "cell_type": "code",
   "execution_count": 2,
   "id": "cb39f118",
   "metadata": {},
   "outputs": [
    {
     "name": "stderr",
     "output_type": "stream",
     "text": [
      "C:\\Users\\82103\\AppData\\Local\\Temp/ipykernel_20184/3310334687.py:1: DeprecationWarning: executable_path has been deprecated, please pass in a Service object\n",
      "  driver = webdriver.Chrome(\"D:/20220103_lab/14.python/data/chrome/chromedriver\")\n"
     ]
    }
   ],
   "source": [
    "driver = webdriver.Chrome(\"D:/20220103_lab/14.python/data/chrome/chromedriver\")"
   ]
  },
  {
   "cell_type": "code",
   "execution_count": 4,
   "id": "30b43ccf",
   "metadata": {},
   "outputs": [],
   "source": [
    "driver.get(\"https://map.kakao.com/\")"
   ]
  },
  {
   "cell_type": "code",
   "execution_count": 311,
   "id": "82e1708e",
   "metadata": {},
   "outputs": [
    {
     "ename": "NoSuchElementException",
     "evalue": "Message: no such element: Unable to locate element: {\"method\":\"css selector\",\"selector\":\"[id=\"search.keyword.query\"]\"}\n  (Session info: chrome=102.0.5005.62)\nStacktrace:\nBacktrace:\n\tOrdinal0 [0x00B7B8F3+2406643]\n\tOrdinal0 [0x00B0AF31+1945393]\n\tOrdinal0 [0x009FC748+837448]\n\tOrdinal0 [0x00A292E0+1020640]\n\tOrdinal0 [0x00A2957B+1021307]\n\tOrdinal0 [0x00A56372+1205106]\n\tOrdinal0 [0x00A442C4+1131204]\n\tOrdinal0 [0x00A54682+1197698]\n\tOrdinal0 [0x00A44096+1130646]\n\tOrdinal0 [0x00A1E636+976438]\n\tOrdinal0 [0x00A1F546+980294]\n\tGetHandleVerifier [0x00DE9612+2498066]\n\tGetHandleVerifier [0x00DDC920+2445600]\n\tGetHandleVerifier [0x00C14F2A+579370]\n\tGetHandleVerifier [0x00C13D36+574774]\n\tOrdinal0 [0x00B11C0B+1973259]\n\tOrdinal0 [0x00B16688+1992328]\n\tOrdinal0 [0x00B16775+1992565]\n\tOrdinal0 [0x00B1F8D1+2029777]\n\tBaseThreadInitThunk [0x7619FA29+25]\n\tRtlGetAppContainerNamedObjectPath [0x77977A7E+286]\n\tRtlGetAppContainerNamedObjectPath [0x77977A4E+238]\n",
     "output_type": "error",
     "traceback": [
      "\u001b[1;31m---------------------------------------------------------------------------\u001b[0m",
      "\u001b[1;31mNoSuchElementException\u001b[0m                    Traceback (most recent call last)",
      "\u001b[1;32m~\\AppData\\Local\\Temp/ipykernel_20284/2564510272.py\u001b[0m in \u001b[0;36m<module>\u001b[1;34m\u001b[0m\n\u001b[1;32m----> 1\u001b[1;33m \u001b[0msearch_input_tag\u001b[0m \u001b[1;33m=\u001b[0m \u001b[0mdriver\u001b[0m\u001b[1;33m.\u001b[0m\u001b[0mfind_element\u001b[0m\u001b[1;33m(\u001b[0m\u001b[0mBy\u001b[0m\u001b[1;33m.\u001b[0m\u001b[0mID\u001b[0m\u001b[1;33m,\u001b[0m \u001b[1;34m'search.keyword.query'\u001b[0m\u001b[1;33m)\u001b[0m\u001b[1;33m\u001b[0m\u001b[1;33m\u001b[0m\u001b[0m\n\u001b[0m\u001b[0;32m      2\u001b[0m \u001b[0msearch_input_tag\u001b[0m\u001b[1;33m.\u001b[0m\u001b[0msend_keys\u001b[0m\u001b[1;33m(\u001b[0m\u001b[1;34m'동물병원'\u001b[0m\u001b[1;33m)\u001b[0m\u001b[1;33m\u001b[0m\u001b[1;33m\u001b[0m\u001b[0m\n\u001b[0;32m      3\u001b[0m \u001b[0mtime\u001b[0m\u001b[1;33m.\u001b[0m\u001b[0msleep\u001b[0m\u001b[1;33m(\u001b[0m\u001b[1;36m1\u001b[0m\u001b[1;33m)\u001b[0m\u001b[1;33m\u001b[0m\u001b[1;33m\u001b[0m\u001b[0m\n",
      "\u001b[1;32mD:\\anaconda\\lib\\site-packages\\selenium\\webdriver\\remote\\webdriver.py\u001b[0m in \u001b[0;36mfind_element\u001b[1;34m(self, by, value)\u001b[0m\n\u001b[0;32m   1246\u001b[0m             \u001b[0mvalue\u001b[0m \u001b[1;33m=\u001b[0m \u001b[1;34m'[name=\"%s\"]'\u001b[0m \u001b[1;33m%\u001b[0m \u001b[0mvalue\u001b[0m\u001b[1;33m\u001b[0m\u001b[1;33m\u001b[0m\u001b[0m\n\u001b[0;32m   1247\u001b[0m \u001b[1;33m\u001b[0m\u001b[0m\n\u001b[1;32m-> 1248\u001b[1;33m         return self.execute(Command.FIND_ELEMENT, {\n\u001b[0m\u001b[0;32m   1249\u001b[0m             \u001b[1;34m'using'\u001b[0m\u001b[1;33m:\u001b[0m \u001b[0mby\u001b[0m\u001b[1;33m,\u001b[0m\u001b[1;33m\u001b[0m\u001b[1;33m\u001b[0m\u001b[0m\n\u001b[0;32m   1250\u001b[0m             'value': value})['value']\n",
      "\u001b[1;32mD:\\anaconda\\lib\\site-packages\\selenium\\webdriver\\remote\\webdriver.py\u001b[0m in \u001b[0;36mexecute\u001b[1;34m(self, driver_command, params)\u001b[0m\n\u001b[0;32m    423\u001b[0m         \u001b[0mresponse\u001b[0m \u001b[1;33m=\u001b[0m \u001b[0mself\u001b[0m\u001b[1;33m.\u001b[0m\u001b[0mcommand_executor\u001b[0m\u001b[1;33m.\u001b[0m\u001b[0mexecute\u001b[0m\u001b[1;33m(\u001b[0m\u001b[0mdriver_command\u001b[0m\u001b[1;33m,\u001b[0m \u001b[0mparams\u001b[0m\u001b[1;33m)\u001b[0m\u001b[1;33m\u001b[0m\u001b[1;33m\u001b[0m\u001b[0m\n\u001b[0;32m    424\u001b[0m         \u001b[1;32mif\u001b[0m \u001b[0mresponse\u001b[0m\u001b[1;33m:\u001b[0m\u001b[1;33m\u001b[0m\u001b[1;33m\u001b[0m\u001b[0m\n\u001b[1;32m--> 425\u001b[1;33m             \u001b[0mself\u001b[0m\u001b[1;33m.\u001b[0m\u001b[0merror_handler\u001b[0m\u001b[1;33m.\u001b[0m\u001b[0mcheck_response\u001b[0m\u001b[1;33m(\u001b[0m\u001b[0mresponse\u001b[0m\u001b[1;33m)\u001b[0m\u001b[1;33m\u001b[0m\u001b[1;33m\u001b[0m\u001b[0m\n\u001b[0m\u001b[0;32m    426\u001b[0m             response['value'] = self._unwrap_value(\n\u001b[0;32m    427\u001b[0m                 response.get('value', None))\n",
      "\u001b[1;32mD:\\anaconda\\lib\\site-packages\\selenium\\webdriver\\remote\\errorhandler.py\u001b[0m in \u001b[0;36mcheck_response\u001b[1;34m(self, response)\u001b[0m\n\u001b[0;32m    245\u001b[0m                 \u001b[0malert_text\u001b[0m \u001b[1;33m=\u001b[0m \u001b[0mvalue\u001b[0m\u001b[1;33m[\u001b[0m\u001b[1;34m'alert'\u001b[0m\u001b[1;33m]\u001b[0m\u001b[1;33m.\u001b[0m\u001b[0mget\u001b[0m\u001b[1;33m(\u001b[0m\u001b[1;34m'text'\u001b[0m\u001b[1;33m)\u001b[0m\u001b[1;33m\u001b[0m\u001b[1;33m\u001b[0m\u001b[0m\n\u001b[0;32m    246\u001b[0m             \u001b[1;32mraise\u001b[0m \u001b[0mexception_class\u001b[0m\u001b[1;33m(\u001b[0m\u001b[0mmessage\u001b[0m\u001b[1;33m,\u001b[0m \u001b[0mscreen\u001b[0m\u001b[1;33m,\u001b[0m \u001b[0mstacktrace\u001b[0m\u001b[1;33m,\u001b[0m \u001b[0malert_text\u001b[0m\u001b[1;33m)\u001b[0m  \u001b[1;31m# type: ignore[call-arg]  # mypy is not smart enough here\u001b[0m\u001b[1;33m\u001b[0m\u001b[1;33m\u001b[0m\u001b[0m\n\u001b[1;32m--> 247\u001b[1;33m         \u001b[1;32mraise\u001b[0m \u001b[0mexception_class\u001b[0m\u001b[1;33m(\u001b[0m\u001b[0mmessage\u001b[0m\u001b[1;33m,\u001b[0m \u001b[0mscreen\u001b[0m\u001b[1;33m,\u001b[0m \u001b[0mstacktrace\u001b[0m\u001b[1;33m)\u001b[0m\u001b[1;33m\u001b[0m\u001b[1;33m\u001b[0m\u001b[0m\n\u001b[0m\u001b[0;32m    248\u001b[0m \u001b[1;33m\u001b[0m\u001b[0m\n\u001b[0;32m    249\u001b[0m     \u001b[1;32mdef\u001b[0m \u001b[0m_value_or_default\u001b[0m\u001b[1;33m(\u001b[0m\u001b[0mself\u001b[0m\u001b[1;33m,\u001b[0m \u001b[0mobj\u001b[0m\u001b[1;33m:\u001b[0m \u001b[0mMapping\u001b[0m\u001b[1;33m[\u001b[0m\u001b[0m_KT\u001b[0m\u001b[1;33m,\u001b[0m \u001b[0m_VT\u001b[0m\u001b[1;33m]\u001b[0m\u001b[1;33m,\u001b[0m \u001b[0mkey\u001b[0m\u001b[1;33m:\u001b[0m \u001b[0m_KT\u001b[0m\u001b[1;33m,\u001b[0m \u001b[0mdefault\u001b[0m\u001b[1;33m:\u001b[0m \u001b[0m_VT\u001b[0m\u001b[1;33m)\u001b[0m \u001b[1;33m->\u001b[0m \u001b[0m_VT\u001b[0m\u001b[1;33m:\u001b[0m\u001b[1;33m\u001b[0m\u001b[1;33m\u001b[0m\u001b[0m\n",
      "\u001b[1;31mNoSuchElementException\u001b[0m: Message: no such element: Unable to locate element: {\"method\":\"css selector\",\"selector\":\"[id=\"search.keyword.query\"]\"}\n  (Session info: chrome=102.0.5005.62)\nStacktrace:\nBacktrace:\n\tOrdinal0 [0x00B7B8F3+2406643]\n\tOrdinal0 [0x00B0AF31+1945393]\n\tOrdinal0 [0x009FC748+837448]\n\tOrdinal0 [0x00A292E0+1020640]\n\tOrdinal0 [0x00A2957B+1021307]\n\tOrdinal0 [0x00A56372+1205106]\n\tOrdinal0 [0x00A442C4+1131204]\n\tOrdinal0 [0x00A54682+1197698]\n\tOrdinal0 [0x00A44096+1130646]\n\tOrdinal0 [0x00A1E636+976438]\n\tOrdinal0 [0x00A1F546+980294]\n\tGetHandleVerifier [0x00DE9612+2498066]\n\tGetHandleVerifier [0x00DDC920+2445600]\n\tGetHandleVerifier [0x00C14F2A+579370]\n\tGetHandleVerifier [0x00C13D36+574774]\n\tOrdinal0 [0x00B11C0B+1973259]\n\tOrdinal0 [0x00B16688+1992328]\n\tOrdinal0 [0x00B16775+1992565]\n\tOrdinal0 [0x00B1F8D1+2029777]\n\tBaseThreadInitThunk [0x7619FA29+25]\n\tRtlGetAppContainerNamedObjectPath [0x77977A7E+286]\n\tRtlGetAppContainerNamedObjectPath [0x77977A4E+238]\n"
     ]
    }
   ],
   "source": [
    "search_input_tag = driver.find_element(By.ID, 'search.keyword.query')\n",
    "search_input_tag.send_keys('동물병원')\n",
    "time.sleep(1)"
   ]
  },
  {
   "cell_type": "code",
   "execution_count": 6,
   "id": "d9968e50",
   "metadata": {},
   "outputs": [],
   "source": [
    "search_button_tag = driver.find_element(By.ID, 'search.keyword.submit')\n",
    "search_button_tag.click()\n",
    "time.sleep(5)"
   ]
  },
  {
   "cell_type": "code",
   "execution_count": 8,
   "id": "4b08d338",
   "metadata": {},
   "outputs": [],
   "source": [
    "place_more = driver.find_element(By.ID, 'info.search.place.more')\n",
    "place_more.click()\n",
    "time.sleep(5)"
   ]
  },
  {
   "cell_type": "code",
   "execution_count": 40,
   "id": "341e9131",
   "metadata": {},
   "outputs": [
    {
     "name": "stdout",
     "output_type": "stream",
     "text": [
      "0\n",
      "1\n",
      "2\n",
      "3\n",
      "4\n"
     ]
    }
   ],
   "source": [
    "for i in range(999):\n",
    "    nextpage = driver.find_element(By.ID, \"info.search.page.no{}\".format((i+1)%5))\n",
    "    nextpage.click()\n",
    "    print(i)\n",
    "    if i == 4 :\n",
    "        nextpage = driver.find_element(By.ID, \"info.search.page.next\").click()\n",
    "        time.sleep(1)\n",
    "        i = 1"
   ]
  },
  {
   "cell_type": "code",
   "execution_count": null,
   "id": "455c2856",
   "metadata": {},
   "outputs": [],
   "source": []
  },
  {
   "cell_type": "code",
   "execution_count": null,
   "id": "30244426",
   "metadata": {},
   "outputs": [],
   "source": []
  },
  {
   "cell_type": "code",
   "execution_count": null,
   "id": "2de21ad0",
   "metadata": {},
   "outputs": [],
   "source": []
  },
  {
   "cell_type": "code",
   "execution_count": null,
   "id": "c213d16a",
   "metadata": {},
   "outputs": [],
   "source": []
  },
  {
   "cell_type": "code",
   "execution_count": 223,
   "id": "3252e395",
   "metadata": {},
   "outputs": [],
   "source": [
    "from selenium.webdriver.common.keys import Keys\n",
    "from selenium import webdriver\n",
    "import time\n",
    "from selenium.webdriver.common.by import By"
   ]
  },
  {
   "cell_type": "code",
   "execution_count": 312,
   "id": "16c90dfb",
   "metadata": {},
   "outputs": [],
   "source": [
    "search_input_tag = driver.find_element(By.CLASS_NAME, 'mL3xi')\n",
    "search_input_tag.send_keys('동물병원')\n",
    "time.sleep(3)\n"
   ]
  },
  {
   "cell_type": "code",
   "execution_count": 314,
   "id": "b51e8662",
   "metadata": {},
   "outputs": [
    {
     "name": "stderr",
     "output_type": "stream",
     "text": [
      "C:\\Users\\82103\\AppData\\Local\\Temp/ipykernel_20284/451005478.py:1: DeprecationWarning: executable_path has been deprecated, please pass in a Service object\n",
      "  driver = webdriver.Chrome(\"D:/20220103_lab/14.python/data/chrome/chromedriver\")\n"
     ]
    }
   ],
   "source": [
    "driver = webdriver.Chrome(\"D:/20220103_lab/14.python/data/chrome/chromedriver\")\n",
    "driver.get(\"https://www.google.com/maps/\")\n",
    "time.sleep(3)"
   ]
  },
  {
   "cell_type": "code",
   "execution_count": 315,
   "id": "16c7107e",
   "metadata": {},
   "outputs": [],
   "source": [
    "search_input_tag = driver.find_element(By.ID, 'searchboxinput')\n",
    "search_input_tag.send_keys('동물병원')\n",
    "time.sleep(3)"
   ]
  },
  {
   "cell_type": "code",
   "execution_count": 316,
   "id": "2f762f7d",
   "metadata": {},
   "outputs": [],
   "source": [
    "search_button_tag = driver.find_element(By.ID, 'searchbox-searchbutton')\n",
    "search_button_tag.click()\n",
    "time.sleep(5)"
   ]
  },
  {
   "cell_type": "code",
   "execution_count": 229,
   "id": "eedd62bc",
   "metadata": {},
   "outputs": [
    {
     "name": "stderr",
     "output_type": "stream",
     "text": [
      "C:\\Users\\82103\\AppData\\Local\\Temp/ipykernel_20284/696269896.py:1: DeprecationWarning: executable_path has been deprecated, please pass in a Service object\n",
      "  driver = webdriver.Chrome(\"D:/20220103_lab/14.python/data/chrome/chromedriver\")\n"
     ]
    },
    {
     "ename": "KeyboardInterrupt",
     "evalue": "",
     "output_type": "error",
     "traceback": [
      "\u001b[1;31m---------------------------------------------------------------------------\u001b[0m",
      "\u001b[1;31mKeyboardInterrupt\u001b[0m                         Traceback (most recent call last)",
      "\u001b[1;32m~\\AppData\\Local\\Temp/ipykernel_20284/696269896.py\u001b[0m in \u001b[0;36m<module>\u001b[1;34m\u001b[0m\n\u001b[0;32m      7\u001b[0m \u001b[0msearch_button_tag\u001b[0m \u001b[1;33m=\u001b[0m \u001b[0mdriver\u001b[0m\u001b[1;33m.\u001b[0m\u001b[0mfind_element\u001b[0m\u001b[1;33m(\u001b[0m\u001b[0mBy\u001b[0m\u001b[1;33m.\u001b[0m\u001b[0mID\u001b[0m\u001b[1;33m,\u001b[0m \u001b[1;34m'searchbox-searchbutton'\u001b[0m\u001b[1;33m)\u001b[0m\u001b[1;33m\u001b[0m\u001b[1;33m\u001b[0m\u001b[0m\n\u001b[0;32m      8\u001b[0m \u001b[0msearch_button_tag\u001b[0m\u001b[1;33m.\u001b[0m\u001b[0mclick\u001b[0m\u001b[1;33m(\u001b[0m\u001b[1;33m)\u001b[0m\u001b[1;33m\u001b[0m\u001b[1;33m\u001b[0m\u001b[0m\n\u001b[1;32m----> 9\u001b[1;33m \u001b[0mtime\u001b[0m\u001b[1;33m.\u001b[0m\u001b[0msleep\u001b[0m\u001b[1;33m(\u001b[0m\u001b[1;36m5\u001b[0m\u001b[1;33m)\u001b[0m\u001b[1;33m\u001b[0m\u001b[1;33m\u001b[0m\u001b[0m\n\u001b[0m",
      "\u001b[1;31mKeyboardInterrupt\u001b[0m: "
     ]
    }
   ],
   "source": [
    "driver = webdriver.Chrome(\"D:/20220103_lab/14.python/data/chrome/chromedriver\")\n",
    "driver.get(\"https://www.google.com/maps/\")\n",
    "time.sleep(3)\n",
    "search_input_tag = driver.find_element(By.ID, 'searchboxinput')\n",
    "search_input_tag.send_keys('동물병원')\n",
    "time.sleep(3)\n",
    "search_button_tag = driver.find_element(By.ID, 'searchbox-searchbutton')\n",
    "search_button_tag.click()\n",
    "time.sleep(5)"
   ]
  },
  {
   "cell_type": "code",
   "execution_count": 259,
   "id": "c10e6890",
   "metadata": {},
   "outputs": [],
   "source": [
    "driver.execute_script(\"document.body.style.zoom='100%'\")\n",
    "\n",
    "#elem.send_keys(Keys.ENTER)"
   ]
  },
  {
   "cell_type": "code",
   "execution_count": 288,
   "id": "74361d1e",
   "metadata": {},
   "outputs": [],
   "source": [
    "target = driver.find_element(By.XPATH, '/html/body/div[3]/div[9]/div[9]/div[1]/div[1]/div[1]/div[2]/div[1]/div[1]/div[1]/div[1]/div[2]')"
   ]
  },
  {
   "cell_type": "code",
   "execution_count": 258,
   "id": "dd7b04b3",
   "metadata": {},
   "outputs": [
    {
     "data": {
      "text/plain": [
       "'아마존동물병원\\n4.6(25)\\n동물병원 · 임학동 67-7\\n곧 영업 종료: 오후 8:00 ⋅ 수 오전 10:00에 영업 시작 · 032-555-7502 ext. 3\\n경로\\n계양동물메디컬센터\\n4.3(50)\\n동물병원 · 계산동 942-24번지\\n곧 영업 종료: 오후 8:00 ⋅ 수 오전 9:30에 영업 시작 · 032-555-9975\\n경로\\n해림동물병원\\n4.8(100)\\n동물병원 · 작전동 864-39\\n곧 영업 종료: 오후 8:00 ⋅ 수 오전 10:00에 영업 시작 · 032-546-0079\\n경로\\n한솔동물병원\\n4.3(13)\\n동물병원 · 계산2동 918-2\\n032-553-4652\\n웹사이트\\n경로\\n아프리카 동물의료센터 [구 아프리카동물병원]\\n4.4(89)\\n동물병원 · 장제로340번길 5 3층\\n영업 중 ⋅ 오후 10:00에 영업 종료 · 032-508-7582\\n웹사이트\\n경로\\n부평종합동물병원\\n4.5(101)\\n동물병원 · 부평동 부평대로 154\\n곧 영업 종료: 오후 8:00 ⋅ 수 오전 9:30에 영업 시작 · 032-511-6836\\n경로\\n보비동물병원\\n4.6(48)\\n포근한동물병원\\n4.9(31)\\n동물병원 · 중동 1168\\n24시간 영업 · 032-231-0075\\n경로\\n펫사랑동물병원\\n4.4(48)\\n동물병원 · 산곡동 194-6\\n032-521-0003\\n웹사이트\\n경로\\n24시나음동물병원\\n4.6(45)\\n동물 병원 · 중동\\n032-323-7581\\n경로\\n부천 TLC 동물의료센터\\n4.9(35)\\n동물병원 · 중동 길주로 281 TLC 동물의료센터 1층\\n24시간 영업 · 032-323-2475\\n웹사이트\\n경로\\n동행동물병원\\n4.7(52)\\n동물병원 · 양도로 19번길 15\\n곧 영업 종료: 오후 8:00 ⋅ 수 오전 9:30에 영업 시작 · 031-986-9816\\n경로\\n다오동물병원\\n4.7(6)\\n동물병원 · 계산동 1062\\n032-548-0275\\n경로\\n신통방통동물병원\\n4.9(10)\\n동물 병원 · 작전동 863\\n곧 영업 종료: 오후 8:00 ⋅ 수 오전 10:00에 영업 시작 · 032-552-3369\\n경로'"
      ]
     },
     "execution_count": 258,
     "metadata": {},
     "output_type": "execute_result"
    }
   ],
   "source": [
    "target.text"
   ]
  },
  {
   "cell_type": "code",
   "execution_count": 162,
   "id": "f5b2f15b",
   "metadata": {},
   "outputs": [],
   "source": [
    "panee = driver.find_element(By.XPATH, '/html/body/div[3]/div[9]/div[8]')"
   ]
  },
  {
   "cell_type": "markdown",
   "id": "a014440c",
   "metadata": {},
   "source": [
    "class = \"m6QErb DxyBCb kA9KIf dS8AEf ecceSd\""
   ]
  },
  {
   "cell_type": "code",
   "execution_count": 193,
   "id": "f1e101ea",
   "metadata": {},
   "outputs": [
    {
     "name": "stderr",
     "output_type": "stream",
     "text": [
      "C:\\Users\\82103\\AppData\\Local\\Temp/ipykernel_20284/1298259985.py:1: DeprecationWarning: find_element_by_css_selector is deprecated. Please use find_element(by=By.CSS_SELECTOR, value=css_selector) instead\n",
      "  asdasdf = driver.find_element_by_css_selector(\"div.rHNip.cRLbXd\")\n"
     ]
    }
   ],
   "source": [
    "asdasdf = driver.find_element_by_css_selector(\"div.rHNip.cRLbXd\")"
   ]
  },
  {
   "cell_type": "code",
   "execution_count": 191,
   "id": "585cfbcc",
   "metadata": {
    "scrolled": true
   },
   "outputs": [
    {
     "ename": "ElementNotInteractableException",
     "evalue": "Message: element not interactable\n  (Session info: chrome=102.0.5005.62)\nStacktrace:\nBacktrace:\n\tOrdinal0 [0x00B7B8F3+2406643]\n\tOrdinal0 [0x00B0AF31+1945393]\n\tOrdinal0 [0x009FC610+837136]\n\tOrdinal0 [0x00A2A2D3+1024723]\n\tOrdinal0 [0x00A20083+983171]\n\tOrdinal0 [0x00A4427C+1131132]\n\tOrdinal0 [0x00A1FA64+981604]\n\tOrdinal0 [0x00A44494+1131668]\n\tOrdinal0 [0x00A54682+1197698]\n\tOrdinal0 [0x00A44096+1130646]\n\tOrdinal0 [0x00A1E636+976438]\n\tOrdinal0 [0x00A1F546+980294]\n\tGetHandleVerifier [0x00DE9612+2498066]\n\tGetHandleVerifier [0x00DDC920+2445600]\n\tGetHandleVerifier [0x00C14F2A+579370]\n\tGetHandleVerifier [0x00C13D36+574774]\n\tOrdinal0 [0x00B11C0B+1973259]\n\tOrdinal0 [0x00B16688+1992328]\n\tOrdinal0 [0x00B16775+1992565]\n\tOrdinal0 [0x00B1F8D1+2029777]\n\tBaseThreadInitThunk [0x7619FA29+25]\n\tRtlGetAppContainerNamedObjectPath [0x77977A7E+286]\n\tRtlGetAppContainerNamedObjectPath [0x77977A4E+238]\n",
     "output_type": "error",
     "traceback": [
      "\u001b[1;31m---------------------------------------------------------------------------\u001b[0m",
      "\u001b[1;31mElementNotInteractableException\u001b[0m           Traceback (most recent call last)",
      "\u001b[1;32m~\\AppData\\Local\\Temp/ipykernel_20284/335356702.py\u001b[0m in \u001b[0;36m<module>\u001b[1;34m\u001b[0m\n\u001b[1;32m----> 1\u001b[1;33m \u001b[0masdasdf\u001b[0m\u001b[1;33m.\u001b[0m\u001b[0mclick\u001b[0m\u001b[1;33m(\u001b[0m\u001b[1;33m)\u001b[0m\u001b[1;33m\u001b[0m\u001b[1;33m\u001b[0m\u001b[0m\n\u001b[0m",
      "\u001b[1;32mD:\\anaconda\\lib\\site-packages\\selenium\\webdriver\\remote\\webelement.py\u001b[0m in \u001b[0;36mclick\u001b[1;34m(self)\u001b[0m\n\u001b[0;32m     79\u001b[0m     \u001b[1;32mdef\u001b[0m \u001b[0mclick\u001b[0m\u001b[1;33m(\u001b[0m\u001b[0mself\u001b[0m\u001b[1;33m)\u001b[0m \u001b[1;33m->\u001b[0m \u001b[1;32mNone\u001b[0m\u001b[1;33m:\u001b[0m\u001b[1;33m\u001b[0m\u001b[1;33m\u001b[0m\u001b[0m\n\u001b[0;32m     80\u001b[0m         \u001b[1;34m\"\"\"Clicks the element.\"\"\"\u001b[0m\u001b[1;33m\u001b[0m\u001b[1;33m\u001b[0m\u001b[0m\n\u001b[1;32m---> 81\u001b[1;33m         \u001b[0mself\u001b[0m\u001b[1;33m.\u001b[0m\u001b[0m_execute\u001b[0m\u001b[1;33m(\u001b[0m\u001b[0mCommand\u001b[0m\u001b[1;33m.\u001b[0m\u001b[0mCLICK_ELEMENT\u001b[0m\u001b[1;33m)\u001b[0m\u001b[1;33m\u001b[0m\u001b[1;33m\u001b[0m\u001b[0m\n\u001b[0m\u001b[0;32m     82\u001b[0m \u001b[1;33m\u001b[0m\u001b[0m\n\u001b[0;32m     83\u001b[0m     \u001b[1;32mdef\u001b[0m \u001b[0msubmit\u001b[0m\u001b[1;33m(\u001b[0m\u001b[0mself\u001b[0m\u001b[1;33m)\u001b[0m\u001b[1;33m:\u001b[0m\u001b[1;33m\u001b[0m\u001b[1;33m\u001b[0m\u001b[0m\n",
      "\u001b[1;32mD:\\anaconda\\lib\\site-packages\\selenium\\webdriver\\remote\\webelement.py\u001b[0m in \u001b[0;36m_execute\u001b[1;34m(self, command, params)\u001b[0m\n\u001b[0;32m    708\u001b[0m             \u001b[0mparams\u001b[0m \u001b[1;33m=\u001b[0m \u001b[1;33m{\u001b[0m\u001b[1;33m}\u001b[0m\u001b[1;33m\u001b[0m\u001b[1;33m\u001b[0m\u001b[0m\n\u001b[0;32m    709\u001b[0m         \u001b[0mparams\u001b[0m\u001b[1;33m[\u001b[0m\u001b[1;34m'id'\u001b[0m\u001b[1;33m]\u001b[0m \u001b[1;33m=\u001b[0m \u001b[0mself\u001b[0m\u001b[1;33m.\u001b[0m\u001b[0m_id\u001b[0m\u001b[1;33m\u001b[0m\u001b[1;33m\u001b[0m\u001b[0m\n\u001b[1;32m--> 710\u001b[1;33m         \u001b[1;32mreturn\u001b[0m \u001b[0mself\u001b[0m\u001b[1;33m.\u001b[0m\u001b[0m_parent\u001b[0m\u001b[1;33m.\u001b[0m\u001b[0mexecute\u001b[0m\u001b[1;33m(\u001b[0m\u001b[0mcommand\u001b[0m\u001b[1;33m,\u001b[0m \u001b[0mparams\u001b[0m\u001b[1;33m)\u001b[0m\u001b[1;33m\u001b[0m\u001b[1;33m\u001b[0m\u001b[0m\n\u001b[0m\u001b[0;32m    711\u001b[0m \u001b[1;33m\u001b[0m\u001b[0m\n\u001b[0;32m    712\u001b[0m     \u001b[1;32mdef\u001b[0m \u001b[0mfind_element\u001b[0m\u001b[1;33m(\u001b[0m\u001b[0mself\u001b[0m\u001b[1;33m,\u001b[0m \u001b[0mby\u001b[0m\u001b[1;33m=\u001b[0m\u001b[0mBy\u001b[0m\u001b[1;33m.\u001b[0m\u001b[0mID\u001b[0m\u001b[1;33m,\u001b[0m \u001b[0mvalue\u001b[0m\u001b[1;33m=\u001b[0m\u001b[1;32mNone\u001b[0m\u001b[1;33m)\u001b[0m\u001b[1;33m:\u001b[0m\u001b[1;33m\u001b[0m\u001b[1;33m\u001b[0m\u001b[0m\n",
      "\u001b[1;32mD:\\anaconda\\lib\\site-packages\\selenium\\webdriver\\remote\\webdriver.py\u001b[0m in \u001b[0;36mexecute\u001b[1;34m(self, driver_command, params)\u001b[0m\n\u001b[0;32m    423\u001b[0m         \u001b[0mresponse\u001b[0m \u001b[1;33m=\u001b[0m \u001b[0mself\u001b[0m\u001b[1;33m.\u001b[0m\u001b[0mcommand_executor\u001b[0m\u001b[1;33m.\u001b[0m\u001b[0mexecute\u001b[0m\u001b[1;33m(\u001b[0m\u001b[0mdriver_command\u001b[0m\u001b[1;33m,\u001b[0m \u001b[0mparams\u001b[0m\u001b[1;33m)\u001b[0m\u001b[1;33m\u001b[0m\u001b[1;33m\u001b[0m\u001b[0m\n\u001b[0;32m    424\u001b[0m         \u001b[1;32mif\u001b[0m \u001b[0mresponse\u001b[0m\u001b[1;33m:\u001b[0m\u001b[1;33m\u001b[0m\u001b[1;33m\u001b[0m\u001b[0m\n\u001b[1;32m--> 425\u001b[1;33m             \u001b[0mself\u001b[0m\u001b[1;33m.\u001b[0m\u001b[0merror_handler\u001b[0m\u001b[1;33m.\u001b[0m\u001b[0mcheck_response\u001b[0m\u001b[1;33m(\u001b[0m\u001b[0mresponse\u001b[0m\u001b[1;33m)\u001b[0m\u001b[1;33m\u001b[0m\u001b[1;33m\u001b[0m\u001b[0m\n\u001b[0m\u001b[0;32m    426\u001b[0m             response['value'] = self._unwrap_value(\n\u001b[0;32m    427\u001b[0m                 response.get('value', None))\n",
      "\u001b[1;32mD:\\anaconda\\lib\\site-packages\\selenium\\webdriver\\remote\\errorhandler.py\u001b[0m in \u001b[0;36mcheck_response\u001b[1;34m(self, response)\u001b[0m\n\u001b[0;32m    245\u001b[0m                 \u001b[0malert_text\u001b[0m \u001b[1;33m=\u001b[0m \u001b[0mvalue\u001b[0m\u001b[1;33m[\u001b[0m\u001b[1;34m'alert'\u001b[0m\u001b[1;33m]\u001b[0m\u001b[1;33m.\u001b[0m\u001b[0mget\u001b[0m\u001b[1;33m(\u001b[0m\u001b[1;34m'text'\u001b[0m\u001b[1;33m)\u001b[0m\u001b[1;33m\u001b[0m\u001b[1;33m\u001b[0m\u001b[0m\n\u001b[0;32m    246\u001b[0m             \u001b[1;32mraise\u001b[0m \u001b[0mexception_class\u001b[0m\u001b[1;33m(\u001b[0m\u001b[0mmessage\u001b[0m\u001b[1;33m,\u001b[0m \u001b[0mscreen\u001b[0m\u001b[1;33m,\u001b[0m \u001b[0mstacktrace\u001b[0m\u001b[1;33m,\u001b[0m \u001b[0malert_text\u001b[0m\u001b[1;33m)\u001b[0m  \u001b[1;31m# type: ignore[call-arg]  # mypy is not smart enough here\u001b[0m\u001b[1;33m\u001b[0m\u001b[1;33m\u001b[0m\u001b[0m\n\u001b[1;32m--> 247\u001b[1;33m         \u001b[1;32mraise\u001b[0m \u001b[0mexception_class\u001b[0m\u001b[1;33m(\u001b[0m\u001b[0mmessage\u001b[0m\u001b[1;33m,\u001b[0m \u001b[0mscreen\u001b[0m\u001b[1;33m,\u001b[0m \u001b[0mstacktrace\u001b[0m\u001b[1;33m)\u001b[0m\u001b[1;33m\u001b[0m\u001b[1;33m\u001b[0m\u001b[0m\n\u001b[0m\u001b[0;32m    248\u001b[0m \u001b[1;33m\u001b[0m\u001b[0m\n\u001b[0;32m    249\u001b[0m     \u001b[1;32mdef\u001b[0m \u001b[0m_value_or_default\u001b[0m\u001b[1;33m(\u001b[0m\u001b[0mself\u001b[0m\u001b[1;33m,\u001b[0m \u001b[0mobj\u001b[0m\u001b[1;33m:\u001b[0m \u001b[0mMapping\u001b[0m\u001b[1;33m[\u001b[0m\u001b[0m_KT\u001b[0m\u001b[1;33m,\u001b[0m \u001b[0m_VT\u001b[0m\u001b[1;33m]\u001b[0m\u001b[1;33m,\u001b[0m \u001b[0mkey\u001b[0m\u001b[1;33m:\u001b[0m \u001b[0m_KT\u001b[0m\u001b[1;33m,\u001b[0m \u001b[0mdefault\u001b[0m\u001b[1;33m:\u001b[0m \u001b[0m_VT\u001b[0m\u001b[1;33m)\u001b[0m \u001b[1;33m->\u001b[0m \u001b[0m_VT\u001b[0m\u001b[1;33m:\u001b[0m\u001b[1;33m\u001b[0m\u001b[1;33m\u001b[0m\u001b[0m\n",
      "\u001b[1;31mElementNotInteractableException\u001b[0m: Message: element not interactable\n  (Session info: chrome=102.0.5005.62)\nStacktrace:\nBacktrace:\n\tOrdinal0 [0x00B7B8F3+2406643]\n\tOrdinal0 [0x00B0AF31+1945393]\n\tOrdinal0 [0x009FC610+837136]\n\tOrdinal0 [0x00A2A2D3+1024723]\n\tOrdinal0 [0x00A20083+983171]\n\tOrdinal0 [0x00A4427C+1131132]\n\tOrdinal0 [0x00A1FA64+981604]\n\tOrdinal0 [0x00A44494+1131668]\n\tOrdinal0 [0x00A54682+1197698]\n\tOrdinal0 [0x00A44096+1130646]\n\tOrdinal0 [0x00A1E636+976438]\n\tOrdinal0 [0x00A1F546+980294]\n\tGetHandleVerifier [0x00DE9612+2498066]\n\tGetHandleVerifier [0x00DDC920+2445600]\n\tGetHandleVerifier [0x00C14F2A+579370]\n\tGetHandleVerifier [0x00C13D36+574774]\n\tOrdinal0 [0x00B11C0B+1973259]\n\tOrdinal0 [0x00B16688+1992328]\n\tOrdinal0 [0x00B16775+1992565]\n\tOrdinal0 [0x00B1F8D1+2029777]\n\tBaseThreadInitThunk [0x7619FA29+25]\n\tRtlGetAppContainerNamedObjectPath [0x77977A7E+286]\n\tRtlGetAppContainerNamedObjectPath [0x77977A4E+238]\n"
     ]
    }
   ],
   "source": [
    "asdasdf.click()"
   ]
  },
  {
   "cell_type": "code",
   "execution_count": 194,
   "id": "ac2dc67d",
   "metadata": {
    "scrolled": true
   },
   "outputs": [
    {
     "ename": "ElementNotInteractableException",
     "evalue": "Message: element not interactable\n  (Session info: chrome=102.0.5005.62)\nStacktrace:\nBacktrace:\n\tOrdinal0 [0x00B7B8F3+2406643]\n\tOrdinal0 [0x00B0AF31+1945393]\n\tOrdinal0 [0x009FC610+837136]\n\tOrdinal0 [0x00A249C3+1001923]\n\tOrdinal0 [0x00A240A5+999589]\n\tOrdinal0 [0x00A4427C+1131132]\n\tOrdinal0 [0x00A1FA64+981604]\n\tOrdinal0 [0x00A44494+1131668]\n\tOrdinal0 [0x00A54682+1197698]\n\tOrdinal0 [0x00A44096+1130646]\n\tOrdinal0 [0x00A1E636+976438]\n\tOrdinal0 [0x00A1F546+980294]\n\tGetHandleVerifier [0x00DE9612+2498066]\n\tGetHandleVerifier [0x00DDC920+2445600]\n\tGetHandleVerifier [0x00C14F2A+579370]\n\tGetHandleVerifier [0x00C13D36+574774]\n\tOrdinal0 [0x00B11C0B+1973259]\n\tOrdinal0 [0x00B16688+1992328]\n\tOrdinal0 [0x00B16775+1992565]\n\tOrdinal0 [0x00B1F8D1+2029777]\n\tBaseThreadInitThunk [0x7619FA29+25]\n\tRtlGetAppContainerNamedObjectPath [0x77977A7E+286]\n\tRtlGetAppContainerNamedObjectPath [0x77977A4E+238]\n",
     "output_type": "error",
     "traceback": [
      "\u001b[1;31m---------------------------------------------------------------------------\u001b[0m",
      "\u001b[1;31mElementNotInteractableException\u001b[0m           Traceback (most recent call last)",
      "\u001b[1;32m~\\AppData\\Local\\Temp/ipykernel_20284/2716729077.py\u001b[0m in \u001b[0;36m<module>\u001b[1;34m\u001b[0m\n\u001b[1;32m----> 1\u001b[1;33m \u001b[0masdasdf\u001b[0m\u001b[1;33m.\u001b[0m\u001b[0msend_keys\u001b[0m\u001b[1;33m(\u001b[0m\u001b[0mKeys\u001b[0m\u001b[1;33m.\u001b[0m\u001b[0mEND\u001b[0m\u001b[1;33m)\u001b[0m\u001b[1;33m\u001b[0m\u001b[1;33m\u001b[0m\u001b[0m\n\u001b[0m",
      "\u001b[1;32mD:\\anaconda\\lib\\site-packages\\selenium\\webdriver\\remote\\webelement.py\u001b[0m in \u001b[0;36msend_keys\u001b[1;34m(self, *value)\u001b[0m\n\u001b[0;32m    538\u001b[0m                 \u001b[0mvalue\u001b[0m \u001b[1;33m=\u001b[0m \u001b[1;34m'\\n'\u001b[0m\u001b[1;33m.\u001b[0m\u001b[0mjoin\u001b[0m\u001b[1;33m(\u001b[0m\u001b[0mremote_files\u001b[0m\u001b[1;33m)\u001b[0m\u001b[1;33m\u001b[0m\u001b[1;33m\u001b[0m\u001b[0m\n\u001b[0;32m    539\u001b[0m \u001b[1;33m\u001b[0m\u001b[0m\n\u001b[1;32m--> 540\u001b[1;33m         self._execute(Command.SEND_KEYS_TO_ELEMENT,\n\u001b[0m\u001b[0;32m    541\u001b[0m                       {'text': \"\".join(keys_to_typing(value)),\n\u001b[0;32m    542\u001b[0m                        'value': keys_to_typing(value)})\n",
      "\u001b[1;32mD:\\anaconda\\lib\\site-packages\\selenium\\webdriver\\remote\\webelement.py\u001b[0m in \u001b[0;36m_execute\u001b[1;34m(self, command, params)\u001b[0m\n\u001b[0;32m    708\u001b[0m             \u001b[0mparams\u001b[0m \u001b[1;33m=\u001b[0m \u001b[1;33m{\u001b[0m\u001b[1;33m}\u001b[0m\u001b[1;33m\u001b[0m\u001b[1;33m\u001b[0m\u001b[0m\n\u001b[0;32m    709\u001b[0m         \u001b[0mparams\u001b[0m\u001b[1;33m[\u001b[0m\u001b[1;34m'id'\u001b[0m\u001b[1;33m]\u001b[0m \u001b[1;33m=\u001b[0m \u001b[0mself\u001b[0m\u001b[1;33m.\u001b[0m\u001b[0m_id\u001b[0m\u001b[1;33m\u001b[0m\u001b[1;33m\u001b[0m\u001b[0m\n\u001b[1;32m--> 710\u001b[1;33m         \u001b[1;32mreturn\u001b[0m \u001b[0mself\u001b[0m\u001b[1;33m.\u001b[0m\u001b[0m_parent\u001b[0m\u001b[1;33m.\u001b[0m\u001b[0mexecute\u001b[0m\u001b[1;33m(\u001b[0m\u001b[0mcommand\u001b[0m\u001b[1;33m,\u001b[0m \u001b[0mparams\u001b[0m\u001b[1;33m)\u001b[0m\u001b[1;33m\u001b[0m\u001b[1;33m\u001b[0m\u001b[0m\n\u001b[0m\u001b[0;32m    711\u001b[0m \u001b[1;33m\u001b[0m\u001b[0m\n\u001b[0;32m    712\u001b[0m     \u001b[1;32mdef\u001b[0m \u001b[0mfind_element\u001b[0m\u001b[1;33m(\u001b[0m\u001b[0mself\u001b[0m\u001b[1;33m,\u001b[0m \u001b[0mby\u001b[0m\u001b[1;33m=\u001b[0m\u001b[0mBy\u001b[0m\u001b[1;33m.\u001b[0m\u001b[0mID\u001b[0m\u001b[1;33m,\u001b[0m \u001b[0mvalue\u001b[0m\u001b[1;33m=\u001b[0m\u001b[1;32mNone\u001b[0m\u001b[1;33m)\u001b[0m\u001b[1;33m:\u001b[0m\u001b[1;33m\u001b[0m\u001b[1;33m\u001b[0m\u001b[0m\n",
      "\u001b[1;32mD:\\anaconda\\lib\\site-packages\\selenium\\webdriver\\remote\\webdriver.py\u001b[0m in \u001b[0;36mexecute\u001b[1;34m(self, driver_command, params)\u001b[0m\n\u001b[0;32m    423\u001b[0m         \u001b[0mresponse\u001b[0m \u001b[1;33m=\u001b[0m \u001b[0mself\u001b[0m\u001b[1;33m.\u001b[0m\u001b[0mcommand_executor\u001b[0m\u001b[1;33m.\u001b[0m\u001b[0mexecute\u001b[0m\u001b[1;33m(\u001b[0m\u001b[0mdriver_command\u001b[0m\u001b[1;33m,\u001b[0m \u001b[0mparams\u001b[0m\u001b[1;33m)\u001b[0m\u001b[1;33m\u001b[0m\u001b[1;33m\u001b[0m\u001b[0m\n\u001b[0;32m    424\u001b[0m         \u001b[1;32mif\u001b[0m \u001b[0mresponse\u001b[0m\u001b[1;33m:\u001b[0m\u001b[1;33m\u001b[0m\u001b[1;33m\u001b[0m\u001b[0m\n\u001b[1;32m--> 425\u001b[1;33m             \u001b[0mself\u001b[0m\u001b[1;33m.\u001b[0m\u001b[0merror_handler\u001b[0m\u001b[1;33m.\u001b[0m\u001b[0mcheck_response\u001b[0m\u001b[1;33m(\u001b[0m\u001b[0mresponse\u001b[0m\u001b[1;33m)\u001b[0m\u001b[1;33m\u001b[0m\u001b[1;33m\u001b[0m\u001b[0m\n\u001b[0m\u001b[0;32m    426\u001b[0m             response['value'] = self._unwrap_value(\n\u001b[0;32m    427\u001b[0m                 response.get('value', None))\n",
      "\u001b[1;32mD:\\anaconda\\lib\\site-packages\\selenium\\webdriver\\remote\\errorhandler.py\u001b[0m in \u001b[0;36mcheck_response\u001b[1;34m(self, response)\u001b[0m\n\u001b[0;32m    245\u001b[0m                 \u001b[0malert_text\u001b[0m \u001b[1;33m=\u001b[0m \u001b[0mvalue\u001b[0m\u001b[1;33m[\u001b[0m\u001b[1;34m'alert'\u001b[0m\u001b[1;33m]\u001b[0m\u001b[1;33m.\u001b[0m\u001b[0mget\u001b[0m\u001b[1;33m(\u001b[0m\u001b[1;34m'text'\u001b[0m\u001b[1;33m)\u001b[0m\u001b[1;33m\u001b[0m\u001b[1;33m\u001b[0m\u001b[0m\n\u001b[0;32m    246\u001b[0m             \u001b[1;32mraise\u001b[0m \u001b[0mexception_class\u001b[0m\u001b[1;33m(\u001b[0m\u001b[0mmessage\u001b[0m\u001b[1;33m,\u001b[0m \u001b[0mscreen\u001b[0m\u001b[1;33m,\u001b[0m \u001b[0mstacktrace\u001b[0m\u001b[1;33m,\u001b[0m \u001b[0malert_text\u001b[0m\u001b[1;33m)\u001b[0m  \u001b[1;31m# type: ignore[call-arg]  # mypy is not smart enough here\u001b[0m\u001b[1;33m\u001b[0m\u001b[1;33m\u001b[0m\u001b[0m\n\u001b[1;32m--> 247\u001b[1;33m         \u001b[1;32mraise\u001b[0m \u001b[0mexception_class\u001b[0m\u001b[1;33m(\u001b[0m\u001b[0mmessage\u001b[0m\u001b[1;33m,\u001b[0m \u001b[0mscreen\u001b[0m\u001b[1;33m,\u001b[0m \u001b[0mstacktrace\u001b[0m\u001b[1;33m)\u001b[0m\u001b[1;33m\u001b[0m\u001b[1;33m\u001b[0m\u001b[0m\n\u001b[0m\u001b[0;32m    248\u001b[0m \u001b[1;33m\u001b[0m\u001b[0m\n\u001b[0;32m    249\u001b[0m     \u001b[1;32mdef\u001b[0m \u001b[0m_value_or_default\u001b[0m\u001b[1;33m(\u001b[0m\u001b[0mself\u001b[0m\u001b[1;33m,\u001b[0m \u001b[0mobj\u001b[0m\u001b[1;33m:\u001b[0m \u001b[0mMapping\u001b[0m\u001b[1;33m[\u001b[0m\u001b[0m_KT\u001b[0m\u001b[1;33m,\u001b[0m \u001b[0m_VT\u001b[0m\u001b[1;33m]\u001b[0m\u001b[1;33m,\u001b[0m \u001b[0mkey\u001b[0m\u001b[1;33m:\u001b[0m \u001b[0m_KT\u001b[0m\u001b[1;33m,\u001b[0m \u001b[0mdefault\u001b[0m\u001b[1;33m:\u001b[0m \u001b[0m_VT\u001b[0m\u001b[1;33m)\u001b[0m \u001b[1;33m->\u001b[0m \u001b[0m_VT\u001b[0m\u001b[1;33m:\u001b[0m\u001b[1;33m\u001b[0m\u001b[1;33m\u001b[0m\u001b[0m\n",
      "\u001b[1;31mElementNotInteractableException\u001b[0m: Message: element not interactable\n  (Session info: chrome=102.0.5005.62)\nStacktrace:\nBacktrace:\n\tOrdinal0 [0x00B7B8F3+2406643]\n\tOrdinal0 [0x00B0AF31+1945393]\n\tOrdinal0 [0x009FC610+837136]\n\tOrdinal0 [0x00A249C3+1001923]\n\tOrdinal0 [0x00A240A5+999589]\n\tOrdinal0 [0x00A4427C+1131132]\n\tOrdinal0 [0x00A1FA64+981604]\n\tOrdinal0 [0x00A44494+1131668]\n\tOrdinal0 [0x00A54682+1197698]\n\tOrdinal0 [0x00A44096+1130646]\n\tOrdinal0 [0x00A1E636+976438]\n\tOrdinal0 [0x00A1F546+980294]\n\tGetHandleVerifier [0x00DE9612+2498066]\n\tGetHandleVerifier [0x00DDC920+2445600]\n\tGetHandleVerifier [0x00C14F2A+579370]\n\tGetHandleVerifier [0x00C13D36+574774]\n\tOrdinal0 [0x00B11C0B+1973259]\n\tOrdinal0 [0x00B16688+1992328]\n\tOrdinal0 [0x00B16775+1992565]\n\tOrdinal0 [0x00B1F8D1+2029777]\n\tBaseThreadInitThunk [0x7619FA29+25]\n\tRtlGetAppContainerNamedObjectPath [0x77977A7E+286]\n\tRtlGetAppContainerNamedObjectPath [0x77977A4E+238]\n"
     ]
    }
   ],
   "source": [
    "asdasdf.send_keys(Keys.END)"
   ]
  },
  {
   "cell_type": "code",
   "execution_count": 203,
   "id": "993add7a",
   "metadata": {
    "scrolled": true
   },
   "outputs": [
    {
     "name": "stderr",
     "output_type": "stream",
     "text": [
      "C:\\Users\\82103\\AppData\\Local\\Temp/ipykernel_20284/3682334982.py:1: DeprecationWarning: find_element_by_class_name is deprecated. Please use find_element(by=By.CLASS_NAME, value=name) instead\n",
      "  akjsvebjkseagvf2 = driver.find_element_by_class_name(\"rHNip cRLbXd\")\n"
     ]
    },
    {
     "ename": "NoSuchElementException",
     "evalue": "Message: no such element: Unable to locate element: {\"method\":\"css selector\",\"selector\":\".rHNip cRLbXd\"}\n  (Session info: chrome=102.0.5005.62)\nStacktrace:\nBacktrace:\n\tOrdinal0 [0x00B7B8F3+2406643]\n\tOrdinal0 [0x00B0AF31+1945393]\n\tOrdinal0 [0x009FC748+837448]\n\tOrdinal0 [0x00A292E0+1020640]\n\tOrdinal0 [0x00A2957B+1021307]\n\tOrdinal0 [0x00A56372+1205106]\n\tOrdinal0 [0x00A442C4+1131204]\n\tOrdinal0 [0x00A54682+1197698]\n\tOrdinal0 [0x00A44096+1130646]\n\tOrdinal0 [0x00A1E636+976438]\n\tOrdinal0 [0x00A1F546+980294]\n\tGetHandleVerifier [0x00DE9612+2498066]\n\tGetHandleVerifier [0x00DDC920+2445600]\n\tGetHandleVerifier [0x00C14F2A+579370]\n\tGetHandleVerifier [0x00C13D36+574774]\n\tOrdinal0 [0x00B11C0B+1973259]\n\tOrdinal0 [0x00B16688+1992328]\n\tOrdinal0 [0x00B16775+1992565]\n\tOrdinal0 [0x00B1F8D1+2029777]\n\tBaseThreadInitThunk [0x7619FA29+25]\n\tRtlGetAppContainerNamedObjectPath [0x77977A7E+286]\n\tRtlGetAppContainerNamedObjectPath [0x77977A4E+238]\n",
     "output_type": "error",
     "traceback": [
      "\u001b[1;31m---------------------------------------------------------------------------\u001b[0m",
      "\u001b[1;31mNoSuchElementException\u001b[0m                    Traceback (most recent call last)",
      "\u001b[1;32m~\\AppData\\Local\\Temp/ipykernel_20284/3682334982.py\u001b[0m in \u001b[0;36m<module>\u001b[1;34m\u001b[0m\n\u001b[1;32m----> 1\u001b[1;33m \u001b[0makjsvebjkseagvf2\u001b[0m \u001b[1;33m=\u001b[0m \u001b[0mdriver\u001b[0m\u001b[1;33m.\u001b[0m\u001b[0mfind_element_by_class_name\u001b[0m\u001b[1;33m(\u001b[0m\u001b[1;34m\"rHNip cRLbXd\"\u001b[0m\u001b[1;33m)\u001b[0m\u001b[1;33m\u001b[0m\u001b[1;33m\u001b[0m\u001b[0m\n\u001b[0m",
      "\u001b[1;32mD:\\anaconda\\lib\\site-packages\\selenium\\webdriver\\remote\\webdriver.py\u001b[0m in \u001b[0;36mfind_element_by_class_name\u001b[1;34m(self, name)\u001b[0m\n\u001b[0;32m    759\u001b[0m             \u001b[0mstacklevel\u001b[0m\u001b[1;33m=\u001b[0m\u001b[1;36m2\u001b[0m\u001b[1;33m,\u001b[0m\u001b[1;33m\u001b[0m\u001b[1;33m\u001b[0m\u001b[0m\n\u001b[0;32m    760\u001b[0m         )\n\u001b[1;32m--> 761\u001b[1;33m         \u001b[1;32mreturn\u001b[0m \u001b[0mself\u001b[0m\u001b[1;33m.\u001b[0m\u001b[0mfind_element\u001b[0m\u001b[1;33m(\u001b[0m\u001b[0mby\u001b[0m\u001b[1;33m=\u001b[0m\u001b[0mBy\u001b[0m\u001b[1;33m.\u001b[0m\u001b[0mCLASS_NAME\u001b[0m\u001b[1;33m,\u001b[0m \u001b[0mvalue\u001b[0m\u001b[1;33m=\u001b[0m\u001b[0mname\u001b[0m\u001b[1;33m)\u001b[0m\u001b[1;33m\u001b[0m\u001b[1;33m\u001b[0m\u001b[0m\n\u001b[0m\u001b[0;32m    762\u001b[0m \u001b[1;33m\u001b[0m\u001b[0m\n\u001b[0;32m    763\u001b[0m     \u001b[1;32mdef\u001b[0m \u001b[0mfind_elements_by_class_name\u001b[0m\u001b[1;33m(\u001b[0m\u001b[0mself\u001b[0m\u001b[1;33m,\u001b[0m \u001b[0mname\u001b[0m\u001b[1;33m)\u001b[0m \u001b[1;33m->\u001b[0m \u001b[0mList\u001b[0m\u001b[1;33m[\u001b[0m\u001b[0mWebElement\u001b[0m\u001b[1;33m]\u001b[0m\u001b[1;33m:\u001b[0m\u001b[1;33m\u001b[0m\u001b[1;33m\u001b[0m\u001b[0m\n",
      "\u001b[1;32mD:\\anaconda\\lib\\site-packages\\selenium\\webdriver\\remote\\webdriver.py\u001b[0m in \u001b[0;36mfind_element\u001b[1;34m(self, by, value)\u001b[0m\n\u001b[0;32m   1246\u001b[0m             \u001b[0mvalue\u001b[0m \u001b[1;33m=\u001b[0m \u001b[1;34m'[name=\"%s\"]'\u001b[0m \u001b[1;33m%\u001b[0m \u001b[0mvalue\u001b[0m\u001b[1;33m\u001b[0m\u001b[1;33m\u001b[0m\u001b[0m\n\u001b[0;32m   1247\u001b[0m \u001b[1;33m\u001b[0m\u001b[0m\n\u001b[1;32m-> 1248\u001b[1;33m         return self.execute(Command.FIND_ELEMENT, {\n\u001b[0m\u001b[0;32m   1249\u001b[0m             \u001b[1;34m'using'\u001b[0m\u001b[1;33m:\u001b[0m \u001b[0mby\u001b[0m\u001b[1;33m,\u001b[0m\u001b[1;33m\u001b[0m\u001b[1;33m\u001b[0m\u001b[0m\n\u001b[0;32m   1250\u001b[0m             'value': value})['value']\n",
      "\u001b[1;32mD:\\anaconda\\lib\\site-packages\\selenium\\webdriver\\remote\\webdriver.py\u001b[0m in \u001b[0;36mexecute\u001b[1;34m(self, driver_command, params)\u001b[0m\n\u001b[0;32m    423\u001b[0m         \u001b[0mresponse\u001b[0m \u001b[1;33m=\u001b[0m \u001b[0mself\u001b[0m\u001b[1;33m.\u001b[0m\u001b[0mcommand_executor\u001b[0m\u001b[1;33m.\u001b[0m\u001b[0mexecute\u001b[0m\u001b[1;33m(\u001b[0m\u001b[0mdriver_command\u001b[0m\u001b[1;33m,\u001b[0m \u001b[0mparams\u001b[0m\u001b[1;33m)\u001b[0m\u001b[1;33m\u001b[0m\u001b[1;33m\u001b[0m\u001b[0m\n\u001b[0;32m    424\u001b[0m         \u001b[1;32mif\u001b[0m \u001b[0mresponse\u001b[0m\u001b[1;33m:\u001b[0m\u001b[1;33m\u001b[0m\u001b[1;33m\u001b[0m\u001b[0m\n\u001b[1;32m--> 425\u001b[1;33m             \u001b[0mself\u001b[0m\u001b[1;33m.\u001b[0m\u001b[0merror_handler\u001b[0m\u001b[1;33m.\u001b[0m\u001b[0mcheck_response\u001b[0m\u001b[1;33m(\u001b[0m\u001b[0mresponse\u001b[0m\u001b[1;33m)\u001b[0m\u001b[1;33m\u001b[0m\u001b[1;33m\u001b[0m\u001b[0m\n\u001b[0m\u001b[0;32m    426\u001b[0m             response['value'] = self._unwrap_value(\n\u001b[0;32m    427\u001b[0m                 response.get('value', None))\n",
      "\u001b[1;32mD:\\anaconda\\lib\\site-packages\\selenium\\webdriver\\remote\\errorhandler.py\u001b[0m in \u001b[0;36mcheck_response\u001b[1;34m(self, response)\u001b[0m\n\u001b[0;32m    245\u001b[0m                 \u001b[0malert_text\u001b[0m \u001b[1;33m=\u001b[0m \u001b[0mvalue\u001b[0m\u001b[1;33m[\u001b[0m\u001b[1;34m'alert'\u001b[0m\u001b[1;33m]\u001b[0m\u001b[1;33m.\u001b[0m\u001b[0mget\u001b[0m\u001b[1;33m(\u001b[0m\u001b[1;34m'text'\u001b[0m\u001b[1;33m)\u001b[0m\u001b[1;33m\u001b[0m\u001b[1;33m\u001b[0m\u001b[0m\n\u001b[0;32m    246\u001b[0m             \u001b[1;32mraise\u001b[0m \u001b[0mexception_class\u001b[0m\u001b[1;33m(\u001b[0m\u001b[0mmessage\u001b[0m\u001b[1;33m,\u001b[0m \u001b[0mscreen\u001b[0m\u001b[1;33m,\u001b[0m \u001b[0mstacktrace\u001b[0m\u001b[1;33m,\u001b[0m \u001b[0malert_text\u001b[0m\u001b[1;33m)\u001b[0m  \u001b[1;31m# type: ignore[call-arg]  # mypy is not smart enough here\u001b[0m\u001b[1;33m\u001b[0m\u001b[1;33m\u001b[0m\u001b[0m\n\u001b[1;32m--> 247\u001b[1;33m         \u001b[1;32mraise\u001b[0m \u001b[0mexception_class\u001b[0m\u001b[1;33m(\u001b[0m\u001b[0mmessage\u001b[0m\u001b[1;33m,\u001b[0m \u001b[0mscreen\u001b[0m\u001b[1;33m,\u001b[0m \u001b[0mstacktrace\u001b[0m\u001b[1;33m)\u001b[0m\u001b[1;33m\u001b[0m\u001b[1;33m\u001b[0m\u001b[0m\n\u001b[0m\u001b[0;32m    248\u001b[0m \u001b[1;33m\u001b[0m\u001b[0m\n\u001b[0;32m    249\u001b[0m     \u001b[1;32mdef\u001b[0m \u001b[0m_value_or_default\u001b[0m\u001b[1;33m(\u001b[0m\u001b[0mself\u001b[0m\u001b[1;33m,\u001b[0m \u001b[0mobj\u001b[0m\u001b[1;33m:\u001b[0m \u001b[0mMapping\u001b[0m\u001b[1;33m[\u001b[0m\u001b[0m_KT\u001b[0m\u001b[1;33m,\u001b[0m \u001b[0m_VT\u001b[0m\u001b[1;33m]\u001b[0m\u001b[1;33m,\u001b[0m \u001b[0mkey\u001b[0m\u001b[1;33m:\u001b[0m \u001b[0m_KT\u001b[0m\u001b[1;33m,\u001b[0m \u001b[0mdefault\u001b[0m\u001b[1;33m:\u001b[0m \u001b[0m_VT\u001b[0m\u001b[1;33m)\u001b[0m \u001b[1;33m->\u001b[0m \u001b[0m_VT\u001b[0m\u001b[1;33m:\u001b[0m\u001b[1;33m\u001b[0m\u001b[1;33m\u001b[0m\u001b[0m\n",
      "\u001b[1;31mNoSuchElementException\u001b[0m: Message: no such element: Unable to locate element: {\"method\":\"css selector\",\"selector\":\".rHNip cRLbXd\"}\n  (Session info: chrome=102.0.5005.62)\nStacktrace:\nBacktrace:\n\tOrdinal0 [0x00B7B8F3+2406643]\n\tOrdinal0 [0x00B0AF31+1945393]\n\tOrdinal0 [0x009FC748+837448]\n\tOrdinal0 [0x00A292E0+1020640]\n\tOrdinal0 [0x00A2957B+1021307]\n\tOrdinal0 [0x00A56372+1205106]\n\tOrdinal0 [0x00A442C4+1131204]\n\tOrdinal0 [0x00A54682+1197698]\n\tOrdinal0 [0x00A44096+1130646]\n\tOrdinal0 [0x00A1E636+976438]\n\tOrdinal0 [0x00A1F546+980294]\n\tGetHandleVerifier [0x00DE9612+2498066]\n\tGetHandleVerifier [0x00DDC920+2445600]\n\tGetHandleVerifier [0x00C14F2A+579370]\n\tGetHandleVerifier [0x00C13D36+574774]\n\tOrdinal0 [0x00B11C0B+1973259]\n\tOrdinal0 [0x00B16688+1992328]\n\tOrdinal0 [0x00B16775+1992565]\n\tOrdinal0 [0x00B1F8D1+2029777]\n\tBaseThreadInitThunk [0x7619FA29+25]\n\tRtlGetAppContainerNamedObjectPath [0x77977A7E+286]\n\tRtlGetAppContainerNamedObjectPath [0x77977A4E+238]\n"
     ]
    }
   ],
   "source": [
    "akjsvebjkseagvf2 = driver.find_element_by_class_name(\"rHNip cRLbXd\")\n"
   ]
  },
  {
   "cell_type": "code",
   "execution_count": 217,
   "id": "09e2bfad",
   "metadata": {},
   "outputs": [],
   "source": []
  },
  {
   "cell_type": "code",
   "execution_count": 208,
   "id": "97adfc8c",
   "metadata": {
    "scrolled": true
   },
   "outputs": [
    {
     "name": "stderr",
     "output_type": "stream",
     "text": [
      "C:\\Users\\82103\\AppData\\Local\\Temp/ipykernel_20284/3934446620.py:1: DeprecationWarning: find_element_by_css_selector is deprecated. Please use find_element(by=By.CSS_SELECTOR, value=css_selector) instead\n",
      "  akjsvebjkseagvf2 = driver.find_element_by_css_selector(\"div.drGLxe\")\n"
     ]
    }
   ],
   "source": [
    "akjsvebjkseagvf2 = driver.find_element_by_css_selector(\"div.drGLxe\")"
   ]
  },
  {
   "cell_type": "code",
   "execution_count": 212,
   "id": "81cedb11",
   "metadata": {
    "scrolled": true
   },
   "outputs": [
    {
     "ename": "ElementNotInteractableException",
     "evalue": "Message: element not interactable\n  (Session info: chrome=102.0.5005.62)\nStacktrace:\nBacktrace:\n\tOrdinal0 [0x00B7B8F3+2406643]\n\tOrdinal0 [0x00B0AF31+1945393]\n\tOrdinal0 [0x009FC610+837136]\n\tOrdinal0 [0x00A249C3+1001923]\n\tOrdinal0 [0x00A240A5+999589]\n\tOrdinal0 [0x00A4427C+1131132]\n\tOrdinal0 [0x00A1FA64+981604]\n\tOrdinal0 [0x00A44494+1131668]\n\tOrdinal0 [0x00A54682+1197698]\n\tOrdinal0 [0x00A44096+1130646]\n\tOrdinal0 [0x00A1E636+976438]\n\tOrdinal0 [0x00A1F546+980294]\n\tGetHandleVerifier [0x00DE9612+2498066]\n\tGetHandleVerifier [0x00DDC920+2445600]\n\tGetHandleVerifier [0x00C14F2A+579370]\n\tGetHandleVerifier [0x00C13D36+574774]\n\tOrdinal0 [0x00B11C0B+1973259]\n\tOrdinal0 [0x00B16688+1992328]\n\tOrdinal0 [0x00B16775+1992565]\n\tOrdinal0 [0x00B1F8D1+2029777]\n\tBaseThreadInitThunk [0x7619FA29+25]\n\tRtlGetAppContainerNamedObjectPath [0x77977A7E+286]\n\tRtlGetAppContainerNamedObjectPath [0x77977A4E+238]\n",
     "output_type": "error",
     "traceback": [
      "\u001b[1;31m---------------------------------------------------------------------------\u001b[0m",
      "\u001b[1;31mElementNotInteractableException\u001b[0m           Traceback (most recent call last)",
      "\u001b[1;32m~\\AppData\\Local\\Temp/ipykernel_20284/3561868365.py\u001b[0m in \u001b[0;36m<module>\u001b[1;34m\u001b[0m\n\u001b[1;32m----> 1\u001b[1;33m \u001b[0makjsvebjkseagvf2\u001b[0m\u001b[1;33m.\u001b[0m\u001b[0msend_keys\u001b[0m\u001b[1;33m(\u001b[0m\u001b[0mKeys\u001b[0m\u001b[1;33m.\u001b[0m\u001b[0mENTER\u001b[0m\u001b[1;33m)\u001b[0m\u001b[1;33m\u001b[0m\u001b[1;33m\u001b[0m\u001b[0m\n\u001b[0m",
      "\u001b[1;32mD:\\anaconda\\lib\\site-packages\\selenium\\webdriver\\remote\\webelement.py\u001b[0m in \u001b[0;36msend_keys\u001b[1;34m(self, *value)\u001b[0m\n\u001b[0;32m    538\u001b[0m                 \u001b[0mvalue\u001b[0m \u001b[1;33m=\u001b[0m \u001b[1;34m'\\n'\u001b[0m\u001b[1;33m.\u001b[0m\u001b[0mjoin\u001b[0m\u001b[1;33m(\u001b[0m\u001b[0mremote_files\u001b[0m\u001b[1;33m)\u001b[0m\u001b[1;33m\u001b[0m\u001b[1;33m\u001b[0m\u001b[0m\n\u001b[0;32m    539\u001b[0m \u001b[1;33m\u001b[0m\u001b[0m\n\u001b[1;32m--> 540\u001b[1;33m         self._execute(Command.SEND_KEYS_TO_ELEMENT,\n\u001b[0m\u001b[0;32m    541\u001b[0m                       {'text': \"\".join(keys_to_typing(value)),\n\u001b[0;32m    542\u001b[0m                        'value': keys_to_typing(value)})\n",
      "\u001b[1;32mD:\\anaconda\\lib\\site-packages\\selenium\\webdriver\\remote\\webelement.py\u001b[0m in \u001b[0;36m_execute\u001b[1;34m(self, command, params)\u001b[0m\n\u001b[0;32m    708\u001b[0m             \u001b[0mparams\u001b[0m \u001b[1;33m=\u001b[0m \u001b[1;33m{\u001b[0m\u001b[1;33m}\u001b[0m\u001b[1;33m\u001b[0m\u001b[1;33m\u001b[0m\u001b[0m\n\u001b[0;32m    709\u001b[0m         \u001b[0mparams\u001b[0m\u001b[1;33m[\u001b[0m\u001b[1;34m'id'\u001b[0m\u001b[1;33m]\u001b[0m \u001b[1;33m=\u001b[0m \u001b[0mself\u001b[0m\u001b[1;33m.\u001b[0m\u001b[0m_id\u001b[0m\u001b[1;33m\u001b[0m\u001b[1;33m\u001b[0m\u001b[0m\n\u001b[1;32m--> 710\u001b[1;33m         \u001b[1;32mreturn\u001b[0m \u001b[0mself\u001b[0m\u001b[1;33m.\u001b[0m\u001b[0m_parent\u001b[0m\u001b[1;33m.\u001b[0m\u001b[0mexecute\u001b[0m\u001b[1;33m(\u001b[0m\u001b[0mcommand\u001b[0m\u001b[1;33m,\u001b[0m \u001b[0mparams\u001b[0m\u001b[1;33m)\u001b[0m\u001b[1;33m\u001b[0m\u001b[1;33m\u001b[0m\u001b[0m\n\u001b[0m\u001b[0;32m    711\u001b[0m \u001b[1;33m\u001b[0m\u001b[0m\n\u001b[0;32m    712\u001b[0m     \u001b[1;32mdef\u001b[0m \u001b[0mfind_element\u001b[0m\u001b[1;33m(\u001b[0m\u001b[0mself\u001b[0m\u001b[1;33m,\u001b[0m \u001b[0mby\u001b[0m\u001b[1;33m=\u001b[0m\u001b[0mBy\u001b[0m\u001b[1;33m.\u001b[0m\u001b[0mID\u001b[0m\u001b[1;33m,\u001b[0m \u001b[0mvalue\u001b[0m\u001b[1;33m=\u001b[0m\u001b[1;32mNone\u001b[0m\u001b[1;33m)\u001b[0m\u001b[1;33m:\u001b[0m\u001b[1;33m\u001b[0m\u001b[1;33m\u001b[0m\u001b[0m\n",
      "\u001b[1;32mD:\\anaconda\\lib\\site-packages\\selenium\\webdriver\\remote\\webdriver.py\u001b[0m in \u001b[0;36mexecute\u001b[1;34m(self, driver_command, params)\u001b[0m\n\u001b[0;32m    423\u001b[0m         \u001b[0mresponse\u001b[0m \u001b[1;33m=\u001b[0m \u001b[0mself\u001b[0m\u001b[1;33m.\u001b[0m\u001b[0mcommand_executor\u001b[0m\u001b[1;33m.\u001b[0m\u001b[0mexecute\u001b[0m\u001b[1;33m(\u001b[0m\u001b[0mdriver_command\u001b[0m\u001b[1;33m,\u001b[0m \u001b[0mparams\u001b[0m\u001b[1;33m)\u001b[0m\u001b[1;33m\u001b[0m\u001b[1;33m\u001b[0m\u001b[0m\n\u001b[0;32m    424\u001b[0m         \u001b[1;32mif\u001b[0m \u001b[0mresponse\u001b[0m\u001b[1;33m:\u001b[0m\u001b[1;33m\u001b[0m\u001b[1;33m\u001b[0m\u001b[0m\n\u001b[1;32m--> 425\u001b[1;33m             \u001b[0mself\u001b[0m\u001b[1;33m.\u001b[0m\u001b[0merror_handler\u001b[0m\u001b[1;33m.\u001b[0m\u001b[0mcheck_response\u001b[0m\u001b[1;33m(\u001b[0m\u001b[0mresponse\u001b[0m\u001b[1;33m)\u001b[0m\u001b[1;33m\u001b[0m\u001b[1;33m\u001b[0m\u001b[0m\n\u001b[0m\u001b[0;32m    426\u001b[0m             response['value'] = self._unwrap_value(\n\u001b[0;32m    427\u001b[0m                 response.get('value', None))\n",
      "\u001b[1;32mD:\\anaconda\\lib\\site-packages\\selenium\\webdriver\\remote\\errorhandler.py\u001b[0m in \u001b[0;36mcheck_response\u001b[1;34m(self, response)\u001b[0m\n\u001b[0;32m    245\u001b[0m                 \u001b[0malert_text\u001b[0m \u001b[1;33m=\u001b[0m \u001b[0mvalue\u001b[0m\u001b[1;33m[\u001b[0m\u001b[1;34m'alert'\u001b[0m\u001b[1;33m]\u001b[0m\u001b[1;33m.\u001b[0m\u001b[0mget\u001b[0m\u001b[1;33m(\u001b[0m\u001b[1;34m'text'\u001b[0m\u001b[1;33m)\u001b[0m\u001b[1;33m\u001b[0m\u001b[1;33m\u001b[0m\u001b[0m\n\u001b[0;32m    246\u001b[0m             \u001b[1;32mraise\u001b[0m \u001b[0mexception_class\u001b[0m\u001b[1;33m(\u001b[0m\u001b[0mmessage\u001b[0m\u001b[1;33m,\u001b[0m \u001b[0mscreen\u001b[0m\u001b[1;33m,\u001b[0m \u001b[0mstacktrace\u001b[0m\u001b[1;33m,\u001b[0m \u001b[0malert_text\u001b[0m\u001b[1;33m)\u001b[0m  \u001b[1;31m# type: ignore[call-arg]  # mypy is not smart enough here\u001b[0m\u001b[1;33m\u001b[0m\u001b[1;33m\u001b[0m\u001b[0m\n\u001b[1;32m--> 247\u001b[1;33m         \u001b[1;32mraise\u001b[0m \u001b[0mexception_class\u001b[0m\u001b[1;33m(\u001b[0m\u001b[0mmessage\u001b[0m\u001b[1;33m,\u001b[0m \u001b[0mscreen\u001b[0m\u001b[1;33m,\u001b[0m \u001b[0mstacktrace\u001b[0m\u001b[1;33m)\u001b[0m\u001b[1;33m\u001b[0m\u001b[1;33m\u001b[0m\u001b[0m\n\u001b[0m\u001b[0;32m    248\u001b[0m \u001b[1;33m\u001b[0m\u001b[0m\n\u001b[0;32m    249\u001b[0m     \u001b[1;32mdef\u001b[0m \u001b[0m_value_or_default\u001b[0m\u001b[1;33m(\u001b[0m\u001b[0mself\u001b[0m\u001b[1;33m,\u001b[0m \u001b[0mobj\u001b[0m\u001b[1;33m:\u001b[0m \u001b[0mMapping\u001b[0m\u001b[1;33m[\u001b[0m\u001b[0m_KT\u001b[0m\u001b[1;33m,\u001b[0m \u001b[0m_VT\u001b[0m\u001b[1;33m]\u001b[0m\u001b[1;33m,\u001b[0m \u001b[0mkey\u001b[0m\u001b[1;33m:\u001b[0m \u001b[0m_KT\u001b[0m\u001b[1;33m,\u001b[0m \u001b[0mdefault\u001b[0m\u001b[1;33m:\u001b[0m \u001b[0m_VT\u001b[0m\u001b[1;33m)\u001b[0m \u001b[1;33m->\u001b[0m \u001b[0m_VT\u001b[0m\u001b[1;33m:\u001b[0m\u001b[1;33m\u001b[0m\u001b[1;33m\u001b[0m\u001b[0m\n",
      "\u001b[1;31mElementNotInteractableException\u001b[0m: Message: element not interactable\n  (Session info: chrome=102.0.5005.62)\nStacktrace:\nBacktrace:\n\tOrdinal0 [0x00B7B8F3+2406643]\n\tOrdinal0 [0x00B0AF31+1945393]\n\tOrdinal0 [0x009FC610+837136]\n\tOrdinal0 [0x00A249C3+1001923]\n\tOrdinal0 [0x00A240A5+999589]\n\tOrdinal0 [0x00A4427C+1131132]\n\tOrdinal0 [0x00A1FA64+981604]\n\tOrdinal0 [0x00A44494+1131668]\n\tOrdinal0 [0x00A54682+1197698]\n\tOrdinal0 [0x00A44096+1130646]\n\tOrdinal0 [0x00A1E636+976438]\n\tOrdinal0 [0x00A1F546+980294]\n\tGetHandleVerifier [0x00DE9612+2498066]\n\tGetHandleVerifier [0x00DDC920+2445600]\n\tGetHandleVerifier [0x00C14F2A+579370]\n\tGetHandleVerifier [0x00C13D36+574774]\n\tOrdinal0 [0x00B11C0B+1973259]\n\tOrdinal0 [0x00B16688+1992328]\n\tOrdinal0 [0x00B16775+1992565]\n\tOrdinal0 [0x00B1F8D1+2029777]\n\tBaseThreadInitThunk [0x7619FA29+25]\n\tRtlGetAppContainerNamedObjectPath [0x77977A7E+286]\n\tRtlGetAppContainerNamedObjectPath [0x77977A4E+238]\n"
     ]
    }
   ],
   "source": [
    "akjsvebjkseagvf2.send_keys(Keys.ENTER)"
   ]
  },
  {
   "cell_type": "code",
   "execution_count": 205,
   "id": "53cc0b69",
   "metadata": {},
   "outputs": [
    {
     "ename": "NoSuchElementException",
     "evalue": "Message: no such element: Unable to locate element: {\"method\":\"css selector\",\"selector\":\".tXNTee LCTIRd L6Bbsd VbYL9\"}\n  (Session info: chrome=102.0.5005.62)\nStacktrace:\nBacktrace:\n\tOrdinal0 [0x00B7B8F3+2406643]\n\tOrdinal0 [0x00B0AF31+1945393]\n\tOrdinal0 [0x009FC748+837448]\n\tOrdinal0 [0x00A292E0+1020640]\n\tOrdinal0 [0x00A2957B+1021307]\n\tOrdinal0 [0x00A56372+1205106]\n\tOrdinal0 [0x00A442C4+1131204]\n\tOrdinal0 [0x00A54682+1197698]\n\tOrdinal0 [0x00A44096+1130646]\n\tOrdinal0 [0x00A1E636+976438]\n\tOrdinal0 [0x00A1F546+980294]\n\tGetHandleVerifier [0x00DE9612+2498066]\n\tGetHandleVerifier [0x00DDC920+2445600]\n\tGetHandleVerifier [0x00C14F2A+579370]\n\tGetHandleVerifier [0x00C13D36+574774]\n\tOrdinal0 [0x00B11C0B+1973259]\n\tOrdinal0 [0x00B16688+1992328]\n\tOrdinal0 [0x00B16775+1992565]\n\tOrdinal0 [0x00B1F8D1+2029777]\n\tBaseThreadInitThunk [0x7619FA29+25]\n\tRtlGetAppContainerNamedObjectPath [0x77977A7E+286]\n\tRtlGetAppContainerNamedObjectPath [0x77977A4E+238]\n",
     "output_type": "error",
     "traceback": [
      "\u001b[1;31m---------------------------------------------------------------------------\u001b[0m",
      "\u001b[1;31mNoSuchElementException\u001b[0m                    Traceback (most recent call last)",
      "\u001b[1;32m~\\AppData\\Local\\Temp/ipykernel_20284/1535920819.py\u001b[0m in \u001b[0;36m<module>\u001b[1;34m\u001b[0m\n\u001b[1;32m----> 1\u001b[1;33m \u001b[0makjsvebjkseagvf\u001b[0m \u001b[1;33m=\u001b[0m \u001b[0mdriver\u001b[0m\u001b[1;33m.\u001b[0m\u001b[0mfind_element\u001b[0m\u001b[1;33m(\u001b[0m\u001b[0mBy\u001b[0m\u001b[1;33m.\u001b[0m\u001b[0mCLASS_NAME\u001b[0m\u001b[1;33m,\u001b[0m \u001b[1;34m\"tXNTee LCTIRd L6Bbsd VbYL9\"\u001b[0m\u001b[1;33m)\u001b[0m\u001b[1;33m\u001b[0m\u001b[1;33m\u001b[0m\u001b[0m\n\u001b[0m",
      "\u001b[1;32mD:\\anaconda\\lib\\site-packages\\selenium\\webdriver\\remote\\webdriver.py\u001b[0m in \u001b[0;36mfind_element\u001b[1;34m(self, by, value)\u001b[0m\n\u001b[0;32m   1246\u001b[0m             \u001b[0mvalue\u001b[0m \u001b[1;33m=\u001b[0m \u001b[1;34m'[name=\"%s\"]'\u001b[0m \u001b[1;33m%\u001b[0m \u001b[0mvalue\u001b[0m\u001b[1;33m\u001b[0m\u001b[1;33m\u001b[0m\u001b[0m\n\u001b[0;32m   1247\u001b[0m \u001b[1;33m\u001b[0m\u001b[0m\n\u001b[1;32m-> 1248\u001b[1;33m         return self.execute(Command.FIND_ELEMENT, {\n\u001b[0m\u001b[0;32m   1249\u001b[0m             \u001b[1;34m'using'\u001b[0m\u001b[1;33m:\u001b[0m \u001b[0mby\u001b[0m\u001b[1;33m,\u001b[0m\u001b[1;33m\u001b[0m\u001b[1;33m\u001b[0m\u001b[0m\n\u001b[0;32m   1250\u001b[0m             'value': value})['value']\n",
      "\u001b[1;32mD:\\anaconda\\lib\\site-packages\\selenium\\webdriver\\remote\\webdriver.py\u001b[0m in \u001b[0;36mexecute\u001b[1;34m(self, driver_command, params)\u001b[0m\n\u001b[0;32m    423\u001b[0m         \u001b[0mresponse\u001b[0m \u001b[1;33m=\u001b[0m \u001b[0mself\u001b[0m\u001b[1;33m.\u001b[0m\u001b[0mcommand_executor\u001b[0m\u001b[1;33m.\u001b[0m\u001b[0mexecute\u001b[0m\u001b[1;33m(\u001b[0m\u001b[0mdriver_command\u001b[0m\u001b[1;33m,\u001b[0m \u001b[0mparams\u001b[0m\u001b[1;33m)\u001b[0m\u001b[1;33m\u001b[0m\u001b[1;33m\u001b[0m\u001b[0m\n\u001b[0;32m    424\u001b[0m         \u001b[1;32mif\u001b[0m \u001b[0mresponse\u001b[0m\u001b[1;33m:\u001b[0m\u001b[1;33m\u001b[0m\u001b[1;33m\u001b[0m\u001b[0m\n\u001b[1;32m--> 425\u001b[1;33m             \u001b[0mself\u001b[0m\u001b[1;33m.\u001b[0m\u001b[0merror_handler\u001b[0m\u001b[1;33m.\u001b[0m\u001b[0mcheck_response\u001b[0m\u001b[1;33m(\u001b[0m\u001b[0mresponse\u001b[0m\u001b[1;33m)\u001b[0m\u001b[1;33m\u001b[0m\u001b[1;33m\u001b[0m\u001b[0m\n\u001b[0m\u001b[0;32m    426\u001b[0m             response['value'] = self._unwrap_value(\n\u001b[0;32m    427\u001b[0m                 response.get('value', None))\n",
      "\u001b[1;32mD:\\anaconda\\lib\\site-packages\\selenium\\webdriver\\remote\\errorhandler.py\u001b[0m in \u001b[0;36mcheck_response\u001b[1;34m(self, response)\u001b[0m\n\u001b[0;32m    245\u001b[0m                 \u001b[0malert_text\u001b[0m \u001b[1;33m=\u001b[0m \u001b[0mvalue\u001b[0m\u001b[1;33m[\u001b[0m\u001b[1;34m'alert'\u001b[0m\u001b[1;33m]\u001b[0m\u001b[1;33m.\u001b[0m\u001b[0mget\u001b[0m\u001b[1;33m(\u001b[0m\u001b[1;34m'text'\u001b[0m\u001b[1;33m)\u001b[0m\u001b[1;33m\u001b[0m\u001b[1;33m\u001b[0m\u001b[0m\n\u001b[0;32m    246\u001b[0m             \u001b[1;32mraise\u001b[0m \u001b[0mexception_class\u001b[0m\u001b[1;33m(\u001b[0m\u001b[0mmessage\u001b[0m\u001b[1;33m,\u001b[0m \u001b[0mscreen\u001b[0m\u001b[1;33m,\u001b[0m \u001b[0mstacktrace\u001b[0m\u001b[1;33m,\u001b[0m \u001b[0malert_text\u001b[0m\u001b[1;33m)\u001b[0m  \u001b[1;31m# type: ignore[call-arg]  # mypy is not smart enough here\u001b[0m\u001b[1;33m\u001b[0m\u001b[1;33m\u001b[0m\u001b[0m\n\u001b[1;32m--> 247\u001b[1;33m         \u001b[1;32mraise\u001b[0m \u001b[0mexception_class\u001b[0m\u001b[1;33m(\u001b[0m\u001b[0mmessage\u001b[0m\u001b[1;33m,\u001b[0m \u001b[0mscreen\u001b[0m\u001b[1;33m,\u001b[0m \u001b[0mstacktrace\u001b[0m\u001b[1;33m)\u001b[0m\u001b[1;33m\u001b[0m\u001b[1;33m\u001b[0m\u001b[0m\n\u001b[0m\u001b[0;32m    248\u001b[0m \u001b[1;33m\u001b[0m\u001b[0m\n\u001b[0;32m    249\u001b[0m     \u001b[1;32mdef\u001b[0m \u001b[0m_value_or_default\u001b[0m\u001b[1;33m(\u001b[0m\u001b[0mself\u001b[0m\u001b[1;33m,\u001b[0m \u001b[0mobj\u001b[0m\u001b[1;33m:\u001b[0m \u001b[0mMapping\u001b[0m\u001b[1;33m[\u001b[0m\u001b[0m_KT\u001b[0m\u001b[1;33m,\u001b[0m \u001b[0m_VT\u001b[0m\u001b[1;33m]\u001b[0m\u001b[1;33m,\u001b[0m \u001b[0mkey\u001b[0m\u001b[1;33m:\u001b[0m \u001b[0m_KT\u001b[0m\u001b[1;33m,\u001b[0m \u001b[0mdefault\u001b[0m\u001b[1;33m:\u001b[0m \u001b[0m_VT\u001b[0m\u001b[1;33m)\u001b[0m \u001b[1;33m->\u001b[0m \u001b[0m_VT\u001b[0m\u001b[1;33m:\u001b[0m\u001b[1;33m\u001b[0m\u001b[1;33m\u001b[0m\u001b[0m\n",
      "\u001b[1;31mNoSuchElementException\u001b[0m: Message: no such element: Unable to locate element: {\"method\":\"css selector\",\"selector\":\".tXNTee LCTIRd L6Bbsd VbYL9\"}\n  (Session info: chrome=102.0.5005.62)\nStacktrace:\nBacktrace:\n\tOrdinal0 [0x00B7B8F3+2406643]\n\tOrdinal0 [0x00B0AF31+1945393]\n\tOrdinal0 [0x009FC748+837448]\n\tOrdinal0 [0x00A292E0+1020640]\n\tOrdinal0 [0x00A2957B+1021307]\n\tOrdinal0 [0x00A56372+1205106]\n\tOrdinal0 [0x00A442C4+1131204]\n\tOrdinal0 [0x00A54682+1197698]\n\tOrdinal0 [0x00A44096+1130646]\n\tOrdinal0 [0x00A1E636+976438]\n\tOrdinal0 [0x00A1F546+980294]\n\tGetHandleVerifier [0x00DE9612+2498066]\n\tGetHandleVerifier [0x00DDC920+2445600]\n\tGetHandleVerifier [0x00C14F2A+579370]\n\tGetHandleVerifier [0x00C13D36+574774]\n\tOrdinal0 [0x00B11C0B+1973259]\n\tOrdinal0 [0x00B16688+1992328]\n\tOrdinal0 [0x00B16775+1992565]\n\tOrdinal0 [0x00B1F8D1+2029777]\n\tBaseThreadInitThunk [0x7619FA29+25]\n\tRtlGetAppContainerNamedObjectPath [0x77977A7E+286]\n\tRtlGetAppContainerNamedObjectPath [0x77977A4E+238]\n"
     ]
    }
   ],
   "source": [
    "akjsvebjkseagvf = driver.find_element(By.CLASS_NAME, \"tXNTee LCTIRd L6Bbsd VbYL9\")"
   ]
  },
  {
   "cell_type": "code",
   "execution_count": 195,
   "id": "9ee7a4c4",
   "metadata": {},
   "outputs": [
    {
     "name": "stderr",
     "output_type": "stream",
     "text": [
      "C:\\Users\\82103\\AppData\\Local\\Temp/ipykernel_20284/2244094299.py:1: DeprecationWarning: find_element_by_css_selector is deprecated. Please use find_element(by=By.CSS_SELECTOR, value=css_selector) instead\n",
      "  jksdfkhsbdf = driver.find_element_by_css_selector(\"div.drGLxe\")\n"
     ]
    }
   ],
   "source": [
    "jksdfkhsbdf = driver.find_element_by_css_selector(\"div.drGLxe\")"
   ]
  },
  {
   "cell_type": "code",
   "execution_count": 196,
   "id": "6dd1ebec",
   "metadata": {},
   "outputs": [
    {
     "ename": "ElementNotInteractableException",
     "evalue": "Message: element not interactable\n  (Session info: chrome=102.0.5005.62)\nStacktrace:\nBacktrace:\n\tOrdinal0 [0x00B7B8F3+2406643]\n\tOrdinal0 [0x00B0AF31+1945393]\n\tOrdinal0 [0x009FC610+837136]\n\tOrdinal0 [0x00A2A2D3+1024723]\n\tOrdinal0 [0x00A20083+983171]\n\tOrdinal0 [0x00A4427C+1131132]\n\tOrdinal0 [0x00A1FA64+981604]\n\tOrdinal0 [0x00A44494+1131668]\n\tOrdinal0 [0x00A54682+1197698]\n\tOrdinal0 [0x00A44096+1130646]\n\tOrdinal0 [0x00A1E636+976438]\n\tOrdinal0 [0x00A1F546+980294]\n\tGetHandleVerifier [0x00DE9612+2498066]\n\tGetHandleVerifier [0x00DDC920+2445600]\n\tGetHandleVerifier [0x00C14F2A+579370]\n\tGetHandleVerifier [0x00C13D36+574774]\n\tOrdinal0 [0x00B11C0B+1973259]\n\tOrdinal0 [0x00B16688+1992328]\n\tOrdinal0 [0x00B16775+1992565]\n\tOrdinal0 [0x00B1F8D1+2029777]\n\tBaseThreadInitThunk [0x7619FA29+25]\n\tRtlGetAppContainerNamedObjectPath [0x77977A7E+286]\n\tRtlGetAppContainerNamedObjectPath [0x77977A4E+238]\n",
     "output_type": "error",
     "traceback": [
      "\u001b[1;31m---------------------------------------------------------------------------\u001b[0m",
      "\u001b[1;31mElementNotInteractableException\u001b[0m           Traceback (most recent call last)",
      "\u001b[1;32m~\\AppData\\Local\\Temp/ipykernel_20284/319555219.py\u001b[0m in \u001b[0;36m<module>\u001b[1;34m\u001b[0m\n\u001b[1;32m----> 1\u001b[1;33m \u001b[0mjksdfkhsbdf\u001b[0m\u001b[1;33m.\u001b[0m\u001b[0mclick\u001b[0m\u001b[1;33m(\u001b[0m\u001b[1;33m)\u001b[0m\u001b[1;33m\u001b[0m\u001b[1;33m\u001b[0m\u001b[0m\n\u001b[0m",
      "\u001b[1;32mD:\\anaconda\\lib\\site-packages\\selenium\\webdriver\\remote\\webelement.py\u001b[0m in \u001b[0;36mclick\u001b[1;34m(self)\u001b[0m\n\u001b[0;32m     79\u001b[0m     \u001b[1;32mdef\u001b[0m \u001b[0mclick\u001b[0m\u001b[1;33m(\u001b[0m\u001b[0mself\u001b[0m\u001b[1;33m)\u001b[0m \u001b[1;33m->\u001b[0m \u001b[1;32mNone\u001b[0m\u001b[1;33m:\u001b[0m\u001b[1;33m\u001b[0m\u001b[1;33m\u001b[0m\u001b[0m\n\u001b[0;32m     80\u001b[0m         \u001b[1;34m\"\"\"Clicks the element.\"\"\"\u001b[0m\u001b[1;33m\u001b[0m\u001b[1;33m\u001b[0m\u001b[0m\n\u001b[1;32m---> 81\u001b[1;33m         \u001b[0mself\u001b[0m\u001b[1;33m.\u001b[0m\u001b[0m_execute\u001b[0m\u001b[1;33m(\u001b[0m\u001b[0mCommand\u001b[0m\u001b[1;33m.\u001b[0m\u001b[0mCLICK_ELEMENT\u001b[0m\u001b[1;33m)\u001b[0m\u001b[1;33m\u001b[0m\u001b[1;33m\u001b[0m\u001b[0m\n\u001b[0m\u001b[0;32m     82\u001b[0m \u001b[1;33m\u001b[0m\u001b[0m\n\u001b[0;32m     83\u001b[0m     \u001b[1;32mdef\u001b[0m \u001b[0msubmit\u001b[0m\u001b[1;33m(\u001b[0m\u001b[0mself\u001b[0m\u001b[1;33m)\u001b[0m\u001b[1;33m:\u001b[0m\u001b[1;33m\u001b[0m\u001b[1;33m\u001b[0m\u001b[0m\n",
      "\u001b[1;32mD:\\anaconda\\lib\\site-packages\\selenium\\webdriver\\remote\\webelement.py\u001b[0m in \u001b[0;36m_execute\u001b[1;34m(self, command, params)\u001b[0m\n\u001b[0;32m    708\u001b[0m             \u001b[0mparams\u001b[0m \u001b[1;33m=\u001b[0m \u001b[1;33m{\u001b[0m\u001b[1;33m}\u001b[0m\u001b[1;33m\u001b[0m\u001b[1;33m\u001b[0m\u001b[0m\n\u001b[0;32m    709\u001b[0m         \u001b[0mparams\u001b[0m\u001b[1;33m[\u001b[0m\u001b[1;34m'id'\u001b[0m\u001b[1;33m]\u001b[0m \u001b[1;33m=\u001b[0m \u001b[0mself\u001b[0m\u001b[1;33m.\u001b[0m\u001b[0m_id\u001b[0m\u001b[1;33m\u001b[0m\u001b[1;33m\u001b[0m\u001b[0m\n\u001b[1;32m--> 710\u001b[1;33m         \u001b[1;32mreturn\u001b[0m \u001b[0mself\u001b[0m\u001b[1;33m.\u001b[0m\u001b[0m_parent\u001b[0m\u001b[1;33m.\u001b[0m\u001b[0mexecute\u001b[0m\u001b[1;33m(\u001b[0m\u001b[0mcommand\u001b[0m\u001b[1;33m,\u001b[0m \u001b[0mparams\u001b[0m\u001b[1;33m)\u001b[0m\u001b[1;33m\u001b[0m\u001b[1;33m\u001b[0m\u001b[0m\n\u001b[0m\u001b[0;32m    711\u001b[0m \u001b[1;33m\u001b[0m\u001b[0m\n\u001b[0;32m    712\u001b[0m     \u001b[1;32mdef\u001b[0m \u001b[0mfind_element\u001b[0m\u001b[1;33m(\u001b[0m\u001b[0mself\u001b[0m\u001b[1;33m,\u001b[0m \u001b[0mby\u001b[0m\u001b[1;33m=\u001b[0m\u001b[0mBy\u001b[0m\u001b[1;33m.\u001b[0m\u001b[0mID\u001b[0m\u001b[1;33m,\u001b[0m \u001b[0mvalue\u001b[0m\u001b[1;33m=\u001b[0m\u001b[1;32mNone\u001b[0m\u001b[1;33m)\u001b[0m\u001b[1;33m:\u001b[0m\u001b[1;33m\u001b[0m\u001b[1;33m\u001b[0m\u001b[0m\n",
      "\u001b[1;32mD:\\anaconda\\lib\\site-packages\\selenium\\webdriver\\remote\\webdriver.py\u001b[0m in \u001b[0;36mexecute\u001b[1;34m(self, driver_command, params)\u001b[0m\n\u001b[0;32m    423\u001b[0m         \u001b[0mresponse\u001b[0m \u001b[1;33m=\u001b[0m \u001b[0mself\u001b[0m\u001b[1;33m.\u001b[0m\u001b[0mcommand_executor\u001b[0m\u001b[1;33m.\u001b[0m\u001b[0mexecute\u001b[0m\u001b[1;33m(\u001b[0m\u001b[0mdriver_command\u001b[0m\u001b[1;33m,\u001b[0m \u001b[0mparams\u001b[0m\u001b[1;33m)\u001b[0m\u001b[1;33m\u001b[0m\u001b[1;33m\u001b[0m\u001b[0m\n\u001b[0;32m    424\u001b[0m         \u001b[1;32mif\u001b[0m \u001b[0mresponse\u001b[0m\u001b[1;33m:\u001b[0m\u001b[1;33m\u001b[0m\u001b[1;33m\u001b[0m\u001b[0m\n\u001b[1;32m--> 425\u001b[1;33m             \u001b[0mself\u001b[0m\u001b[1;33m.\u001b[0m\u001b[0merror_handler\u001b[0m\u001b[1;33m.\u001b[0m\u001b[0mcheck_response\u001b[0m\u001b[1;33m(\u001b[0m\u001b[0mresponse\u001b[0m\u001b[1;33m)\u001b[0m\u001b[1;33m\u001b[0m\u001b[1;33m\u001b[0m\u001b[0m\n\u001b[0m\u001b[0;32m    426\u001b[0m             response['value'] = self._unwrap_value(\n\u001b[0;32m    427\u001b[0m                 response.get('value', None))\n",
      "\u001b[1;32mD:\\anaconda\\lib\\site-packages\\selenium\\webdriver\\remote\\errorhandler.py\u001b[0m in \u001b[0;36mcheck_response\u001b[1;34m(self, response)\u001b[0m\n\u001b[0;32m    245\u001b[0m                 \u001b[0malert_text\u001b[0m \u001b[1;33m=\u001b[0m \u001b[0mvalue\u001b[0m\u001b[1;33m[\u001b[0m\u001b[1;34m'alert'\u001b[0m\u001b[1;33m]\u001b[0m\u001b[1;33m.\u001b[0m\u001b[0mget\u001b[0m\u001b[1;33m(\u001b[0m\u001b[1;34m'text'\u001b[0m\u001b[1;33m)\u001b[0m\u001b[1;33m\u001b[0m\u001b[1;33m\u001b[0m\u001b[0m\n\u001b[0;32m    246\u001b[0m             \u001b[1;32mraise\u001b[0m \u001b[0mexception_class\u001b[0m\u001b[1;33m(\u001b[0m\u001b[0mmessage\u001b[0m\u001b[1;33m,\u001b[0m \u001b[0mscreen\u001b[0m\u001b[1;33m,\u001b[0m \u001b[0mstacktrace\u001b[0m\u001b[1;33m,\u001b[0m \u001b[0malert_text\u001b[0m\u001b[1;33m)\u001b[0m  \u001b[1;31m# type: ignore[call-arg]  # mypy is not smart enough here\u001b[0m\u001b[1;33m\u001b[0m\u001b[1;33m\u001b[0m\u001b[0m\n\u001b[1;32m--> 247\u001b[1;33m         \u001b[1;32mraise\u001b[0m \u001b[0mexception_class\u001b[0m\u001b[1;33m(\u001b[0m\u001b[0mmessage\u001b[0m\u001b[1;33m,\u001b[0m \u001b[0mscreen\u001b[0m\u001b[1;33m,\u001b[0m \u001b[0mstacktrace\u001b[0m\u001b[1;33m)\u001b[0m\u001b[1;33m\u001b[0m\u001b[1;33m\u001b[0m\u001b[0m\n\u001b[0m\u001b[0;32m    248\u001b[0m \u001b[1;33m\u001b[0m\u001b[0m\n\u001b[0;32m    249\u001b[0m     \u001b[1;32mdef\u001b[0m \u001b[0m_value_or_default\u001b[0m\u001b[1;33m(\u001b[0m\u001b[0mself\u001b[0m\u001b[1;33m,\u001b[0m \u001b[0mobj\u001b[0m\u001b[1;33m:\u001b[0m \u001b[0mMapping\u001b[0m\u001b[1;33m[\u001b[0m\u001b[0m_KT\u001b[0m\u001b[1;33m,\u001b[0m \u001b[0m_VT\u001b[0m\u001b[1;33m]\u001b[0m\u001b[1;33m,\u001b[0m \u001b[0mkey\u001b[0m\u001b[1;33m:\u001b[0m \u001b[0m_KT\u001b[0m\u001b[1;33m,\u001b[0m \u001b[0mdefault\u001b[0m\u001b[1;33m:\u001b[0m \u001b[0m_VT\u001b[0m\u001b[1;33m)\u001b[0m \u001b[1;33m->\u001b[0m \u001b[0m_VT\u001b[0m\u001b[1;33m:\u001b[0m\u001b[1;33m\u001b[0m\u001b[1;33m\u001b[0m\u001b[0m\n",
      "\u001b[1;31mElementNotInteractableException\u001b[0m: Message: element not interactable\n  (Session info: chrome=102.0.5005.62)\nStacktrace:\nBacktrace:\n\tOrdinal0 [0x00B7B8F3+2406643]\n\tOrdinal0 [0x00B0AF31+1945393]\n\tOrdinal0 [0x009FC610+837136]\n\tOrdinal0 [0x00A2A2D3+1024723]\n\tOrdinal0 [0x00A20083+983171]\n\tOrdinal0 [0x00A4427C+1131132]\n\tOrdinal0 [0x00A1FA64+981604]\n\tOrdinal0 [0x00A44494+1131668]\n\tOrdinal0 [0x00A54682+1197698]\n\tOrdinal0 [0x00A44096+1130646]\n\tOrdinal0 [0x00A1E636+976438]\n\tOrdinal0 [0x00A1F546+980294]\n\tGetHandleVerifier [0x00DE9612+2498066]\n\tGetHandleVerifier [0x00DDC920+2445600]\n\tGetHandleVerifier [0x00C14F2A+579370]\n\tGetHandleVerifier [0x00C13D36+574774]\n\tOrdinal0 [0x00B11C0B+1973259]\n\tOrdinal0 [0x00B16688+1992328]\n\tOrdinal0 [0x00B16775+1992565]\n\tOrdinal0 [0x00B1F8D1+2029777]\n\tBaseThreadInitThunk [0x7619FA29+25]\n\tRtlGetAppContainerNamedObjectPath [0x77977A7E+286]\n\tRtlGetAppContainerNamedObjectPath [0x77977A4E+238]\n"
     ]
    }
   ],
   "source": [
    "jksdfkhsbdf.click()"
   ]
  },
  {
   "cell_type": "code",
   "execution_count": null,
   "id": "71a44d85",
   "metadata": {},
   "outputs": [],
   "source": []
  },
  {
   "cell_type": "code",
   "execution_count": null,
   "id": "559fa732",
   "metadata": {},
   "outputs": [],
   "source": []
  },
  {
   "cell_type": "code",
   "execution_count": null,
   "id": "531d5e5c",
   "metadata": {},
   "outputs": [],
   "source": []
  },
  {
   "cell_type": "code",
   "execution_count": 328,
   "id": "750b6867",
   "metadata": {},
   "outputs": [
    {
     "data": {
      "text/plain": [
       "'세림동물병원\\n5.0(23)\\n동물병원 · 산곡동 143-2\\n032-503-0075\\n경로\\n길동물병원\\n4.0(7)\\n동물병원 · KR 인천광역시 서구 신현동 303 금강아미움 길동물병원 2층\\n영업 종료 ⋅ 수 오전 10:00에 영업 시작 · 032-578-5119\\n웹사이트\\n경로\\n이오동물병원\\n5.0(5)\\n동물 병원 · 검암동 506-1번지 동곡프라자 1층 108호\\n032-710-7553\\n경로\\n부천 TLC 동물의료센터\\n4.9(35)\\n동물병원 · 중동 길주로 281 TLC 동물의료센터 1층\\n24시간 영업 · 032-323-2475\\n웹사이트\\n경로\\n포근한동물병원\\n4.9(31)\\n동물병원 · 중동 1168\\n24시간 영업 · 032-231-0075\\n경로\\n24시나음동물병원\\n4.6(45)\\n동물 병원 · 중동\\n032-323-7581\\n경로\\n청라종합동물병원\\n5.0(13)\\n동물병원 · 119(118 KR 인천광역시 서구 청라커낼로 252 롯데캐슬단지내상가 C동\\n영업 종료 ⋅ 수 오전 10:00에 영업 시작 · 050-71318-0367\\n웹사이트\\n경로\\n짱구네동물병원\\n3.7(6)\\n동물병원 · 갈산동 59-5\\n032-511-5515\\n경로\\n청라루비동물병원\\n4.3(34)\\n동물병원 · 청라동 루비로134번길 6-4\\n곧 영업 종료: 오후 8:00 ⋅ 수 오전 10:00에 영업 시작 · 032-568-0922\\n웹사이트\\n경로\\n24시 해든동물메디컬센터\\n4.2(81)\\n동물병원 · 중동 신흥로 1106 KR 190) 위브더스테이트 1단지상가 2층 213-216호\\n24시간 영업 · 032-715-7579\\n웹사이트\\n경로\\n펫사랑동물병원\\n4.4(48)\\n동물병원 · 산곡동 194-6\\n032-521-0003\\n웹사이트\\n경로\\n지중해동물병원\\n4.8(34)\\n동물 병원 · 중동 1058-2번지 107호 중동프라자 부천시 경기도 KR\\n032-321-7603\\n경로\\n리치동물병원\\n4.0(2)\\n동물병원 · 삼산동 389-1\\n032-507-1110\\n경로\\n한사랑동물병원\\n3.8(4)\\n동물병원 · 효성1동 63-8\\n032-551-9008\\n경로\\n굿모닝동물병원\\n4.0(5)\\n동물병원 · 방화3동 830-3\\n02-2665-8256\\n경로\\n소나무동물메디컬센터\\n5.0(2)\\n동물병원 · 효성동 75-3\\n곧 영업 종료: 오후 8:00 ⋅ 수 오전 10:00에 영업 시작 · 032-556-9990\\n웹사이트\\n경로\\n고강동물병원\\n3.9(14)\\n동물병원 · 고강동 474-1\\n032-683-5137\\n경로\\n24시 SKY 동물병원\\n2.3(3)\\n종합병원 · 작전동\\n경로\\n위더스동물병원\\n4.4(13)\\n동물병원 · 상3동 534-9\\n032-666-7500\\n경로\\n펫가든동물병원\\n5.0(1)\\n동물 병원 · 계산동 1059-1번지 2층 계양구 인천광역시 KR\\n경로\\n검색결과 21 - 40 표시 중\\n지도 이동 시 결과 업데이트'"
      ]
     },
     "execution_count": 328,
     "metadata": {},
     "output_type": "execute_result"
    }
   ],
   "source": [
    "target.text"
   ]
  },
  {
   "cell_type": "code",
   "execution_count": 187,
   "id": "f821a500",
   "metadata": {},
   "outputs": [],
   "source": [
    "target.send_keys(Keys.END)"
   ]
  },
  {
   "cell_type": "code",
   "execution_count": 155,
   "id": "d323841d",
   "metadata": {},
   "outputs": [],
   "source": [
    "driver.execute_script(\"window.scrollTo(0, 10000)\") "
   ]
  },
  {
   "cell_type": "code",
   "execution_count": 159,
   "id": "a87016e8",
   "metadata": {},
   "outputs": [],
   "source": [
    "driver.execute_script('arguments[0].scrollIntoView(true);', target)"
   ]
  },
  {
   "cell_type": "code",
   "execution_count": 169,
   "id": "6a307b6c",
   "metadata": {},
   "outputs": [],
   "source": [
    "actions = ActionChains(driver) \\\n",
    "    .move_to_element(panee) \\\n",
    "    .click() \\\n",
    "    .send_keys(Keys.END)\n",
    "\n",
    "actions.perform() "
   ]
  },
  {
   "cell_type": "code",
   "execution_count": null,
   "id": "80c84ba5",
   "metadata": {},
   "outputs": [],
   "source": [
    "for i in range(0,10):\n",
    "    driver.execute_script('test=document.querySelector(\"#pane > div > div.Yr7JMd-pane-content.cYB2Ge-oHo7ed > div > div > div.siAUzd-neVct.section-scrollbox.cYB2Ge-oHo7ed.cYB2Ge-ti6hGc.siAUzd-neVct-Q3DXx-BvBYQ > div.siAUzd-neVct.section-scrollbox.cYB2Ge-oHo7ed.cYB2Ge-ti6hGc.siAUzd-neVct-Q3DXx-BvBYQ\"); test.scrollTo(0, 10000000000000000000);')\n",
    "    time.sleep(1)"
   ]
  },
  {
   "cell_type": "markdown",
   "id": "8767c823",
   "metadata": {},
   "source": [
    "divtag -> class -> \"m6QErb DxyBCb kA9KIf dS8AEf ecceSd QjC7t\"\n",
    "\n",
    "subdiv -> jstcache=\"184\" 들 모아놓음\n",
    "\n",
    "name -> class=\"NrDZNb\"\n",
    "\n",
    "star -> jstcache=\"83\""
   ]
  },
  {
   "cell_type": "code",
   "execution_count": 295,
   "id": "0b18857e",
   "metadata": {},
   "outputs": [
    {
     "data": {
      "text/plain": [
       "<selenium.webdriver.remote.webelement.WebElement (session=\"53bf810fa272506cc2495a7a82b04fe4\", element=\"4b490803-0c2a-4711-bfb2-de0b7edc2a46\")>"
      ]
     },
     "execution_count": 295,
     "metadata": {},
     "output_type": "execute_result"
    }
   ],
   "source": [
    "target"
   ]
  },
  {
   "cell_type": "code",
   "execution_count": 389,
   "id": "08088905",
   "metadata": {
    "scrolled": true
   },
   "outputs": [
    {
     "data": {
      "text/plain": [
       "'방문 전에 관련 정보의 확인을 위해 1339콜센터에 연락하시기 바랍니다 자세히 알아보기\\n웨스턴동물의료센터\\n4.4(16)\\n· 노고산동 신촌로 110\\n24시간 영업 · 02-701-7580\\n웹사이트\\n경로\\n레이동물병원\\n4.7(19)\\n동물병원 · 송정로 20 KR 레이동물병원\\n곧 영업 종료: 오후 8:00 ⋅ 수 오전 10:00에 영업 시작 · 031-245-7707\\n웹사이트\\n경로\\n쿨펫동물병원\\n리뷰 없음\\n동물병원 · 구월1동 1130\\n032-437-7582\\n경로\\n탑동물병원\\n리뷰 없음\\n동물 관련업 · 심곡본동 687-4\\n032-663-0275\\n경로\\n비바동물병원\\n5.0(1)\\n동물병원 · 쑥고개로 57-1\\n곧 영업 종료: 오후 8:00 ⋅ 수 오전 10:00에 영업 시작 · 02-872-7582\\n경로\\n녹양 돌봄 동물병원\\n5.0(10)\\n동물병원 · 녹양동 비우로 100 KR 1층\\n영업 중 ⋅ 오후 10:00에 영업 종료 · 031-829-7577\\n웹사이트\\n경로\\n우리동물병원\\n리뷰 없음\\n동물 병원 · 용현동 622-129\\n032-203-0085\\n경로\\n시민동물병원\\n리뷰 없음\\n동물 병원 · 주안동 1455-8\\n032-868-2646\\n경로\\n힐링동물병원\\n1.0(1)\\n동물 병원 · 신공덕동 172번지 펜트라하우스 105동 B235호 마포구 서울특별시 KR\\n02-713-8275\\n경로\\n가톨릭대학교 인천성모병원\\n3.7(125)\\n대학병원 · 동수로 56\\n영업 종료 ⋅ 수 오전 8:30에 영업 시작 · 1544-9004\\n웹사이트\\n경로\\n우리애동물병원\\n5.0(1)\\n동물 병원 · 논현동 671-1번지 1층 109호 D아파트 PLAZA 남동구 인천광역시 KR\\n032-271-2202\\n웹사이트\\n경로\\n경기가축병원\\n리뷰 없음\\n동물 병원 · 주안동 1417-93\\n032-867-2270\\n경로\\n오아시스 정형외과 신경외과 동물병원\\n3.9(27)\\n동물병원 · 센트럴타운로 107, 광교 푸르지오 월드마크, 월드스퀘어 2층 2-06~2-09호\\n영업 종료 ⋅ 수 오전 10:00에 영업 시작 · 031-215-7474\\n웹사이트\\n경로\\n송도힐동물메디칼센타\\n2.2(6)\\n동물 병원 · 송도동 2-3\\n032-834-7275\\n경로\\n웰동물병원\\n리뷰 없음\\n동물 병원 · 청학동 503-3번지 1층 109호 소망빌딩 연수구 인천광역시 KR\\n032-819-2852\\n경로\\n우리동네 동물병원\\n4.4(5)\\n동물병원 · 신갈동 722\\n곧 영업 종료: 오후 8:00 ⋅ 수 오전 10:00에 영업 시작 · 031-281-0811\\n웹사이트\\n경로\\n청담리덴동물치과병원\\n5.0(3)\\n동물병원 · 도산대로 301 540\\n02-544-2882\\n웹사이트\\n경로\\n건국대부속동물병원\\n5.0(1)\\n동물 병원 · 능동로 120\\n영업 종료 ⋅ 수 오전 9:00에 영업 시작 · 02-450-3664\\n경로\\n우리동물병원생명협동조합\\n리뷰 없음\\n축협 · 성산동 253-16번지 3층 윤재빌딩 마포구 서울특별시 KR\\n경로\\n동물권행동 카라\\n4.2(25)\\n동물보호단체 · 잔다리로 122\\n영업 종료 ⋅ 수 오전 9:00에 영업 시작 · 02-3482-0999\\n웹사이트\\n경로\\n검색결과 261 - 280 표시 중\\n지도 이동 시 결과 업데이트'"
      ]
     },
     "execution_count": 389,
     "metadata": {},
     "output_type": "execute_result"
    }
   ],
   "source": [
    "target.text"
   ]
  },
  {
   "cell_type": "code",
   "execution_count": 322,
   "id": "9139ebcb",
   "metadata": {},
   "outputs": [],
   "source": [
    "target = driver.find_element(By.XPATH, '/html/body/div[3]/div[9]/div[9]/div[1]/div[1]/div[1]/div[2]/div[1]/div[1]/div[1]/div[1]/div[2]')"
   ]
  },
  {
   "cell_type": "code",
   "execution_count": 323,
   "id": "95c8ba9e",
   "metadata": {},
   "outputs": [],
   "source": [
    "lname = []\n",
    "lstar = []\n",
    "laddr = []"
   ]
  },
  {
   "cell_type": "code",
   "execution_count": 402,
   "id": "5ac553ce",
   "metadata": {},
   "outputs": [
    {
     "name": "stdout",
     "output_type": "stream",
     "text": [
      "--------------------------\n",
      "빌리브 동물병원\n",
      "리뷰 없음\n",
      "동물병원 · 성남대로 449\n",
      "영업 중 ⋅ 오후 9:00에 영업 종료\n",
      "--------------------------\n",
      "맘동물병원\n",
      "리뷰 없음\n",
      "동물 병원 · 경기 수원시 영통구 이의동 1332\n",
      "031-548-1175\n",
      "--------------------------\n",
      "반려동물암센터\n",
      "리뷰 없음\n",
      "동물병원 · 황새울로342번길 15 은성빌딩\n",
      "031-709-5500\n",
      "--------------------------\n",
      "24시 성심 동물 메디컬 센터\n",
      "4.4(95)\n",
      "동물병원 · 봉명동 548-11\n",
      "24시간 영업 · 042-719-7566\n",
      "--------------------------\n",
      "KU건국동물병원\n",
      "4.4(8)\n",
      "동물 병원 · 예산읍 산성리 669\n",
      "041-335-1023\n",
      "--------------------------\n",
      "한국동물병원협회\n",
      "리뷰 없음\n",
      "협회 또는 조직 · 서초2동 1358-1\n",
      "02-522-4722\n",
      "--------------------------\n",
      "녹십자동물병원\n",
      "4.3(24)\n",
      "동물병원 · 부여읍 구아리 141-5\n",
      "영업 종료 ⋅ 수 오전 9:00에 영업 시작 · 041-832-2496\n",
      "--------------------------\n",
      "충남대학교 동물병원\n",
      "4.5(14)\n",
      "동물병원 · 궁동 220번지\n",
      "영업 종료 ⋅ 수 오후 2:00에 영업 시작 · 042-821-6704\n",
      "--------------------------\n",
      "예산동물병원\n",
      "4.3(3)\n",
      "동물병원 · 예산읍 주교리 240-5\n",
      "041-332-5895\n",
      "--------------------------\n"
     ]
    },
    {
     "ename": "NoSuchElementException",
     "evalue": "Message: no such element: Unable to locate element: {\"method\":\"xpath\",\"selector\":\"./div[21]/div[1]/a[1]\"}\n  (Session info: chrome=102.0.5005.62)\nStacktrace:\nBacktrace:\n\tOrdinal0 [0x00B7B8F3+2406643]\n\tOrdinal0 [0x00B0AF31+1945393]\n\tOrdinal0 [0x009FC748+837448]\n\tOrdinal0 [0x00A292E0+1020640]\n\tOrdinal0 [0x00A2957B+1021307]\n\tOrdinal0 [0x00A1FAE1+981729]\n\tOrdinal0 [0x00A442C4+1131204]\n\tOrdinal0 [0x00A1FA64+981604]\n\tOrdinal0 [0x00A44494+1131668]\n\tOrdinal0 [0x00A54682+1197698]\n\tOrdinal0 [0x00A44096+1130646]\n\tOrdinal0 [0x00A1E636+976438]\n\tOrdinal0 [0x00A1F546+980294]\n\tGetHandleVerifier [0x00DE9612+2498066]\n\tGetHandleVerifier [0x00DDC920+2445600]\n\tGetHandleVerifier [0x00C14F2A+579370]\n\tGetHandleVerifier [0x00C13D36+574774]\n\tOrdinal0 [0x00B11C0B+1973259]\n\tOrdinal0 [0x00B16688+1992328]\n\tOrdinal0 [0x00B16775+1992565]\n\tOrdinal0 [0x00B1F8D1+2029777]\n\tBaseThreadInitThunk [0x7619FA29+25]\n\tRtlGetAppContainerNamedObjectPath [0x77977A7E+286]\n\tRtlGetAppContainerNamedObjectPath [0x77977A4E+238]\n",
     "output_type": "error",
     "traceback": [
      "\u001b[1;31m---------------------------------------------------------------------------\u001b[0m",
      "\u001b[1;31mNoSuchElementException\u001b[0m                    Traceback (most recent call last)",
      "\u001b[1;32m~\\AppData\\Local\\Temp/ipykernel_20284/2054838922.py\u001b[0m in \u001b[0;36m<module>\u001b[1;34m\u001b[0m\n\u001b[0;32m      3\u001b[0m         \u001b[1;32mfor\u001b[0m \u001b[0mi\u001b[0m \u001b[1;32min\u001b[0m \u001b[0mlista\u001b[0m\u001b[1;33m:\u001b[0m\u001b[1;33m\u001b[0m\u001b[1;33m\u001b[0m\u001b[0m\n\u001b[0;32m      4\u001b[0m             \u001b[0mprint\u001b[0m\u001b[1;33m(\u001b[0m\u001b[1;34m\"--------------------------\"\u001b[0m\u001b[1;33m)\u001b[0m\u001b[1;33m\u001b[0m\u001b[1;33m\u001b[0m\u001b[0m\n\u001b[1;32m----> 5\u001b[1;33m             \u001b[0matag\u001b[0m \u001b[1;33m=\u001b[0m \u001b[0mdivtag\u001b[0m\u001b[1;33m.\u001b[0m\u001b[0mfind_element\u001b[0m\u001b[1;33m(\u001b[0m\u001b[0mBy\u001b[0m\u001b[1;33m.\u001b[0m\u001b[0mXPATH\u001b[0m\u001b[1;33m,\u001b[0m \u001b[1;34m\"./div[{}]/div[1]/a[1]\"\u001b[0m\u001b[1;33m.\u001b[0m\u001b[0mformat\u001b[0m\u001b[1;33m(\u001b[0m\u001b[0mi\u001b[0m\u001b[1;33m)\u001b[0m\u001b[1;33m)\u001b[0m\u001b[1;33m\u001b[0m\u001b[1;33m\u001b[0m\u001b[0m\n\u001b[0m\u001b[0;32m      6\u001b[0m             \u001b[0msubdiv\u001b[0m \u001b[1;33m=\u001b[0m \u001b[0mdivtag\u001b[0m\u001b[1;33m.\u001b[0m\u001b[0mfind_element\u001b[0m\u001b[1;33m(\u001b[0m\u001b[0mBy\u001b[0m\u001b[1;33m.\u001b[0m\u001b[0mXPATH\u001b[0m\u001b[1;33m,\u001b[0m \u001b[1;34m\"./div[{}]\"\u001b[0m\u001b[1;33m.\u001b[0m\u001b[0mformat\u001b[0m\u001b[1;33m(\u001b[0m\u001b[0mi\u001b[0m\u001b[1;33m)\u001b[0m\u001b[1;33m)\u001b[0m\u001b[1;33m\u001b[0m\u001b[1;33m\u001b[0m\u001b[0m\n\u001b[0;32m      7\u001b[0m             \u001b[0mname\u001b[0m \u001b[1;33m=\u001b[0m \u001b[0msubdiv\u001b[0m\u001b[1;33m.\u001b[0m\u001b[0mfind_element\u001b[0m\u001b[1;33m(\u001b[0m\u001b[0mBy\u001b[0m\u001b[1;33m.\u001b[0m\u001b[0mXPATH\u001b[0m\u001b[1;33m,\u001b[0m \u001b[1;34m\"./div[1]/div[2]/div[2]/div[1]/div[1]/div[1]/div[1]/div[1]\"\u001b[0m\u001b[1;33m)\u001b[0m\u001b[1;33m\u001b[0m\u001b[1;33m\u001b[0m\u001b[0m\n",
      "\u001b[1;32mD:\\anaconda\\lib\\site-packages\\selenium\\webdriver\\remote\\webelement.py\u001b[0m in \u001b[0;36mfind_element\u001b[1;34m(self, by, value)\u001b[0m\n\u001b[0;32m    733\u001b[0m             \u001b[0mvalue\u001b[0m \u001b[1;33m=\u001b[0m \u001b[1;34m'[name=\"%s\"]'\u001b[0m \u001b[1;33m%\u001b[0m \u001b[0mvalue\u001b[0m\u001b[1;33m\u001b[0m\u001b[1;33m\u001b[0m\u001b[0m\n\u001b[0;32m    734\u001b[0m \u001b[1;33m\u001b[0m\u001b[0m\n\u001b[1;32m--> 735\u001b[1;33m         return self._execute(Command.FIND_CHILD_ELEMENT,\n\u001b[0m\u001b[0;32m    736\u001b[0m                              {\"using\": by, \"value\": value})['value']\n\u001b[0;32m    737\u001b[0m \u001b[1;33m\u001b[0m\u001b[0m\n",
      "\u001b[1;32mD:\\anaconda\\lib\\site-packages\\selenium\\webdriver\\remote\\webelement.py\u001b[0m in \u001b[0;36m_execute\u001b[1;34m(self, command, params)\u001b[0m\n\u001b[0;32m    708\u001b[0m             \u001b[0mparams\u001b[0m \u001b[1;33m=\u001b[0m \u001b[1;33m{\u001b[0m\u001b[1;33m}\u001b[0m\u001b[1;33m\u001b[0m\u001b[1;33m\u001b[0m\u001b[0m\n\u001b[0;32m    709\u001b[0m         \u001b[0mparams\u001b[0m\u001b[1;33m[\u001b[0m\u001b[1;34m'id'\u001b[0m\u001b[1;33m]\u001b[0m \u001b[1;33m=\u001b[0m \u001b[0mself\u001b[0m\u001b[1;33m.\u001b[0m\u001b[0m_id\u001b[0m\u001b[1;33m\u001b[0m\u001b[1;33m\u001b[0m\u001b[0m\n\u001b[1;32m--> 710\u001b[1;33m         \u001b[1;32mreturn\u001b[0m \u001b[0mself\u001b[0m\u001b[1;33m.\u001b[0m\u001b[0m_parent\u001b[0m\u001b[1;33m.\u001b[0m\u001b[0mexecute\u001b[0m\u001b[1;33m(\u001b[0m\u001b[0mcommand\u001b[0m\u001b[1;33m,\u001b[0m \u001b[0mparams\u001b[0m\u001b[1;33m)\u001b[0m\u001b[1;33m\u001b[0m\u001b[1;33m\u001b[0m\u001b[0m\n\u001b[0m\u001b[0;32m    711\u001b[0m \u001b[1;33m\u001b[0m\u001b[0m\n\u001b[0;32m    712\u001b[0m     \u001b[1;32mdef\u001b[0m \u001b[0mfind_element\u001b[0m\u001b[1;33m(\u001b[0m\u001b[0mself\u001b[0m\u001b[1;33m,\u001b[0m \u001b[0mby\u001b[0m\u001b[1;33m=\u001b[0m\u001b[0mBy\u001b[0m\u001b[1;33m.\u001b[0m\u001b[0mID\u001b[0m\u001b[1;33m,\u001b[0m \u001b[0mvalue\u001b[0m\u001b[1;33m=\u001b[0m\u001b[1;32mNone\u001b[0m\u001b[1;33m)\u001b[0m\u001b[1;33m:\u001b[0m\u001b[1;33m\u001b[0m\u001b[1;33m\u001b[0m\u001b[0m\n",
      "\u001b[1;32mD:\\anaconda\\lib\\site-packages\\selenium\\webdriver\\remote\\webdriver.py\u001b[0m in \u001b[0;36mexecute\u001b[1;34m(self, driver_command, params)\u001b[0m\n\u001b[0;32m    423\u001b[0m         \u001b[0mresponse\u001b[0m \u001b[1;33m=\u001b[0m \u001b[0mself\u001b[0m\u001b[1;33m.\u001b[0m\u001b[0mcommand_executor\u001b[0m\u001b[1;33m.\u001b[0m\u001b[0mexecute\u001b[0m\u001b[1;33m(\u001b[0m\u001b[0mdriver_command\u001b[0m\u001b[1;33m,\u001b[0m \u001b[0mparams\u001b[0m\u001b[1;33m)\u001b[0m\u001b[1;33m\u001b[0m\u001b[1;33m\u001b[0m\u001b[0m\n\u001b[0;32m    424\u001b[0m         \u001b[1;32mif\u001b[0m \u001b[0mresponse\u001b[0m\u001b[1;33m:\u001b[0m\u001b[1;33m\u001b[0m\u001b[1;33m\u001b[0m\u001b[0m\n\u001b[1;32m--> 425\u001b[1;33m             \u001b[0mself\u001b[0m\u001b[1;33m.\u001b[0m\u001b[0merror_handler\u001b[0m\u001b[1;33m.\u001b[0m\u001b[0mcheck_response\u001b[0m\u001b[1;33m(\u001b[0m\u001b[0mresponse\u001b[0m\u001b[1;33m)\u001b[0m\u001b[1;33m\u001b[0m\u001b[1;33m\u001b[0m\u001b[0m\n\u001b[0m\u001b[0;32m    426\u001b[0m             response['value'] = self._unwrap_value(\n\u001b[0;32m    427\u001b[0m                 response.get('value', None))\n",
      "\u001b[1;32mD:\\anaconda\\lib\\site-packages\\selenium\\webdriver\\remote\\errorhandler.py\u001b[0m in \u001b[0;36mcheck_response\u001b[1;34m(self, response)\u001b[0m\n\u001b[0;32m    245\u001b[0m                 \u001b[0malert_text\u001b[0m \u001b[1;33m=\u001b[0m \u001b[0mvalue\u001b[0m\u001b[1;33m[\u001b[0m\u001b[1;34m'alert'\u001b[0m\u001b[1;33m]\u001b[0m\u001b[1;33m.\u001b[0m\u001b[0mget\u001b[0m\u001b[1;33m(\u001b[0m\u001b[1;34m'text'\u001b[0m\u001b[1;33m)\u001b[0m\u001b[1;33m\u001b[0m\u001b[1;33m\u001b[0m\u001b[0m\n\u001b[0;32m    246\u001b[0m             \u001b[1;32mraise\u001b[0m \u001b[0mexception_class\u001b[0m\u001b[1;33m(\u001b[0m\u001b[0mmessage\u001b[0m\u001b[1;33m,\u001b[0m \u001b[0mscreen\u001b[0m\u001b[1;33m,\u001b[0m \u001b[0mstacktrace\u001b[0m\u001b[1;33m,\u001b[0m \u001b[0malert_text\u001b[0m\u001b[1;33m)\u001b[0m  \u001b[1;31m# type: ignore[call-arg]  # mypy is not smart enough here\u001b[0m\u001b[1;33m\u001b[0m\u001b[1;33m\u001b[0m\u001b[0m\n\u001b[1;32m--> 247\u001b[1;33m         \u001b[1;32mraise\u001b[0m \u001b[0mexception_class\u001b[0m\u001b[1;33m(\u001b[0m\u001b[0mmessage\u001b[0m\u001b[1;33m,\u001b[0m \u001b[0mscreen\u001b[0m\u001b[1;33m,\u001b[0m \u001b[0mstacktrace\u001b[0m\u001b[1;33m)\u001b[0m\u001b[1;33m\u001b[0m\u001b[1;33m\u001b[0m\u001b[0m\n\u001b[0m\u001b[0;32m    248\u001b[0m \u001b[1;33m\u001b[0m\u001b[0m\n\u001b[0;32m    249\u001b[0m     \u001b[1;32mdef\u001b[0m \u001b[0m_value_or_default\u001b[0m\u001b[1;33m(\u001b[0m\u001b[0mself\u001b[0m\u001b[1;33m,\u001b[0m \u001b[0mobj\u001b[0m\u001b[1;33m:\u001b[0m \u001b[0mMapping\u001b[0m\u001b[1;33m[\u001b[0m\u001b[0m_KT\u001b[0m\u001b[1;33m,\u001b[0m \u001b[0m_VT\u001b[0m\u001b[1;33m]\u001b[0m\u001b[1;33m,\u001b[0m \u001b[0mkey\u001b[0m\u001b[1;33m:\u001b[0m \u001b[0m_KT\u001b[0m\u001b[1;33m,\u001b[0m \u001b[0mdefault\u001b[0m\u001b[1;33m:\u001b[0m \u001b[0m_VT\u001b[0m\u001b[1;33m)\u001b[0m \u001b[1;33m->\u001b[0m \u001b[0m_VT\u001b[0m\u001b[1;33m:\u001b[0m\u001b[1;33m\u001b[0m\u001b[1;33m\u001b[0m\u001b[0m\n",
      "\u001b[1;31mNoSuchElementException\u001b[0m: Message: no such element: Unable to locate element: {\"method\":\"xpath\",\"selector\":\"./div[21]/div[1]/a[1]\"}\n  (Session info: chrome=102.0.5005.62)\nStacktrace:\nBacktrace:\n\tOrdinal0 [0x00B7B8F3+2406643]\n\tOrdinal0 [0x00B0AF31+1945393]\n\tOrdinal0 [0x009FC748+837448]\n\tOrdinal0 [0x00A292E0+1020640]\n\tOrdinal0 [0x00A2957B+1021307]\n\tOrdinal0 [0x00A1FAE1+981729]\n\tOrdinal0 [0x00A442C4+1131204]\n\tOrdinal0 [0x00A1FA64+981604]\n\tOrdinal0 [0x00A44494+1131668]\n\tOrdinal0 [0x00A54682+1197698]\n\tOrdinal0 [0x00A44096+1130646]\n\tOrdinal0 [0x00A1E636+976438]\n\tOrdinal0 [0x00A1F546+980294]\n\tGetHandleVerifier [0x00DE9612+2498066]\n\tGetHandleVerifier [0x00DDC920+2445600]\n\tGetHandleVerifier [0x00C14F2A+579370]\n\tGetHandleVerifier [0x00C13D36+574774]\n\tOrdinal0 [0x00B11C0B+1973259]\n\tOrdinal0 [0x00B16688+1992328]\n\tOrdinal0 [0x00B16775+1992565]\n\tOrdinal0 [0x00B1F8D1+2029777]\n\tBaseThreadInitThunk [0x7619FA29+25]\n\tRtlGetAppContainerNamedObjectPath [0x77977A7E+286]\n\tRtlGetAppContainerNamedObjectPath [0x77977A4E+238]\n"
     ]
    }
   ],
   "source": [
    "for divtag in target.find_elements(By.XPATH, \"./div[1]\"):\n",
    "    if divtag.text != \"\":\n",
    "        for i in lista:\n",
    "            print(\"--------------------------\")\n",
    "            atag = divtag.find_element(By.XPATH, \"./div[{}]/div[1]/a[1]\".format(i))\n",
    "            subdiv = divtag.find_element(By.XPATH, \"./div[{}]\".format(i))\n",
    "            name = subdiv.find_element(By.XPATH, \"./div[1]/div[2]/div[2]/div[1]/div[1]/div[1]/div[1]/div[1]\")\n",
    "            star = subdiv.find_element(By.XPATH, \"./div[1]/div[2]/div[2]/div[1]/div[1]/div[1]/div[1]/div[3]\")\n",
    "            addr = subdiv.find_element(By.XPATH, \"./div[1]/div[2]/div[2]/div[1]/div[1]/div[1]/div[1]/div[4]\")\n",
    "\n",
    "            print(name.text)\n",
    "            print(star.text)\n",
    "            print(addr.text)\n",
    "            \n",
    "#            print(atag.get_attribute('href').split('!')[5][2:])\n",
    "#            print(atag.get_attribute('href').split('!')[6].split('?')[0][2:])\n",
    "            \n",
    "            lname.append(name.text)\n",
    "            lstar.append(star.text)\n",
    "            laddr.append(addr.text)\n",
    "            \n",
    "# [출처] 파이썬 크롤링 셀레니움 (구글지도 맛집 정보, 오늘의집 크롤링 등)|작성자 홍인\n",
    "# https://blog.naver.com/hongin90/222661902505"
   ]
  },
  {
   "cell_type": "code",
   "execution_count": 99,
   "id": "dace4dfb",
   "metadata": {},
   "outputs": [],
   "source": [
    "lista = []\n",
    "for x in list(range(50)):\n",
    "    if x % 2 :\n",
    "        lista.append(x)"
   ]
  },
  {
   "cell_type": "code",
   "execution_count": 102,
   "id": "4f249759",
   "metadata": {
    "scrolled": true
   },
   "outputs": [
    {
     "data": {
      "text/plain": [
       "[3,\n",
       " 5,\n",
       " 7,\n",
       " 9,\n",
       " 11,\n",
       " 13,\n",
       " 15,\n",
       " 17,\n",
       " 19,\n",
       " 21,\n",
       " 23,\n",
       " 25,\n",
       " 27,\n",
       " 29,\n",
       " 31,\n",
       " 33,\n",
       " 35,\n",
       " 37,\n",
       " 39,\n",
       " 41,\n",
       " 43,\n",
       " 45,\n",
       " 47,\n",
       " 49]"
      ]
     },
     "execution_count": 102,
     "metadata": {},
     "output_type": "execute_result"
    }
   ],
   "source": [
    "lista"
   ]
  },
  {
   "cell_type": "code",
   "execution_count": 391,
   "id": "4a1120aa",
   "metadata": {
    "scrolled": true
   },
   "outputs": [
    {
     "name": "stdout",
     "output_type": "stream",
     "text": [
      "260\n"
     ]
    }
   ],
   "source": [
    "print(len(lname))\n",
    "lname260 = lname"
   ]
  },
  {
   "cell_type": "code",
   "execution_count": 395,
   "id": "25e64c3d",
   "metadata": {},
   "outputs": [
    {
     "data": {
      "text/plain": [
       "260"
      ]
     },
     "execution_count": 395,
     "metadata": {},
     "output_type": "execute_result"
    }
   ],
   "source": [
    "len(lname260)"
   ]
  },
  {
   "cell_type": "code",
   "execution_count": 396,
   "id": "7e9be4b2",
   "metadata": {
    "scrolled": true
   },
   "outputs": [
    {
     "name": "stdout",
     "output_type": "stream",
     "text": [
      "260\n"
     ]
    }
   ],
   "source": [
    "print(len(lstar))\n",
    "lstar260 = lstar"
   ]
  },
  {
   "cell_type": "code",
   "execution_count": 397,
   "id": "a6fdeecf",
   "metadata": {
    "scrolled": true
   },
   "outputs": [
    {
     "name": "stdout",
     "output_type": "stream",
     "text": [
      "260\n"
     ]
    }
   ],
   "source": [
    "print(len(laddr))\n",
    "laddr260 = laddr"
   ]
  },
  {
   "cell_type": "code",
   "execution_count": null,
   "id": "ecb93f99",
   "metadata": {},
   "outputs": [],
   "source": []
  },
  {
   "cell_type": "code",
   "execution_count": null,
   "id": "0e5b0117",
   "metadata": {},
   "outputs": [],
   "source": []
  },
  {
   "cell_type": "code",
   "execution_count": null,
   "id": "360f0ef6",
   "metadata": {},
   "outputs": [],
   "source": []
  },
  {
   "cell_type": "code",
   "execution_count": null,
   "id": "90b47a46",
   "metadata": {},
   "outputs": [],
   "source": []
  },
  {
   "cell_type": "code",
   "execution_count": 403,
   "id": "2846ca52",
   "metadata": {},
   "outputs": [
    {
     "name": "stdout",
     "output_type": "stream",
     "text": [
      "289\n"
     ]
    },
    {
     "data": {
      "text/plain": [
       "['아마존동물병원',\n",
       " '계양동물메디컬센터',\n",
       " '해림동물병원',\n",
       " '한솔동물병원',\n",
       " '아프리카 동물의료센터 [구 아프리카동물병원]',\n",
       " '청라라임동물병원',\n",
       " '이지동물병원',\n",
       " '신통방통동물병원',\n",
       " '다오동물병원',\n",
       " '하얀기린동물병원',\n",
       " '가정동물병원',\n",
       " '작전24동물병원',\n",
       " '아이케어동물병원',\n",
       " '부평종합동물병원',\n",
       " '재영동물병원',\n",
       " '보비동물병원',\n",
       " '신영재동물병원',\n",
       " '검암동물병원',\n",
       " '부평종합동물의료센터',\n",
       " '부천준동물병원',\n",
       " '세림동물병원',\n",
       " '길동물병원',\n",
       " '이오동물병원',\n",
       " '부천 TLC 동물의료센터',\n",
       " '포근한동물병원',\n",
       " '24시나음동물병원',\n",
       " '청라종합동물병원',\n",
       " '짱구네동물병원',\n",
       " '청라루비동물병원',\n",
       " '24시 해든동물메디컬센터',\n",
       " '펫사랑동물병원',\n",
       " '지중해동물병원',\n",
       " '리치동물병원',\n",
       " '한사랑동물병원',\n",
       " '굿모닝동물병원',\n",
       " '소나무동물메디컬센터',\n",
       " '고강동물병원',\n",
       " '24시 SKY 동물병원',\n",
       " '위더스동물병원',\n",
       " '펫가든동물병원',\n",
       " '웰케어동물메디컬센터',\n",
       " '닥터팬더동물병원',\n",
       " '청천종합동물병원',\n",
       " '참동물병원',\n",
       " '현대동물병원',\n",
       " '동행동물병원',\n",
       " '와우동물병원',\n",
       " '그랜드동물병원',\n",
       " '삼성동물병원',\n",
       " '위즈펫동물병원',\n",
       " '중동동물병원',\n",
       " '하나동물병원',\n",
       " '온유동물병원',\n",
       " '동수동물병원',\n",
       " '루원하이동물병원',\n",
       " '이레동물병원',\n",
       " '해오름동물병원',\n",
       " '백마동물병원',\n",
       " '혜인동물병원',\n",
       " '파스텔동물병원',\n",
       " '서구동물병원',\n",
       " 'AVC동물메디컬센터',\n",
       " '24시동물병원',\n",
       " '쿨펫동물병원',\n",
       " '다나동물병원',\n",
       " '조재진동물병원',\n",
       " '24시동물병원',\n",
       " '계양동물병원',\n",
       " '하노바동물병원',\n",
       " '엘림동물병원',\n",
       " '비엔동물전문의료센터',\n",
       " '쿨펫동물병원이마트계양점',\n",
       " '송정종합동물병원',\n",
       " '부평모모동물병원',\n",
       " 'BE동물병원',\n",
       " '튼튼동물병원',\n",
       " '주주종합동물병원',\n",
       " '행복한동물병원',\n",
       " '도그앤캣동물병원',\n",
       " '부평프라임동물병원',\n",
       " '가좌동물병원',\n",
       " '라임동물병원',\n",
       " '24시독스동물병원',\n",
       " '브레멘애니멀스',\n",
       " '늘푸른동물병원',\n",
       " '서울종합동물병원',\n",
       " '황하동물병원',\n",
       " '펫홈종합동물병원',\n",
       " '신정동물병원',\n",
       " '동물병원',\n",
       " '하나동물병원',\n",
       " '아이러브독동물병원',\n",
       " '루이동물병원',\n",
       " '강서동물병원',\n",
       " '신세계동물의료센터',\n",
       " '아이러브펫동물병원작전점',\n",
       " '현대동물병원',\n",
       " '원당동물병원',\n",
       " '서서울호수동물병원',\n",
       " '24시수동물메디컬센터',\n",
       " '자연동물병원',\n",
       " '24시독스동물병원',\n",
       " '서울베스트동물병원',\n",
       " '민병철동물병원',\n",
       " '24시동물병원',\n",
       " '쿨펫동물병원',\n",
       " '연희동물병원',\n",
       " '24시쥬라기동물종합병원',\n",
       " '애나동물병원',\n",
       " '24시유앤미동물병원',\n",
       " '마이펫동물병원',\n",
       " '행복한동물병원',\n",
       " '백운동물병원',\n",
       " '햇빛동물병원',\n",
       " '공항동물병원',\n",
       " '이기쁨동물병원',\n",
       " '동암동물병원',\n",
       " '송내 훈동물병원',\n",
       " '우리동생동물병원',\n",
       " '라파엘동물병원',\n",
       " '부평스카이동물의료센터',\n",
       " '24시세인트동물병원',\n",
       " 'S동물병원',\n",
       " '예동물병원',\n",
       " '원종동물병원',\n",
       " '24시웰니스동물의료센터',\n",
       " '한스동물병원',\n",
       " '찬샘 동물병원',\n",
       " '부부동물병원',\n",
       " '맘스동물의료센터',\n",
       " '소풍동물병원',\n",
       " '쿨펫동물병원(이마트검단점)',\n",
       " '아이러브펫동물병원',\n",
       " '기린동물병원',\n",
       " '강/현림종합동물병원',\n",
       " '일산동물의료원',\n",
       " '24시 소래동물병원',\n",
       " '수동물병원',\n",
       " '일오삼동물병원',\n",
       " '런던동물병원',\n",
       " '동물사랑병원',\n",
       " '소망동물병원',\n",
       " '24시포인트동물의료센터',\n",
       " '세인트동물병원(24시)',\n",
       " '부천종합동물병원',\n",
       " '채움동물병원',\n",
       " '쿨펫동물병원',\n",
       " '서울대학교 수의과대학부속동물병원',\n",
       " '쓰담 동물병원',\n",
       " '미르동물병원',\n",
       " '아프리카동물병원',\n",
       " '조규만동물병원',\n",
       " '건국본동물병원',\n",
       " '지오동물병원',\n",
       " '주안동물병원',\n",
       " '우장동물병원',\n",
       " '길동물병원',\n",
       " '삼산종합동물병원',\n",
       " '이십오시동물병원',\n",
       " '모모동물병원',\n",
       " '카라동물병원',\n",
       " '큐피트동물병원',\n",
       " '자연동물병원',\n",
       " '고촌동물병원',\n",
       " '위브동물병원',\n",
       " '제이스동물병원',\n",
       " '도그플러스동물병원',\n",
       " '고려동물병원',\n",
       " '가야동물병원',\n",
       " '우리앤동물병원',\n",
       " '더본동물병원',\n",
       " '라파동물병원',\n",
       " '메디케어동물병원',\n",
       " '위즈펫동물병원',\n",
       " '오즈동물병원',\n",
       " '정이룸 동물병원',\n",
       " 'VIP동물의료센터',\n",
       " '스마일동물병원',\n",
       " '팜펫동물병원',\n",
       " '계양가축병원',\n",
       " '24시조규만동물병원',\n",
       " '지인동물병원',\n",
       " '샐리동물병원',\n",
       " '보다듬동물병원',\n",
       " 'J동물병원',\n",
       " '아이러브도그동물병원',\n",
       " '이십사시스마트동물병원',\n",
       " '길동물병원',\n",
       " '웰니스 동물병원',\n",
       " '달래동물의료센터(Dallae Veterinary Clinic)',\n",
       " '팻가든동물병원',\n",
       " '부개종합동물병원',\n",
       " '명성동물병원',\n",
       " '라파동물병원',\n",
       " '보스야간진료동물병원',\n",
       " '페트로동물병원',\n",
       " '동수사랑동물병원',\n",
       " 'D&C동물병원',\n",
       " '가나동물병원',\n",
       " '하나동물병원',\n",
       " '예스동물병원',\n",
       " '상동물병원',\n",
       " '다나 종합동물병원',\n",
       " '펫홈종합동물병원',\n",
       " '청담우리동물병원',\n",
       " '레오동물병원',\n",
       " '늘봄동물병원',\n",
       " '산본중앙동물병원',\n",
       " 'VIP동물의료센터',\n",
       " '홈종합동물병원',\n",
       " '메이플동물병원',\n",
       " '아름다운동물병원',\n",
       " '동물병원케이',\n",
       " '도그플러스동물병원(간석점)',\n",
       " '이리온 동물병원 청담점',\n",
       " '예동물병원',\n",
       " '늘푸른동물병원',\n",
       " '한마음동물병원',\n",
       " '레인보우동물병원',\n",
       " '사랑동물병원',\n",
       " '바로동물병원',\n",
       " '민동물병원',\n",
       " '노성남동물병원',\n",
       " '현대종합동물병원',\n",
       " 'CJ동물병원',\n",
       " '서울동물병원',\n",
       " '박동물병원',\n",
       " '조아동물병원',\n",
       " '고양이병원 백산동물병원',\n",
       " '다정동물병원',\n",
       " '24시 예담동물의료센터',\n",
       " '24시온누리동물메디컬센터',\n",
       " '아라종합동물병원',\n",
       " '해맑은동물병원',\n",
       " '강서달빛동물병원',\n",
       " '콜펫동물병원',\n",
       " '동물병원',\n",
       " '우리들동물병원',\n",
       " '파리스동물병원',\n",
       " '그루터기동물병원',\n",
       " '청담 눈초롱 안과동물병원',\n",
       " '포레동물병원(forêt animal hospital)',\n",
       " 'N동물의료센터 노원점',\n",
       " '이츠동물병원',\n",
       " '폭시펫동물병원',\n",
       " 'VIP동물의료센터 노원점',\n",
       " '메디펫동물병원',\n",
       " '봄날동물병원',\n",
       " '24시 분당 리더스 동물의료원',\n",
       " '이안동물의학센터 Ian',\n",
       " '강아지와고양이나라동물병원',\n",
       " '경동동물병원',\n",
       " '에코동물병원',\n",
       " '(주)해마루',\n",
       " '행복한고양이동물병원',\n",
       " '에이드동물병원',\n",
       " '한국동물병원',\n",
       " '애니힐동물병원',\n",
       " '감정동물병원',\n",
       " '메이동물병원',\n",
       " '웨스턴동물의료센터',\n",
       " '레이동물병원',\n",
       " '쿨펫동물병원',\n",
       " '탑동물병원',\n",
       " '비바동물병원',\n",
       " '녹양 돌봄 동물병원',\n",
       " '우리동물병원',\n",
       " '시민동물병원',\n",
       " '힐링동물병원',\n",
       " '가톨릭대학교 인천성모병원',\n",
       " '우리애동물병원',\n",
       " '경기가축병원',\n",
       " '오아시스 정형외과 신경외과 동물병원',\n",
       " '송도힐동물메디칼센타',\n",
       " '웰동물병원',\n",
       " '우리동네 동물병원',\n",
       " '청담리덴동물치과병원',\n",
       " '건국대부속동물병원',\n",
       " '우리동물병원생명협동조합',\n",
       " '동물권행동 카라',\n",
       " '빌리브 동물병원',\n",
       " '맘동물병원',\n",
       " '반려동물암센터',\n",
       " '24시 성심 동물 메디컬 센터',\n",
       " 'KU건국동물병원',\n",
       " '한국동물병원협회',\n",
       " '녹십자동물병원',\n",
       " '충남대학교 동물병원',\n",
       " '예산동물병원']"
      ]
     },
     "execution_count": 403,
     "metadata": {},
     "output_type": "execute_result"
    }
   ],
   "source": [
    "print(len(lname))\n",
    "lname"
   ]
  },
  {
   "cell_type": "code",
   "execution_count": 404,
   "id": "64d262a8",
   "metadata": {},
   "outputs": [
    {
     "name": "stdout",
     "output_type": "stream",
     "text": [
      "289\n"
     ]
    },
    {
     "data": {
      "text/plain": [
       "['4.6(25)',\n",
       " '4.3(50)',\n",
       " '4.8(100)',\n",
       " '4.3(13)',\n",
       " '4.4(89)',\n",
       " '4.5(181)',\n",
       " '4.5(8)',\n",
       " '4.9(10)',\n",
       " '4.7(6)',\n",
       " '5.0(32)',\n",
       " '4.0(43)',\n",
       " '4.4(7)',\n",
       " '4.4(9)',\n",
       " '4.5(101)',\n",
       " '3.8(4)',\n",
       " '4.6(48)',\n",
       " '4.0(2)',\n",
       " '3.8(13)',\n",
       " '4.4(48)',\n",
       " '4.8(27)',\n",
       " '5.0(23)',\n",
       " '4.0(7)',\n",
       " '5.0(5)',\n",
       " '4.9(35)',\n",
       " '4.9(31)',\n",
       " '4.6(45)',\n",
       " '5.0(13)',\n",
       " '3.7(6)',\n",
       " '4.3(34)',\n",
       " '4.2(81)',\n",
       " '4.4(48)',\n",
       " '4.8(34)',\n",
       " '4.0(2)',\n",
       " '3.8(4)',\n",
       " '4.0(5)',\n",
       " '5.0(2)',\n",
       " '3.9(14)',\n",
       " '2.3(3)',\n",
       " '4.4(13)',\n",
       " '5.0(1)',\n",
       " '4.1(34)',\n",
       " '리뷰 없음',\n",
       " '3.5(2)',\n",
       " '4.5(14)',\n",
       " '4.4(8)',\n",
       " '4.7(52)',\n",
       " '3.3(7)',\n",
       " '리뷰 없음',\n",
       " '4.1(26)',\n",
       " '리뷰 없음',\n",
       " '4.6(21)',\n",
       " '3.4(5)',\n",
       " '4.0(19)',\n",
       " '4.7(18)',\n",
       " '5.0(4)',\n",
       " '4.9(46)',\n",
       " '4.0(9)',\n",
       " '3.8(14)',\n",
       " '4.6(38)',\n",
       " '4.7(20)',\n",
       " '4.1(8)',\n",
       " '1.0(5)',\n",
       " '2.0(1)',\n",
       " '리뷰 없음',\n",
       " '4.0(4)',\n",
       " '4.3(6)',\n",
       " '4.0(1)',\n",
       " '2.4(5)',\n",
       " '4.6(11)',\n",
       " '5.0(2)',\n",
       " '4.5(95)',\n",
       " '리뷰 없음',\n",
       " '5.0(1)',\n",
       " '4.9(10)',\n",
       " '4.3(61)',\n",
       " '5.0(1)',\n",
       " '4.8(9)',\n",
       " '4.2(9)',\n",
       " '4.3(8)',\n",
       " '4.3(9)',\n",
       " '4.5(12)',\n",
       " '5.0(1)',\n",
       " '리뷰 없음',\n",
       " '리뷰 없음',\n",
       " '리뷰 없음',\n",
       " '3.0(2)',\n",
       " '5.0(1)',\n",
       " '4.5(114)',\n",
       " '리뷰 없음',\n",
       " '4.9(15)',\n",
       " '리뷰 없음',\n",
       " '리뷰 없음',\n",
       " '리뷰 없음',\n",
       " '3.4(35)',\n",
       " '4.3(12)',\n",
       " '리뷰 없음',\n",
       " '4.3(8)',\n",
       " '3.8(12)',\n",
       " '4.4(5)',\n",
       " '4.3(114)',\n",
       " '리뷰 없음',\n",
       " '리뷰 없음',\n",
       " '5.0(6)',\n",
       " '3.2(12)',\n",
       " '3.3(30)',\n",
       " '리뷰 없음',\n",
       " '리뷰 없음',\n",
       " '3.3(8)',\n",
       " '리뷰 없음',\n",
       " '3.6(56)',\n",
       " '4.5(16)',\n",
       " '3.7(3)',\n",
       " '4.6(5)',\n",
       " '리뷰 없음',\n",
       " '리뷰 없음',\n",
       " '리뷰 없음',\n",
       " '3.7(29)',\n",
       " '4.6(5)',\n",
       " '4.4(62)',\n",
       " '리뷰 없음',\n",
       " '2.8(9)',\n",
       " '리뷰 없음',\n",
       " '3.7(3)',\n",
       " '2.5(2)',\n",
       " '리뷰 없음',\n",
       " '3.7(11)',\n",
       " '3.0(2)',\n",
       " '4.7(18)',\n",
       " '리뷰 없음',\n",
       " '1.0(2)',\n",
       " '1.0(2)',\n",
       " '3.7(6)',\n",
       " '3.5(2)',\n",
       " '5.0(4)',\n",
       " '4.6(5)',\n",
       " '4.1(198)',\n",
       " '4.3(63)',\n",
       " '5.0(1)',\n",
       " '3.0(2)',\n",
       " '5.0(6)',\n",
       " '리뷰 없음',\n",
       " '5.0(11)',\n",
       " '4.2(31)',\n",
       " '3.4(12)',\n",
       " '4.2(5)',\n",
       " '5.0(1)',\n",
       " '4.0(1)',\n",
       " '4.4(79)',\n",
       " '5.0(1)',\n",
       " '4.5(2)',\n",
       " '5.0(1)',\n",
       " '3.7(3)',\n",
       " '3.9(17)',\n",
       " '4.1(11)',\n",
       " '3.7(13)',\n",
       " '5.0(2)',\n",
       " '3.3(22)',\n",
       " '리뷰 없음',\n",
       " '리뷰 없음',\n",
       " '5.0(1)',\n",
       " '4.6(12)',\n",
       " '4.0(2)',\n",
       " '4.8(5)',\n",
       " '3.5(2)',\n",
       " '2.0(1)',\n",
       " '5.0(2)',\n",
       " '리뷰 없음',\n",
       " '5.0(1)',\n",
       " '2.5(2)',\n",
       " '1.0(1)',\n",
       " '5.0(1)',\n",
       " '리뷰 없음',\n",
       " '리뷰 없음',\n",
       " '리뷰 없음',\n",
       " '3.0(1)',\n",
       " '5.0(1)',\n",
       " '4.3(43)',\n",
       " '리뷰 없음',\n",
       " '리뷰 없음',\n",
       " '리뷰 없음',\n",
       " '2.8(5)',\n",
       " '1.5(2)',\n",
       " '4.0(2)',\n",
       " '5.0(1)',\n",
       " '리뷰 없음',\n",
       " '리뷰 없음',\n",
       " '4.6(94)',\n",
       " '리뷰 없음',\n",
       " '리뷰 없음',\n",
       " '4.6(22)',\n",
       " '리뷰 없음',\n",
       " '리뷰 없음',\n",
       " '리뷰 없음',\n",
       " '리뷰 없음',\n",
       " '리뷰 없음',\n",
       " '5.0(1)',\n",
       " '1.0(1)',\n",
       " '3.7(3)',\n",
       " '1.0(1)',\n",
       " '3.4(5)',\n",
       " '3.0(1)',\n",
       " '리뷰 없음',\n",
       " '리뷰 없음',\n",
       " '4.4(17)',\n",
       " '4.4(118)',\n",
       " '5.0(1)',\n",
       " '3.0(2)',\n",
       " '4.6(51)',\n",
       " '3.9(127)',\n",
       " '3.0(1)',\n",
       " '리뷰 없음',\n",
       " '리뷰 없음',\n",
       " '리뷰 없음',\n",
       " '5.0(2)',\n",
       " '4.1(56)',\n",
       " '5.0(1)',\n",
       " '리뷰 없음',\n",
       " '4.0(1)',\n",
       " '리뷰 없음',\n",
       " '리뷰 없음',\n",
       " '5.0(1)',\n",
       " '4.6(5)',\n",
       " '4.0(5)',\n",
       " '3.8(4)',\n",
       " '리뷰 없음',\n",
       " '4.4(24)',\n",
       " '리뷰 없음',\n",
       " '리뷰 없음',\n",
       " '3.9(102)',\n",
       " '리뷰 없음',\n",
       " '4.6(5)',\n",
       " '4.1(62)',\n",
       " '5.0(2)',\n",
       " '4.7(3)',\n",
       " '리뷰 없음',\n",
       " '리뷰 없음',\n",
       " '리뷰 없음',\n",
       " '4.5(33)',\n",
       " '3.6(14)',\n",
       " '리뷰 없음',\n",
       " '4.2(52)',\n",
       " '4.7(17)',\n",
       " '4.5(101)',\n",
       " '리뷰 없음',\n",
       " '리뷰 없음',\n",
       " '4.7(24)',\n",
       " '4.1(11)',\n",
       " '5.0(4)',\n",
       " '4.5(84)',\n",
       " '4.1(33)',\n",
       " '4.0(1)',\n",
       " '리뷰 없음',\n",
       " '4.0(118)',\n",
       " '4.1(79)',\n",
       " '4.0(5)',\n",
       " '4.6(5)',\n",
       " '5.0(1)',\n",
       " '리뷰 없음',\n",
       " '리뷰 없음',\n",
       " '리뷰 없음',\n",
       " '4.4(16)',\n",
       " '4.7(19)',\n",
       " '리뷰 없음',\n",
       " '리뷰 없음',\n",
       " '5.0(1)',\n",
       " '5.0(10)',\n",
       " '리뷰 없음',\n",
       " '리뷰 없음',\n",
       " '1.0(1)',\n",
       " '3.7(125)',\n",
       " '5.0(1)',\n",
       " '리뷰 없음',\n",
       " '3.9(27)',\n",
       " '2.2(6)',\n",
       " '리뷰 없음',\n",
       " '4.4(5)',\n",
       " '5.0(3)',\n",
       " '5.0(1)',\n",
       " '리뷰 없음',\n",
       " '4.2(25)',\n",
       " '리뷰 없음',\n",
       " '리뷰 없음',\n",
       " '리뷰 없음',\n",
       " '4.4(95)',\n",
       " '4.4(8)',\n",
       " '리뷰 없음',\n",
       " '4.3(24)',\n",
       " '4.5(14)',\n",
       " '4.3(3)']"
      ]
     },
     "execution_count": 404,
     "metadata": {},
     "output_type": "execute_result"
    }
   ],
   "source": [
    "print(len(lstar))\n",
    "lstar"
   ]
  },
  {
   "cell_type": "code",
   "execution_count": 405,
   "id": "7023402b",
   "metadata": {},
   "outputs": [
    {
     "name": "stdout",
     "output_type": "stream",
     "text": [
      "289\n"
     ]
    },
    {
     "data": {
      "text/plain": [
       "['동물병원 · 임학동 67-7\\n곧 영업 종료: 오후 8:00 ⋅ 수 오전 10:00에 영업 시작 · 032-555-7502 ext. 3',\n",
       " '동물병원 · 계산동 942-24번지\\n곧 영업 종료: 오후 8:00 ⋅ 수 오전 9:30에 영업 시작 · 032-555-9975',\n",
       " '동물병원 · 작전동 864-39\\n곧 영업 종료: 오후 8:00 ⋅ 수 오전 10:00에 영업 시작 · 032-546-0079',\n",
       " '동물병원 · 계산2동 918-2\\n032-553-4652',\n",
       " '동물병원 · 장제로340번길 5 3층\\n영업 중 ⋅ 오후 10:00에 영업 종료 · 032-508-7582',\n",
       " '동물병원 · 청라동 127-2\\n곧 영업 종료: 오후 8:00 ⋅ 수 오전 9:00에 영업 시작 · 032-563-1900',\n",
       " '동물 병원 · 병방동 422\\n곧 영업 종료: 오후 8:00 ⋅ 수 오전 10:00에 영업 시작 · 032-549-0077',\n",
       " '동물 병원 · 작전동 863\\n곧 영업 종료: 오후 8:00 ⋅ 수 오전 10:00에 영업 시작 · 032-552-3369',\n",
       " '동물병원 · 계산동 1062\\n032-548-0275',\n",
       " '동물 병원 · 연희동 796-7번지 청라골드클래스커낼웨이 상가동 103호 서구 인천광역시 KR\\n031-564-3575',\n",
       " '동물병원 · 가정1동 517-32\\n032-575-0833',\n",
       " '동물병원 · 작전동 925-1',\n",
       " '동물병원 · 청라 에메랄드로102번길 10',\n",
       " '동물병원 · 부평동 부평대로 154\\n곧 영업 종료: 오후 8:00 ⋅ 수 오전 9:30에 영업 시작 · 032-511-6836',\n",
       " '동물병원 · 계산1동\\n032-542-4647',\n",
       " '동물병원 · 산곡동 411-5\\n032-524-6959',\n",
       " '동물병원 · 병방동 426\\n032-552-0075',\n",
       " '동물병원 · 검암동 613-1\\n032-563-0775',\n",
       " '동물병원 · 부평대로 138\\n032-511-6836',\n",
       " '동물병원 · 중3동 1062-1\\n032-322-7595',\n",
       " '동물병원 · 산곡동 143-2\\n032-503-0075',\n",
       " '동물병원 · KR 인천광역시 서구 신현동 303 금강아미움 길동물병원 2층\\n영업 종료 ⋅ 수 오전 10:00에 영업 시작 · 032-578-5119',\n",
       " '동물 병원 · 검암동 506-1번지 동곡프라자 1층 108호\\n032-710-7553',\n",
       " '동물병원 · 중동 길주로 281 TLC 동물의료센터 1층\\n24시간 영업 · 032-323-2475',\n",
       " '동물병원 · 중동 1168\\n24시간 영업 · 032-231-0075',\n",
       " '동물 병원 · 중동\\n032-323-7581',\n",
       " '동물병원 · 119(118 KR 인천광역시 서구 청라커낼로 252 롯데캐슬단지내상가 C동\\n영업 종료 ⋅ 수 오전 10:00에 영업 시작 · 050-71318-0367',\n",
       " '동물병원 · 갈산동 59-5\\n032-511-5515',\n",
       " '동물병원 · 청라동 루비로134번길 6-4\\n곧 영업 종료: 오후 8:00 ⋅ 수 오전 10:00에 영업 시작 · 032-568-0922',\n",
       " '동물병원 · 중동 신흥로 1106 KR 190) 위브더스테이트 1단지상가 2층 213-216호\\n24시간 영업 · 032-715-7579',\n",
       " '동물병원 · 산곡동 194-6\\n032-521-0003',\n",
       " '동물 병원 · 중동 1058-2번지 107호 중동프라자 부천시 경기도 KR\\n032-321-7603',\n",
       " '동물병원 · 삼산동 389-1\\n032-507-1110',\n",
       " '동물병원 · 효성1동 63-8\\n032-551-9008',\n",
       " '동물병원 · 방화3동 830-3\\n02-2665-8256',\n",
       " '동물병원 · 효성동 75-3\\n곧 영업 종료: 오후 8:00 ⋅ 수 오전 10:00에 영업 시작 · 032-556-9990',\n",
       " '동물병원 · 고강동 474-1\\n032-683-5137',\n",
       " '종합병원 · 작전동',\n",
       " '동물병원 · 상3동 534-9\\n032-666-7500',\n",
       " '동물 병원 · 계산동 1059-1번지 2층 계양구 인천광역시 KR',\n",
       " '동물병원 · 풍무동 592-10\\n031-982-7514',\n",
       " '동물 병원 · 용종동 207-1번지 코아루센트럴파크 1층 104호\\n032-553-7975',\n",
       " '동물병원 · 청천2동 174-7\\n032-517-0075',\n",
       " '동물병원 · 마곡동 마곡서로 133 엠벨리7단지 712동 102-1호\\n영업 중 ⋅ 오후 9:00에 영업 종료 · 02-2666-7990',\n",
       " '동물병원 · 상3동 535-1\\n032-328-8440',\n",
       " '동물병원 · 양도로 19번길 15\\n곧 영업 종료: 오후 8:00 ⋅ 수 오전 9:30에 영업 시작 · 031-986-9816',\n",
       " '동물병원 · 방화3동 830-3\\n02-2666-0370',\n",
       " '동물병원 · 계산동 1059-1\\n032-548-2169',\n",
       " '동물병원 · 석남2동 579-3\\n032-584-0075',\n",
       " '동물 병원 · 계산동 1059-1번지 2층 계양구 인천광역시 KR',\n",
       " '동물병원 · 중동 749-17\\n032-655-6034',\n",
       " '동물병원 · 방화3동 811-10\\n02-2666-6075',\n",
       " '동물병원 · 중동 1087\\n032-652-7566',\n",
       " '동물병원 · 부평1동 182-10\\n032-511-5338',\n",
       " '동물 병원 · KR 인천 서구 가정동 619-4\\n곧 영업 종료: 오후 8:00 ⋅ 수 오전 10:00에 영업 시작 · 032-564-8275',\n",
       " '동물병원 · 사우동 348-6\\n031-985-5075',\n",
       " '동물 병원 · 부평동 10-975\\n032-522-7582',\n",
       " '동물병원 · 부평4동 431-27\\n032-528-1359',\n",
       " '동물병원 · 목3동 613-8\\n영업 종료 ⋅ 수 오전 9:30에 영업 시작 · 02-2645-1475 ext. 1074',\n",
       " '동물 병원 · 화곡1동 1070-1\\n02-2693-0075',\n",
       " '동물병원 · 석남1동 454-3\\n032-576-5726',\n",
       " '동물 병원 · 경명대로 1099\\n032-547-4788',\n",
       " '동물 병원 · 효성동 925-1\\n032-544-0075',\n",
       " '동물 병원 · 계산동 1061\\n032-554-7580',\n",
       " '동물병원 · 상3동 523-10\\n032-323-2737',\n",
       " '동물병원 · 산곡동 411-11\\n곧 영업 종료: 오후 8:00 ⋅ 수 오전 9:00에 영업 시작 · 032-518-3800',\n",
       " '동물 병원 · 작전서운동 925-1\\n032-544-0075',\n",
       " '동물병원 · 효성2동 320-1\\n032-551-8275',\n",
       " '동물병원 · 중동 707-1\\n032-614-7582',\n",
       " '동물 병원 · 도당동 141-3번지 부천시 경기도 KR\\n032-261-2612',\n",
       " '동물병원 · 경인로 475\\n24시간 영업 · 032-345-7559',\n",
       " '동물병원 · 작전서운동 봉오대로 785',\n",
       " '동물병원 · 공항동 45-37\\n영업 중 ⋅ 오후 10:00에 영업 종료 · 02-2661-0530',\n",
       " '동물병원 · 경원대로 1278 1층\\n곧 영업 종료: 오후 8:30 ⋅ 수 오전 9:30에 영업 시작 · 032-524-5557',\n",
       " '동물병원 · 괴안동 87-1\\n영업 종료 ⋅ 수 오전 10:00에 영업 시작 · 032-349-7975',\n",
       " '동물 병원 · 청천동 386번지 1동 2113호 아이즈빌 아울렛 부평구 인천광역시 KR\\n032-270-2727',\n",
       " '동물병원 · 부개1동 301-38\\n032-505-7262',\n",
       " '동물병원 · 원당동\\n곧 영업 종료: 오후 8:00 ⋅ 오후 9:30에 영업 재개 · 032-561-7507',\n",
       " '동물병원 · 부평동 341-160 KR 인천광역시 부평구 경원대로 1355\\n영업 종료 ⋅ 수 오전 10:00에 영업 시작 · 032-524-0075',\n",
       " '동물병원 · 장제로',\n",
       " '동물병원 · 가좌3동 125-15\\n032-579-7582',\n",
       " '동물병원 · 원종동 373-12\\n032-676-7533',\n",
       " '동물 병원 · 계산동\\n032-272-0075',\n",
       " '동물 병원 · 계산동\\n032-545-8612',\n",
       " '동물 병원 · 삼산동 54-2번지 광명상가 107호 부평구 인천광역시 KR\\n032-507-0075',\n",
       " '동물병원 · 갈산동 364-4\\n032-508-7571',\n",
       " '동물병원 · 방화동 567-14\\n02-2664-7773',\n",
       " '동물병원 · 1471-17 남구 인천광역시 KR\\n032-427-7588',\n",
       " '동물 병원 · 갈산동 417\\n032-503-6839',\n",
       " '동물 병원',\n",
       " '동물 병원 · 작전동 423-2\\n032-553-6678',\n",
       " '동물병원 · 심곡동 242-7\\n032-566-0038',\n",
       " '동물병원 · 심곡동 283-5\\n032-568-1269',\n",
       " '동물병원 · 화곡1동 421-23\\n02-2691-5900',\n",
       " '동물병원 · 경인로 212-1\\n영업 종료 ⋅ 목 오전 9:00에 영업 시작 · 032-614-7588',\n",
       " '동물 병원 · 작전동 448-7\\n032-552-7588',\n",
       " '동물병원 · 부평3동 274-21\\n032-521-6578',\n",
       " '동물병원 · 인천 서구 당하동 22-14\\n032-566-7588',\n",
       " '동물 병원 · 신월1동 130-5\\n02-6959-8448',\n",
       " '동물 병원 · 양평동1가 영등포로 85-1\\n24시간 영업 · 02-2676-7582',\n",
       " '동물 병원 · 작전동 428-6번지 1층 101호 계양구 인천광역시 KR\\n032-551-0975',\n",
       " '동물병원 · 원종동 100-1\\n032-716-6975',\n",
       " '동물병원 · 중동 771-16\\n032-652-0075',\n",
       " '동물병원 · 신월동 50-5\\n02-2697-5907',\n",
       " '동물병원 · 심곡동 394-3\\n032-613-8398',\n",
       " '동물병원 · 청천1동 1-3\\n032-270-2727',\n",
       " '동물병원 · 심곡동 304-10\\n032-561-4667',\n",
       " '동물병원 · 부개2동 85-4\\n032-504-7582',\n",
       " '동물 병원 · 청천동 181-32\\n032-529-9633',\n",
       " '동물병원 · 남동대로 910\\n032-433-0755',\n",
       " '동물병원 · 간석4동 216-4\\n032-424-1288',\n",
       " '동물병원 · 상동 546-3\\n032-324-3004',\n",
       " '동물병원 · 산곡동 310-101\\n032-526-7501',\n",
       " '동물 병원 · 삼정동 342-3번지 1층 101호 부천시 경기도 KR\\n032-676-7584',\n",
       " '동물병원 · 방화동 609-184\\n02-2666-8585',\n",
       " '동물병원 · 가정로\\n032-579-7778',\n",
       " '동물병원 · 간석4동 570-5\\n곧 영업 종료: 오후 8:00 ⋅ 수 오전 10:00에 영업 시작 · 032-437-5535',\n",
       " '동물병원 · 송내동 315-3번지 상가동 지하1층 비 102호 송내역파인푸르지오2단지 부천시 경기도 KR\\n032-526-5500',\n",
       " '동물병원 · 성산동 17-23번지 마포구 서울특별시 KR\\n곧 영업 종료: 오후 8:00 ⋅ 수 오전 10:00에 영업 시작 · 02-335-3333',\n",
       " '종합병원 · 심곡동\\n032-777-0975',\n",
       " '동물병원 · 부흥로 351\\n24시간 영업 · 032-710-7533',\n",
       " '동물 병원 · 고강동\\n032-721-6665',\n",
       " '동물병원 · 상2동\\n032-322-5222',\n",
       " '동물 병원 · 삼산동\\n032-363-2021',\n",
       " '동물 병원 · 원종동 230-4\\n032-679-5575',\n",
       " '동물 병원 · 중동 1128번지 KR 2층 2023호 호 205호\\n032-201-7572',\n",
       " '동물병원 · 부평4동 408-2\\n032-517-7756',\n",
       " '동물병원 · 인주대로591번길 64 타원벨라움 2층\\n영업 종료 ⋅ 목 오전 10:00에 영업 시작 · 032-251-7575',\n",
       " '동물 병원 · 원종동 229-3\\n032-677-5262',\n",
       " '동물병원 · 상동 544-1번지 202호 로얄타워 부천시 경기도 KR\\n032-229-8275',\n",
       " '동물 병원 · 상2동\\n032-329-7975',\n",
       " '동물병원 · 서곶로 754 이마트 3층 동물병원\\n영업 중 ⋅ 오후 9:00에 영업 종료 · 032-565-7975',\n",
       " '동물 병원 · 상2동 540-1\\n032-324-8575',\n",
       " '동물 병원 · 중동 번지 103호 1058-1 KR 신명타운\\n032-322-0506',\n",
       " '동물병원 · 목3동 657-16\\n02-2642-8886',\n",
       " '동물병원 · 대화동 2038\\n24시간 영업 · 031-924-7582',\n",
       " '동물병원 · C 동 1층 24 KR 인천광역시 남동구 소래역남로 16번길 75 더타워 시소래동물병원\\n032-438-3227',\n",
       " '수의사 · 고강동 319-4\\n032-675-8575',\n",
       " '동물병원 · 신월7동 972-6\\n02-2606-1990',\n",
       " '동물 병원 · 송내동 385\\n032-611-0275',\n",
       " '동물 병원 · 상동 524-4번지 KR 1층\\n032-323-8275',\n",
       " '동물병원 · 구월1동 1149-5\\n032-434-6002',\n",
       " '동물병원 · 미추홀구 낙섬중로 92\\n24시간 영업 · 032-882-8275',\n",
       " '동물병원 · 화곡8동 342-57\\n02-2695-0072',\n",
       " '동물 병원 · 심곡본동 527-12번지 부천시 경기도 KR\\n032-201-8275',\n",
       " '동물 병원 · 상동 번지 103호 538-6 KR 대신스카이빌\\n032-322-7505',\n",
       " '동물병원 · 중1동 1157\\n032-325-9617',\n",
       " '동물 병원 · 관악로 1\\n24시간 영업 · 02-880-8661',\n",
       " '동물병원 · 중동1161-3, 일신빌딩 108호\\n영업 중 ⋅ 오후 9:00에 영업 종료 · 032-329-7599',\n",
       " '동물 병원 · 중동 1113\\n032-662-2469',\n",
       " '동물병원 · 상2동 544-11\\n032-323-8866',\n",
       " '동물 병원 · 상동 463\\n032-656-7582',\n",
       " '동물병원 · 주안동 1464-22\\n24시간 영업 · 032-864-0075',\n",
       " '동물병원 · 학익1동 437-31\\n곧 영업 종료: 오후 8:00 ⋅ 수 오전 9:30에 영업 시작 · 032-872-7582',\n",
       " '동물병원 · 주안5동 24-2\\n032-203-0075',\n",
       " '동물병원 · 화곡3동 1066-10\\n02-2602-7582',\n",
       " '동물병원 · 만수5동\\n032-321-8804',\n",
       " '동물병원 · 삼산동 체육관로 40\\n032-330-0075',\n",
       " '동물병원 · 부평4동 143-9\\n032-517-8910',\n",
       " '동물병원 · 마곡동 중앙1로 20 M시그니처 205호\\n곧 영업 종료: 오후 8:00 ⋅ 목 오전 10:00에 영업 시작 · 02-2662-7975',\n",
       " '동물병원 · 2 층, 122 잔다리로\\n영업 종료 ⋅ 수 오전 10:00에 영업 시작 · 02-6380-0999',\n",
       " '동물병원 · 심곡동 399-11\\n032-666-7975',\n",
       " '동물병원 · 구월1동 1240-3\\n영업 중 ⋅ 오후 9:00에 영업 종료 · 032-468-6406',\n",
       " '동물 병원 · 고촌읍 신곡리\\n031-986-3100',\n",
       " '동물병원 · 중1동 1131\\n032-329-7588',\n",
       " '동물병원 · 고촌읍 장차로 13 KR 제이스동물병원 2층\\n곧 영업 종료: 오후 8:00 ⋅ 목 오전 10:00에 영업 시작 · 031-986-2070',\n",
       " '동물병원 · 상2동 540-1\\n032-325-7582',\n",
       " '동물병원 · 부평1동 529-79\\n032-514-8778',\n",
       " '동물병원 · 심곡2동 121\\n032-611-3502',\n",
       " '동물 병원 · 상2동 557-3\\n032-325-7975',\n",
       " '동물 병원 · 중1동 1150-6\\n032-326-2992',\n",
       " '동물 병원 · 산곡동 100 102번지 2층 201호\\n032-330-7522',\n",
       " '동물 병원 · 삼산동 465-1번지 롯데마트삼산점 지하동 3층 부평구 인천광역시 KR\\n032-363-2157',\n",
       " '동물 병원 · 산곡동 159-52\\n032-330-7521',\n",
       " '동물병원 · 내발산동 722-15\\n02-2697-0052',\n",
       " '동물병원 · 101호, 102호, 664 원당대로\\n영업 종료 ⋅ 수 오전 10:00에 영업 시작 · 032-564-7556',\n",
       " '동물병원 · 동작대로 36\\n24시간 영업 · 02-525-3102',\n",
       " '동물 병원 · 내발산동\\n02-2667-5666',\n",
       " '동물 병원 · 중동 1034-4번지 드림빌딩 105호 부천시 경기도 KR\\n032-321-7584',\n",
       " '동물병원 · 이화동 2\\n032-544-6771',\n",
       " '동물병원 · 상동 463\\n032-653-7582',\n",
       " '동물병원 · 심곡본동 554-5\\n032-651-2358',\n",
       " '동물병원 · 송내2동 578-4\\n032-651-5450',\n",
       " '동물 병원 · 내발산동 750\\n02-2666-2611',\n",
       " '동물병원 · 청라동 커낼로 270',\n",
       " '동물병원 · 중1동 1135-1\\n032-322-0085',\n",
       " '동물병원 · 신사동\\n24시간 영업 · 02-549-0275',\n",
       " '동물병원 · 중동 1144-2\\n032-321-8430',\n",
       " '동물 병원 · 중동 1128번지 웰니스동물의료센터 그린프라자 2층\\n031-201-7575',\n",
       " '동물병원 · 한남동 프라자 76 2층 달래동물의료센터\\n영업 중 ⋅ 오후 9:00에 영업 종료 · 02-794-1255',\n",
       " '동물 병원 · 삼산동\\n영업 종료 ⋅ 수 오전 10:00에 영업 시작 · 032-542-4647',\n",
       " '동물 병원 · 부개동 498-11번지 102호 신성프라자 부평구 인천광역시 KR\\n032-522-7585',\n",
       " '동물 병원 · 석남동 538-26\\n032-574-3968',\n",
       " '종합병원 · 마장로 312 2층\\n032-330-7522',\n",
       " '동물 병원 · 상3동 538-6\\n032-322-7505',\n",
       " '동물병원 · 산곡동 307-15\\n032-517-7582',\n",
       " '동물병원 · 부평3동\\n032-344-5554',\n",
       " '동물병원 · 간석4동 573-1\\n032-434-7525',\n",
       " '동물병원 · 송내동 368\\n032-665-0075',\n",
       " '동물병원 · 사우동 937\\n031-997-8275',\n",
       " '동물병원 · 가좌2동 30-69\\n032-584-8254',\n",
       " '동물 병원 · 상동 564-14번지 부천시 경기도 KR\\n032-328-0079',\n",
       " '동물 병원',\n",
       " '동물병원 · 앵고개로 944\\n영업 중 ⋅ 오후 9:00에 영업 종료 · 032-423-7588',\n",
       " '동물병원 · 삼성동 70-6\\n02-541-7515',\n",
       " '동물 병원 · 고촌읍 신곡리 1073번지 1층 김포시 경기도 KR\\n031-996-7942',\n",
       " '동물 병원 · 소사본3동 160-29\\n032-346-5454',\n",
       " '동물병원 · 산본동\\n031-395-0079',\n",
       " '동물병원 · 동선동 동소문로 73\\n02-953-0075',\n",
       " '동물병원 · 풍무동 407-19\\n031-986-9975',\n",
       " '동물 병원 · 원당동 824-6번지 삼정프라자 111호\\n032-561-7507',\n",
       " '동물병원 · 상1동 401-1\\n032-325-7588',\n",
       " '동물 병원 · 부평1동 529-79\\n032-528-8272',\n",
       " '동물병원 · 간석동 616\\n032-862-0975',\n",
       " '동물병원 · 청담동 도산대로 445\\n영업 중 ⋅ 오후 9:00에 영업 종료 · 1577-6125',\n",
       " '동물병원 · 마전동 639\\n032-563-1575',\n",
       " '동물병원 · 중2동 신흥로 150\\n032-662-2469',\n",
       " '동물병원 · 풍무동 147\\n031-982-7588',\n",
       " '동물병원 · 부평동 534-160\\n032-527-7588',\n",
       " '동물 병원 · 부개동 86-1번지 103호 부평구 인천광역시 KR\\n032-203-8984',\n",
       " '종합병원 · 원미2동 190-17\\n영업 종료 ⋅ 수 오전 10:00에 영업 시작',\n",
       " '동물병원 · 성사동 699-1\\n031-966-3243',\n",
       " '동물병원 · 옥련동 196\\n032-833-1770',\n",
       " '동물병원 · 북변동 293-1\\n031-982-1130',\n",
       " '동물 병원 · 중동 1134번지 새롬프라자 6호 차105동 부천시 경기도 KR\\n032-323-4999',\n",
       " '동물병원 · 과천동 513-4번지 1층 과천시 경기도 KR\\n02-503-7787',\n",
       " '동물병원 · 가양동 968\\n02-2665-7332',\n",
       " '동물병원 · 마전동 622-2\\n032-567-0222',\n",
       " '동물병원 · 역삼동 725-15\\n24시간 영업 · 1644-5653',\n",
       " '동물병원 · 신월1동 116-14\\n02-2694-9550',\n",
       " '동물병원 · 역촌동 연서로 122',\n",
       " '동물 병원 · 고잔동 525-1\\n24시간 영업 · 031-487-7500',\n",
       " '동물 병원 · 주안1동\\n032-886-0079',\n",
       " '동물병원 · 만수6동 1079-3\\n032-469-8275',\n",
       " '동물 병원 · 내발산동 678-4\\n02-2664-8275',\n",
       " '동물 병원 · 가좌1동 118\\n032-576-0045',\n",
       " '동물 병원 · 화곡동 1013-1번지 1층 강서구 서울특별시 KR',\n",
       " '동물병원 · 중계2.3동\\n02-979-8275',\n",
       " '애완동물입양기관 · 목동 903번지 상가동 105호 호 목동신시가지3단지아파트 양천구 서울특별시 KR\\n02-2644-8878',\n",
       " '동물 병원 · 풍무동 425번지 1층 그린씨티 김포시 경기도 KR\\n070-8990-5232',\n",
       " '동물 병원 · 도산대로 539\\n02-512-7566',\n",
       " '동물병원 · 성수일로33 포레동물병원\\n영업 종료 ⋅ 수 오전 10:00에 영업 시작 · 02-468-7975',\n",
       " '동물병원 · 상계동 노원로 408\\n02-919-0075',\n",
       " '동물 병원 · 내발산동\\n02-3664-4800',\n",
       " '동물병원 · 감정동 526-6\\n031-996-7575',\n",
       " '동물병원 · 동일로 1333\\n24시간 영업 · 02-931-1333',\n",
       " '동물병원 · 서초2동 1343-1\\n02-586-7501',\n",
       " '의사 · 목동중앙로 89\\n곧 영업 종료: 오후 8:00 ⋅ 수 오전 10:00에 영업 시작 · 02-6949-0413',\n",
       " '동물병원 · 구미동 성남대로 45 KR\\n24시간 영업 · 031-711-8275',\n",
       " '동물병원 · 선릉로 806\\n영업 중 ⋅ 오후 9:00에 영업 종료 · 02-574-7533',\n",
       " '동물병원 · 간석1동 908\\n곧 영업 종료: 오후 8:00 ⋅ 수 오전 10:00에 영업 시작 · 032-432-3578',\n",
       " '동물병원 · 경동 240-60\\n032-765-9988',\n",
       " '동물병원 · 137-3 청공 빌딩 101 호\\n영업 중 ⋅ 오후 9:00에 영업 종료 · 02-443-2222',\n",
       " '동물 병원 · 황새울로319번길 8-6\\n24시간 영업 · 031-781-2992',\n",
       " '동물병원 · 가람로 21번길 7-5 KR\\n영업 종료 ⋅ 수 오전 11:00에 영업 시작 · 031-946-0805',\n",
       " '동물병원 · 신사동 586-4',\n",
       " '동물병원 · 용현5동 낙섬중로 25\\n곧 영업 종료: 오후 8:00 ⋅ 수 오전 9:00에 영업 시작 · 032-887-2952',\n",
       " '동물 병원 · 구월동 1526-1번지 104호 구월메디컬프라자 남동구 인천광역시 KR\\n032-466-7975',\n",
       " '동물 병원 · 감정동 515-12번지 1층\\n031-996-7575',\n",
       " '동물 병원 · 만수동 1118-1번지 103호 향촌필러스프라자 남동구 인천광역시 KR\\n032-462-0070',\n",
       " '· 노고산동 신촌로 110\\n24시간 영업 · 02-701-7580',\n",
       " '동물병원 · 송정로 20 KR 레이동물병원\\n곧 영업 종료: 오후 8:00 ⋅ 수 오전 10:00에 영업 시작 · 031-245-7707',\n",
       " '동물병원 · 구월1동 1130\\n032-437-7582',\n",
       " '동물 관련업 · 심곡본동 687-4\\n032-663-0275',\n",
       " '동물병원 · 쑥고개로 57-1\\n곧 영업 종료: 오후 8:00 ⋅ 수 오전 10:00에 영업 시작 · 02-872-7582',\n",
       " '동물병원 · 녹양동 비우로 100 KR 1층\\n영업 중 ⋅ 오후 10:00에 영업 종료 · 031-829-7577',\n",
       " '동물 병원 · 용현동 622-129\\n032-203-0085',\n",
       " '동물 병원 · 주안동 1455-8\\n032-868-2646',\n",
       " '동물 병원 · 신공덕동 172번지 펜트라하우스 105동 B235호 마포구 서울특별시 KR\\n02-713-8275',\n",
       " '대학병원 · 동수로 56\\n영업 종료 ⋅ 수 오전 8:30에 영업 시작 · 1544-9004',\n",
       " '동물 병원 · 논현동 671-1번지 1층 109호 D아파트 PLAZA 남동구 인천광역시 KR\\n032-271-2202',\n",
       " '동물 병원 · 주안동 1417-93\\n032-867-2270',\n",
       " '동물병원 · 센트럴타운로 107, 광교 푸르지오 월드마크, 월드스퀘어 2층 2-06~2-09호\\n영업 종료 ⋅ 수 오전 10:00에 영업 시작 · 031-215-7474',\n",
       " '동물 병원 · 송도동 2-3\\n032-834-7275',\n",
       " '동물 병원 · 청학동 503-3번지 1층 109호 소망빌딩 연수구 인천광역시 KR\\n032-819-2852',\n",
       " '동물병원 · 신갈동 722\\n곧 영업 종료: 오후 8:00 ⋅ 수 오전 10:00에 영업 시작 · 031-281-0811',\n",
       " '동물병원 · 도산대로 301 540\\n02-544-2882',\n",
       " '동물 병원 · 능동로 120\\n영업 종료 ⋅ 수 오전 9:00에 영업 시작 · 02-450-3664',\n",
       " '축협 · 성산동 253-16번지 3층 윤재빌딩 마포구 서울특별시 KR',\n",
       " '동물보호단체 · 잔다리로 122\\n영업 종료 ⋅ 수 오전 9:00에 영업 시작 · 02-3482-0999',\n",
       " '동물병원 · 성남대로 449\\n영업 중 ⋅ 오후 9:00에 영업 종료',\n",
       " '동물 병원 · 경기 수원시 영통구 이의동 1332\\n031-548-1175',\n",
       " '동물병원 · 황새울로342번길 15 은성빌딩\\n031-709-5500',\n",
       " '동물병원 · 봉명동 548-11\\n24시간 영업 · 042-719-7566',\n",
       " '동물 병원 · 예산읍 산성리 669\\n041-335-1023',\n",
       " '협회 또는 조직 · 서초2동 1358-1\\n02-522-4722',\n",
       " '동물병원 · 부여읍 구아리 141-5\\n영업 종료 ⋅ 수 오전 9:00에 영업 시작 · 041-832-2496',\n",
       " '동물병원 · 궁동 220번지\\n영업 종료 ⋅ 수 오후 2:00에 영업 시작 · 042-821-6704',\n",
       " '동물병원 · 예산읍 주교리 240-5\\n041-332-5895']"
      ]
     },
     "execution_count": 405,
     "metadata": {},
     "output_type": "execute_result"
    }
   ],
   "source": [
    "print(len(laddr))\n",
    "laddr"
   ]
  },
  {
   "cell_type": "code",
   "execution_count": 427,
   "id": "c7f9980c",
   "metadata": {},
   "outputs": [],
   "source": [
    "asdfa2 = []\n",
    "for x in laddr:\n",
    "    asdfa2.append(x.split(\"\\n\"))\n"
   ]
  },
  {
   "cell_type": "code",
   "execution_count": 428,
   "id": "74438a2b",
   "metadata": {},
   "outputs": [
    {
     "data": {
      "text/plain": [
       "[['동물병원 · 임학동 67-7',\n",
       "  '곧 영업 종료: 오후 8:00 ⋅ 수 오전 10:00에 영업 시작 · 032-555-7502 ext. 3'],\n",
       " ['동물병원 · 계산동 942-24번지', '곧 영업 종료: 오후 8:00 ⋅ 수 오전 9:30에 영업 시작 · 032-555-9975'],\n",
       " ['동물병원 · 작전동 864-39', '곧 영업 종료: 오후 8:00 ⋅ 수 오전 10:00에 영업 시작 · 032-546-0079'],\n",
       " ['동물병원 · 계산2동 918-2', '032-553-4652'],\n",
       " ['동물병원 · 장제로340번길 5 3층', '영업 중 ⋅ 오후 10:00에 영업 종료 · 032-508-7582'],\n",
       " ['동물병원 · 청라동 127-2', '곧 영업 종료: 오후 8:00 ⋅ 수 오전 9:00에 영업 시작 · 032-563-1900'],\n",
       " ['동물 병원 · 병방동 422', '곧 영업 종료: 오후 8:00 ⋅ 수 오전 10:00에 영업 시작 · 032-549-0077'],\n",
       " ['동물 병원 · 작전동 863', '곧 영업 종료: 오후 8:00 ⋅ 수 오전 10:00에 영업 시작 · 032-552-3369'],\n",
       " ['동물병원 · 계산동 1062', '032-548-0275'],\n",
       " ['동물 병원 · 연희동 796-7번지 청라골드클래스커낼웨이 상가동 103호 서구 인천광역시 KR', '031-564-3575'],\n",
       " ['동물병원 · 가정1동 517-32', '032-575-0833'],\n",
       " ['동물병원 · 작전동 925-1'],\n",
       " ['동물병원 · 청라 에메랄드로102번길 10'],\n",
       " ['동물병원 · 부평동 부평대로 154', '곧 영업 종료: 오후 8:00 ⋅ 수 오전 9:30에 영업 시작 · 032-511-6836'],\n",
       " ['동물병원 · 계산1동', '032-542-4647'],\n",
       " ['동물병원 · 산곡동 411-5', '032-524-6959'],\n",
       " ['동물병원 · 병방동 426', '032-552-0075'],\n",
       " ['동물병원 · 검암동 613-1', '032-563-0775'],\n",
       " ['동물병원 · 부평대로 138', '032-511-6836'],\n",
       " ['동물병원 · 중3동 1062-1', '032-322-7595'],\n",
       " ['동물병원 · 산곡동 143-2', '032-503-0075'],\n",
       " ['동물병원 · KR 인천광역시 서구 신현동 303 금강아미움 길동물병원 2층',\n",
       "  '영업 종료 ⋅ 수 오전 10:00에 영업 시작 · 032-578-5119'],\n",
       " ['동물 병원 · 검암동 506-1번지 동곡프라자 1층 108호', '032-710-7553'],\n",
       " ['동물병원 · 중동 길주로 281 TLC 동물의료센터 1층', '24시간 영업 · 032-323-2475'],\n",
       " ['동물병원 · 중동 1168', '24시간 영업 · 032-231-0075'],\n",
       " ['동물 병원 · 중동', '032-323-7581'],\n",
       " ['동물병원 · 119(118 KR 인천광역시 서구 청라커낼로 252 롯데캐슬단지내상가 C동',\n",
       "  '영업 종료 ⋅ 수 오전 10:00에 영업 시작 · 050-71318-0367'],\n",
       " ['동물병원 · 갈산동 59-5', '032-511-5515'],\n",
       " ['동물병원 · 청라동 루비로134번길 6-4',\n",
       "  '곧 영업 종료: 오후 8:00 ⋅ 수 오전 10:00에 영업 시작 · 032-568-0922'],\n",
       " ['동물병원 · 중동 신흥로 1106 KR 190) 위브더스테이트 1단지상가 2층 213-216호',\n",
       "  '24시간 영업 · 032-715-7579'],\n",
       " ['동물병원 · 산곡동 194-6', '032-521-0003'],\n",
       " ['동물 병원 · 중동 1058-2번지 107호 중동프라자 부천시 경기도 KR', '032-321-7603'],\n",
       " ['동물병원 · 삼산동 389-1', '032-507-1110'],\n",
       " ['동물병원 · 효성1동 63-8', '032-551-9008'],\n",
       " ['동물병원 · 방화3동 830-3', '02-2665-8256'],\n",
       " ['동물병원 · 효성동 75-3', '곧 영업 종료: 오후 8:00 ⋅ 수 오전 10:00에 영업 시작 · 032-556-9990'],\n",
       " ['동물병원 · 고강동 474-1', '032-683-5137'],\n",
       " ['종합병원 · 작전동'],\n",
       " ['동물병원 · 상3동 534-9', '032-666-7500'],\n",
       " ['동물 병원 · 계산동 1059-1번지 2층 계양구 인천광역시 KR'],\n",
       " ['동물병원 · 풍무동 592-10', '031-982-7514'],\n",
       " ['동물 병원 · 용종동 207-1번지 코아루센트럴파크 1층 104호', '032-553-7975'],\n",
       " ['동물병원 · 청천2동 174-7', '032-517-0075'],\n",
       " ['동물병원 · 마곡동 마곡서로 133 엠벨리7단지 712동 102-1호',\n",
       "  '영업 중 ⋅ 오후 9:00에 영업 종료 · 02-2666-7990'],\n",
       " ['동물병원 · 상3동 535-1', '032-328-8440'],\n",
       " ['동물병원 · 양도로 19번길 15', '곧 영업 종료: 오후 8:00 ⋅ 수 오전 9:30에 영업 시작 · 031-986-9816'],\n",
       " ['동물병원 · 방화3동 830-3', '02-2666-0370'],\n",
       " ['동물병원 · 계산동 1059-1', '032-548-2169'],\n",
       " ['동물병원 · 석남2동 579-3', '032-584-0075'],\n",
       " ['동물 병원 · 계산동 1059-1번지 2층 계양구 인천광역시 KR'],\n",
       " ['동물병원 · 중동 749-17', '032-655-6034'],\n",
       " ['동물병원 · 방화3동 811-10', '02-2666-6075'],\n",
       " ['동물병원 · 중동 1087', '032-652-7566'],\n",
       " ['동물병원 · 부평1동 182-10', '032-511-5338'],\n",
       " ['동물 병원 · KR 인천 서구 가정동 619-4',\n",
       "  '곧 영업 종료: 오후 8:00 ⋅ 수 오전 10:00에 영업 시작 · 032-564-8275'],\n",
       " ['동물병원 · 사우동 348-6', '031-985-5075'],\n",
       " ['동물 병원 · 부평동 10-975', '032-522-7582'],\n",
       " ['동물병원 · 부평4동 431-27', '032-528-1359'],\n",
       " ['동물병원 · 목3동 613-8', '영업 종료 ⋅ 수 오전 9:30에 영업 시작 · 02-2645-1475 ext. 1074'],\n",
       " ['동물 병원 · 화곡1동 1070-1', '02-2693-0075'],\n",
       " ['동물병원 · 석남1동 454-3', '032-576-5726'],\n",
       " ['동물 병원 · 경명대로 1099', '032-547-4788'],\n",
       " ['동물 병원 · 효성동 925-1', '032-544-0075'],\n",
       " ['동물 병원 · 계산동 1061', '032-554-7580'],\n",
       " ['동물병원 · 상3동 523-10', '032-323-2737'],\n",
       " ['동물병원 · 산곡동 411-11', '곧 영업 종료: 오후 8:00 ⋅ 수 오전 9:00에 영업 시작 · 032-518-3800'],\n",
       " ['동물 병원 · 작전서운동 925-1', '032-544-0075'],\n",
       " ['동물병원 · 효성2동 320-1', '032-551-8275'],\n",
       " ['동물병원 · 중동 707-1', '032-614-7582'],\n",
       " ['동물 병원 · 도당동 141-3번지 부천시 경기도 KR', '032-261-2612'],\n",
       " ['동물병원 · 경인로 475', '24시간 영업 · 032-345-7559'],\n",
       " ['동물병원 · 작전서운동 봉오대로 785'],\n",
       " ['동물병원 · 공항동 45-37', '영업 중 ⋅ 오후 10:00에 영업 종료 · 02-2661-0530'],\n",
       " ['동물병원 · 경원대로 1278 1층', '곧 영업 종료: 오후 8:30 ⋅ 수 오전 9:30에 영업 시작 · 032-524-5557'],\n",
       " ['동물병원 · 괴안동 87-1', '영업 종료 ⋅ 수 오전 10:00에 영업 시작 · 032-349-7975'],\n",
       " ['동물 병원 · 청천동 386번지 1동 2113호 아이즈빌 아울렛 부평구 인천광역시 KR', '032-270-2727'],\n",
       " ['동물병원 · 부개1동 301-38', '032-505-7262'],\n",
       " ['동물병원 · 원당동', '곧 영업 종료: 오후 8:00 ⋅ 오후 9:30에 영업 재개 · 032-561-7507'],\n",
       " ['동물병원 · 부평동 341-160 KR 인천광역시 부평구 경원대로 1355',\n",
       "  '영업 종료 ⋅ 수 오전 10:00에 영업 시작 · 032-524-0075'],\n",
       " ['동물병원 · 장제로'],\n",
       " ['동물병원 · 가좌3동 125-15', '032-579-7582'],\n",
       " ['동물병원 · 원종동 373-12', '032-676-7533'],\n",
       " ['동물 병원 · 계산동', '032-272-0075'],\n",
       " ['동물 병원 · 계산동', '032-545-8612'],\n",
       " ['동물 병원 · 삼산동 54-2번지 광명상가 107호 부평구 인천광역시 KR', '032-507-0075'],\n",
       " ['동물병원 · 갈산동 364-4', '032-508-7571'],\n",
       " ['동물병원 · 방화동 567-14', '02-2664-7773'],\n",
       " ['동물병원 · 1471-17 남구 인천광역시 KR', '032-427-7588'],\n",
       " ['동물 병원 · 갈산동 417', '032-503-6839'],\n",
       " ['동물 병원'],\n",
       " ['동물 병원 · 작전동 423-2', '032-553-6678'],\n",
       " ['동물병원 · 심곡동 242-7', '032-566-0038'],\n",
       " ['동물병원 · 심곡동 283-5', '032-568-1269'],\n",
       " ['동물병원 · 화곡1동 421-23', '02-2691-5900'],\n",
       " ['동물병원 · 경인로 212-1', '영업 종료 ⋅ 목 오전 9:00에 영업 시작 · 032-614-7588'],\n",
       " ['동물 병원 · 작전동 448-7', '032-552-7588'],\n",
       " ['동물병원 · 부평3동 274-21', '032-521-6578'],\n",
       " ['동물병원 · 인천 서구 당하동 22-14', '032-566-7588'],\n",
       " ['동물 병원 · 신월1동 130-5', '02-6959-8448'],\n",
       " ['동물 병원 · 양평동1가 영등포로 85-1', '24시간 영업 · 02-2676-7582'],\n",
       " ['동물 병원 · 작전동 428-6번지 1층 101호 계양구 인천광역시 KR', '032-551-0975'],\n",
       " ['동물병원 · 원종동 100-1', '032-716-6975'],\n",
       " ['동물병원 · 중동 771-16', '032-652-0075'],\n",
       " ['동물병원 · 신월동 50-5', '02-2697-5907'],\n",
       " ['동물병원 · 심곡동 394-3', '032-613-8398'],\n",
       " ['동물병원 · 청천1동 1-3', '032-270-2727'],\n",
       " ['동물병원 · 심곡동 304-10', '032-561-4667'],\n",
       " ['동물병원 · 부개2동 85-4', '032-504-7582'],\n",
       " ['동물 병원 · 청천동 181-32', '032-529-9633'],\n",
       " ['동물병원 · 남동대로 910', '032-433-0755'],\n",
       " ['동물병원 · 간석4동 216-4', '032-424-1288'],\n",
       " ['동물병원 · 상동 546-3', '032-324-3004'],\n",
       " ['동물병원 · 산곡동 310-101', '032-526-7501'],\n",
       " ['동물 병원 · 삼정동 342-3번지 1층 101호 부천시 경기도 KR', '032-676-7584'],\n",
       " ['동물병원 · 방화동 609-184', '02-2666-8585'],\n",
       " ['동물병원 · 가정로', '032-579-7778'],\n",
       " ['동물병원 · 간석4동 570-5', '곧 영업 종료: 오후 8:00 ⋅ 수 오전 10:00에 영업 시작 · 032-437-5535'],\n",
       " ['동물병원 · 송내동 315-3번지 상가동 지하1층 비 102호 송내역파인푸르지오2단지 부천시 경기도 KR',\n",
       "  '032-526-5500'],\n",
       " ['동물병원 · 성산동 17-23번지 마포구 서울특별시 KR',\n",
       "  '곧 영업 종료: 오후 8:00 ⋅ 수 오전 10:00에 영업 시작 · 02-335-3333'],\n",
       " ['종합병원 · 심곡동', '032-777-0975'],\n",
       " ['동물병원 · 부흥로 351', '24시간 영업 · 032-710-7533'],\n",
       " ['동물 병원 · 고강동', '032-721-6665'],\n",
       " ['동물병원 · 상2동', '032-322-5222'],\n",
       " ['동물 병원 · 삼산동', '032-363-2021'],\n",
       " ['동물 병원 · 원종동 230-4', '032-679-5575'],\n",
       " ['동물 병원 · 중동 1128번지 KR 2층 2023호 호 205호', '032-201-7572'],\n",
       " ['동물병원 · 부평4동 408-2', '032-517-7756'],\n",
       " ['동물병원 · 인주대로591번길 64 타원벨라움 2층', '영업 종료 ⋅ 목 오전 10:00에 영업 시작 · 032-251-7575'],\n",
       " ['동물 병원 · 원종동 229-3', '032-677-5262'],\n",
       " ['동물병원 · 상동 544-1번지 202호 로얄타워 부천시 경기도 KR', '032-229-8275'],\n",
       " ['동물 병원 · 상2동', '032-329-7975'],\n",
       " ['동물병원 · 서곶로 754 이마트 3층 동물병원', '영업 중 ⋅ 오후 9:00에 영업 종료 · 032-565-7975'],\n",
       " ['동물 병원 · 상2동 540-1', '032-324-8575'],\n",
       " ['동물 병원 · 중동 번지 103호 1058-1 KR 신명타운', '032-322-0506'],\n",
       " ['동물병원 · 목3동 657-16', '02-2642-8886'],\n",
       " ['동물병원 · 대화동 2038', '24시간 영업 · 031-924-7582'],\n",
       " ['동물병원 · C 동 1층 24 KR 인천광역시 남동구 소래역남로 16번길 75 더타워 시소래동물병원', '032-438-3227'],\n",
       " ['수의사 · 고강동 319-4', '032-675-8575'],\n",
       " ['동물병원 · 신월7동 972-6', '02-2606-1990'],\n",
       " ['동물 병원 · 송내동 385', '032-611-0275'],\n",
       " ['동물 병원 · 상동 524-4번지 KR 1층', '032-323-8275'],\n",
       " ['동물병원 · 구월1동 1149-5', '032-434-6002'],\n",
       " ['동물병원 · 미추홀구 낙섬중로 92', '24시간 영업 · 032-882-8275'],\n",
       " ['동물병원 · 화곡8동 342-57', '02-2695-0072'],\n",
       " ['동물 병원 · 심곡본동 527-12번지 부천시 경기도 KR', '032-201-8275'],\n",
       " ['동물 병원 · 상동 번지 103호 538-6 KR 대신스카이빌', '032-322-7505'],\n",
       " ['동물병원 · 중1동 1157', '032-325-9617'],\n",
       " ['동물 병원 · 관악로 1', '24시간 영업 · 02-880-8661'],\n",
       " ['동물병원 · 중동1161-3, 일신빌딩 108호', '영업 중 ⋅ 오후 9:00에 영업 종료 · 032-329-7599'],\n",
       " ['동물 병원 · 중동 1113', '032-662-2469'],\n",
       " ['동물병원 · 상2동 544-11', '032-323-8866'],\n",
       " ['동물 병원 · 상동 463', '032-656-7582'],\n",
       " ['동물병원 · 주안동 1464-22', '24시간 영업 · 032-864-0075'],\n",
       " ['동물병원 · 학익1동 437-31', '곧 영업 종료: 오후 8:00 ⋅ 수 오전 9:30에 영업 시작 · 032-872-7582'],\n",
       " ['동물병원 · 주안5동 24-2', '032-203-0075'],\n",
       " ['동물병원 · 화곡3동 1066-10', '02-2602-7582'],\n",
       " ['동물병원 · 만수5동', '032-321-8804'],\n",
       " ['동물병원 · 삼산동 체육관로 40', '032-330-0075'],\n",
       " ['동물병원 · 부평4동 143-9', '032-517-8910'],\n",
       " ['동물병원 · 마곡동 중앙1로 20 M시그니처 205호',\n",
       "  '곧 영업 종료: 오후 8:00 ⋅ 목 오전 10:00에 영업 시작 · 02-2662-7975'],\n",
       " ['동물병원 · 2 층, 122 잔다리로', '영업 종료 ⋅ 수 오전 10:00에 영업 시작 · 02-6380-0999'],\n",
       " ['동물병원 · 심곡동 399-11', '032-666-7975'],\n",
       " ['동물병원 · 구월1동 1240-3', '영업 중 ⋅ 오후 9:00에 영업 종료 · 032-468-6406'],\n",
       " ['동물 병원 · 고촌읍 신곡리', '031-986-3100'],\n",
       " ['동물병원 · 중1동 1131', '032-329-7588'],\n",
       " ['동물병원 · 고촌읍 장차로 13 KR 제이스동물병원 2층',\n",
       "  '곧 영업 종료: 오후 8:00 ⋅ 목 오전 10:00에 영업 시작 · 031-986-2070'],\n",
       " ['동물병원 · 상2동 540-1', '032-325-7582'],\n",
       " ['동물병원 · 부평1동 529-79', '032-514-8778'],\n",
       " ['동물병원 · 심곡2동 121', '032-611-3502'],\n",
       " ['동물 병원 · 상2동 557-3', '032-325-7975'],\n",
       " ['동물 병원 · 중1동 1150-6', '032-326-2992'],\n",
       " ['동물 병원 · 산곡동 100 102번지 2층 201호', '032-330-7522'],\n",
       " ['동물 병원 · 삼산동 465-1번지 롯데마트삼산점 지하동 3층 부평구 인천광역시 KR', '032-363-2157'],\n",
       " ['동물 병원 · 산곡동 159-52', '032-330-7521'],\n",
       " ['동물병원 · 내발산동 722-15', '02-2697-0052'],\n",
       " ['동물병원 · 101호, 102호, 664 원당대로', '영업 종료 ⋅ 수 오전 10:00에 영업 시작 · 032-564-7556'],\n",
       " ['동물병원 · 동작대로 36', '24시간 영업 · 02-525-3102'],\n",
       " ['동물 병원 · 내발산동', '02-2667-5666'],\n",
       " ['동물 병원 · 중동 1034-4번지 드림빌딩 105호 부천시 경기도 KR', '032-321-7584'],\n",
       " ['동물병원 · 이화동 2', '032-544-6771'],\n",
       " ['동물병원 · 상동 463', '032-653-7582'],\n",
       " ['동물병원 · 심곡본동 554-5', '032-651-2358'],\n",
       " ['동물병원 · 송내2동 578-4', '032-651-5450'],\n",
       " ['동물 병원 · 내발산동 750', '02-2666-2611'],\n",
       " ['동물병원 · 청라동 커낼로 270'],\n",
       " ['동물병원 · 중1동 1135-1', '032-322-0085'],\n",
       " ['동물병원 · 신사동', '24시간 영업 · 02-549-0275'],\n",
       " ['동물병원 · 중동 1144-2', '032-321-8430'],\n",
       " ['동물 병원 · 중동 1128번지 웰니스동물의료센터 그린프라자 2층', '031-201-7575'],\n",
       " ['동물병원 · 한남동 프라자 76 2층 달래동물의료센터', '영업 중 ⋅ 오후 9:00에 영업 종료 · 02-794-1255'],\n",
       " ['동물 병원 · 삼산동', '영업 종료 ⋅ 수 오전 10:00에 영업 시작 · 032-542-4647'],\n",
       " ['동물 병원 · 부개동 498-11번지 102호 신성프라자 부평구 인천광역시 KR', '032-522-7585'],\n",
       " ['동물 병원 · 석남동 538-26', '032-574-3968'],\n",
       " ['종합병원 · 마장로 312 2층', '032-330-7522'],\n",
       " ['동물 병원 · 상3동 538-6', '032-322-7505'],\n",
       " ['동물병원 · 산곡동 307-15', '032-517-7582'],\n",
       " ['동물병원 · 부평3동', '032-344-5554'],\n",
       " ['동물병원 · 간석4동 573-1', '032-434-7525'],\n",
       " ['동물병원 · 송내동 368', '032-665-0075'],\n",
       " ['동물병원 · 사우동 937', '031-997-8275'],\n",
       " ['동물병원 · 가좌2동 30-69', '032-584-8254'],\n",
       " ['동물 병원 · 상동 564-14번지 부천시 경기도 KR', '032-328-0079'],\n",
       " ['동물 병원'],\n",
       " ['동물병원 · 앵고개로 944', '영업 중 ⋅ 오후 9:00에 영업 종료 · 032-423-7588'],\n",
       " ['동물병원 · 삼성동 70-6', '02-541-7515'],\n",
       " ['동물 병원 · 고촌읍 신곡리 1073번지 1층 김포시 경기도 KR', '031-996-7942'],\n",
       " ['동물 병원 · 소사본3동 160-29', '032-346-5454'],\n",
       " ['동물병원 · 산본동', '031-395-0079'],\n",
       " ['동물병원 · 동선동 동소문로 73', '02-953-0075'],\n",
       " ['동물병원 · 풍무동 407-19', '031-986-9975'],\n",
       " ['동물 병원 · 원당동 824-6번지 삼정프라자 111호', '032-561-7507'],\n",
       " ['동물병원 · 상1동 401-1', '032-325-7588'],\n",
       " ['동물 병원 · 부평1동 529-79', '032-528-8272'],\n",
       " ['동물병원 · 간석동 616', '032-862-0975'],\n",
       " ['동물병원 · 청담동 도산대로 445', '영업 중 ⋅ 오후 9:00에 영업 종료 · 1577-6125'],\n",
       " ['동물병원 · 마전동 639', '032-563-1575'],\n",
       " ['동물병원 · 중2동 신흥로 150', '032-662-2469'],\n",
       " ['동물병원 · 풍무동 147', '031-982-7588'],\n",
       " ['동물병원 · 부평동 534-160', '032-527-7588'],\n",
       " ['동물 병원 · 부개동 86-1번지 103호 부평구 인천광역시 KR', '032-203-8984'],\n",
       " ['종합병원 · 원미2동 190-17', '영업 종료 ⋅ 수 오전 10:00에 영업 시작'],\n",
       " ['동물병원 · 성사동 699-1', '031-966-3243'],\n",
       " ['동물병원 · 옥련동 196', '032-833-1770'],\n",
       " ['동물병원 · 북변동 293-1', '031-982-1130'],\n",
       " ['동물 병원 · 중동 1134번지 새롬프라자 6호 차105동 부천시 경기도 KR', '032-323-4999'],\n",
       " ['동물병원 · 과천동 513-4번지 1층 과천시 경기도 KR', '02-503-7787'],\n",
       " ['동물병원 · 가양동 968', '02-2665-7332'],\n",
       " ['동물병원 · 마전동 622-2', '032-567-0222'],\n",
       " ['동물병원 · 역삼동 725-15', '24시간 영업 · 1644-5653'],\n",
       " ['동물병원 · 신월1동 116-14', '02-2694-9550'],\n",
       " ['동물병원 · 역촌동 연서로 122'],\n",
       " ['동물 병원 · 고잔동 525-1', '24시간 영업 · 031-487-7500'],\n",
       " ['동물 병원 · 주안1동', '032-886-0079'],\n",
       " ['동물병원 · 만수6동 1079-3', '032-469-8275'],\n",
       " ['동물 병원 · 내발산동 678-4', '02-2664-8275'],\n",
       " ['동물 병원 · 가좌1동 118', '032-576-0045'],\n",
       " ['동물 병원 · 화곡동 1013-1번지 1층 강서구 서울특별시 KR'],\n",
       " ['동물병원 · 중계2.3동', '02-979-8275'],\n",
       " ['애완동물입양기관 · 목동 903번지 상가동 105호 호 목동신시가지3단지아파트 양천구 서울특별시 KR', '02-2644-8878'],\n",
       " ['동물 병원 · 풍무동 425번지 1층 그린씨티 김포시 경기도 KR', '070-8990-5232'],\n",
       " ['동물 병원 · 도산대로 539', '02-512-7566'],\n",
       " ['동물병원 · 성수일로33 포레동물병원', '영업 종료 ⋅ 수 오전 10:00에 영업 시작 · 02-468-7975'],\n",
       " ['동물병원 · 상계동 노원로 408', '02-919-0075'],\n",
       " ['동물 병원 · 내발산동', '02-3664-4800'],\n",
       " ['동물병원 · 감정동 526-6', '031-996-7575'],\n",
       " ['동물병원 · 동일로 1333', '24시간 영업 · 02-931-1333'],\n",
       " ['동물병원 · 서초2동 1343-1', '02-586-7501'],\n",
       " ['의사 · 목동중앙로 89', '곧 영업 종료: 오후 8:00 ⋅ 수 오전 10:00에 영업 시작 · 02-6949-0413'],\n",
       " ['동물병원 · 구미동 성남대로 45 KR', '24시간 영업 · 031-711-8275'],\n",
       " ['동물병원 · 선릉로 806', '영업 중 ⋅ 오후 9:00에 영업 종료 · 02-574-7533'],\n",
       " ['동물병원 · 간석1동 908', '곧 영업 종료: 오후 8:00 ⋅ 수 오전 10:00에 영업 시작 · 032-432-3578'],\n",
       " ['동물병원 · 경동 240-60', '032-765-9988'],\n",
       " ['동물병원 · 137-3 청공 빌딩 101 호', '영업 중 ⋅ 오후 9:00에 영업 종료 · 02-443-2222'],\n",
       " ['동물 병원 · 황새울로319번길 8-6', '24시간 영업 · 031-781-2992'],\n",
       " ['동물병원 · 가람로 21번길 7-5 KR', '영업 종료 ⋅ 수 오전 11:00에 영업 시작 · 031-946-0805'],\n",
       " ['동물병원 · 신사동 586-4'],\n",
       " ['동물병원 · 용현5동 낙섬중로 25', '곧 영업 종료: 오후 8:00 ⋅ 수 오전 9:00에 영업 시작 · 032-887-2952'],\n",
       " ['동물 병원 · 구월동 1526-1번지 104호 구월메디컬프라자 남동구 인천광역시 KR', '032-466-7975'],\n",
       " ['동물 병원 · 감정동 515-12번지 1층', '031-996-7575'],\n",
       " ['동물 병원 · 만수동 1118-1번지 103호 향촌필러스프라자 남동구 인천광역시 KR', '032-462-0070'],\n",
       " ['· 노고산동 신촌로 110', '24시간 영업 · 02-701-7580'],\n",
       " ['동물병원 · 송정로 20 KR 레이동물병원',\n",
       "  '곧 영업 종료: 오후 8:00 ⋅ 수 오전 10:00에 영업 시작 · 031-245-7707'],\n",
       " ['동물병원 · 구월1동 1130', '032-437-7582'],\n",
       " ['동물 관련업 · 심곡본동 687-4', '032-663-0275'],\n",
       " ['동물병원 · 쑥고개로 57-1', '곧 영업 종료: 오후 8:00 ⋅ 수 오전 10:00에 영업 시작 · 02-872-7582'],\n",
       " ['동물병원 · 녹양동 비우로 100 KR 1층', '영업 중 ⋅ 오후 10:00에 영업 종료 · 031-829-7577'],\n",
       " ['동물 병원 · 용현동 622-129', '032-203-0085'],\n",
       " ['동물 병원 · 주안동 1455-8', '032-868-2646'],\n",
       " ['동물 병원 · 신공덕동 172번지 펜트라하우스 105동 B235호 마포구 서울특별시 KR', '02-713-8275'],\n",
       " ['대학병원 · 동수로 56', '영업 종료 ⋅ 수 오전 8:30에 영업 시작 · 1544-9004'],\n",
       " ['동물 병원 · 논현동 671-1번지 1층 109호 D아파트 PLAZA 남동구 인천광역시 KR', '032-271-2202'],\n",
       " ['동물 병원 · 주안동 1417-93', '032-867-2270'],\n",
       " ['동물병원 · 센트럴타운로 107, 광교 푸르지오 월드마크, 월드스퀘어 2층 2-06~2-09호',\n",
       "  '영업 종료 ⋅ 수 오전 10:00에 영업 시작 · 031-215-7474'],\n",
       " ['동물 병원 · 송도동 2-3', '032-834-7275'],\n",
       " ['동물 병원 · 청학동 503-3번지 1층 109호 소망빌딩 연수구 인천광역시 KR', '032-819-2852'],\n",
       " ['동물병원 · 신갈동 722', '곧 영업 종료: 오후 8:00 ⋅ 수 오전 10:00에 영업 시작 · 031-281-0811'],\n",
       " ['동물병원 · 도산대로 301 540', '02-544-2882'],\n",
       " ['동물 병원 · 능동로 120', '영업 종료 ⋅ 수 오전 9:00에 영업 시작 · 02-450-3664'],\n",
       " ['축협 · 성산동 253-16번지 3층 윤재빌딩 마포구 서울특별시 KR'],\n",
       " ['동물보호단체 · 잔다리로 122', '영업 종료 ⋅ 수 오전 9:00에 영업 시작 · 02-3482-0999'],\n",
       " ['동물병원 · 성남대로 449', '영업 중 ⋅ 오후 9:00에 영업 종료'],\n",
       " ['동물 병원 · 경기 수원시 영통구 이의동 1332', '031-548-1175'],\n",
       " ['동물병원 · 황새울로342번길 15 은성빌딩', '031-709-5500'],\n",
       " ['동물병원 · 봉명동 548-11', '24시간 영업 · 042-719-7566'],\n",
       " ['동물 병원 · 예산읍 산성리 669', '041-335-1023'],\n",
       " ['협회 또는 조직 · 서초2동 1358-1', '02-522-4722'],\n",
       " ['동물병원 · 부여읍 구아리 141-5', '영업 종료 ⋅ 수 오전 9:00에 영업 시작 · 041-832-2496'],\n",
       " ['동물병원 · 궁동 220번지', '영업 종료 ⋅ 수 오후 2:00에 영업 시작 · 042-821-6704'],\n",
       " ['동물병원 · 예산읍 주교리 240-5', '041-332-5895']]"
      ]
     },
     "execution_count": 428,
     "metadata": {},
     "output_type": "execute_result"
    }
   ],
   "source": [
    "asdfa2"
   ]
  },
  {
   "cell_type": "code",
   "execution_count": 442,
   "id": "bcbbf33a",
   "metadata": {},
   "outputs": [
    {
     "data": {
      "text/plain": [
       "0             동물병원 · 임학동 67-7\n",
       "1         동물병원 · 계산동 942-24번지\n",
       "2           동물병원 · 작전동 864-39\n",
       "3           동물병원 · 계산2동 918-2\n",
       "4        동물병원 · 장제로340번길 5 3층\n",
       "                ...          \n",
       "284       동물 병원 · 예산읍 산성리 669\n",
       "285    협회 또는 조직 · 서초2동 1358-1\n",
       "286      동물병원 · 부여읍 구아리 141-5\n",
       "287           동물병원 · 궁동 220번지\n",
       "288      동물병원 · 예산읍 주교리 240-5\n",
       "Name: 0, Length: 289, dtype: object"
      ]
     },
     "execution_count": 442,
     "metadata": {},
     "output_type": "execute_result"
    }
   ],
   "source": [
    "pd.DataFrame(asdfa2)[0]"
   ]
  },
  {
   "cell_type": "code",
   "execution_count": 446,
   "id": "a25ee68b",
   "metadata": {},
   "outputs": [],
   "source": [
    "df_addr3 = pd.DataFrame(df_addr2)"
   ]
  },
  {
   "cell_type": "code",
   "execution_count": 448,
   "id": "906d61e6",
   "metadata": {},
   "outputs": [
    {
     "data": {
      "text/plain": [
       "0      곧 영업 종료: 오후 8:00 ⋅ 수 오전 10:00에 영업 시작 · 032-555...\n",
       "1      곧 영업 종료: 오후 8:00 ⋅ 수 오전 9:30에 영업 시작 · 032-555-...\n",
       "2      곧 영업 종료: 오후 8:00 ⋅ 수 오전 10:00에 영업 시작 · 032-546...\n",
       "3                                           032-553-4652\n",
       "4                  영업 중 ⋅ 오후 10:00에 영업 종료 · 032-508-7582\n",
       "                             ...                        \n",
       "284                                         041-335-1023\n",
       "285                                          02-522-4722\n",
       "286              영업 종료 ⋅ 수 오전 9:00에 영업 시작 · 041-832-2496\n",
       "287              영업 종료 ⋅ 수 오후 2:00에 영업 시작 · 042-821-6704\n",
       "288                                         041-332-5895\n",
       "Name: 1, Length: 289, dtype: object"
      ]
     },
     "execution_count": 448,
     "metadata": {},
     "output_type": "execute_result"
    }
   ],
   "source": [
    "pd.DataFrame(asdfa2)[1]"
   ]
  },
  {
   "cell_type": "code",
   "execution_count": 499,
   "id": "f3f147e1",
   "metadata": {},
   "outputs": [],
   "source": [
    "df_openphone = pd.DataFrame(pd.DataFrame(asdfa2)[1])"
   ]
  },
  {
   "cell_type": "code",
   "execution_count": 500,
   "id": "e184db54",
   "metadata": {},
   "outputs": [
    {
     "data": {
      "text/html": [
       "<div>\n",
       "<style scoped>\n",
       "    .dataframe tbody tr th:only-of-type {\n",
       "        vertical-align: middle;\n",
       "    }\n",
       "\n",
       "    .dataframe tbody tr th {\n",
       "        vertical-align: top;\n",
       "    }\n",
       "\n",
       "    .dataframe thead th {\n",
       "        text-align: right;\n",
       "    }\n",
       "</style>\n",
       "<table border=\"1\" class=\"dataframe\">\n",
       "  <thead>\n",
       "    <tr style=\"text-align: right;\">\n",
       "      <th></th>\n",
       "      <th>1</th>\n",
       "    </tr>\n",
       "  </thead>\n",
       "  <tbody>\n",
       "    <tr>\n",
       "      <th>0</th>\n",
       "      <td>곧 영업 종료: 오후 8:00 ⋅ 수 오전 10:00에 영업 시작 · 032-555...</td>\n",
       "    </tr>\n",
       "    <tr>\n",
       "      <th>1</th>\n",
       "      <td>곧 영업 종료: 오후 8:00 ⋅ 수 오전 9:30에 영업 시작 · 032-555-...</td>\n",
       "    </tr>\n",
       "    <tr>\n",
       "      <th>2</th>\n",
       "      <td>곧 영업 종료: 오후 8:00 ⋅ 수 오전 10:00에 영업 시작 · 032-546...</td>\n",
       "    </tr>\n",
       "    <tr>\n",
       "      <th>3</th>\n",
       "      <td>032-553-4652</td>\n",
       "    </tr>\n",
       "    <tr>\n",
       "      <th>4</th>\n",
       "      <td>영업 중 ⋅ 오후 10:00에 영업 종료 · 032-508-7582</td>\n",
       "    </tr>\n",
       "    <tr>\n",
       "      <th>...</th>\n",
       "      <td>...</td>\n",
       "    </tr>\n",
       "    <tr>\n",
       "      <th>284</th>\n",
       "      <td>041-335-1023</td>\n",
       "    </tr>\n",
       "    <tr>\n",
       "      <th>285</th>\n",
       "      <td>02-522-4722</td>\n",
       "    </tr>\n",
       "    <tr>\n",
       "      <th>286</th>\n",
       "      <td>영업 종료 ⋅ 수 오전 9:00에 영업 시작 · 041-832-2496</td>\n",
       "    </tr>\n",
       "    <tr>\n",
       "      <th>287</th>\n",
       "      <td>영업 종료 ⋅ 수 오후 2:00에 영업 시작 · 042-821-6704</td>\n",
       "    </tr>\n",
       "    <tr>\n",
       "      <th>288</th>\n",
       "      <td>041-332-5895</td>\n",
       "    </tr>\n",
       "  </tbody>\n",
       "</table>\n",
       "<p>289 rows × 1 columns</p>\n",
       "</div>"
      ],
      "text/plain": [
       "                                                     1\n",
       "0    곧 영업 종료: 오후 8:00 ⋅ 수 오전 10:00에 영업 시작 · 032-555...\n",
       "1    곧 영업 종료: 오후 8:00 ⋅ 수 오전 9:30에 영업 시작 · 032-555-...\n",
       "2    곧 영업 종료: 오후 8:00 ⋅ 수 오전 10:00에 영업 시작 · 032-546...\n",
       "3                                         032-553-4652\n",
       "4                영업 중 ⋅ 오후 10:00에 영업 종료 · 032-508-7582\n",
       "..                                                 ...\n",
       "284                                       041-335-1023\n",
       "285                                        02-522-4722\n",
       "286            영업 종료 ⋅ 수 오전 9:00에 영업 시작 · 041-832-2496\n",
       "287            영업 종료 ⋅ 수 오후 2:00에 영업 시작 · 042-821-6704\n",
       "288                                       041-332-5895\n",
       "\n",
       "[289 rows x 1 columns]"
      ]
     },
     "execution_count": 500,
     "metadata": {},
     "output_type": "execute_result"
    }
   ],
   "source": [
    "df_openphone"
   ]
  },
  {
   "cell_type": "code",
   "execution_count": 406,
   "id": "d15d7170",
   "metadata": {},
   "outputs": [],
   "source": [
    "import pandas as pd"
   ]
  },
  {
   "cell_type": "code",
   "execution_count": 408,
   "id": "e2d06322",
   "metadata": {},
   "outputs": [],
   "source": [
    "df_name = pd.DataFrame(lname)"
   ]
  },
  {
   "cell_type": "code",
   "execution_count": 409,
   "id": "81c78c43",
   "metadata": {},
   "outputs": [],
   "source": [
    "df_star = pd.DataFrame(lstar)"
   ]
  },
  {
   "cell_type": "code",
   "execution_count": 410,
   "id": "e5125edb",
   "metadata": {},
   "outputs": [],
   "source": [
    "df_addr = pd.DataFrame(laddr)"
   ]
  },
  {
   "cell_type": "code",
   "execution_count": 414,
   "id": "b9d394ca",
   "metadata": {},
   "outputs": [],
   "source": [
    "df_name.columns = [\"병원이름\"]"
   ]
  },
  {
   "cell_type": "code",
   "execution_count": 416,
   "id": "4e085918",
   "metadata": {},
   "outputs": [],
   "source": [
    "df_star.columns = [\"리뷰\"]"
   ]
  },
  {
   "cell_type": "code",
   "execution_count": 417,
   "id": "8bfc0a3d",
   "metadata": {},
   "outputs": [],
   "source": [
    "df_addr.columns = [\"주소\"]"
   ]
  },
  {
   "cell_type": "code",
   "execution_count": 419,
   "id": "c8088c26",
   "metadata": {},
   "outputs": [
    {
     "data": {
      "text/html": [
       "<div>\n",
       "<style scoped>\n",
       "    .dataframe tbody tr th:only-of-type {\n",
       "        vertical-align: middle;\n",
       "    }\n",
       "\n",
       "    .dataframe tbody tr th {\n",
       "        vertical-align: top;\n",
       "    }\n",
       "\n",
       "    .dataframe thead th {\n",
       "        text-align: right;\n",
       "    }\n",
       "</style>\n",
       "<table border=\"1\" class=\"dataframe\">\n",
       "  <thead>\n",
       "    <tr style=\"text-align: right;\">\n",
       "      <th></th>\n",
       "      <th>병원이름</th>\n",
       "    </tr>\n",
       "  </thead>\n",
       "  <tbody>\n",
       "    <tr>\n",
       "      <th>0</th>\n",
       "      <td>아마존동물병원</td>\n",
       "    </tr>\n",
       "    <tr>\n",
       "      <th>1</th>\n",
       "      <td>계양동물메디컬센터</td>\n",
       "    </tr>\n",
       "    <tr>\n",
       "      <th>2</th>\n",
       "      <td>해림동물병원</td>\n",
       "    </tr>\n",
       "    <tr>\n",
       "      <th>3</th>\n",
       "      <td>한솔동물병원</td>\n",
       "    </tr>\n",
       "    <tr>\n",
       "      <th>4</th>\n",
       "      <td>아프리카 동물의료센터 [구 아프리카동물병원]</td>\n",
       "    </tr>\n",
       "  </tbody>\n",
       "</table>\n",
       "</div>"
      ],
      "text/plain": [
       "                       병원이름\n",
       "0                   아마존동물병원\n",
       "1                 계양동물메디컬센터\n",
       "2                    해림동물병원\n",
       "3                    한솔동물병원\n",
       "4  아프리카 동물의료센터 [구 아프리카동물병원]"
      ]
     },
     "execution_count": 419,
     "metadata": {},
     "output_type": "execute_result"
    }
   ],
   "source": [
    "df_name.head(5)"
   ]
  },
  {
   "cell_type": "code",
   "execution_count": 421,
   "id": "48b18e77",
   "metadata": {},
   "outputs": [
    {
     "data": {
      "text/html": [
       "<div>\n",
       "<style scoped>\n",
       "    .dataframe tbody tr th:only-of-type {\n",
       "        vertical-align: middle;\n",
       "    }\n",
       "\n",
       "    .dataframe tbody tr th {\n",
       "        vertical-align: top;\n",
       "    }\n",
       "\n",
       "    .dataframe thead th {\n",
       "        text-align: right;\n",
       "    }\n",
       "</style>\n",
       "<table border=\"1\" class=\"dataframe\">\n",
       "  <thead>\n",
       "    <tr style=\"text-align: right;\">\n",
       "      <th></th>\n",
       "      <th>리뷰</th>\n",
       "    </tr>\n",
       "  </thead>\n",
       "  <tbody>\n",
       "    <tr>\n",
       "      <th>0</th>\n",
       "      <td>4.6(25)</td>\n",
       "    </tr>\n",
       "    <tr>\n",
       "      <th>1</th>\n",
       "      <td>4.3(50)</td>\n",
       "    </tr>\n",
       "    <tr>\n",
       "      <th>2</th>\n",
       "      <td>4.8(100)</td>\n",
       "    </tr>\n",
       "    <tr>\n",
       "      <th>3</th>\n",
       "      <td>4.3(13)</td>\n",
       "    </tr>\n",
       "    <tr>\n",
       "      <th>4</th>\n",
       "      <td>4.4(89)</td>\n",
       "    </tr>\n",
       "  </tbody>\n",
       "</table>\n",
       "</div>"
      ],
      "text/plain": [
       "         리뷰\n",
       "0   4.6(25)\n",
       "1   4.3(50)\n",
       "2  4.8(100)\n",
       "3   4.3(13)\n",
       "4   4.4(89)"
      ]
     },
     "execution_count": 421,
     "metadata": {},
     "output_type": "execute_result"
    }
   ],
   "source": [
    "df_star.head(5)"
   ]
  },
  {
   "cell_type": "code",
   "execution_count": 420,
   "id": "336ebfdd",
   "metadata": {},
   "outputs": [
    {
     "data": {
      "text/html": [
       "<div>\n",
       "<style scoped>\n",
       "    .dataframe tbody tr th:only-of-type {\n",
       "        vertical-align: middle;\n",
       "    }\n",
       "\n",
       "    .dataframe tbody tr th {\n",
       "        vertical-align: top;\n",
       "    }\n",
       "\n",
       "    .dataframe thead th {\n",
       "        text-align: right;\n",
       "    }\n",
       "</style>\n",
       "<table border=\"1\" class=\"dataframe\">\n",
       "  <thead>\n",
       "    <tr style=\"text-align: right;\">\n",
       "      <th></th>\n",
       "      <th>주소</th>\n",
       "    </tr>\n",
       "  </thead>\n",
       "  <tbody>\n",
       "    <tr>\n",
       "      <th>0</th>\n",
       "      <td>동물병원 · 임학동 67-7\\n곧 영업 종료: 오후 8:00 ⋅ 수 오전 10:00...</td>\n",
       "    </tr>\n",
       "    <tr>\n",
       "      <th>1</th>\n",
       "      <td>동물병원 · 계산동 942-24번지\\n곧 영업 종료: 오후 8:00 ⋅ 수 오전 9...</td>\n",
       "    </tr>\n",
       "    <tr>\n",
       "      <th>2</th>\n",
       "      <td>동물병원 · 작전동 864-39\\n곧 영업 종료: 오후 8:00 ⋅ 수 오전 10:...</td>\n",
       "    </tr>\n",
       "    <tr>\n",
       "      <th>3</th>\n",
       "      <td>동물병원 · 계산2동 918-2\\n032-553-4652</td>\n",
       "    </tr>\n",
       "    <tr>\n",
       "      <th>4</th>\n",
       "      <td>동물병원 · 장제로340번길 5 3층\\n영업 중 ⋅ 오후 10:00에 영업 종료 ·...</td>\n",
       "    </tr>\n",
       "  </tbody>\n",
       "</table>\n",
       "</div>"
      ],
      "text/plain": [
       "                                                  주소\n",
       "0  동물병원 · 임학동 67-7\\n곧 영업 종료: 오후 8:00 ⋅ 수 오전 10:00...\n",
       "1  동물병원 · 계산동 942-24번지\\n곧 영업 종료: 오후 8:00 ⋅ 수 오전 9...\n",
       "2  동물병원 · 작전동 864-39\\n곧 영업 종료: 오후 8:00 ⋅ 수 오전 10:...\n",
       "3                    동물병원 · 계산2동 918-2\\n032-553-4652\n",
       "4  동물병원 · 장제로340번길 5 3층\\n영업 중 ⋅ 오후 10:00에 영업 종료 ·..."
      ]
     },
     "execution_count": 420,
     "metadata": {},
     "output_type": "execute_result"
    }
   ],
   "source": [
    "df_addr.head(5)"
   ]
  },
  {
   "cell_type": "code",
   "execution_count": 436,
   "id": "668e4885",
   "metadata": {},
   "outputs": [
    {
     "data": {
      "text/plain": [
       "0         동물병원 · 임학동 67-7\n",
       "1     동물병원 · 계산동 942-24번지\n",
       "2       동물병원 · 작전동 864-39\n",
       "3       동물병원 · 계산2동 918-2\n",
       "4    동물병원 · 장제로340번길 5 3층\n",
       "Name: 0, dtype: object"
      ]
     },
     "execution_count": 436,
     "metadata": {},
     "output_type": "execute_result"
    }
   ],
   "source": [
    "df_addr2.head(5)"
   ]
  },
  {
   "cell_type": "code",
   "execution_count": 447,
   "id": "2e9de13c",
   "metadata": {},
   "outputs": [
    {
     "data": {
      "text/html": [
       "<div>\n",
       "<style scoped>\n",
       "    .dataframe tbody tr th:only-of-type {\n",
       "        vertical-align: middle;\n",
       "    }\n",
       "\n",
       "    .dataframe tbody tr th {\n",
       "        vertical-align: top;\n",
       "    }\n",
       "\n",
       "    .dataframe thead th {\n",
       "        text-align: right;\n",
       "    }\n",
       "</style>\n",
       "<table border=\"1\" class=\"dataframe\">\n",
       "  <thead>\n",
       "    <tr style=\"text-align: right;\">\n",
       "      <th></th>\n",
       "      <th>0</th>\n",
       "    </tr>\n",
       "  </thead>\n",
       "  <tbody>\n",
       "    <tr>\n",
       "      <th>0</th>\n",
       "      <td>동물병원 · 임학동 67-7</td>\n",
       "    </tr>\n",
       "    <tr>\n",
       "      <th>1</th>\n",
       "      <td>동물병원 · 계산동 942-24번지</td>\n",
       "    </tr>\n",
       "    <tr>\n",
       "      <th>2</th>\n",
       "      <td>동물병원 · 작전동 864-39</td>\n",
       "    </tr>\n",
       "    <tr>\n",
       "      <th>3</th>\n",
       "      <td>동물병원 · 계산2동 918-2</td>\n",
       "    </tr>\n",
       "    <tr>\n",
       "      <th>4</th>\n",
       "      <td>동물병원 · 장제로340번길 5 3층</td>\n",
       "    </tr>\n",
       "  </tbody>\n",
       "</table>\n",
       "</div>"
      ],
      "text/plain": [
       "                      0\n",
       "0       동물병원 · 임학동 67-7\n",
       "1   동물병원 · 계산동 942-24번지\n",
       "2     동물병원 · 작전동 864-39\n",
       "3     동물병원 · 계산2동 918-2\n",
       "4  동물병원 · 장제로340번길 5 3층"
      ]
     },
     "execution_count": 447,
     "metadata": {},
     "output_type": "execute_result"
    }
   ],
   "source": [
    "df_addr3.head(5)"
   ]
  },
  {
   "cell_type": "code",
   "execution_count": 518,
   "id": "6b19b9f9",
   "metadata": {},
   "outputs": [],
   "source": [
    "df_openphone.columns = [\"오픈마감시간, 전화번호\"]"
   ]
  },
  {
   "cell_type": "code",
   "execution_count": 519,
   "id": "148e1545",
   "metadata": {},
   "outputs": [
    {
     "data": {
      "text/html": [
       "<div>\n",
       "<style scoped>\n",
       "    .dataframe tbody tr th:only-of-type {\n",
       "        vertical-align: middle;\n",
       "    }\n",
       "\n",
       "    .dataframe tbody tr th {\n",
       "        vertical-align: top;\n",
       "    }\n",
       "\n",
       "    .dataframe thead th {\n",
       "        text-align: right;\n",
       "    }\n",
       "</style>\n",
       "<table border=\"1\" class=\"dataframe\">\n",
       "  <thead>\n",
       "    <tr style=\"text-align: right;\">\n",
       "      <th></th>\n",
       "      <th>오픈마감시간, 전화번호</th>\n",
       "    </tr>\n",
       "  </thead>\n",
       "  <tbody>\n",
       "    <tr>\n",
       "      <th>0</th>\n",
       "      <td>곧 영업 종료: 오후 8:00 ⋅ 수 오전 10:00에 영업 시작 · 032-555...</td>\n",
       "    </tr>\n",
       "    <tr>\n",
       "      <th>1</th>\n",
       "      <td>곧 영업 종료: 오후 8:00 ⋅ 수 오전 9:30에 영업 시작 · 032-555-...</td>\n",
       "    </tr>\n",
       "    <tr>\n",
       "      <th>2</th>\n",
       "      <td>곧 영업 종료: 오후 8:00 ⋅ 수 오전 10:00에 영업 시작 · 032-546...</td>\n",
       "    </tr>\n",
       "    <tr>\n",
       "      <th>3</th>\n",
       "      <td>032-553-4652</td>\n",
       "    </tr>\n",
       "    <tr>\n",
       "      <th>4</th>\n",
       "      <td>영업 중 ⋅ 오후 10:00에 영업 종료 · 032-508-7582</td>\n",
       "    </tr>\n",
       "    <tr>\n",
       "      <th>...</th>\n",
       "      <td>...</td>\n",
       "    </tr>\n",
       "    <tr>\n",
       "      <th>284</th>\n",
       "      <td>041-335-1023</td>\n",
       "    </tr>\n",
       "    <tr>\n",
       "      <th>285</th>\n",
       "      <td>02-522-4722</td>\n",
       "    </tr>\n",
       "    <tr>\n",
       "      <th>286</th>\n",
       "      <td>영업 종료 ⋅ 수 오전 9:00에 영업 시작 · 041-832-2496</td>\n",
       "    </tr>\n",
       "    <tr>\n",
       "      <th>287</th>\n",
       "      <td>영업 종료 ⋅ 수 오후 2:00에 영업 시작 · 042-821-6704</td>\n",
       "    </tr>\n",
       "    <tr>\n",
       "      <th>288</th>\n",
       "      <td>041-332-5895</td>\n",
       "    </tr>\n",
       "  </tbody>\n",
       "</table>\n",
       "<p>289 rows × 1 columns</p>\n",
       "</div>"
      ],
      "text/plain": [
       "                                          오픈마감시간, 전화번호\n",
       "0    곧 영업 종료: 오후 8:00 ⋅ 수 오전 10:00에 영업 시작 · 032-555...\n",
       "1    곧 영업 종료: 오후 8:00 ⋅ 수 오전 9:30에 영업 시작 · 032-555-...\n",
       "2    곧 영업 종료: 오후 8:00 ⋅ 수 오전 10:00에 영업 시작 · 032-546...\n",
       "3                                         032-553-4652\n",
       "4                영업 중 ⋅ 오후 10:00에 영업 종료 · 032-508-7582\n",
       "..                                                 ...\n",
       "284                                       041-335-1023\n",
       "285                                        02-522-4722\n",
       "286            영업 종료 ⋅ 수 오전 9:00에 영업 시작 · 041-832-2496\n",
       "287            영업 종료 ⋅ 수 오후 2:00에 영업 시작 · 042-821-6704\n",
       "288                                       041-332-5895\n",
       "\n",
       "[289 rows x 1 columns]"
      ]
     },
     "execution_count": 519,
     "metadata": {},
     "output_type": "execute_result"
    }
   ],
   "source": [
    "df_openphone"
   ]
  },
  {
   "cell_type": "code",
   "execution_count": 534,
   "id": "65b7b2bd",
   "metadata": {},
   "outputs": [
    {
     "data": {
      "text/plain": [
       "0"
      ]
     },
     "execution_count": 534,
     "metadata": {},
     "output_type": "execute_result"
    }
   ],
   "source": [
    "df_openphone[\"오픈마감시간, 전화번호\"].isnull().sum()"
   ]
  },
  {
   "cell_type": "code",
   "execution_count": 530,
   "id": "9ab51d1d",
   "metadata": {},
   "outputs": [
    {
     "data": {
      "text/plain": [
       "14"
      ]
     },
     "execution_count": 530,
     "metadata": {},
     "output_type": "execute_result"
    }
   ],
   "source": [
    "len(df_openphone.loc[df_openphone[\"오픈마감시간, 전화번호\"].isnull()])"
   ]
  },
  {
   "cell_type": "code",
   "execution_count": 533,
   "id": "4a9df281",
   "metadata": {},
   "outputs": [],
   "source": [
    "df_openphone.loc[df_openphone[\"오픈마감시간, 전화번호\"].isnull()] = 0"
   ]
  },
  {
   "cell_type": "code",
   "execution_count": 544,
   "id": "aa18ad5a",
   "metadata": {},
   "outputs": [],
   "source": [
    "df_openphone.loc[df_openphone[\"오픈마감시간, 전화번호\"] == 0] = \" \""
   ]
  },
  {
   "cell_type": "code",
   "execution_count": 546,
   "id": "69efb882",
   "metadata": {},
   "outputs": [],
   "source": [
    "df_openphone.loc[df_openphone[\"오픈마감시간, 전화번호\"] == \" \"] = \"정보가 없습니다.\""
   ]
  },
  {
   "cell_type": "code",
   "execution_count": 547,
   "id": "fba28ed0",
   "metadata": {},
   "outputs": [
    {
     "data": {
      "text/html": [
       "<div>\n",
       "<style scoped>\n",
       "    .dataframe tbody tr th:only-of-type {\n",
       "        vertical-align: middle;\n",
       "    }\n",
       "\n",
       "    .dataframe tbody tr th {\n",
       "        vertical-align: top;\n",
       "    }\n",
       "\n",
       "    .dataframe thead th {\n",
       "        text-align: right;\n",
       "    }\n",
       "</style>\n",
       "<table border=\"1\" class=\"dataframe\">\n",
       "  <thead>\n",
       "    <tr style=\"text-align: right;\">\n",
       "      <th></th>\n",
       "      <th>오픈마감시간, 전화번호</th>\n",
       "    </tr>\n",
       "  </thead>\n",
       "  <tbody>\n",
       "    <tr>\n",
       "      <th>11</th>\n",
       "      <td>정보가 없습니다.</td>\n",
       "    </tr>\n",
       "    <tr>\n",
       "      <th>12</th>\n",
       "      <td>정보가 없습니다.</td>\n",
       "    </tr>\n",
       "    <tr>\n",
       "      <th>37</th>\n",
       "      <td>정보가 없습니다.</td>\n",
       "    </tr>\n",
       "    <tr>\n",
       "      <th>39</th>\n",
       "      <td>정보가 없습니다.</td>\n",
       "    </tr>\n",
       "    <tr>\n",
       "      <th>49</th>\n",
       "      <td>정보가 없습니다.</td>\n",
       "    </tr>\n",
       "    <tr>\n",
       "      <th>71</th>\n",
       "      <td>정보가 없습니다.</td>\n",
       "    </tr>\n",
       "    <tr>\n",
       "      <th>79</th>\n",
       "      <td>정보가 없습니다.</td>\n",
       "    </tr>\n",
       "    <tr>\n",
       "      <th>89</th>\n",
       "      <td>정보가 없습니다.</td>\n",
       "    </tr>\n",
       "    <tr>\n",
       "      <th>184</th>\n",
       "      <td>정보가 없습니다.</td>\n",
       "    </tr>\n",
       "    <tr>\n",
       "      <th>202</th>\n",
       "      <td>정보가 없습니다.</td>\n",
       "    </tr>\n",
       "    <tr>\n",
       "      <th>230</th>\n",
       "      <td>정보가 없습니다.</td>\n",
       "    </tr>\n",
       "    <tr>\n",
       "      <th>236</th>\n",
       "      <td>정보가 없습니다.</td>\n",
       "    </tr>\n",
       "    <tr>\n",
       "      <th>255</th>\n",
       "      <td>정보가 없습니다.</td>\n",
       "    </tr>\n",
       "    <tr>\n",
       "      <th>278</th>\n",
       "      <td>정보가 없습니다.</td>\n",
       "    </tr>\n",
       "  </tbody>\n",
       "</table>\n",
       "</div>"
      ],
      "text/plain": [
       "    오픈마감시간, 전화번호\n",
       "11     정보가 없습니다.\n",
       "12     정보가 없습니다.\n",
       "37     정보가 없습니다.\n",
       "39     정보가 없습니다.\n",
       "49     정보가 없습니다.\n",
       "71     정보가 없습니다.\n",
       "79     정보가 없습니다.\n",
       "89     정보가 없습니다.\n",
       "184    정보가 없습니다.\n",
       "202    정보가 없습니다.\n",
       "230    정보가 없습니다.\n",
       "236    정보가 없습니다.\n",
       "255    정보가 없습니다.\n",
       "278    정보가 없습니다."
      ]
     },
     "execution_count": 547,
     "metadata": {},
     "output_type": "execute_result"
    }
   ],
   "source": [
    "df_openphone.loc[df_openphone[\"오픈마감시간, 전화번호\"] == \"정보가 없습니다.\"]"
   ]
  },
  {
   "cell_type": "markdown",
   "id": "4951f317",
   "metadata": {},
   "source": [
    "11,12,37,39,49,71,79,89,184,202,230,236,255,278"
   ]
  },
  {
   "cell_type": "code",
   "execution_count": 482,
   "id": "339fa29d",
   "metadata": {},
   "outputs": [
    {
     "ename": "ValueError",
     "evalue": "Cannot mask with non-boolean array containing NA / NaN values",
     "output_type": "error",
     "traceback": [
      "\u001b[1;31m---------------------------------------------------------------------------\u001b[0m",
      "\u001b[1;31mValueError\u001b[0m                                Traceback (most recent call last)",
      "\u001b[1;32m~\\AppData\\Local\\Temp/ipykernel_20284/3669580536.py\u001b[0m in \u001b[0;36m<module>\u001b[1;34m\u001b[0m\n\u001b[1;32m----> 1\u001b[1;33m \u001b[0mdf_openphone\u001b[0m\u001b[1;33m.\u001b[0m\u001b[0mloc\u001b[0m\u001b[1;33m[\u001b[0m\u001b[0mdf_openphone\u001b[0m\u001b[1;33m[\u001b[0m\u001b[1;34m\"오픈마감시간, 전화번호\"\u001b[0m\u001b[1;33m]\u001b[0m\u001b[1;33m.\u001b[0m\u001b[0mstr\u001b[0m\u001b[1;33m.\u001b[0m\u001b[0mcontains\u001b[0m\u001b[1;33m(\u001b[0m\u001b[1;34m'ext'\u001b[0m\u001b[1;33m)\u001b[0m\u001b[1;33m]\u001b[0m\u001b[1;33m\u001b[0m\u001b[1;33m\u001b[0m\u001b[0m\n\u001b[0m",
      "\u001b[1;32mD:\\anaconda\\lib\\site-packages\\pandas\\core\\indexing.py\u001b[0m in \u001b[0;36m__getitem__\u001b[1;34m(self, key)\u001b[0m\n\u001b[0;32m    929\u001b[0m \u001b[1;33m\u001b[0m\u001b[0m\n\u001b[0;32m    930\u001b[0m             \u001b[0mmaybe_callable\u001b[0m \u001b[1;33m=\u001b[0m \u001b[0mcom\u001b[0m\u001b[1;33m.\u001b[0m\u001b[0mapply_if_callable\u001b[0m\u001b[1;33m(\u001b[0m\u001b[0mkey\u001b[0m\u001b[1;33m,\u001b[0m \u001b[0mself\u001b[0m\u001b[1;33m.\u001b[0m\u001b[0mobj\u001b[0m\u001b[1;33m)\u001b[0m\u001b[1;33m\u001b[0m\u001b[1;33m\u001b[0m\u001b[0m\n\u001b[1;32m--> 931\u001b[1;33m             \u001b[1;32mreturn\u001b[0m \u001b[0mself\u001b[0m\u001b[1;33m.\u001b[0m\u001b[0m_getitem_axis\u001b[0m\u001b[1;33m(\u001b[0m\u001b[0mmaybe_callable\u001b[0m\u001b[1;33m,\u001b[0m \u001b[0maxis\u001b[0m\u001b[1;33m=\u001b[0m\u001b[0maxis\u001b[0m\u001b[1;33m)\u001b[0m\u001b[1;33m\u001b[0m\u001b[1;33m\u001b[0m\u001b[0m\n\u001b[0m\u001b[0;32m    932\u001b[0m \u001b[1;33m\u001b[0m\u001b[0m\n\u001b[0;32m    933\u001b[0m     \u001b[1;32mdef\u001b[0m \u001b[0m_is_scalar_access\u001b[0m\u001b[1;33m(\u001b[0m\u001b[0mself\u001b[0m\u001b[1;33m,\u001b[0m \u001b[0mkey\u001b[0m\u001b[1;33m:\u001b[0m \u001b[0mtuple\u001b[0m\u001b[1;33m)\u001b[0m\u001b[1;33m:\u001b[0m\u001b[1;33m\u001b[0m\u001b[1;33m\u001b[0m\u001b[0m\n",
      "\u001b[1;32mD:\\anaconda\\lib\\site-packages\\pandas\\core\\indexing.py\u001b[0m in \u001b[0;36m_getitem_axis\u001b[1;34m(self, key, axis)\u001b[0m\n\u001b[0;32m   1141\u001b[0m             \u001b[0mself\u001b[0m\u001b[1;33m.\u001b[0m\u001b[0m_validate_key\u001b[0m\u001b[1;33m(\u001b[0m\u001b[0mkey\u001b[0m\u001b[1;33m,\u001b[0m \u001b[0maxis\u001b[0m\u001b[1;33m)\u001b[0m\u001b[1;33m\u001b[0m\u001b[1;33m\u001b[0m\u001b[0m\n\u001b[0;32m   1142\u001b[0m             \u001b[1;32mreturn\u001b[0m \u001b[0mself\u001b[0m\u001b[1;33m.\u001b[0m\u001b[0m_get_slice_axis\u001b[0m\u001b[1;33m(\u001b[0m\u001b[0mkey\u001b[0m\u001b[1;33m,\u001b[0m \u001b[0maxis\u001b[0m\u001b[1;33m=\u001b[0m\u001b[0maxis\u001b[0m\u001b[1;33m)\u001b[0m\u001b[1;33m\u001b[0m\u001b[1;33m\u001b[0m\u001b[0m\n\u001b[1;32m-> 1143\u001b[1;33m         \u001b[1;32melif\u001b[0m \u001b[0mcom\u001b[0m\u001b[1;33m.\u001b[0m\u001b[0mis_bool_indexer\u001b[0m\u001b[1;33m(\u001b[0m\u001b[0mkey\u001b[0m\u001b[1;33m)\u001b[0m\u001b[1;33m:\u001b[0m\u001b[1;33m\u001b[0m\u001b[1;33m\u001b[0m\u001b[0m\n\u001b[0m\u001b[0;32m   1144\u001b[0m             \u001b[1;32mreturn\u001b[0m \u001b[0mself\u001b[0m\u001b[1;33m.\u001b[0m\u001b[0m_getbool_axis\u001b[0m\u001b[1;33m(\u001b[0m\u001b[0mkey\u001b[0m\u001b[1;33m,\u001b[0m \u001b[0maxis\u001b[0m\u001b[1;33m=\u001b[0m\u001b[0maxis\u001b[0m\u001b[1;33m)\u001b[0m\u001b[1;33m\u001b[0m\u001b[1;33m\u001b[0m\u001b[0m\n\u001b[0;32m   1145\u001b[0m         \u001b[1;32melif\u001b[0m \u001b[0mis_list_like_indexer\u001b[0m\u001b[1;33m(\u001b[0m\u001b[0mkey\u001b[0m\u001b[1;33m)\u001b[0m\u001b[1;33m:\u001b[0m\u001b[1;33m\u001b[0m\u001b[1;33m\u001b[0m\u001b[0m\n",
      "\u001b[1;32mD:\\anaconda\\lib\\site-packages\\pandas\\core\\common.py\u001b[0m in \u001b[0;36mis_bool_indexer\u001b[1;34m(key)\u001b[0m\n\u001b[0;32m    137\u001b[0m                     \u001b[1;31m# Don't raise on e.g. [\"A\", \"B\", np.nan], see\u001b[0m\u001b[1;33m\u001b[0m\u001b[1;33m\u001b[0m\u001b[0m\n\u001b[0;32m    138\u001b[0m                     \u001b[1;31m#  test_loc_getitem_list_of_labels_categoricalindex_with_na\u001b[0m\u001b[1;33m\u001b[0m\u001b[1;33m\u001b[0m\u001b[0m\n\u001b[1;32m--> 139\u001b[1;33m                     \u001b[1;32mraise\u001b[0m \u001b[0mValueError\u001b[0m\u001b[1;33m(\u001b[0m\u001b[0mna_msg\u001b[0m\u001b[1;33m)\u001b[0m\u001b[1;33m\u001b[0m\u001b[1;33m\u001b[0m\u001b[0m\n\u001b[0m\u001b[0;32m    140\u001b[0m                 \u001b[1;32mreturn\u001b[0m \u001b[1;32mFalse\u001b[0m\u001b[1;33m\u001b[0m\u001b[1;33m\u001b[0m\u001b[0m\n\u001b[0;32m    141\u001b[0m             \u001b[1;32mreturn\u001b[0m \u001b[1;32mTrue\u001b[0m\u001b[1;33m\u001b[0m\u001b[1;33m\u001b[0m\u001b[0m\n",
      "\u001b[1;31mValueError\u001b[0m: Cannot mask with non-boolean array containing NA / NaN values"
     ]
    }
   ],
   "source": [
    "df_openphone.loc[df_openphone[\"오픈마감시간, 전화번호\"].str.contains('ext')]"
   ]
  },
  {
   "cell_type": "code",
   "execution_count": 552,
   "id": "0d9f1711",
   "metadata": {},
   "outputs": [],
   "source": [
    "df_openphone_ext = df_openphone.loc[df_openphone[\"오픈마감시간, 전화번호\"].str.contains(\"ext\")]"
   ]
  },
  {
   "cell_type": "code",
   "execution_count": 564,
   "id": "794211ab",
   "metadata": {},
   "outputs": [
    {
     "data": {
      "text/plain": [
       "58"
      ]
     },
     "execution_count": 564,
     "metadata": {},
     "output_type": "execute_result"
    }
   ],
   "source": [
    "len(df_openphone_ext[\"오픈마감시간, 전화번호\"][0])"
   ]
  },
  {
   "cell_type": "code",
   "execution_count": 571,
   "id": "e5c29428",
   "metadata": {},
   "outputs": [
    {
     "name": "stderr",
     "output_type": "stream",
     "text": [
      "C:\\Users\\82103\\AppData\\Local\\Temp/ipykernel_20284/1080749331.py:1: SettingWithCopyWarning: \n",
      "A value is trying to be set on a copy of a slice from a DataFrame\n",
      "\n",
      "See the caveats in the documentation: https://pandas.pydata.org/pandas-docs/stable/user_guide/indexing.html#returning-a-view-versus-a-copy\n",
      "  df_openphone_ext[\"오픈마감시간, 전화번호\"][0] = df_openphone_ext[\"오픈마감시간, 전화번호\"][0][:51]\n"
     ]
    }
   ],
   "source": [
    "df_openphone_ext[\"오픈마감시간, 전화번호\"][0] = df_openphone_ext[\"오픈마감시간, 전화번호\"][0][:51]"
   ]
  },
  {
   "cell_type": "code",
   "execution_count": 582,
   "id": "2c9abfb2",
   "metadata": {},
   "outputs": [
    {
     "data": {
      "text/plain": [
       "49"
      ]
     },
     "execution_count": 582,
     "metadata": {},
     "output_type": "execute_result"
    }
   ],
   "source": [
    "len(df_openphone_ext[\"오픈마감시간, 전화번호\"][58])"
   ]
  },
  {
   "cell_type": "code",
   "execution_count": 589,
   "id": "e95e34a8",
   "metadata": {},
   "outputs": [
    {
     "name": "stderr",
     "output_type": "stream",
     "text": [
      "C:\\Users\\82103\\AppData\\Local\\Temp/ipykernel_20284/770376131.py:1: SettingWithCopyWarning: \n",
      "A value is trying to be set on a copy of a slice from a DataFrame\n",
      "\n",
      "See the caveats in the documentation: https://pandas.pydata.org/pandas-docs/stable/user_guide/indexing.html#returning-a-view-versus-a-copy\n",
      "  df_openphone_ext[\"오픈마감시간, 전화번호\"][58] = df_openphone_ext[\"오픈마감시간, 전화번호\"][58][:39]\n"
     ]
    }
   ],
   "source": [
    "df_openphone_ext[\"오픈마감시간, 전화번호\"][58] = df_openphone_ext[\"오픈마감시간, 전화번호\"][58][:39]"
   ]
  },
  {
   "cell_type": "code",
   "execution_count": 594,
   "id": "80897a6c",
   "metadata": {},
   "outputs": [],
   "source": [
    "df_openphone[\"오픈마감시간, 전화번호\"][0] = df_openphone_ext[\"오픈마감시간, 전화번호\"][0][:51]"
   ]
  },
  {
   "cell_type": "code",
   "execution_count": 595,
   "id": "33b3219d",
   "metadata": {},
   "outputs": [],
   "source": [
    "df_openphone[\"오픈마감시간, 전화번호\"][58] = df_openphone_ext[\"오픈마감시간, 전화번호\"][58][:39]"
   ]
  },
  {
   "cell_type": "code",
   "execution_count": 607,
   "id": "f5041492",
   "metadata": {},
   "outputs": [
    {
     "data": {
      "text/plain": [
       "'영업 종료 ⋅ 수 오전 9:30에 영업 시작 · 02-2645-1475'"
      ]
     },
     "execution_count": 607,
     "metadata": {},
     "output_type": "execute_result"
    }
   ],
   "source": [
    "df_openphone[\"오픈마감시간, 전화번호\"][58]"
   ]
  },
  {
   "cell_type": "code",
   "execution_count": 613,
   "id": "a092c15c",
   "metadata": {},
   "outputs": [
    {
     "data": {
      "text/plain": [
       "'032-555-7502'"
      ]
     },
     "execution_count": 613,
     "metadata": {},
     "output_type": "execute_result"
    }
   ],
   "source": [
    "df_openphone[\"오픈마감시간, 전화번호\"][0][-12:]"
   ]
  },
  {
   "cell_type": "code",
   "execution_count": 611,
   "id": "5ba88022",
   "metadata": {
    "scrolled": true
   },
   "outputs": [
    {
     "data": {
      "text/plain": [
       "'02-2645-1475'"
      ]
     },
     "execution_count": 611,
     "metadata": {},
     "output_type": "execute_result"
    }
   ],
   "source": [
    "df_openphone[\"오픈마감시간, 전화번호\"][58][-12:]"
   ]
  },
  {
   "cell_type": "code",
   "execution_count": 615,
   "id": "c048fce2",
   "metadata": {},
   "outputs": [
    {
     "data": {
      "text/plain": [
       "' 02-450-3664'"
      ]
     },
     "execution_count": 615,
     "metadata": {},
     "output_type": "execute_result"
    }
   ],
   "source": [
    "df_openphone[\"오픈마감시간, 전화번호\"][277][-12:]"
   ]
  },
  {
   "cell_type": "code",
   "execution_count": null,
   "id": "ba6e12af",
   "metadata": {},
   "outputs": [],
   "source": [
    "df_openphone[\"오픈마감시간, 전화번호\"]"
   ]
  },
  {
   "cell_type": "code",
   "execution_count": 618,
   "id": "24fa3c82",
   "metadata": {},
   "outputs": [
    {
     "data": {
      "text/html": [
       "<div>\n",
       "<style scoped>\n",
       "    .dataframe tbody tr th:only-of-type {\n",
       "        vertical-align: middle;\n",
       "    }\n",
       "\n",
       "    .dataframe tbody tr th {\n",
       "        vertical-align: top;\n",
       "    }\n",
       "\n",
       "    .dataframe thead th {\n",
       "        text-align: right;\n",
       "    }\n",
       "</style>\n",
       "<table border=\"1\" class=\"dataframe\">\n",
       "  <thead>\n",
       "    <tr style=\"text-align: right;\">\n",
       "      <th></th>\n",
       "      <th>오픈마감시간, 전화번호</th>\n",
       "    </tr>\n",
       "  </thead>\n",
       "  <tbody>\n",
       "    <tr>\n",
       "      <th>0</th>\n",
       "      <td>곧 영업 종료: 오후 8:00 ⋅ 수 오전 10:00에 영업 시작 · 032-555...</td>\n",
       "    </tr>\n",
       "    <tr>\n",
       "      <th>1</th>\n",
       "      <td>곧 영업 종료: 오후 8:00 ⋅ 수 오전 9:30에 영업 시작 · 032-555-...</td>\n",
       "    </tr>\n",
       "    <tr>\n",
       "      <th>2</th>\n",
       "      <td>곧 영업 종료: 오후 8:00 ⋅ 수 오전 10:00에 영업 시작 · 032-546...</td>\n",
       "    </tr>\n",
       "    <tr>\n",
       "      <th>3</th>\n",
       "      <td>032-553-4652</td>\n",
       "    </tr>\n",
       "    <tr>\n",
       "      <th>4</th>\n",
       "      <td>영업 중 ⋅ 오후 10:00에 영업 종료 · 032-508-7582</td>\n",
       "    </tr>\n",
       "    <tr>\n",
       "      <th>...</th>\n",
       "      <td>...</td>\n",
       "    </tr>\n",
       "    <tr>\n",
       "      <th>284</th>\n",
       "      <td>041-335-1023</td>\n",
       "    </tr>\n",
       "    <tr>\n",
       "      <th>285</th>\n",
       "      <td>02-522-4722</td>\n",
       "    </tr>\n",
       "    <tr>\n",
       "      <th>286</th>\n",
       "      <td>영업 종료 ⋅ 수 오전 9:00에 영업 시작 · 041-832-2496</td>\n",
       "    </tr>\n",
       "    <tr>\n",
       "      <th>287</th>\n",
       "      <td>영업 종료 ⋅ 수 오후 2:00에 영업 시작 · 042-821-6704</td>\n",
       "    </tr>\n",
       "    <tr>\n",
       "      <th>288</th>\n",
       "      <td>041-332-5895</td>\n",
       "    </tr>\n",
       "  </tbody>\n",
       "</table>\n",
       "<p>289 rows × 1 columns</p>\n",
       "</div>"
      ],
      "text/plain": [
       "                                          오픈마감시간, 전화번호\n",
       "0    곧 영업 종료: 오후 8:00 ⋅ 수 오전 10:00에 영업 시작 · 032-555...\n",
       "1    곧 영업 종료: 오후 8:00 ⋅ 수 오전 9:30에 영업 시작 · 032-555-...\n",
       "2    곧 영업 종료: 오후 8:00 ⋅ 수 오전 10:00에 영업 시작 · 032-546...\n",
       "3                                         032-553-4652\n",
       "4                영업 중 ⋅ 오후 10:00에 영업 종료 · 032-508-7582\n",
       "..                                                 ...\n",
       "284                                       041-335-1023\n",
       "285                                        02-522-4722\n",
       "286            영업 종료 ⋅ 수 오전 9:00에 영업 시작 · 041-832-2496\n",
       "287            영업 종료 ⋅ 수 오후 2:00에 영업 시작 · 042-821-6704\n",
       "288                                       041-332-5895\n",
       "\n",
       "[289 rows x 1 columns]"
      ]
     },
     "execution_count": 618,
     "metadata": {},
     "output_type": "execute_result"
    }
   ],
   "source": [
    "df_openphone.loc[df_openphone[\"오픈마감시간, 전화번호\"].str.contains(\"\")]"
   ]
  },
  {
   "cell_type": "code",
   "execution_count": 622,
   "id": "413877c7",
   "metadata": {},
   "outputs": [],
   "source": [
    "df_animalhospital = pd.concat([df_name, df_star, df_addr3, df_openphone], axis=1)"
   ]
  },
  {
   "cell_type": "code",
   "execution_count": 623,
   "id": "d86916be",
   "metadata": {},
   "outputs": [
    {
     "data": {
      "text/html": [
       "<div>\n",
       "<style scoped>\n",
       "    .dataframe tbody tr th:only-of-type {\n",
       "        vertical-align: middle;\n",
       "    }\n",
       "\n",
       "    .dataframe tbody tr th {\n",
       "        vertical-align: top;\n",
       "    }\n",
       "\n",
       "    .dataframe thead th {\n",
       "        text-align: right;\n",
       "    }\n",
       "</style>\n",
       "<table border=\"1\" class=\"dataframe\">\n",
       "  <thead>\n",
       "    <tr style=\"text-align: right;\">\n",
       "      <th></th>\n",
       "      <th>병원이름</th>\n",
       "      <th>리뷰</th>\n",
       "      <th>0</th>\n",
       "      <th>오픈마감시간, 전화번호</th>\n",
       "    </tr>\n",
       "  </thead>\n",
       "  <tbody>\n",
       "    <tr>\n",
       "      <th>0</th>\n",
       "      <td>아마존동물병원</td>\n",
       "      <td>4.6(25)</td>\n",
       "      <td>동물병원 · 임학동 67-7</td>\n",
       "      <td>곧 영업 종료: 오후 8:00 ⋅ 수 오전 10:00에 영업 시작 · 032-555...</td>\n",
       "    </tr>\n",
       "    <tr>\n",
       "      <th>1</th>\n",
       "      <td>계양동물메디컬센터</td>\n",
       "      <td>4.3(50)</td>\n",
       "      <td>동물병원 · 계산동 942-24번지</td>\n",
       "      <td>곧 영업 종료: 오후 8:00 ⋅ 수 오전 9:30에 영업 시작 · 032-555-...</td>\n",
       "    </tr>\n",
       "    <tr>\n",
       "      <th>2</th>\n",
       "      <td>해림동물병원</td>\n",
       "      <td>4.8(100)</td>\n",
       "      <td>동물병원 · 작전동 864-39</td>\n",
       "      <td>곧 영업 종료: 오후 8:00 ⋅ 수 오전 10:00에 영업 시작 · 032-546...</td>\n",
       "    </tr>\n",
       "    <tr>\n",
       "      <th>3</th>\n",
       "      <td>한솔동물병원</td>\n",
       "      <td>4.3(13)</td>\n",
       "      <td>동물병원 · 계산2동 918-2</td>\n",
       "      <td>032-553-4652</td>\n",
       "    </tr>\n",
       "    <tr>\n",
       "      <th>4</th>\n",
       "      <td>아프리카 동물의료센터 [구 아프리카동물병원]</td>\n",
       "      <td>4.4(89)</td>\n",
       "      <td>동물병원 · 장제로340번길 5 3층</td>\n",
       "      <td>영업 중 ⋅ 오후 10:00에 영업 종료 · 032-508-7582</td>\n",
       "    </tr>\n",
       "    <tr>\n",
       "      <th>...</th>\n",
       "      <td>...</td>\n",
       "      <td>...</td>\n",
       "      <td>...</td>\n",
       "      <td>...</td>\n",
       "    </tr>\n",
       "    <tr>\n",
       "      <th>284</th>\n",
       "      <td>KU건국동물병원</td>\n",
       "      <td>4.4(8)</td>\n",
       "      <td>동물 병원 · 예산읍 산성리 669</td>\n",
       "      <td>041-335-1023</td>\n",
       "    </tr>\n",
       "    <tr>\n",
       "      <th>285</th>\n",
       "      <td>한국동물병원협회</td>\n",
       "      <td>리뷰 없음</td>\n",
       "      <td>협회 또는 조직 · 서초2동 1358-1</td>\n",
       "      <td>02-522-4722</td>\n",
       "    </tr>\n",
       "    <tr>\n",
       "      <th>286</th>\n",
       "      <td>녹십자동물병원</td>\n",
       "      <td>4.3(24)</td>\n",
       "      <td>동물병원 · 부여읍 구아리 141-5</td>\n",
       "      <td>영업 종료 ⋅ 수 오전 9:00에 영업 시작 · 041-832-2496</td>\n",
       "    </tr>\n",
       "    <tr>\n",
       "      <th>287</th>\n",
       "      <td>충남대학교 동물병원</td>\n",
       "      <td>4.5(14)</td>\n",
       "      <td>동물병원 · 궁동 220번지</td>\n",
       "      <td>영업 종료 ⋅ 수 오후 2:00에 영업 시작 · 042-821-6704</td>\n",
       "    </tr>\n",
       "    <tr>\n",
       "      <th>288</th>\n",
       "      <td>예산동물병원</td>\n",
       "      <td>4.3(3)</td>\n",
       "      <td>동물병원 · 예산읍 주교리 240-5</td>\n",
       "      <td>041-332-5895</td>\n",
       "    </tr>\n",
       "  </tbody>\n",
       "</table>\n",
       "<p>289 rows × 4 columns</p>\n",
       "</div>"
      ],
      "text/plain": [
       "                         병원이름        리뷰                       0  \\\n",
       "0                     아마존동물병원   4.6(25)         동물병원 · 임학동 67-7   \n",
       "1                   계양동물메디컬센터   4.3(50)     동물병원 · 계산동 942-24번지   \n",
       "2                      해림동물병원  4.8(100)       동물병원 · 작전동 864-39   \n",
       "3                      한솔동물병원   4.3(13)       동물병원 · 계산2동 918-2   \n",
       "4    아프리카 동물의료센터 [구 아프리카동물병원]   4.4(89)    동물병원 · 장제로340번길 5 3층   \n",
       "..                        ...       ...                     ...   \n",
       "284                  KU건국동물병원    4.4(8)     동물 병원 · 예산읍 산성리 669   \n",
       "285                  한국동물병원협회     리뷰 없음  협회 또는 조직 · 서초2동 1358-1   \n",
       "286                   녹십자동물병원   4.3(24)    동물병원 · 부여읍 구아리 141-5   \n",
       "287                충남대학교 동물병원   4.5(14)         동물병원 · 궁동 220번지   \n",
       "288                    예산동물병원    4.3(3)    동물병원 · 예산읍 주교리 240-5   \n",
       "\n",
       "                                          오픈마감시간, 전화번호  \n",
       "0    곧 영업 종료: 오후 8:00 ⋅ 수 오전 10:00에 영업 시작 · 032-555...  \n",
       "1    곧 영업 종료: 오후 8:00 ⋅ 수 오전 9:30에 영업 시작 · 032-555-...  \n",
       "2    곧 영업 종료: 오후 8:00 ⋅ 수 오전 10:00에 영업 시작 · 032-546...  \n",
       "3                                         032-553-4652  \n",
       "4                영업 중 ⋅ 오후 10:00에 영업 종료 · 032-508-7582  \n",
       "..                                                 ...  \n",
       "284                                       041-335-1023  \n",
       "285                                        02-522-4722  \n",
       "286            영업 종료 ⋅ 수 오전 9:00에 영업 시작 · 041-832-2496  \n",
       "287            영업 종료 ⋅ 수 오후 2:00에 영업 시작 · 042-821-6704  \n",
       "288                                       041-332-5895  \n",
       "\n",
       "[289 rows x 4 columns]"
      ]
     },
     "execution_count": 623,
     "metadata": {},
     "output_type": "execute_result"
    }
   ],
   "source": [
    "df_animalhospital"
   ]
  },
  {
   "cell_type": "code",
   "execution_count": 624,
   "id": "0a279ea7",
   "metadata": {},
   "outputs": [],
   "source": [
    "df_animalhospital.columns = [\"병원이름\", \"리뷰\", \"주소\", \"오픈마감전화번호\"]"
   ]
  },
  {
   "cell_type": "code",
   "execution_count": 625,
   "id": "61c4525d",
   "metadata": {},
   "outputs": [
    {
     "data": {
      "text/html": [
       "<div>\n",
       "<style scoped>\n",
       "    .dataframe tbody tr th:only-of-type {\n",
       "        vertical-align: middle;\n",
       "    }\n",
       "\n",
       "    .dataframe tbody tr th {\n",
       "        vertical-align: top;\n",
       "    }\n",
       "\n",
       "    .dataframe thead th {\n",
       "        text-align: right;\n",
       "    }\n",
       "</style>\n",
       "<table border=\"1\" class=\"dataframe\">\n",
       "  <thead>\n",
       "    <tr style=\"text-align: right;\">\n",
       "      <th></th>\n",
       "      <th>병원이름</th>\n",
       "      <th>리뷰</th>\n",
       "      <th>주소</th>\n",
       "      <th>오픈마감전화번호</th>\n",
       "    </tr>\n",
       "  </thead>\n",
       "  <tbody>\n",
       "    <tr>\n",
       "      <th>0</th>\n",
       "      <td>아마존동물병원</td>\n",
       "      <td>4.6(25)</td>\n",
       "      <td>동물병원 · 임학동 67-7</td>\n",
       "      <td>곧 영업 종료: 오후 8:00 ⋅ 수 오전 10:00에 영업 시작 · 032-555...</td>\n",
       "    </tr>\n",
       "    <tr>\n",
       "      <th>1</th>\n",
       "      <td>계양동물메디컬센터</td>\n",
       "      <td>4.3(50)</td>\n",
       "      <td>동물병원 · 계산동 942-24번지</td>\n",
       "      <td>곧 영업 종료: 오후 8:00 ⋅ 수 오전 9:30에 영업 시작 · 032-555-...</td>\n",
       "    </tr>\n",
       "    <tr>\n",
       "      <th>2</th>\n",
       "      <td>해림동물병원</td>\n",
       "      <td>4.8(100)</td>\n",
       "      <td>동물병원 · 작전동 864-39</td>\n",
       "      <td>곧 영업 종료: 오후 8:00 ⋅ 수 오전 10:00에 영업 시작 · 032-546...</td>\n",
       "    </tr>\n",
       "    <tr>\n",
       "      <th>3</th>\n",
       "      <td>한솔동물병원</td>\n",
       "      <td>4.3(13)</td>\n",
       "      <td>동물병원 · 계산2동 918-2</td>\n",
       "      <td>032-553-4652</td>\n",
       "    </tr>\n",
       "    <tr>\n",
       "      <th>4</th>\n",
       "      <td>아프리카 동물의료센터 [구 아프리카동물병원]</td>\n",
       "      <td>4.4(89)</td>\n",
       "      <td>동물병원 · 장제로340번길 5 3층</td>\n",
       "      <td>영업 중 ⋅ 오후 10:00에 영업 종료 · 032-508-7582</td>\n",
       "    </tr>\n",
       "    <tr>\n",
       "      <th>...</th>\n",
       "      <td>...</td>\n",
       "      <td>...</td>\n",
       "      <td>...</td>\n",
       "      <td>...</td>\n",
       "    </tr>\n",
       "    <tr>\n",
       "      <th>284</th>\n",
       "      <td>KU건국동물병원</td>\n",
       "      <td>4.4(8)</td>\n",
       "      <td>동물 병원 · 예산읍 산성리 669</td>\n",
       "      <td>041-335-1023</td>\n",
       "    </tr>\n",
       "    <tr>\n",
       "      <th>285</th>\n",
       "      <td>한국동물병원협회</td>\n",
       "      <td>리뷰 없음</td>\n",
       "      <td>협회 또는 조직 · 서초2동 1358-1</td>\n",
       "      <td>02-522-4722</td>\n",
       "    </tr>\n",
       "    <tr>\n",
       "      <th>286</th>\n",
       "      <td>녹십자동물병원</td>\n",
       "      <td>4.3(24)</td>\n",
       "      <td>동물병원 · 부여읍 구아리 141-5</td>\n",
       "      <td>영업 종료 ⋅ 수 오전 9:00에 영업 시작 · 041-832-2496</td>\n",
       "    </tr>\n",
       "    <tr>\n",
       "      <th>287</th>\n",
       "      <td>충남대학교 동물병원</td>\n",
       "      <td>4.5(14)</td>\n",
       "      <td>동물병원 · 궁동 220번지</td>\n",
       "      <td>영업 종료 ⋅ 수 오후 2:00에 영업 시작 · 042-821-6704</td>\n",
       "    </tr>\n",
       "    <tr>\n",
       "      <th>288</th>\n",
       "      <td>예산동물병원</td>\n",
       "      <td>4.3(3)</td>\n",
       "      <td>동물병원 · 예산읍 주교리 240-5</td>\n",
       "      <td>041-332-5895</td>\n",
       "    </tr>\n",
       "  </tbody>\n",
       "</table>\n",
       "<p>289 rows × 4 columns</p>\n",
       "</div>"
      ],
      "text/plain": [
       "                         병원이름        리뷰                      주소  \\\n",
       "0                     아마존동물병원   4.6(25)         동물병원 · 임학동 67-7   \n",
       "1                   계양동물메디컬센터   4.3(50)     동물병원 · 계산동 942-24번지   \n",
       "2                      해림동물병원  4.8(100)       동물병원 · 작전동 864-39   \n",
       "3                      한솔동물병원   4.3(13)       동물병원 · 계산2동 918-2   \n",
       "4    아프리카 동물의료센터 [구 아프리카동물병원]   4.4(89)    동물병원 · 장제로340번길 5 3층   \n",
       "..                        ...       ...                     ...   \n",
       "284                  KU건국동물병원    4.4(8)     동물 병원 · 예산읍 산성리 669   \n",
       "285                  한국동물병원협회     리뷰 없음  협회 또는 조직 · 서초2동 1358-1   \n",
       "286                   녹십자동물병원   4.3(24)    동물병원 · 부여읍 구아리 141-5   \n",
       "287                충남대학교 동물병원   4.5(14)         동물병원 · 궁동 220번지   \n",
       "288                    예산동물병원    4.3(3)    동물병원 · 예산읍 주교리 240-5   \n",
       "\n",
       "                                              오픈마감전화번호  \n",
       "0    곧 영업 종료: 오후 8:00 ⋅ 수 오전 10:00에 영업 시작 · 032-555...  \n",
       "1    곧 영업 종료: 오후 8:00 ⋅ 수 오전 9:30에 영업 시작 · 032-555-...  \n",
       "2    곧 영업 종료: 오후 8:00 ⋅ 수 오전 10:00에 영업 시작 · 032-546...  \n",
       "3                                         032-553-4652  \n",
       "4                영업 중 ⋅ 오후 10:00에 영업 종료 · 032-508-7582  \n",
       "..                                                 ...  \n",
       "284                                       041-335-1023  \n",
       "285                                        02-522-4722  \n",
       "286            영업 종료 ⋅ 수 오전 9:00에 영업 시작 · 041-832-2496  \n",
       "287            영업 종료 ⋅ 수 오후 2:00에 영업 시작 · 042-821-6704  \n",
       "288                                       041-332-5895  \n",
       "\n",
       "[289 rows x 4 columns]"
      ]
     },
     "execution_count": 625,
     "metadata": {},
     "output_type": "execute_result"
    }
   ],
   "source": [
    "df_animalhospital"
   ]
  },
  {
   "cell_type": "code",
   "execution_count": null,
   "id": "ae79c670",
   "metadata": {},
   "outputs": [],
   "source": []
  }
 ],
 "metadata": {
  "kernelspec": {
   "display_name": "Python 3 (ipykernel)",
   "language": "python",
   "name": "python3"
  },
  "language_info": {
   "codemirror_mode": {
    "name": "ipython",
    "version": 3
   },
   "file_extension": ".py",
   "mimetype": "text/x-python",
   "name": "python",
   "nbconvert_exporter": "python",
   "pygments_lexer": "ipython3",
   "version": "3.9.7"
  }
 },
 "nbformat": 4,
 "nbformat_minor": 5
}

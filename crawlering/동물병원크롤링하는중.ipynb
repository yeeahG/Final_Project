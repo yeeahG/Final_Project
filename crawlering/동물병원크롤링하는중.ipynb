{
 "cells": [
  {
   "cell_type": "code",
   "execution_count": null,
   "id": "c6464753",
   "metadata": {},
   "outputs": [],
   "source": [
    "from selenium import webdriver\n",
    "from selenium.webdriver.chrome.service import Service\n",
    "from selenium.webdriver.common.by import By\n",
    "from bs4 import BeautifulSoup as BS\n",
    "import re\n",
    "import requests\n",
    "from urllib import request\n",
    "import pandas as pd"
   ]
  },
  {
   "cell_type": "code",
   "execution_count": null,
   "id": "acc97147",
   "metadata": {},
   "outputs": [],
   "source": [
    "from selenium import webdriver\n",
    "from selenium.webdriver.common.keys import Keys\n",
    "from selenium.webdriver.support.ui import WebDriverWait\n",
    "from selenium.webdriver.support import expected_conditions as EC\n",
    "from selenium.common.exceptions import TimeoutException\n",
    "from selenium.common.exceptions import NoSuchElementException\n",
    "from selenium.webdriver.common.by import By\n",
    "from selenium.webdriver.support.ui import Select\n",
    "import time"
   ]
  },
  {
   "cell_type": "code",
   "execution_count": null,
   "id": "e4e6753d",
   "metadata": {},
   "outputs": [],
   "source": [
    "chromedriver = 'D:/20220103_lab/14.python/data/chrome/chromedriver'\n",
    "driver = webdriver.Chrome(chromedriver) \n",
    "\n",
    "# 포스팅 작성 당시 크롬 버젼 : 92"
   ]
  },
  {
   "cell_type": "code",
   "execution_count": null,
   "id": "74b36e98",
   "metadata": {},
   "outputs": [],
   "source": [
    "df = pd.DataFrame"
   ]
  },
  {
   "cell_type": "code",
   "execution_count": null,
   "id": "47821c6a",
   "metadata": {},
   "outputs": [],
   "source": [
    "# 네이버 지도 검색창에 [~동 @@식당]으로 검색해 정확도를 높여야 합니다. 검색어를 미리 설정해줍시다.\n",
    "\n",
    "df['naver_keyword'] = df['dong'] + \"%20\" + df['name']  # \"%20\"는 띄어쓰기를 의미합니다.\n",
    "df['naver_map_url'] = ''"
   ]
  },
  {
   "cell_type": "code",
   "execution_count": null,
   "id": "e660e457",
   "metadata": {},
   "outputs": [],
   "source": [
    "# 본격적으로 가게 상세페이지의 URL을 가져옵시다\n",
    "\n",
    "for i, keyword in enumerate(df['naver_keyword'].tolist()):\n",
    "    print(\"이번에 찾을 키워드 :\", i, f\"/ {df.shape[0] -1} 행\", keyword)\n",
    "    try:\n",
    "        naver_map_search_url = f\"https://m.map.naver.com/search2/search.naver?query={keyword}&sm=hty&style=v5\"\n",
    "        \n",
    "        driver.get(naver_map_search_url)\n",
    "        time.sleep(3.5)\n",
    "        df.iloc[i,-1] = driver.find_element_by_css_selector(\"#ct > div.search_listview._content._ctList > ul > li:nth-child(1) > div.item_info > a.a_item.a_item_distance._linkSiteview\").get_attribute('data-cid')\n",
    "        # 네이버 지도 시스템은 data-cid에 url 파라미터를 저장해두고 있었습니다.\n",
    "        # data-cid 번호를 뽑아두었다가 기본 url 템플릿에 넣어 최종적인 url을 완성하면 됩니다.\n",
    "        \n",
    "        #만약 검색 결과가 없다면?\n",
    "    except Exception as e1:\n",
    "        if \"li:nth-child(1)\" in str(e1):  # -> \"child(1)이 없던데요?\"\n",
    "            try:\n",
    "                df.iloc[i,-1] = driver.find_element_by_css_selector(\"#ct > div.search_listview._content._ctList > ul > li:nth-child(1) > div.item_info > a.a_item.a_item_distance._linkSiteview\").get_attribute('data-cid')\n",
    "                time.sleep(1)\n",
    "            except Exception as e2:\n",
    "                print(e2)\n",
    "                df.iloc[i,-1] = np.nan\n",
    "                time.sleep(1)\n",
    "        else:\n",
    "            pass\n",
    "\n",
    "\n",
    "driver.quit()"
   ]
  },
  {
   "cell_type": "code",
   "execution_count": null,
   "id": "4b8d8899",
   "metadata": {},
   "outputs": [],
   "source": [
    "# 이때 수집한 것은 완전한 URL이 아니라 URL에 들어갈 ID (data-cid 라는 코드명으로 저장된) 이므로, 온전한 URL로 만들어줍니다\n",
    "\n",
    "df['naver_map_url'] = \"https://m.place.naver.com/restaurant/\" + df['naver_map_url']"
   ]
  },
  {
   "cell_type": "code",
   "execution_count": null,
   "id": "04f8b499",
   "metadata": {},
   "outputs": [],
   "source": [
    "# URL이 수집되지 않은 데이터는 제거합니다.\n",
    "df = df.loc[~df['naver_map_url'].isnull()]"
   ]
  },
  {
   "cell_type": "code",
   "execution_count": null,
   "id": "41843e97",
   "metadata": {},
   "outputs": [],
   "source": [
    "# 크롤링 에러가 떠서 'null'을 넣어 둔 데이터는 활용 의미가 없으므로 행 삭제를 해줘도 됩니다\n",
    "df = df.loc[~(df['naver_store_type'].str.contains('null'))]\n",
    "\n",
    "\n",
    "# 별점 평균, 수 같은 데이터 역시 스트링 타입으로 크롤링이 되었으므로 numeric으로 바꿔줍니다.\n",
    "df[['naver_star_point', 'naver_star_point_qty', 'naver_blog_review_qty']] = df[['naver_star_point', 'naver_star_point_qty', 'naver_blog_review_qty']].apply(pd.to_numeric)\n",
    "Python\n"
   ]
  },
  {
   "cell_type": "code",
   "execution_count": null,
   "id": "8805e6ac",
   "metadata": {},
   "outputs": [],
   "source": []
  },
  {
   "cell_type": "code",
   "execution_count": null,
   "id": "38a4286e",
   "metadata": {},
   "outputs": [],
   "source": []
  },
  {
   "cell_type": "code",
   "execution_count": null,
   "id": "41bc3db6",
   "metadata": {},
   "outputs": [],
   "source": [
    "from selenium import webdriver\n",
    "import time\n",
    "\n",
    "# 크롬창(웹드라이버) 열기\n",
    "driver = webdriver.Chrome(\"D:/20220103_lab/14.python/data/chrome/chromedriver\")"
   ]
  },
  {
   "cell_type": "code",
   "execution_count": null,
   "id": "a5dab0b9",
   "metadata": {},
   "outputs": [],
   "source": [
    "# 구글 지도 접속하기\n",
    "driver.get(\"https://www.google.com/maps/\")"
   ]
  },
  {
   "cell_type": "code",
   "execution_count": null,
   "id": "952b7d32",
   "metadata": {},
   "outputs": [],
   "source": [
    "# 검색창에 \"카페\" 입력하기\n",
    "searchbox = driver.find_element_by_css_selector(\"input#searchboxinput\")\n",
    "searchbox.send_keys(\"동물병원\")"
   ]
  },
  {
   "cell_type": "code",
   "execution_count": null,
   "id": "3a76aa82",
   "metadata": {},
   "outputs": [],
   "source": [
    "# 검색버튼 누르기\n",
    "searchbutton = driver.find_element_by_css_selector(\"button#searchbox-searchbutton\")\n",
    "searchbutton.click()"
   ]
  },
  {
   "cell_type": "code",
   "execution_count": null,
   "id": "98a0b150",
   "metadata": {
    "scrolled": false
   },
   "outputs": [],
   "source": [
    "# 여러 페이지(999)에서 반복하기\n",
    "for i in range(999):\n",
    "    time.sleep(3)\n",
    "\n",
    "    # 컨테이너(가게) 데이터 수집 // div.section-result-content\n",
    "    stores = driver.find_elements_by_css_selector(\"div.section-result-content\")\n",
    "\n",
    "    for s in stores:\n",
    "        # 가게 이름 데이터 수집 // h3.section-result-title\n",
    "        title = s.find_element_by_css_selector(\"h3.section-result-title\").text\n",
    "\n",
    "        # 평점 데이터 수집 // span.cards-rating-score\n",
    "        # 평점이 없는 경우 에러 처리\n",
    "        try:\n",
    "            score = s.find_element_by_css_selector(\"span.cards-rating-score\").text\n",
    "        except:\n",
    "            score = \"평점없음\"\n",
    "\n",
    "            # 가게 주소 데이터 수집 // span.section-result-location\n",
    "\n",
    "            addr = s.find_element_by_css_selector(\"span.section-result-location\").text\n",
    "\n",
    "            print(title, \"/\", score, \"/\", addr)\n",
    "            \n",
    "    # 다음페이지 버튼 클릭 하기\n",
    "    # 다음페이지가 없는 경우(데이터 수집 완료) 에러 처리\n",
    "    try:\n",
    "        nextpage = driver.find_element_by_css_selector(\"button#ppdPk-Ej1Yeb-LgbsSe-tJiF1e\")\n",
    "        nextpage.click()\n",
    "    except:\n",
    "        print(\"데이터 수집 완료.\")\n",
    "        break"
   ]
  },
  {
   "cell_type": "code",
   "execution_count": null,
   "id": "d94df403",
   "metadata": {},
   "outputs": [],
   "source": [
    "# 크롬창 닫기\n",
    "driver.close()\n",
    "# 출처: https://datalabbit.tistory.com/45 [간토끼 DataMining Lab:티스토리]"
   ]
  },
  {
   "cell_type": "code",
   "execution_count": null,
   "id": "9bcf8529",
   "metadata": {},
   "outputs": [],
   "source": []
  },
  {
   "cell_type": "code",
   "execution_count": null,
   "id": "bf80dd72",
   "metadata": {},
   "outputs": [],
   "source": []
  },
  {
   "cell_type": "code",
   "execution_count": null,
   "id": "2c418df3",
   "metadata": {},
   "outputs": [],
   "source": [
    "from selenium import webdriver\n",
    "import time\n",
    "from selenium.webdriver.common.by import By"
   ]
  },
  {
   "cell_type": "code",
   "execution_count": null,
   "id": "c0d9ff20",
   "metadata": {
    "scrolled": true
   },
   "outputs": [],
   "source": [
    "driver = webdriver.Chrome(\"D:/20220103_lab/14.python/data/chrome/chromedriver\")"
   ]
  },
  {
   "cell_type": "code",
   "execution_count": null,
   "id": "6dd35387",
   "metadata": {},
   "outputs": [],
   "source": [
    "driver.get(\"https://www.google.com/maps/\")"
   ]
  },
  {
   "cell_type": "code",
   "execution_count": null,
   "id": "efcaa065",
   "metadata": {},
   "outputs": [],
   "source": [
    "searchbox = driver.find_element_by_css_selector(\"input#searchboxinput\")\n",
    "searchbox.send_keys(\"동물병원\")"
   ]
  },
  {
   "cell_type": "code",
   "execution_count": null,
   "id": "0043673c",
   "metadata": {},
   "outputs": [],
   "source": [
    "searchbutton = driver.find_element_by_css_selector(\"button#searchbox-searchbutton\")\n",
    "searchbutton.click()"
   ]
  },
  {
   "cell_type": "code",
   "execution_count": null,
   "id": "d872834d",
   "metadata": {},
   "outputs": [],
   "source": [
    "for i in range(999):\n",
    "    time.sleep(3)\n",
    "    stores = driver.find_elements_by_css_selector(\"m6QErb DxyBCb kA9KIf dS8AEf ecceSd\")\n",
    "    for s in stores:\n",
    "        title = s.find_element_by_css_selector(\"h3.section-result-title\").text\n",
    "        try:\n",
    "            score = s.find_element_by_css_selector(\"span.cards-rating-score\").text\n",
    "        except:\n",
    "            score = \"평점없음\"\n",
    "            \n",
    "            addr = s.find_element_by_css_selector(\"span.section-result-location\").text\n",
    "            \n",
    "            print(title, \"/\", score, \"/\", addr)\n",
    "            \n",
    "    try:\n",
    "        nextpage = driver.find_element_by_css_selector(\"button#ppdPk-Ej1Yeb-LgbsSe-tJiF1e\")\n",
    "        nextpage.click()\n",
    "    except:\n",
    "        print(\"데이터 수집 완료.\")\n",
    "        break"
   ]
  },
  {
   "cell_type": "code",
   "execution_count": null,
   "id": "0ece78ef",
   "metadata": {},
   "outputs": [],
   "source": [
    "driver.close()"
   ]
  },
  {
   "cell_type": "code",
   "execution_count": null,
   "id": "9e4dfe43",
   "metadata": {},
   "outputs": [],
   "source": [
    "\n",
    "\n",
    "\n",
    "\n",
    "\n",
    "\n",
    "\n",
    "\n",
    "\n",
    "\n"
   ]
  },
  {
   "cell_type": "code",
   "execution_count": 41,
   "id": "2b49489b",
   "metadata": {},
   "outputs": [],
   "source": [
    "from selenium import webdriver\n",
    "import time\n",
    "from selenium.webdriver.common.by import By"
   ]
  },
  {
   "cell_type": "code",
   "execution_count": 42,
   "id": "2ec9eec9",
   "metadata": {
    "scrolled": true
   },
   "outputs": [
    {
     "name": "stderr",
     "output_type": "stream",
     "text": [
      "C:\\Users\\82103\\AppData\\Local\\Temp/ipykernel_20184/3310334687.py:1: DeprecationWarning: executable_path has been deprecated, please pass in a Service object\n",
      "  driver = webdriver.Chrome(\"D:/20220103_lab/14.python/data/chrome/chromedriver\")\n"
     ]
    }
   ],
   "source": [
    "driver = webdriver.Chrome(\"D:/20220103_lab/14.python/data/chrome/chromedriver\")"
   ]
  },
  {
   "cell_type": "code",
   "execution_count": 43,
   "id": "6148bb8f",
   "metadata": {},
   "outputs": [],
   "source": [
    "driver.get(\"https://www.google.com/maps/\")"
   ]
  },
  {
   "cell_type": "code",
   "execution_count": 44,
   "id": "d62dcee9",
   "metadata": {},
   "outputs": [],
   "source": [
    "search_input_tag = driver.find_element(By.ID, 'searchboxinput')\n",
    "search_input_tag.send_keys('동물병원')\n",
    "time.sleep(1)"
   ]
  },
  {
   "cell_type": "code",
   "execution_count": 45,
   "id": "a58ca120",
   "metadata": {},
   "outputs": [],
   "source": [
    "search_button_tag = driver.find_element(By.ID, 'searchbox-searchbutton')\n",
    "search_button_tag.click()\n",
    "time.sleep(5)"
   ]
  },
  {
   "cell_type": "code",
   "execution_count": null,
   "id": "d4afd7f0",
   "metadata": {},
   "outputs": [],
   "source": [
    "target = driver.find_element(By.XPATH, '/html/body/div[3]/div[9]/div[9]/div[1]/div[1]/div[1]/div[2]')"
   ]
  },
  {
   "cell_type": "code",
   "execution_count": null,
   "id": "b89fceff",
   "metadata": {
    "scrolled": true
   },
   "outputs": [],
   "source": [
    "target.text"
   ]
  },
  {
   "cell_type": "code",
   "execution_count": null,
   "id": "fae44587",
   "metadata": {},
   "outputs": [],
   "source": [
    "for i in range(0,10):\n",
    "    driver.execute_script('test=document.querySelector(\"#pane > div > div.Yr7JMd-pane-content.cYB2Ge-oHo7ed > div > div > div.siAUzd-neVct.section-scrollbox.cYB2Ge-oHo7ed.cYB2Ge-ti6hGc.siAUzd-neVct-Q3DXx-BvBYQ > div.siAUzd-neVct.section-scrollbox.cYB2Ge-oHo7ed.cYB2Ge-ti6hGc.siAUzd-neVct-Q3DXx-BvBYQ\"); test.scrollTo(0, 10000000000000000000);')\n",
    "    time.sleep(1)"
   ]
  },
  {
   "cell_type": "code",
   "execution_count": null,
   "id": "784c9de9",
   "metadata": {},
   "outputs": [],
   "source": [
    "for divtag in target.find_elements(By.XPATH, './div'):\n",
    "    if divtag.text != \"\":\n",
    "        print(\"--------------------------\")\n",
    "        atag = divtag.find_element(By.XPATH, './div/a[1]')\n",
    "        subdiv = divtag.find_element(By.XPATH, \"./div/div[2]\")\n",
    "        name = subdiv.find_element(By.XPATH, \"./div[2]/div[1]/div[1]/div[1]/div[1]/div[1]\")\n",
    "        star = subdiv.find_element(By.XPATH, \"./div[2]/div[1]/div[1]/div[1]/div[1]/div[3]\")\n",
    "        addr = subdiv.find_element(By.XPATH, \"./div[2]/div[1]/div[1]/div[1]/div[1]/div[4]/div[1]\")\n",
    "\n",
    "        print(name.text)\n",
    "        print(addr.text)\n",
    "        print(atag.get_attribute('href').split('!')[5][2:])\n",
    "        print(atag.get_attribute('href').split('!')[6].split('?')[0][2:])\n",
    "        print(star.text)\n",
    "# [출처] 파이썬 크롤링 셀레니움 (구글지도 맛집 정보, 오늘의집 크롤링 등)|작성자 홍인\n",
    "# https://blog.naver.com/hongin90/222661902505"
   ]
  },
  {
   "cell_type": "code",
   "execution_count": null,
   "id": "f499df02",
   "metadata": {},
   "outputs": [],
   "source": []
  },
  {
   "cell_type": "code",
   "execution_count": null,
   "id": "04c4f631",
   "metadata": {},
   "outputs": [],
   "source": []
  },
  {
   "cell_type": "code",
   "execution_count": null,
   "id": "703282c2",
   "metadata": {},
   "outputs": [],
   "source": []
  },
  {
   "cell_type": "code",
   "execution_count": null,
   "id": "946e441d",
   "metadata": {},
   "outputs": [],
   "source": []
  },
  {
   "cell_type": "code",
   "execution_count": null,
   "id": "b29b7192",
   "metadata": {},
   "outputs": [],
   "source": []
  },
  {
   "cell_type": "code",
   "execution_count": 1,
   "id": "7a2df9b2",
   "metadata": {},
   "outputs": [],
   "source": [
    "from selenium import webdriver\n",
    "import time\n",
    "from selenium.webdriver.common.by import By"
   ]
  },
  {
   "cell_type": "code",
   "execution_count": 2,
   "id": "cb39f118",
   "metadata": {},
   "outputs": [
    {
     "name": "stderr",
     "output_type": "stream",
     "text": [
      "C:\\Users\\82103\\AppData\\Local\\Temp/ipykernel_20184/3310334687.py:1: DeprecationWarning: executable_path has been deprecated, please pass in a Service object\n",
      "  driver = webdriver.Chrome(\"D:/20220103_lab/14.python/data/chrome/chromedriver\")\n"
     ]
    }
   ],
   "source": [
    "driver = webdriver.Chrome(\"D:/20220103_lab/14.python/data/chrome/chromedriver\")"
   ]
  },
  {
   "cell_type": "code",
   "execution_count": 4,
   "id": "30b43ccf",
   "metadata": {},
   "outputs": [],
   "source": [
    "driver.get(\"https://map.kakao.com/\")"
   ]
  },
  {
   "cell_type": "code",
   "execution_count": 5,
   "id": "82e1708e",
   "metadata": {},
   "outputs": [],
   "source": [
    "search_input_tag = driver.find_element(By.ID, 'search.keyword.query')\n",
    "search_input_tag.send_keys('동물병원')\n",
    "time.sleep(1)"
   ]
  },
  {
   "cell_type": "code",
   "execution_count": 6,
   "id": "d9968e50",
   "metadata": {},
   "outputs": [],
   "source": [
    "search_button_tag = driver.find_element(By.ID, 'search.keyword.submit')\n",
    "search_button_tag.click()\n",
    "time.sleep(5)"
   ]
  },
  {
   "cell_type": "code",
   "execution_count": 8,
   "id": "4b08d338",
   "metadata": {},
   "outputs": [],
   "source": [
    "place_more = driver.find_element(By.ID, 'info.search.place.more')\n",
    "place_more.click()\n",
    "time.sleep(5)"
   ]
  },
  {
   "cell_type": "code",
   "execution_count": 40,
   "id": "341e9131",
   "metadata": {},
   "outputs": [
    {
     "name": "stdout",
     "output_type": "stream",
     "text": [
      "0\n",
      "1\n",
      "2\n",
      "3\n",
      "4\n"
     ]
    }
   ],
   "source": [
    "for i in range(999):\n",
    "    nextpage = driver.find_element(By.ID, \"info.search.page.no{}\".format((i+1)%5))\n",
    "    nextpage.click()\n",
    "    print(i)\n",
    "    if i == 4 :\n",
    "        nextpage = driver.find_element(By.ID, \"info.search.page.next\").click()\n",
    "        time.sleep(1)\n",
    "        i = 1"
   ]
  },
  {
   "cell_type": "code",
   "execution_count": null,
   "id": "f821a500",
   "metadata": {},
   "outputs": [],
   "source": []
  },
  {
   "cell_type": "code",
   "execution_count": null,
   "id": "e0fea77b",
   "metadata": {},
   "outputs": [],
   "source": []
  },
  {
   "cell_type": "code",
   "execution_count": null,
   "id": "74361d1e",
   "metadata": {},
   "outputs": [],
   "source": [
    "target = driver.find_element(By.XPATH, '/html/body/div[3]/div[9]/div[9]/div[1]/div[1]/div[1]/div[2]')"
   ]
  },
  {
   "cell_type": "code",
   "execution_count": null,
   "id": "750b6867",
   "metadata": {},
   "outputs": [],
   "source": [
    "target.text"
   ]
  },
  {
   "cell_type": "code",
   "execution_count": null,
   "id": "80c84ba5",
   "metadata": {},
   "outputs": [],
   "source": [
    "for i in range(0,10):\n",
    "    driver.execute_script('test=document.querySelector(\"#pane > div > div.Yr7JMd-pane-content.cYB2Ge-oHo7ed > div > div > div.siAUzd-neVct.section-scrollbox.cYB2Ge-oHo7ed.cYB2Ge-ti6hGc.siAUzd-neVct-Q3DXx-BvBYQ > div.siAUzd-neVct.section-scrollbox.cYB2Ge-oHo7ed.cYB2Ge-ti6hGc.siAUzd-neVct-Q3DXx-BvBYQ\"); test.scrollTo(0, 10000000000000000000);')\n",
    "    time.sleep(1)"
   ]
  },
  {
   "cell_type": "code",
   "execution_count": null,
   "id": "5ac553ce",
   "metadata": {},
   "outputs": [],
   "source": [
    "for divtag in target.find_elements(By.XPATH, './div'):\n",
    "    if divtag.text != \"\":\n",
    "        print(\"--------------------------\")\n",
    "        atag = divtag.find_element(By.XPATH, './div/a[1]')\n",
    "        subdiv = divtag.find_element(By.XPATH, \"./div/div[2]\")\n",
    "        name = subdiv.find_element(By.XPATH, \"./div[2]/div[1]/div[1]/div[1]/div[1]/div[1]\")\n",
    "        star = subdiv.find_element(By.XPATH, \"./div[2]/div[1]/div[1]/div[1]/div[1]/div[3]\")\n",
    "        addr = subdiv.find_element(By.XPATH, \"./div[2]/div[1]/div[1]/div[1]/div[1]/div[4]/div[1]\")\n",
    "\n",
    "        print(name.text)\n",
    "        print(addr.text)\n",
    "        print(atag.get_attribute('href').split('!')[5][2:])\n",
    "        print(atag.get_attribute('href').split('!')[6].split('?')[0][2:])\n",
    "        print(star.text)\n",
    "# [출처] 파이썬 크롤링 셀레니움 (구글지도 맛집 정보, 오늘의집 크롤링 등)|작성자 홍인\n",
    "# https://blog.naver.com/hongin90/222661902505"
   ]
  }
 ],
 "metadata": {
  "kernelspec": {
   "display_name": "Python 3 (ipykernel)",
   "language": "python",
   "name": "python3"
  },
  "language_info": {
   "codemirror_mode": {
    "name": "ipython",
    "version": 3
   },
   "file_extension": ".py",
   "mimetype": "text/x-python",
   "name": "python",
   "nbconvert_exporter": "python",
   "pygments_lexer": "ipython3",
   "version": "3.9.7"
  }
 },
 "nbformat": 4,
 "nbformat_minor": 5
}

{
 "cells": [
  {
   "cell_type": "code",
   "execution_count": 1,
   "id": "1ffe437e",
   "metadata": {},
   "outputs": [],
   "source": [
    "from selenium import webdriver\n",
    "import time\n",
    "from selenium.webdriver.common.by import By\n",
    "import pandas as pd"
   ]
  },
  {
   "cell_type": "code",
   "execution_count": null,
   "id": "6e358c6a",
   "metadata": {},
   "outputs": [],
   "source": [
    "driver = webdriver.Chrome(\"D:/20220103_lab/14.python/data/chrome/chromedriver\")\n",
    "driver.get(\"https://www.google.com/maps/\")"
   ]
  },
  {
   "cell_type": "code",
   "execution_count": 4,
   "id": "66d0e8b6",
   "metadata": {},
   "outputs": [],
   "source": [
    "search_input_tag = driver.find_element(By.ID, 'searchboxinput')\n",
    "search_input_tag.send_keys('반려동물훈련소')\n",
    "time.sleep(2)"
   ]
  },
  {
   "cell_type": "code",
   "execution_count": 5,
   "id": "c1a54caf",
   "metadata": {},
   "outputs": [],
   "source": [
    "search_button_tag = driver.find_element(By.ID, 'searchbox-searchbutton')\n",
    "search_button_tag.click()\n",
    "time.sleep(5)"
   ]
  },
  {
   "cell_type": "code",
   "execution_count": 6,
   "id": "d62b2706",
   "metadata": {},
   "outputs": [],
   "source": [
    "target = driver.find_element(By.XPATH, '/html/body/div[3]/div[9]/div[9]/div[1]/div[1]/div[1]/div[2]/div[1]/div[1]/div[1]/div[1]/div[2]')"
   ]
  },
  {
   "cell_type": "code",
   "execution_count": 7,
   "id": "1c862981",
   "metadata": {},
   "outputs": [],
   "source": [
    "lname = []\n",
    "lstar = []\n",
    "laddr = []"
   ]
  },
  {
   "cell_type": "code",
   "execution_count": 8,
   "id": "15552a26",
   "metadata": {},
   "outputs": [],
   "source": [
    "lista = []\n",
    "for x in list(range(50)):\n",
    "    if x % 2 :\n",
    "        lista.append(x)"
   ]
  },
  {
   "cell_type": "code",
   "execution_count": 10,
   "id": "60b0ddcb",
   "metadata": {},
   "outputs": [],
   "source": [
    "lista.remove(1)"
   ]
  },
  {
   "cell_type": "code",
   "execution_count": 11,
   "id": "5876e2bd",
   "metadata": {},
   "outputs": [
    {
     "data": {
      "text/plain": [
       "[3,\n",
       " 5,\n",
       " 7,\n",
       " 9,\n",
       " 11,\n",
       " 13,\n",
       " 15,\n",
       " 17,\n",
       " 19,\n",
       " 21,\n",
       " 23,\n",
       " 25,\n",
       " 27,\n",
       " 29,\n",
       " 31,\n",
       " 33,\n",
       " 35,\n",
       " 37,\n",
       " 39,\n",
       " 41,\n",
       " 43,\n",
       " 45,\n",
       " 47,\n",
       " 49]"
      ]
     },
     "execution_count": 11,
     "metadata": {},
     "output_type": "execute_result"
    }
   ],
   "source": [
    "lista"
   ]
  },
  {
   "cell_type": "code",
   "execution_count": 16,
   "id": "4ef98978",
   "metadata": {},
   "outputs": [
    {
     "name": "stdout",
     "output_type": "stream",
     "text": [
      "--------------------------\n",
      "오렌지애견\n",
      "리뷰 없음\n",
      "상점 · 내유동 646-11\n",
      "031-969-7731\n",
      "--------------------------\n",
      "퍼스트출장방문애견훈련소\n",
      "리뷰 없음\n",
      "· 면목동\n",
      "02-435-7982\n",
      "--------------------------\n",
      "펫을부탁해\n",
      "리뷰 없음\n",
      "애완동물 조련사 · 도봉로110나길 61 3층\n",
      "070-8876-8910\n",
      "--------------------------\n",
      "초로동물병원\n",
      "4.7(41)\n",
      "동물병원 · 수완동 725\n",
      "062-961-7522\n",
      "--------------------------\n",
      "한국애견대학\n",
      "3.0(2)\n",
      "교육 · 설악면 유명로 553\n",
      "010-4423-8677\n",
      "--------------------------\n",
      "대구애견스쿨\n",
      "3.0(2)\n",
      "개 조련사 · 지묘동\n",
      "053-986-5088\n",
      "--------------------------\n",
      "한국반려동물관리협회\n",
      "4.7(3)\n",
      "협회 또는 조직 · 능동로 35\n",
      "02-455-7789\n",
      "--------------------------\n",
      "더펫하우스 협동조합\n",
      "4.2(28)\n",
      "애완동물 돌보미 · 981-7 101호 더펫하우스\n",
      "영업 종료 ⋅ 수 오전 10:00에 영업 시작 · 062-652-9414\n",
      "--------------------------\n",
      "의성펫월드\n",
      "4.7(20)\n",
      "테마파크 · 단북면 안계길 255-13 KR\n",
      "영업 종료 ⋅ 수 오전 10:00에 영업 시작 · 054-861-1414\n",
      "--------------------------\n",
      "대전월드애견학교\n",
      "2.0(2)\n",
      "· 우성면 용봉리 304\n",
      "041-852-9303\n",
      "--------------------------\n",
      "애견훈련소-보담\n",
      "리뷰 없음\n",
      "· 구서동 654-52\n",
      "051-517-8350\n",
      "--------------------------\n"
     ]
    },
    {
     "ename": "NoSuchElementException",
     "evalue": "Message: no such element: Unable to locate element: {\"method\":\"xpath\",\"selector\":\"./div[25]/div[1]/a[1]\"}\n  (Session info: chrome=102.0.5005.62)\nStacktrace:\nBacktrace:\n\tOrdinal0 [0x00B7B8F3+2406643]\n\tOrdinal0 [0x00B0AF31+1945393]\n\tOrdinal0 [0x009FC748+837448]\n\tOrdinal0 [0x00A292E0+1020640]\n\tOrdinal0 [0x00A2957B+1021307]\n\tOrdinal0 [0x00A1FAE1+981729]\n\tOrdinal0 [0x00A442C4+1131204]\n\tOrdinal0 [0x00A1FA64+981604]\n\tOrdinal0 [0x00A44494+1131668]\n\tOrdinal0 [0x00A54682+1197698]\n\tOrdinal0 [0x00A44096+1130646]\n\tOrdinal0 [0x00A1E636+976438]\n\tOrdinal0 [0x00A1F546+980294]\n\tGetHandleVerifier [0x00DE9612+2498066]\n\tGetHandleVerifier [0x00DDC920+2445600]\n\tGetHandleVerifier [0x00C14F2A+579370]\n\tGetHandleVerifier [0x00C13D36+574774]\n\tOrdinal0 [0x00B11C0B+1973259]\n\tOrdinal0 [0x00B16688+1992328]\n\tOrdinal0 [0x00B16775+1992565]\n\tOrdinal0 [0x00B1F8D1+2029777]\n\tBaseThreadInitThunk [0x7619FA29+25]\n\tRtlGetAppContainerNamedObjectPath [0x77977A7E+286]\n\tRtlGetAppContainerNamedObjectPath [0x77977A4E+238]\n",
     "output_type": "error",
     "traceback": [
      "\u001b[1;31m---------------------------------------------------------------------------\u001b[0m",
      "\u001b[1;31mNoSuchElementException\u001b[0m                    Traceback (most recent call last)",
      "\u001b[1;32m~\\AppData\\Local\\Temp/ipykernel_18908/2054838922.py\u001b[0m in \u001b[0;36m<module>\u001b[1;34m\u001b[0m\n\u001b[0;32m      3\u001b[0m         \u001b[1;32mfor\u001b[0m \u001b[0mi\u001b[0m \u001b[1;32min\u001b[0m \u001b[0mlista\u001b[0m\u001b[1;33m:\u001b[0m\u001b[1;33m\u001b[0m\u001b[1;33m\u001b[0m\u001b[0m\n\u001b[0;32m      4\u001b[0m             \u001b[0mprint\u001b[0m\u001b[1;33m(\u001b[0m\u001b[1;34m\"--------------------------\"\u001b[0m\u001b[1;33m)\u001b[0m\u001b[1;33m\u001b[0m\u001b[1;33m\u001b[0m\u001b[0m\n\u001b[1;32m----> 5\u001b[1;33m             \u001b[0matag\u001b[0m \u001b[1;33m=\u001b[0m \u001b[0mdivtag\u001b[0m\u001b[1;33m.\u001b[0m\u001b[0mfind_element\u001b[0m\u001b[1;33m(\u001b[0m\u001b[0mBy\u001b[0m\u001b[1;33m.\u001b[0m\u001b[0mXPATH\u001b[0m\u001b[1;33m,\u001b[0m \u001b[1;34m\"./div[{}]/div[1]/a[1]\"\u001b[0m\u001b[1;33m.\u001b[0m\u001b[0mformat\u001b[0m\u001b[1;33m(\u001b[0m\u001b[0mi\u001b[0m\u001b[1;33m)\u001b[0m\u001b[1;33m)\u001b[0m\u001b[1;33m\u001b[0m\u001b[1;33m\u001b[0m\u001b[0m\n\u001b[0m\u001b[0;32m      6\u001b[0m             \u001b[0msubdiv\u001b[0m \u001b[1;33m=\u001b[0m \u001b[0mdivtag\u001b[0m\u001b[1;33m.\u001b[0m\u001b[0mfind_element\u001b[0m\u001b[1;33m(\u001b[0m\u001b[0mBy\u001b[0m\u001b[1;33m.\u001b[0m\u001b[0mXPATH\u001b[0m\u001b[1;33m,\u001b[0m \u001b[1;34m\"./div[{}]\"\u001b[0m\u001b[1;33m.\u001b[0m\u001b[0mformat\u001b[0m\u001b[1;33m(\u001b[0m\u001b[0mi\u001b[0m\u001b[1;33m)\u001b[0m\u001b[1;33m)\u001b[0m\u001b[1;33m\u001b[0m\u001b[1;33m\u001b[0m\u001b[0m\n\u001b[0;32m      7\u001b[0m             \u001b[0mname\u001b[0m \u001b[1;33m=\u001b[0m \u001b[0msubdiv\u001b[0m\u001b[1;33m.\u001b[0m\u001b[0mfind_element\u001b[0m\u001b[1;33m(\u001b[0m\u001b[0mBy\u001b[0m\u001b[1;33m.\u001b[0m\u001b[0mXPATH\u001b[0m\u001b[1;33m,\u001b[0m \u001b[1;34m\"./div[1]/div[2]/div[2]/div[1]/div[1]/div[1]/div[1]/div[1]\"\u001b[0m\u001b[1;33m)\u001b[0m\u001b[1;33m\u001b[0m\u001b[1;33m\u001b[0m\u001b[0m\n",
      "\u001b[1;32mD:\\anaconda\\lib\\site-packages\\selenium\\webdriver\\remote\\webelement.py\u001b[0m in \u001b[0;36mfind_element\u001b[1;34m(self, by, value)\u001b[0m\n\u001b[0;32m    733\u001b[0m             \u001b[0mvalue\u001b[0m \u001b[1;33m=\u001b[0m \u001b[1;34m'[name=\"%s\"]'\u001b[0m \u001b[1;33m%\u001b[0m \u001b[0mvalue\u001b[0m\u001b[1;33m\u001b[0m\u001b[1;33m\u001b[0m\u001b[0m\n\u001b[0;32m    734\u001b[0m \u001b[1;33m\u001b[0m\u001b[0m\n\u001b[1;32m--> 735\u001b[1;33m         return self._execute(Command.FIND_CHILD_ELEMENT,\n\u001b[0m\u001b[0;32m    736\u001b[0m                              {\"using\": by, \"value\": value})['value']\n\u001b[0;32m    737\u001b[0m \u001b[1;33m\u001b[0m\u001b[0m\n",
      "\u001b[1;32mD:\\anaconda\\lib\\site-packages\\selenium\\webdriver\\remote\\webelement.py\u001b[0m in \u001b[0;36m_execute\u001b[1;34m(self, command, params)\u001b[0m\n\u001b[0;32m    708\u001b[0m             \u001b[0mparams\u001b[0m \u001b[1;33m=\u001b[0m \u001b[1;33m{\u001b[0m\u001b[1;33m}\u001b[0m\u001b[1;33m\u001b[0m\u001b[1;33m\u001b[0m\u001b[0m\n\u001b[0;32m    709\u001b[0m         \u001b[0mparams\u001b[0m\u001b[1;33m[\u001b[0m\u001b[1;34m'id'\u001b[0m\u001b[1;33m]\u001b[0m \u001b[1;33m=\u001b[0m \u001b[0mself\u001b[0m\u001b[1;33m.\u001b[0m\u001b[0m_id\u001b[0m\u001b[1;33m\u001b[0m\u001b[1;33m\u001b[0m\u001b[0m\n\u001b[1;32m--> 710\u001b[1;33m         \u001b[1;32mreturn\u001b[0m \u001b[0mself\u001b[0m\u001b[1;33m.\u001b[0m\u001b[0m_parent\u001b[0m\u001b[1;33m.\u001b[0m\u001b[0mexecute\u001b[0m\u001b[1;33m(\u001b[0m\u001b[0mcommand\u001b[0m\u001b[1;33m,\u001b[0m \u001b[0mparams\u001b[0m\u001b[1;33m)\u001b[0m\u001b[1;33m\u001b[0m\u001b[1;33m\u001b[0m\u001b[0m\n\u001b[0m\u001b[0;32m    711\u001b[0m \u001b[1;33m\u001b[0m\u001b[0m\n\u001b[0;32m    712\u001b[0m     \u001b[1;32mdef\u001b[0m \u001b[0mfind_element\u001b[0m\u001b[1;33m(\u001b[0m\u001b[0mself\u001b[0m\u001b[1;33m,\u001b[0m \u001b[0mby\u001b[0m\u001b[1;33m=\u001b[0m\u001b[0mBy\u001b[0m\u001b[1;33m.\u001b[0m\u001b[0mID\u001b[0m\u001b[1;33m,\u001b[0m \u001b[0mvalue\u001b[0m\u001b[1;33m=\u001b[0m\u001b[1;32mNone\u001b[0m\u001b[1;33m)\u001b[0m\u001b[1;33m:\u001b[0m\u001b[1;33m\u001b[0m\u001b[1;33m\u001b[0m\u001b[0m\n",
      "\u001b[1;32mD:\\anaconda\\lib\\site-packages\\selenium\\webdriver\\remote\\webdriver.py\u001b[0m in \u001b[0;36mexecute\u001b[1;34m(self, driver_command, params)\u001b[0m\n\u001b[0;32m    423\u001b[0m         \u001b[0mresponse\u001b[0m \u001b[1;33m=\u001b[0m \u001b[0mself\u001b[0m\u001b[1;33m.\u001b[0m\u001b[0mcommand_executor\u001b[0m\u001b[1;33m.\u001b[0m\u001b[0mexecute\u001b[0m\u001b[1;33m(\u001b[0m\u001b[0mdriver_command\u001b[0m\u001b[1;33m,\u001b[0m \u001b[0mparams\u001b[0m\u001b[1;33m)\u001b[0m\u001b[1;33m\u001b[0m\u001b[1;33m\u001b[0m\u001b[0m\n\u001b[0;32m    424\u001b[0m         \u001b[1;32mif\u001b[0m \u001b[0mresponse\u001b[0m\u001b[1;33m:\u001b[0m\u001b[1;33m\u001b[0m\u001b[1;33m\u001b[0m\u001b[0m\n\u001b[1;32m--> 425\u001b[1;33m             \u001b[0mself\u001b[0m\u001b[1;33m.\u001b[0m\u001b[0merror_handler\u001b[0m\u001b[1;33m.\u001b[0m\u001b[0mcheck_response\u001b[0m\u001b[1;33m(\u001b[0m\u001b[0mresponse\u001b[0m\u001b[1;33m)\u001b[0m\u001b[1;33m\u001b[0m\u001b[1;33m\u001b[0m\u001b[0m\n\u001b[0m\u001b[0;32m    426\u001b[0m             response['value'] = self._unwrap_value(\n\u001b[0;32m    427\u001b[0m                 response.get('value', None))\n",
      "\u001b[1;32mD:\\anaconda\\lib\\site-packages\\selenium\\webdriver\\remote\\errorhandler.py\u001b[0m in \u001b[0;36mcheck_response\u001b[1;34m(self, response)\u001b[0m\n\u001b[0;32m    245\u001b[0m                 \u001b[0malert_text\u001b[0m \u001b[1;33m=\u001b[0m \u001b[0mvalue\u001b[0m\u001b[1;33m[\u001b[0m\u001b[1;34m'alert'\u001b[0m\u001b[1;33m]\u001b[0m\u001b[1;33m.\u001b[0m\u001b[0mget\u001b[0m\u001b[1;33m(\u001b[0m\u001b[1;34m'text'\u001b[0m\u001b[1;33m)\u001b[0m\u001b[1;33m\u001b[0m\u001b[1;33m\u001b[0m\u001b[0m\n\u001b[0;32m    246\u001b[0m             \u001b[1;32mraise\u001b[0m \u001b[0mexception_class\u001b[0m\u001b[1;33m(\u001b[0m\u001b[0mmessage\u001b[0m\u001b[1;33m,\u001b[0m \u001b[0mscreen\u001b[0m\u001b[1;33m,\u001b[0m \u001b[0mstacktrace\u001b[0m\u001b[1;33m,\u001b[0m \u001b[0malert_text\u001b[0m\u001b[1;33m)\u001b[0m  \u001b[1;31m# type: ignore[call-arg]  # mypy is not smart enough here\u001b[0m\u001b[1;33m\u001b[0m\u001b[1;33m\u001b[0m\u001b[0m\n\u001b[1;32m--> 247\u001b[1;33m         \u001b[1;32mraise\u001b[0m \u001b[0mexception_class\u001b[0m\u001b[1;33m(\u001b[0m\u001b[0mmessage\u001b[0m\u001b[1;33m,\u001b[0m \u001b[0mscreen\u001b[0m\u001b[1;33m,\u001b[0m \u001b[0mstacktrace\u001b[0m\u001b[1;33m)\u001b[0m\u001b[1;33m\u001b[0m\u001b[1;33m\u001b[0m\u001b[0m\n\u001b[0m\u001b[0;32m    248\u001b[0m \u001b[1;33m\u001b[0m\u001b[0m\n\u001b[0;32m    249\u001b[0m     \u001b[1;32mdef\u001b[0m \u001b[0m_value_or_default\u001b[0m\u001b[1;33m(\u001b[0m\u001b[0mself\u001b[0m\u001b[1;33m,\u001b[0m \u001b[0mobj\u001b[0m\u001b[1;33m:\u001b[0m \u001b[0mMapping\u001b[0m\u001b[1;33m[\u001b[0m\u001b[0m_KT\u001b[0m\u001b[1;33m,\u001b[0m \u001b[0m_VT\u001b[0m\u001b[1;33m]\u001b[0m\u001b[1;33m,\u001b[0m \u001b[0mkey\u001b[0m\u001b[1;33m:\u001b[0m \u001b[0m_KT\u001b[0m\u001b[1;33m,\u001b[0m \u001b[0mdefault\u001b[0m\u001b[1;33m:\u001b[0m \u001b[0m_VT\u001b[0m\u001b[1;33m)\u001b[0m \u001b[1;33m->\u001b[0m \u001b[0m_VT\u001b[0m\u001b[1;33m:\u001b[0m\u001b[1;33m\u001b[0m\u001b[1;33m\u001b[0m\u001b[0m\n",
      "\u001b[1;31mNoSuchElementException\u001b[0m: Message: no such element: Unable to locate element: {\"method\":\"xpath\",\"selector\":\"./div[25]/div[1]/a[1]\"}\n  (Session info: chrome=102.0.5005.62)\nStacktrace:\nBacktrace:\n\tOrdinal0 [0x00B7B8F3+2406643]\n\tOrdinal0 [0x00B0AF31+1945393]\n\tOrdinal0 [0x009FC748+837448]\n\tOrdinal0 [0x00A292E0+1020640]\n\tOrdinal0 [0x00A2957B+1021307]\n\tOrdinal0 [0x00A1FAE1+981729]\n\tOrdinal0 [0x00A442C4+1131204]\n\tOrdinal0 [0x00A1FA64+981604]\n\tOrdinal0 [0x00A44494+1131668]\n\tOrdinal0 [0x00A54682+1197698]\n\tOrdinal0 [0x00A44096+1130646]\n\tOrdinal0 [0x00A1E636+976438]\n\tOrdinal0 [0x00A1F546+980294]\n\tGetHandleVerifier [0x00DE9612+2498066]\n\tGetHandleVerifier [0x00DDC920+2445600]\n\tGetHandleVerifier [0x00C14F2A+579370]\n\tGetHandleVerifier [0x00C13D36+574774]\n\tOrdinal0 [0x00B11C0B+1973259]\n\tOrdinal0 [0x00B16688+1992328]\n\tOrdinal0 [0x00B16775+1992565]\n\tOrdinal0 [0x00B1F8D1+2029777]\n\tBaseThreadInitThunk [0x7619FA29+25]\n\tRtlGetAppContainerNamedObjectPath [0x77977A7E+286]\n\tRtlGetAppContainerNamedObjectPath [0x77977A4E+238]\n"
     ]
    }
   ],
   "source": [
    "for divtag in target.find_elements(By.XPATH, \"./div[1]\"):\n",
    "    if divtag.text != \"\":\n",
    "        for i in lista:\n",
    "            print(\"--------------------------\")\n",
    "            atag = divtag.find_element(By.XPATH, \"./div[{}]/div[1]/a[1]\".format(i))\n",
    "            subdiv = divtag.find_element(By.XPATH, \"./div[{}]\".format(i))\n",
    "            name = subdiv.find_element(By.XPATH, \"./div[1]/div[2]/div[2]/div[1]/div[1]/div[1]/div[1]/div[1]\")\n",
    "            star = subdiv.find_element(By.XPATH, \"./div[1]/div[2]/div[2]/div[1]/div[1]/div[1]/div[1]/div[3]\")\n",
    "            addr = subdiv.find_element(By.XPATH, \"./div[1]/div[2]/div[2]/div[1]/div[1]/div[1]/div[1]/div[4]\")\n",
    "\n",
    "            print(name.text)\n",
    "            print(star.text)\n",
    "            print(addr.text)\n",
    "            \n",
    "#            print(atag.get_attribute('href').split('!')[5][2:])\n",
    "#            print(atag.get_attribute('href').split('!')[6].split('?')[0][2:])\n",
    "            \n",
    "            lname.append(name.text)\n",
    "            lstar.append(star.text)\n",
    "            laddr.append(addr.text)\n",
    "            \n",
    "# [출처] 파이썬 크롤링 셀레니움 (구글지도 맛집 정보, 오늘의집 크롤링 등)|작성자 홍인\n",
    "# https://blog.naver.com/hongin90/222661902505"
   ]
  },
  {
   "cell_type": "code",
   "execution_count": 17,
   "id": "2b3d3c0b",
   "metadata": {},
   "outputs": [
    {
     "name": "stdout",
     "output_type": "stream",
     "text": [
      "31\n"
     ]
    },
    {
     "data": {
      "text/plain": [
       "['수원애견훈련소',\n",
       " '포라우스 독일 애견훈련소',\n",
       " '드린겐애견테마파크',\n",
       " '이삭애견훈련소',\n",
       " '덕소애견훈련소',\n",
       " '하남애견훈련소',\n",
       " '반려동물훈련학교',\n",
       " '레알애견훈련소',\n",
       " '보듬컴퍼니',\n",
       " 'vipdog 반려견아카데미',\n",
       " '한국강아지학교애견훈련소',\n",
       " '청담우리동물병원',\n",
       " '애플펫동물병원',\n",
       " 'K9애견훈련소',\n",
       " '애견훈련소',\n",
       " '키움반려견스쿨',\n",
       " '애견훈련소',\n",
       " '세종애견훈련소',\n",
       " '반려견 교육 기관 위드',\n",
       " '에이스애견훈련소',\n",
       " '오렌지애견',\n",
       " '퍼스트출장방문애견훈련소',\n",
       " '펫을부탁해',\n",
       " '초로동물병원',\n",
       " '한국애견대학',\n",
       " '대구애견스쿨',\n",
       " '한국반려동물관리협회',\n",
       " '더펫하우스 협동조합',\n",
       " '의성펫월드',\n",
       " '대전월드애견학교',\n",
       " '애견훈련소-보담']"
      ]
     },
     "execution_count": 17,
     "metadata": {},
     "output_type": "execute_result"
    }
   ],
   "source": [
    "print(len(lname))\n",
    "lname"
   ]
  },
  {
   "cell_type": "code",
   "execution_count": 18,
   "id": "ed8f3810",
   "metadata": {},
   "outputs": [
    {
     "name": "stdout",
     "output_type": "stream",
     "text": [
      "31\n"
     ]
    },
    {
     "data": {
      "text/plain": [
       "['4.3(28)',\n",
       " '5.0(22)',\n",
       " '4.4(20)',\n",
       " '4.2(17)',\n",
       " '4.8(5)',\n",
       " '3.7(14)',\n",
       " '리뷰 없음',\n",
       " '4.3(3)',\n",
       " '4.4(130)',\n",
       " '리뷰 없음',\n",
       " '리뷰 없음',\n",
       " '4.4(118)',\n",
       " '4.3(39)',\n",
       " '3.7(3)',\n",
       " '4.3(3)',\n",
       " '5.0(2)',\n",
       " '5.0(2)',\n",
       " '5.0(1)',\n",
       " '5.0(1)',\n",
       " '5.0(1)',\n",
       " '리뷰 없음',\n",
       " '리뷰 없음',\n",
       " '리뷰 없음',\n",
       " '4.7(41)',\n",
       " '3.0(2)',\n",
       " '3.0(2)',\n",
       " '4.7(3)',\n",
       " '4.2(28)',\n",
       " '4.7(20)',\n",
       " '2.0(2)',\n",
       " '리뷰 없음']"
      ]
     },
     "execution_count": 18,
     "metadata": {},
     "output_type": "execute_result"
    }
   ],
   "source": [
    "print(len(lstar))\n",
    "lstar"
   ]
  },
  {
   "cell_type": "code",
   "execution_count": 19,
   "id": "189382be",
   "metadata": {},
   "outputs": [
    {
     "name": "stdout",
     "output_type": "stream",
     "text": [
      "31\n"
     ]
    },
    {
     "data": {
      "text/plain": [
       "['애견 산책 도우미 · 봉담읍 222 분천리\\n영업 종료 ⋅ 수 오전 10:00에 영업 시작 · 031-297-3482',\n",
       " '개 조련사 · 노온사동 478-4\\n영업 종료 ⋅ 수 오전 9:00에 영업 시작 · 010-8660-3533',\n",
       " '개 조련사 · 미산동 163-1 KR\\n영업 종료 ⋅ 수 오전 11:00에 영업 시작 · 031-315-1733',\n",
       " '개 조련사 · 봉담읍 분천리 222\\n031-297-6136',\n",
       " '애완동물 조련사 · 와부읍 월문리 151\\n영업 종료 ⋅ 수 오전 9:00에 영업 시작 · 031-576-8838',\n",
       " '애견 산책 도우미 · 춘궁동 244\\n031-793-3315',\n",
       " '학교 · 분당구 석운동 85-1번지 성남시 경기도 KR\\n031-754-7665',\n",
       " '개 조련사 · 원삼면 좌항리 409-4\\n031-333-1141',\n",
       " '애완동물 조련사 · 오남읍 진건오남로667번길 64-33 KR\\n영업 종료 ⋅ 수 오전 10:00에 영업 시작 · 1800-6358',\n",
       " '애견 카페 · 용종동 오조산공원로 22 2층 202호\\n영업 종료 ⋅ 수 오전 6:00에 영업 시작 · 010-6658-9187',\n",
       " '개 조련사 · 중화동 438\\n02-2207-4163',\n",
       " '동물병원 · 삼성동 70-6\\n02-541-7515',\n",
       " '동물병원 · 오포읍 신현리 709-27\\n031-726-4800',\n",
       " '애견 산책 도우미 · 상동면 여차리 970\\n영업 종료 ⋅ 수 오전 11:00에 영업 시작 · 010-2577-2955',\n",
       " '개 조련사 · 신북읍 산천리 12-29\\n033-244-8999',\n",
       " '애완동물 위탁관리 서비스 · 석운동 석운로 198 KR 53-1\\n영업 종료 ⋅ 수 오전 10:00에 영업 시작 · 031-701-2282',\n",
       " '개 조련사 · 외삼동 559\\n042-823-4438',\n",
       " '· 용산동 421-5번지 1층',\n",
       " '학교 · 고봉동 지영로 257-17\\n영업 종료 ⋅ 수 오전 8:00에 영업 시작 · 031-976-5653',\n",
       " '· 향남읍 관리\\n031-353-5923',\n",
       " '상점 · 내유동 646-11\\n031-969-7731',\n",
       " '· 면목동\\n02-435-7982',\n",
       " '애완동물 조련사 · 도봉로110나길 61 3층\\n070-8876-8910',\n",
       " '동물병원 · 수완동 725\\n062-961-7522',\n",
       " '교육 · 설악면 유명로 553\\n010-4423-8677',\n",
       " '개 조련사 · 지묘동\\n053-986-5088',\n",
       " '협회 또는 조직 · 능동로 35\\n02-455-7789',\n",
       " '애완동물 돌보미 · 981-7 101호 더펫하우스\\n영업 종료 ⋅ 수 오전 10:00에 영업 시작 · 062-652-9414',\n",
       " '테마파크 · 단북면 안계길 255-13 KR\\n영업 종료 ⋅ 수 오전 10:00에 영업 시작 · 054-861-1414',\n",
       " '· 우성면 용봉리 304\\n041-852-9303',\n",
       " '· 구서동 654-52\\n051-517-8350']"
      ]
     },
     "execution_count": 19,
     "metadata": {},
     "output_type": "execute_result"
    }
   ],
   "source": [
    "print(len(laddr))\n",
    "laddr"
   ]
  },
  {
   "cell_type": "code",
   "execution_count": 27,
   "id": "d65dea4b",
   "metadata": {},
   "outputs": [],
   "source": [
    "df_name = pd.DataFrame(lname)"
   ]
  },
  {
   "cell_type": "code",
   "execution_count": 28,
   "id": "203f359e",
   "metadata": {},
   "outputs": [],
   "source": [
    "df_star = pd.DataFrame(lstar)"
   ]
  },
  {
   "cell_type": "code",
   "execution_count": 29,
   "id": "bf4aa8c3",
   "metadata": {},
   "outputs": [],
   "source": [
    "df_addr = pd.DataFrame(laddr)"
   ]
  },
  {
   "cell_type": "code",
   "execution_count": 34,
   "id": "fe6f5598",
   "metadata": {},
   "outputs": [],
   "source": [
    "asdfa2 = []\n",
    "for x in laddr:\n",
    "    asdfa2.append(x.split(\"\\n\"))"
   ]
  },
  {
   "cell_type": "code",
   "execution_count": 35,
   "id": "0e69e0c1",
   "metadata": {},
   "outputs": [],
   "source": [
    "df_addr = pd.DataFrame(asdfa2)"
   ]
  },
  {
   "cell_type": "code",
   "execution_count": 43,
   "id": "a7cbca04",
   "metadata": {},
   "outputs": [],
   "source": [
    "df_nsa = pd.concat([df_name, df_addr[0], df_star],axis=1)"
   ]
  },
  {
   "cell_type": "code",
   "execution_count": 44,
   "id": "b1f443b1",
   "metadata": {},
   "outputs": [],
   "source": [
    "df_nsa.columns = [\"훈련소이름\", \"주소\", \"리뷰\"]"
   ]
  },
  {
   "cell_type": "code",
   "execution_count": 45,
   "id": "e952cfa2",
   "metadata": {},
   "outputs": [
    {
     "data": {
      "text/html": [
       "<div>\n",
       "<style scoped>\n",
       "    .dataframe tbody tr th:only-of-type {\n",
       "        vertical-align: middle;\n",
       "    }\n",
       "\n",
       "    .dataframe tbody tr th {\n",
       "        vertical-align: top;\n",
       "    }\n",
       "\n",
       "    .dataframe thead th {\n",
       "        text-align: right;\n",
       "    }\n",
       "</style>\n",
       "<table border=\"1\" class=\"dataframe\">\n",
       "  <thead>\n",
       "    <tr style=\"text-align: right;\">\n",
       "      <th></th>\n",
       "      <th>훈련소이름</th>\n",
       "      <th>주소</th>\n",
       "      <th>리뷰</th>\n",
       "    </tr>\n",
       "  </thead>\n",
       "  <tbody>\n",
       "    <tr>\n",
       "      <th>0</th>\n",
       "      <td>수원애견훈련소</td>\n",
       "      <td>애견 산책 도우미 · 봉담읍 222 분천리</td>\n",
       "      <td>4.3(28)</td>\n",
       "    </tr>\n",
       "    <tr>\n",
       "      <th>1</th>\n",
       "      <td>포라우스 독일 애견훈련소</td>\n",
       "      <td>개 조련사 · 노온사동 478-4</td>\n",
       "      <td>5.0(22)</td>\n",
       "    </tr>\n",
       "    <tr>\n",
       "      <th>2</th>\n",
       "      <td>드린겐애견테마파크</td>\n",
       "      <td>개 조련사 · 미산동 163-1 KR</td>\n",
       "      <td>4.4(20)</td>\n",
       "    </tr>\n",
       "    <tr>\n",
       "      <th>3</th>\n",
       "      <td>이삭애견훈련소</td>\n",
       "      <td>개 조련사 · 봉담읍 분천리 222</td>\n",
       "      <td>4.2(17)</td>\n",
       "    </tr>\n",
       "    <tr>\n",
       "      <th>4</th>\n",
       "      <td>덕소애견훈련소</td>\n",
       "      <td>애완동물 조련사 · 와부읍 월문리 151</td>\n",
       "      <td>4.8(5)</td>\n",
       "    </tr>\n",
       "    <tr>\n",
       "      <th>5</th>\n",
       "      <td>하남애견훈련소</td>\n",
       "      <td>애견 산책 도우미 · 춘궁동 244</td>\n",
       "      <td>3.7(14)</td>\n",
       "    </tr>\n",
       "    <tr>\n",
       "      <th>6</th>\n",
       "      <td>반려동물훈련학교</td>\n",
       "      <td>학교 · 분당구 석운동 85-1번지 성남시 경기도 KR</td>\n",
       "      <td>리뷰 없음</td>\n",
       "    </tr>\n",
       "    <tr>\n",
       "      <th>7</th>\n",
       "      <td>레알애견훈련소</td>\n",
       "      <td>개 조련사 · 원삼면 좌항리 409-4</td>\n",
       "      <td>4.3(3)</td>\n",
       "    </tr>\n",
       "    <tr>\n",
       "      <th>8</th>\n",
       "      <td>보듬컴퍼니</td>\n",
       "      <td>애완동물 조련사 · 오남읍 진건오남로667번길 64-33 KR</td>\n",
       "      <td>4.4(130)</td>\n",
       "    </tr>\n",
       "    <tr>\n",
       "      <th>9</th>\n",
       "      <td>vipdog 반려견아카데미</td>\n",
       "      <td>애견 카페 · 용종동 오조산공원로 22 2층 202호</td>\n",
       "      <td>리뷰 없음</td>\n",
       "    </tr>\n",
       "    <tr>\n",
       "      <th>10</th>\n",
       "      <td>한국강아지학교애견훈련소</td>\n",
       "      <td>개 조련사 · 중화동 438</td>\n",
       "      <td>리뷰 없음</td>\n",
       "    </tr>\n",
       "    <tr>\n",
       "      <th>11</th>\n",
       "      <td>청담우리동물병원</td>\n",
       "      <td>동물병원 · 삼성동 70-6</td>\n",
       "      <td>4.4(118)</td>\n",
       "    </tr>\n",
       "    <tr>\n",
       "      <th>12</th>\n",
       "      <td>애플펫동물병원</td>\n",
       "      <td>동물병원 · 오포읍 신현리 709-27</td>\n",
       "      <td>4.3(39)</td>\n",
       "    </tr>\n",
       "    <tr>\n",
       "      <th>13</th>\n",
       "      <td>K9애견훈련소</td>\n",
       "      <td>애견 산책 도우미 · 상동면 여차리 970</td>\n",
       "      <td>3.7(3)</td>\n",
       "    </tr>\n",
       "    <tr>\n",
       "      <th>14</th>\n",
       "      <td>애견훈련소</td>\n",
       "      <td>개 조련사 · 신북읍 산천리 12-29</td>\n",
       "      <td>4.3(3)</td>\n",
       "    </tr>\n",
       "    <tr>\n",
       "      <th>15</th>\n",
       "      <td>키움반려견스쿨</td>\n",
       "      <td>애완동물 위탁관리 서비스 · 석운동 석운로 198 KR 53-1</td>\n",
       "      <td>5.0(2)</td>\n",
       "    </tr>\n",
       "    <tr>\n",
       "      <th>16</th>\n",
       "      <td>애견훈련소</td>\n",
       "      <td>개 조련사 · 외삼동 559</td>\n",
       "      <td>5.0(2)</td>\n",
       "    </tr>\n",
       "    <tr>\n",
       "      <th>17</th>\n",
       "      <td>세종애견훈련소</td>\n",
       "      <td>· 용산동 421-5번지 1층</td>\n",
       "      <td>5.0(1)</td>\n",
       "    </tr>\n",
       "    <tr>\n",
       "      <th>18</th>\n",
       "      <td>반려견 교육 기관 위드</td>\n",
       "      <td>학교 · 고봉동 지영로 257-17</td>\n",
       "      <td>5.0(1)</td>\n",
       "    </tr>\n",
       "    <tr>\n",
       "      <th>19</th>\n",
       "      <td>에이스애견훈련소</td>\n",
       "      <td>· 향남읍 관리</td>\n",
       "      <td>5.0(1)</td>\n",
       "    </tr>\n",
       "    <tr>\n",
       "      <th>20</th>\n",
       "      <td>오렌지애견</td>\n",
       "      <td>상점 · 내유동 646-11</td>\n",
       "      <td>리뷰 없음</td>\n",
       "    </tr>\n",
       "    <tr>\n",
       "      <th>21</th>\n",
       "      <td>퍼스트출장방문애견훈련소</td>\n",
       "      <td>· 면목동</td>\n",
       "      <td>리뷰 없음</td>\n",
       "    </tr>\n",
       "    <tr>\n",
       "      <th>22</th>\n",
       "      <td>펫을부탁해</td>\n",
       "      <td>애완동물 조련사 · 도봉로110나길 61 3층</td>\n",
       "      <td>리뷰 없음</td>\n",
       "    </tr>\n",
       "    <tr>\n",
       "      <th>23</th>\n",
       "      <td>초로동물병원</td>\n",
       "      <td>동물병원 · 수완동 725</td>\n",
       "      <td>4.7(41)</td>\n",
       "    </tr>\n",
       "    <tr>\n",
       "      <th>24</th>\n",
       "      <td>한국애견대학</td>\n",
       "      <td>교육 · 설악면 유명로 553</td>\n",
       "      <td>3.0(2)</td>\n",
       "    </tr>\n",
       "    <tr>\n",
       "      <th>25</th>\n",
       "      <td>대구애견스쿨</td>\n",
       "      <td>개 조련사 · 지묘동</td>\n",
       "      <td>3.0(2)</td>\n",
       "    </tr>\n",
       "    <tr>\n",
       "      <th>26</th>\n",
       "      <td>한국반려동물관리협회</td>\n",
       "      <td>협회 또는 조직 · 능동로 35</td>\n",
       "      <td>4.7(3)</td>\n",
       "    </tr>\n",
       "    <tr>\n",
       "      <th>27</th>\n",
       "      <td>더펫하우스 협동조합</td>\n",
       "      <td>애완동물 돌보미 · 981-7 101호 더펫하우스</td>\n",
       "      <td>4.2(28)</td>\n",
       "    </tr>\n",
       "    <tr>\n",
       "      <th>28</th>\n",
       "      <td>의성펫월드</td>\n",
       "      <td>테마파크 · 단북면 안계길 255-13 KR</td>\n",
       "      <td>4.7(20)</td>\n",
       "    </tr>\n",
       "    <tr>\n",
       "      <th>29</th>\n",
       "      <td>대전월드애견학교</td>\n",
       "      <td>· 우성면 용봉리 304</td>\n",
       "      <td>2.0(2)</td>\n",
       "    </tr>\n",
       "    <tr>\n",
       "      <th>30</th>\n",
       "      <td>애견훈련소-보담</td>\n",
       "      <td>· 구서동 654-52</td>\n",
       "      <td>리뷰 없음</td>\n",
       "    </tr>\n",
       "  </tbody>\n",
       "</table>\n",
       "</div>"
      ],
      "text/plain": [
       "             훈련소이름                                   주소        리뷰\n",
       "0          수원애견훈련소              애견 산책 도우미 · 봉담읍 222 분천리   4.3(28)\n",
       "1    포라우스 독일 애견훈련소                   개 조련사 · 노온사동 478-4   5.0(22)\n",
       "2        드린겐애견테마파크                 개 조련사 · 미산동 163-1 KR   4.4(20)\n",
       "3          이삭애견훈련소                  개 조련사 · 봉담읍 분천리 222   4.2(17)\n",
       "4          덕소애견훈련소               애완동물 조련사 · 와부읍 월문리 151    4.8(5)\n",
       "5          하남애견훈련소                  애견 산책 도우미 · 춘궁동 244   3.7(14)\n",
       "6         반려동물훈련학교       학교 · 분당구 석운동 85-1번지 성남시 경기도 KR     리뷰 없음\n",
       "7          레알애견훈련소                개 조련사 · 원삼면 좌항리 409-4    4.3(3)\n",
       "8            보듬컴퍼니   애완동물 조련사 · 오남읍 진건오남로667번길 64-33 KR  4.4(130)\n",
       "9   vipdog 반려견아카데미        애견 카페 · 용종동 오조산공원로 22 2층 202호     리뷰 없음\n",
       "10    한국강아지학교애견훈련소                      개 조련사 · 중화동 438     리뷰 없음\n",
       "11        청담우리동물병원                      동물병원 · 삼성동 70-6  4.4(118)\n",
       "12         애플펫동물병원                동물병원 · 오포읍 신현리 709-27   4.3(39)\n",
       "13         K9애견훈련소              애견 산책 도우미 · 상동면 여차리 970    3.7(3)\n",
       "14           애견훈련소                개 조련사 · 신북읍 산천리 12-29    4.3(3)\n",
       "15         키움반려견스쿨  애완동물 위탁관리 서비스 · 석운동 석운로 198 KR 53-1    5.0(2)\n",
       "16           애견훈련소                      개 조련사 · 외삼동 559    5.0(2)\n",
       "17         세종애견훈련소                     · 용산동 421-5번지 1층    5.0(1)\n",
       "18    반려견 교육 기관 위드                  학교 · 고봉동 지영로 257-17    5.0(1)\n",
       "19        에이스애견훈련소                             · 향남읍 관리    5.0(1)\n",
       "20           오렌지애견                      상점 · 내유동 646-11     리뷰 없음\n",
       "21    퍼스트출장방문애견훈련소                                · 면목동     리뷰 없음\n",
       "22           펫을부탁해            애완동물 조련사 · 도봉로110나길 61 3층     리뷰 없음\n",
       "23          초로동물병원                       동물병원 · 수완동 725   4.7(41)\n",
       "24          한국애견대학                     교육 · 설악면 유명로 553    3.0(2)\n",
       "25          대구애견스쿨                          개 조련사 · 지묘동    3.0(2)\n",
       "26      한국반려동물관리협회                    협회 또는 조직 · 능동로 35    4.7(3)\n",
       "27      더펫하우스 협동조합          애완동물 돌보미 · 981-7 101호 더펫하우스   4.2(28)\n",
       "28           의성펫월드             테마파크 · 단북면 안계길 255-13 KR   4.7(20)\n",
       "29        대전월드애견학교                        · 우성면 용봉리 304    2.0(2)\n",
       "30        애견훈련소-보담                         · 구서동 654-52     리뷰 없음"
      ]
     },
     "execution_count": 45,
     "metadata": {},
     "output_type": "execute_result"
    }
   ],
   "source": [
    "df_nsa"
   ]
  },
  {
   "cell_type": "code",
   "execution_count": null,
   "id": "12893909",
   "metadata": {},
   "outputs": [],
   "source": []
  }
 ],
 "metadata": {
  "kernelspec": {
   "display_name": "Python 3 (ipykernel)",
   "language": "python",
   "name": "python3"
  },
  "language_info": {
   "codemirror_mode": {
    "name": "ipython",
    "version": 3
   },
   "file_extension": ".py",
   "mimetype": "text/x-python",
   "name": "python",
   "nbconvert_exporter": "python",
   "pygments_lexer": "ipython3",
   "version": "3.9.7"
  }
 },
 "nbformat": 4,
 "nbformat_minor": 5
}
